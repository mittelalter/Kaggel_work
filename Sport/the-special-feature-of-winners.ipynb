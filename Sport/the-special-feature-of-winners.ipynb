{
 "cells": [
  {
   "cell_type": "markdown",
   "id": "f3c9b6cc",
   "metadata": {
    "papermill": {
     "duration": 0.039271,
     "end_time": "2022-05-21T19:57:37.495012",
     "exception": false,
     "start_time": "2022-05-21T19:57:37.455741",
     "status": "completed"
    },
    "tags": []
   },
   "source": [
    "# Exploring 5 Years of European Football\n",
    "## Intro\n",
    "Let me introduce the  modern metrics in football (xG, xGA and xPTS) and its' influence in sport analytics.\n",
    "\n",
    "* Expected Goals (xG) - measures the quality of a shot based on several variables such as assist type, shot angle and distance from goal, whether it was a headed shot and whether it was defined as a big chance.\n",
    "\n",
    "* xG_diff - difference between actual goals scored and expected goals.\n",
    "\n",
    "* Expected Assits (xGA) - measures the likelihood that a given pass will become a goal assist. It considers several factors including the type of pass, pass end-point and length of the pass.\n",
    "\n",
    "* Expected Points (xPTS) - measures the likelihood of a certaing game to bring points to the team.\n",
    "\n",
    "* ppda_coef - passes allowed per defensive action in the opposition half (power of pressure)\n",
    "\n",
    "* oppda_coef - opponent passes allowed per defensive action in the opposition half (power of opponent's pressure)"
   ]
  },
  {
   "cell_type": "markdown",
   "id": "dde206d7",
   "metadata": {
    "papermill": {
     "duration": 0.038632,
     "end_time": "2022-05-21T19:57:37.571116",
     "exception": false,
     "start_time": "2022-05-21T19:57:37.532484",
     "status": "completed"
    },
    "tags": []
   },
   "source": [
    "# The Questions\n",
    "\n",
    "* Find out the best teams and best leagues\n",
    "\n",
    "* What is the special feature of winner teams? why do they win?\n",
    "\n",
    "    - Which winner team create more chances to score a goal?\n",
    "\n",
    "    - Which winner team play more defensive/offensive football?\n",
    "\n",
    "* Is there any particular characteristic of each league?\n",
    "\n"
   ]
  },
  {
   "cell_type": "code",
   "execution_count": 1,
   "id": "84886cd3",
   "metadata": {
    "execution": {
     "iopub.execute_input": "2022-05-21T19:57:37.647555Z",
     "iopub.status.busy": "2022-05-21T19:57:37.646806Z",
     "iopub.status.idle": "2022-05-21T19:57:38.782115Z",
     "shell.execute_reply": "2022-05-21T19:57:38.781077Z"
    },
    "papermill": {
     "duration": 1.176859,
     "end_time": "2022-05-21T19:57:38.785066",
     "exception": false,
     "start_time": "2022-05-21T19:57:37.608207",
     "status": "completed"
    },
    "tags": []
   },
   "outputs": [
    {
     "name": "stdout",
     "output_type": "stream",
     "text": [
      "complete\n"
     ]
    }
   ],
   "source": [
    "import pandas as pd\n",
    "pd.plotting.register_matplotlib_converters()\n",
    "import matplotlib.pyplot as plt\n",
    "%matplotlib inline\n",
    "import seaborn as sns\n",
    "pd.options.display.float_format = '{:,.2f}'.format  \n",
    "pd.options.display.max_columns = 999\n",
    "print(\"complete\")"
   ]
  },
  {
   "cell_type": "markdown",
   "id": "635787c3",
   "metadata": {
    "papermill": {
     "duration": 0.03726,
     "end_time": "2022-05-21T19:57:38.860949",
     "exception": false,
     "start_time": "2022-05-21T19:57:38.823689",
     "status": "completed"
    },
    "tags": []
   },
   "source": [
    "# Loading the data"
   ]
  },
  {
   "cell_type": "code",
   "execution_count": 2,
   "id": "35aedf4b",
   "metadata": {
    "execution": {
     "iopub.execute_input": "2022-05-21T19:57:38.937676Z",
     "iopub.status.busy": "2022-05-21T19:57:38.937162Z",
     "iopub.status.idle": "2022-05-21T19:57:38.962055Z",
     "shell.execute_reply": "2022-05-21T19:57:38.961229Z"
    },
    "papermill": {
     "duration": 0.06524,
     "end_time": "2022-05-21T19:57:38.964116",
     "exception": false,
     "start_time": "2022-05-21T19:57:38.898876",
     "status": "completed"
    },
    "tags": []
   },
   "outputs": [],
   "source": [
    "df = pd.read_csv(\"../input/extended-football-stats-for-european-leagues-xg/understat.com.csv\", )"
   ]
  },
  {
   "cell_type": "code",
   "execution_count": 3,
   "id": "d6abc07c",
   "metadata": {
    "execution": {
     "iopub.execute_input": "2022-05-21T19:57:39.042861Z",
     "iopub.status.busy": "2022-05-21T19:57:39.042354Z",
     "iopub.status.idle": "2022-05-21T19:57:39.071912Z",
     "shell.execute_reply": "2022-05-21T19:57:39.071365Z"
    },
    "papermill": {
     "duration": 0.070796,
     "end_time": "2022-05-21T19:57:39.073946",
     "exception": false,
     "start_time": "2022-05-21T19:57:39.003150",
     "status": "completed"
    },
    "tags": []
   },
   "outputs": [
    {
     "data": {
      "text/html": [
       "<div>\n",
       "<style scoped>\n",
       "    .dataframe tbody tr th:only-of-type {\n",
       "        vertical-align: middle;\n",
       "    }\n",
       "\n",
       "    .dataframe tbody tr th {\n",
       "        vertical-align: top;\n",
       "    }\n",
       "\n",
       "    .dataframe thead th {\n",
       "        text-align: right;\n",
       "    }\n",
       "</style>\n",
       "<table border=\"1\" class=\"dataframe\">\n",
       "  <thead>\n",
       "    <tr style=\"text-align: right;\">\n",
       "      <th></th>\n",
       "      <th>league</th>\n",
       "      <th>year</th>\n",
       "      <th>position</th>\n",
       "      <th>team</th>\n",
       "      <th>matches</th>\n",
       "      <th>wins</th>\n",
       "      <th>draws</th>\n",
       "      <th>loses</th>\n",
       "      <th>scored</th>\n",
       "      <th>missed</th>\n",
       "      <th>pts</th>\n",
       "      <th>xG</th>\n",
       "      <th>xG_diff</th>\n",
       "      <th>npxG</th>\n",
       "      <th>xGA</th>\n",
       "      <th>xGA_diff</th>\n",
       "      <th>npxGA</th>\n",
       "      <th>npxGD</th>\n",
       "      <th>ppda_coef</th>\n",
       "      <th>oppda_coef</th>\n",
       "      <th>deep</th>\n",
       "      <th>deep_allowed</th>\n",
       "      <th>xpts</th>\n",
       "      <th>xpts_diff</th>\n",
       "    </tr>\n",
       "  </thead>\n",
       "  <tbody>\n",
       "    <tr>\n",
       "      <th>0</th>\n",
       "      <td>La_liga</td>\n",
       "      <td>2014</td>\n",
       "      <td>1</td>\n",
       "      <td>Barcelona</td>\n",
       "      <td>38</td>\n",
       "      <td>30</td>\n",
       "      <td>4</td>\n",
       "      <td>4</td>\n",
       "      <td>110</td>\n",
       "      <td>21</td>\n",
       "      <td>94</td>\n",
       "      <td>102.98</td>\n",
       "      <td>-7.02</td>\n",
       "      <td>97.78</td>\n",
       "      <td>28.44</td>\n",
       "      <td>7.44</td>\n",
       "      <td>24.73</td>\n",
       "      <td>73.05</td>\n",
       "      <td>5.68</td>\n",
       "      <td>16.37</td>\n",
       "      <td>489</td>\n",
       "      <td>114</td>\n",
       "      <td>94.08</td>\n",
       "      <td>0.08</td>\n",
       "    </tr>\n",
       "    <tr>\n",
       "      <th>1</th>\n",
       "      <td>La_liga</td>\n",
       "      <td>2014</td>\n",
       "      <td>2</td>\n",
       "      <td>Real Madrid</td>\n",
       "      <td>38</td>\n",
       "      <td>30</td>\n",
       "      <td>2</td>\n",
       "      <td>6</td>\n",
       "      <td>118</td>\n",
       "      <td>38</td>\n",
       "      <td>92</td>\n",
       "      <td>95.77</td>\n",
       "      <td>-22.23</td>\n",
       "      <td>86.10</td>\n",
       "      <td>42.61</td>\n",
       "      <td>4.61</td>\n",
       "      <td>38.89</td>\n",
       "      <td>47.21</td>\n",
       "      <td>10.21</td>\n",
       "      <td>12.93</td>\n",
       "      <td>351</td>\n",
       "      <td>153</td>\n",
       "      <td>81.75</td>\n",
       "      <td>-10.25</td>\n",
       "    </tr>\n",
       "    <tr>\n",
       "      <th>2</th>\n",
       "      <td>La_liga</td>\n",
       "      <td>2014</td>\n",
       "      <td>3</td>\n",
       "      <td>Atletico Madrid</td>\n",
       "      <td>38</td>\n",
       "      <td>23</td>\n",
       "      <td>9</td>\n",
       "      <td>6</td>\n",
       "      <td>67</td>\n",
       "      <td>29</td>\n",
       "      <td>78</td>\n",
       "      <td>57.05</td>\n",
       "      <td>-9.95</td>\n",
       "      <td>52.59</td>\n",
       "      <td>29.07</td>\n",
       "      <td>0.07</td>\n",
       "      <td>26.84</td>\n",
       "      <td>25.75</td>\n",
       "      <td>8.98</td>\n",
       "      <td>9.24</td>\n",
       "      <td>197</td>\n",
       "      <td>123</td>\n",
       "      <td>73.14</td>\n",
       "      <td>-4.86</td>\n",
       "    </tr>\n",
       "    <tr>\n",
       "      <th>3</th>\n",
       "      <td>La_liga</td>\n",
       "      <td>2014</td>\n",
       "      <td>4</td>\n",
       "      <td>Valencia</td>\n",
       "      <td>38</td>\n",
       "      <td>22</td>\n",
       "      <td>11</td>\n",
       "      <td>5</td>\n",
       "      <td>70</td>\n",
       "      <td>32</td>\n",
       "      <td>77</td>\n",
       "      <td>55.06</td>\n",
       "      <td>-14.94</td>\n",
       "      <td>49.70</td>\n",
       "      <td>39.39</td>\n",
       "      <td>7.39</td>\n",
       "      <td>33.45</td>\n",
       "      <td>16.26</td>\n",
       "      <td>8.71</td>\n",
       "      <td>7.87</td>\n",
       "      <td>203</td>\n",
       "      <td>172</td>\n",
       "      <td>63.71</td>\n",
       "      <td>-13.29</td>\n",
       "    </tr>\n",
       "    <tr>\n",
       "      <th>4</th>\n",
       "      <td>La_liga</td>\n",
       "      <td>2014</td>\n",
       "      <td>5</td>\n",
       "      <td>Sevilla</td>\n",
       "      <td>38</td>\n",
       "      <td>23</td>\n",
       "      <td>7</td>\n",
       "      <td>8</td>\n",
       "      <td>71</td>\n",
       "      <td>45</td>\n",
       "      <td>76</td>\n",
       "      <td>69.53</td>\n",
       "      <td>-1.47</td>\n",
       "      <td>62.09</td>\n",
       "      <td>47.86</td>\n",
       "      <td>2.86</td>\n",
       "      <td>41.92</td>\n",
       "      <td>20.18</td>\n",
       "      <td>8.28</td>\n",
       "      <td>9.48</td>\n",
       "      <td>305</td>\n",
       "      <td>168</td>\n",
       "      <td>67.39</td>\n",
       "      <td>-8.61</td>\n",
       "    </tr>\n",
       "  </tbody>\n",
       "</table>\n",
       "</div>"
      ],
      "text/plain": [
       "    league  year  position             team  matches  wins  draws  loses  \\\n",
       "0  La_liga  2014         1        Barcelona       38    30      4      4   \n",
       "1  La_liga  2014         2      Real Madrid       38    30      2      6   \n",
       "2  La_liga  2014         3  Atletico Madrid       38    23      9      6   \n",
       "3  La_liga  2014         4         Valencia       38    22     11      5   \n",
       "4  La_liga  2014         5          Sevilla       38    23      7      8   \n",
       "\n",
       "   scored  missed  pts     xG  xG_diff  npxG   xGA  xGA_diff  npxGA  npxGD  \\\n",
       "0     110      21   94 102.98    -7.02 97.78 28.44      7.44  24.73  73.05   \n",
       "1     118      38   92  95.77   -22.23 86.10 42.61      4.61  38.89  47.21   \n",
       "2      67      29   78  57.05    -9.95 52.59 29.07      0.07  26.84  25.75   \n",
       "3      70      32   77  55.06   -14.94 49.70 39.39      7.39  33.45  16.26   \n",
       "4      71      45   76  69.53    -1.47 62.09 47.86      2.86  41.92  20.18   \n",
       "\n",
       "   ppda_coef  oppda_coef  deep  deep_allowed  xpts  xpts_diff  \n",
       "0       5.68       16.37   489           114 94.08       0.08  \n",
       "1      10.21       12.93   351           153 81.75     -10.25  \n",
       "2       8.98        9.24   197           123 73.14      -4.86  \n",
       "3       8.71        7.87   203           172 63.71     -13.29  \n",
       "4       8.28        9.48   305           168 67.39      -8.61  "
      ]
     },
     "execution_count": 3,
     "metadata": {},
     "output_type": "execute_result"
    }
   ],
   "source": [
    "df = df.rename(index=int,columns={'Unnamed: 0': 'league', 'Unnamed: 1': 'year'}) \n",
    "df.head()"
   ]
  },
  {
   "cell_type": "code",
   "execution_count": 4,
   "id": "0a33f605",
   "metadata": {
    "execution": {
     "iopub.execute_input": "2022-05-21T19:57:39.154468Z",
     "iopub.status.busy": "2022-05-21T19:57:39.153773Z",
     "iopub.status.idle": "2022-05-21T19:57:39.175112Z",
     "shell.execute_reply": "2022-05-21T19:57:39.174382Z"
    },
    "papermill": {
     "duration": 0.064603,
     "end_time": "2022-05-21T19:57:39.177199",
     "exception": false,
     "start_time": "2022-05-21T19:57:39.112596",
     "status": "completed"
    },
    "tags": []
   },
   "outputs": [
    {
     "name": "stdout",
     "output_type": "stream",
     "text": [
      "<class 'pandas.core.frame.DataFrame'>\n",
      "Int64Index: 684 entries, 0 to 683\n",
      "Data columns (total 24 columns):\n",
      " #   Column        Non-Null Count  Dtype  \n",
      "---  ------        --------------  -----  \n",
      " 0   league        684 non-null    object \n",
      " 1   year          684 non-null    int64  \n",
      " 2   position      684 non-null    int64  \n",
      " 3   team          684 non-null    object \n",
      " 4   matches       684 non-null    int64  \n",
      " 5   wins          684 non-null    int64  \n",
      " 6   draws         684 non-null    int64  \n",
      " 7   loses         684 non-null    int64  \n",
      " 8   scored        684 non-null    int64  \n",
      " 9   missed        684 non-null    int64  \n",
      " 10  pts           684 non-null    int64  \n",
      " 11  xG            684 non-null    float64\n",
      " 12  xG_diff       684 non-null    float64\n",
      " 13  npxG          684 non-null    float64\n",
      " 14  xGA           684 non-null    float64\n",
      " 15  xGA_diff      684 non-null    float64\n",
      " 16  npxGA         684 non-null    float64\n",
      " 17  npxGD         684 non-null    float64\n",
      " 18  ppda_coef     684 non-null    float64\n",
      " 19  oppda_coef    684 non-null    float64\n",
      " 20  deep          684 non-null    int64  \n",
      " 21  deep_allowed  684 non-null    int64  \n",
      " 22  xpts          684 non-null    float64\n",
      " 23  xpts_diff     684 non-null    float64\n",
      "dtypes: float64(11), int64(11), object(2)\n",
      "memory usage: 133.6+ KB\n"
     ]
    }
   ],
   "source": [
    "df.info()"
   ]
  },
  {
   "cell_type": "code",
   "execution_count": 5,
   "id": "4d84c0d8",
   "metadata": {
    "execution": {
     "iopub.execute_input": "2022-05-21T19:57:39.258666Z",
     "iopub.status.busy": "2022-05-21T19:57:39.257820Z",
     "iopub.status.idle": "2022-05-21T19:57:39.322576Z",
     "shell.execute_reply": "2022-05-21T19:57:39.321891Z"
    },
    "papermill": {
     "duration": 0.108328,
     "end_time": "2022-05-21T19:57:39.324534",
     "exception": false,
     "start_time": "2022-05-21T19:57:39.216206",
     "status": "completed"
    },
    "tags": []
   },
   "outputs": [
    {
     "data": {
      "text/html": [
       "<div>\n",
       "<style scoped>\n",
       "    .dataframe tbody tr th:only-of-type {\n",
       "        vertical-align: middle;\n",
       "    }\n",
       "\n",
       "    .dataframe tbody tr th {\n",
       "        vertical-align: top;\n",
       "    }\n",
       "\n",
       "    .dataframe thead th {\n",
       "        text-align: right;\n",
       "    }\n",
       "</style>\n",
       "<table border=\"1\" class=\"dataframe\">\n",
       "  <thead>\n",
       "    <tr style=\"text-align: right;\">\n",
       "      <th></th>\n",
       "      <th>year</th>\n",
       "      <th>position</th>\n",
       "      <th>matches</th>\n",
       "      <th>wins</th>\n",
       "      <th>draws</th>\n",
       "      <th>loses</th>\n",
       "      <th>scored</th>\n",
       "      <th>missed</th>\n",
       "      <th>pts</th>\n",
       "      <th>xG</th>\n",
       "      <th>xG_diff</th>\n",
       "      <th>npxG</th>\n",
       "      <th>xGA</th>\n",
       "      <th>xGA_diff</th>\n",
       "      <th>npxGA</th>\n",
       "      <th>npxGD</th>\n",
       "      <th>ppda_coef</th>\n",
       "      <th>oppda_coef</th>\n",
       "      <th>deep</th>\n",
       "      <th>deep_allowed</th>\n",
       "      <th>xpts</th>\n",
       "      <th>xpts_diff</th>\n",
       "    </tr>\n",
       "  </thead>\n",
       "  <tbody>\n",
       "    <tr>\n",
       "      <th>count</th>\n",
       "      <td>684.00</td>\n",
       "      <td>684.00</td>\n",
       "      <td>684.00</td>\n",
       "      <td>684.00</td>\n",
       "      <td>684.00</td>\n",
       "      <td>684.00</td>\n",
       "      <td>684.00</td>\n",
       "      <td>684.00</td>\n",
       "      <td>684.00</td>\n",
       "      <td>684.00</td>\n",
       "      <td>684.00</td>\n",
       "      <td>684.00</td>\n",
       "      <td>684.00</td>\n",
       "      <td>684.00</td>\n",
       "      <td>684.00</td>\n",
       "      <td>684.00</td>\n",
       "      <td>684.00</td>\n",
       "      <td>684.00</td>\n",
       "      <td>684.00</td>\n",
       "      <td>684.00</td>\n",
       "      <td>684.00</td>\n",
       "      <td>684.00</td>\n",
       "    </tr>\n",
       "    <tr>\n",
       "      <th>mean</th>\n",
       "      <td>2,016.50</td>\n",
       "      <td>10.06</td>\n",
       "      <td>35.94</td>\n",
       "      <td>13.43</td>\n",
       "      <td>9.07</td>\n",
       "      <td>13.43</td>\n",
       "      <td>48.19</td>\n",
       "      <td>48.19</td>\n",
       "      <td>49.37</td>\n",
       "      <td>47.06</td>\n",
       "      <td>-1.13</td>\n",
       "      <td>42.90</td>\n",
       "      <td>47.06</td>\n",
       "      <td>-1.13</td>\n",
       "      <td>42.90</td>\n",
       "      <td>-0.00</td>\n",
       "      <td>10.91</td>\n",
       "      <td>10.91</td>\n",
       "      <td>208.68</td>\n",
       "      <td>208.68</td>\n",
       "      <td>49.54</td>\n",
       "      <td>0.17</td>\n",
       "    </tr>\n",
       "    <tr>\n",
       "      <th>std</th>\n",
       "      <td>1.71</td>\n",
       "      <td>5.58</td>\n",
       "      <td>3.20</td>\n",
       "      <td>5.88</td>\n",
       "      <td>2.94</td>\n",
       "      <td>5.51</td>\n",
       "      <td>17.61</td>\n",
       "      <td>13.87</td>\n",
       "      <td>16.96</td>\n",
       "      <td>14.60</td>\n",
       "      <td>6.85</td>\n",
       "      <td>13.70</td>\n",
       "      <td>11.78</td>\n",
       "      <td>6.66</td>\n",
       "      <td>11.00</td>\n",
       "      <td>19.29</td>\n",
       "      <td>2.52</td>\n",
       "      <td>3.30</td>\n",
       "      <td>83.89</td>\n",
       "      <td>54.71</td>\n",
       "      <td>13.56</td>\n",
       "      <td>7.16</td>\n",
       "    </tr>\n",
       "    <tr>\n",
       "      <th>min</th>\n",
       "      <td>2,014.00</td>\n",
       "      <td>1.00</td>\n",
       "      <td>27.00</td>\n",
       "      <td>2.00</td>\n",
       "      <td>2.00</td>\n",
       "      <td>1.00</td>\n",
       "      <td>13.00</td>\n",
       "      <td>15.00</td>\n",
       "      <td>13.00</td>\n",
       "      <td>15.06</td>\n",
       "      <td>-30.96</td>\n",
       "      <td>13.17</td>\n",
       "      <td>16.84</td>\n",
       "      <td>-29.18</td>\n",
       "      <td>16.08</td>\n",
       "      <td>-42.21</td>\n",
       "      <td>5.68</td>\n",
       "      <td>4.39</td>\n",
       "      <td>76.00</td>\n",
       "      <td>83.00</td>\n",
       "      <td>17.91</td>\n",
       "      <td>-24.72</td>\n",
       "    </tr>\n",
       "    <tr>\n",
       "      <th>25%</th>\n",
       "      <td>2,015.00</td>\n",
       "      <td>5.00</td>\n",
       "      <td>34.00</td>\n",
       "      <td>9.00</td>\n",
       "      <td>7.00</td>\n",
       "      <td>9.00</td>\n",
       "      <td>36.00</td>\n",
       "      <td>38.00</td>\n",
       "      <td>38.00</td>\n",
       "      <td>37.13</td>\n",
       "      <td>-4.99</td>\n",
       "      <td>33.81</td>\n",
       "      <td>38.92</td>\n",
       "      <td>-5.70</td>\n",
       "      <td>35.47</td>\n",
       "      <td>-13.26</td>\n",
       "      <td>9.09</td>\n",
       "      <td>8.81</td>\n",
       "      <td>151.75</td>\n",
       "      <td>170.00</td>\n",
       "      <td>39.47</td>\n",
       "      <td>-4.50</td>\n",
       "    </tr>\n",
       "    <tr>\n",
       "      <th>50%</th>\n",
       "      <td>2,016.50</td>\n",
       "      <td>10.00</td>\n",
       "      <td>38.00</td>\n",
       "      <td>12.00</td>\n",
       "      <td>9.00</td>\n",
       "      <td>14.00</td>\n",
       "      <td>45.00</td>\n",
       "      <td>48.00</td>\n",
       "      <td>46.00</td>\n",
       "      <td>44.71</td>\n",
       "      <td>-0.61</td>\n",
       "      <td>40.07</td>\n",
       "      <td>47.31</td>\n",
       "      <td>-0.92</td>\n",
       "      <td>43.03</td>\n",
       "      <td>-3.13</td>\n",
       "      <td>10.56</td>\n",
       "      <td>10.35</td>\n",
       "      <td>188.00</td>\n",
       "      <td>205.00</td>\n",
       "      <td>47.10</td>\n",
       "      <td>0.12</td>\n",
       "    </tr>\n",
       "    <tr>\n",
       "      <th>75%</th>\n",
       "      <td>2,018.00</td>\n",
       "      <td>15.00</td>\n",
       "      <td>38.00</td>\n",
       "      <td>16.00</td>\n",
       "      <td>11.00</td>\n",
       "      <td>17.00</td>\n",
       "      <td>56.00</td>\n",
       "      <td>58.00</td>\n",
       "      <td>59.25</td>\n",
       "      <td>53.86</td>\n",
       "      <td>3.59</td>\n",
       "      <td>49.22</td>\n",
       "      <td>54.83</td>\n",
       "      <td>3.38</td>\n",
       "      <td>50.26</td>\n",
       "      <td>9.74</td>\n",
       "      <td>12.43</td>\n",
       "      <td>12.19</td>\n",
       "      <td>242.00</td>\n",
       "      <td>246.25</td>\n",
       "      <td>56.94</td>\n",
       "      <td>4.91</td>\n",
       "    </tr>\n",
       "    <tr>\n",
       "      <th>max</th>\n",
       "      <td>2,019.00</td>\n",
       "      <td>20.00</td>\n",
       "      <td>38.00</td>\n",
       "      <td>32.00</td>\n",
       "      <td>18.00</td>\n",
       "      <td>29.00</td>\n",
       "      <td>118.00</td>\n",
       "      <td>94.00</td>\n",
       "      <td>100.00</td>\n",
       "      <td>113.60</td>\n",
       "      <td>18.15</td>\n",
       "      <td>99.48</td>\n",
       "      <td>88.43</td>\n",
       "      <td>16.37</td>\n",
       "      <td>78.54</td>\n",
       "      <td>73.05</td>\n",
       "      <td>21.90</td>\n",
       "      <td>30.47</td>\n",
       "      <td>582.00</td>\n",
       "      <td>375.00</td>\n",
       "      <td>94.38</td>\n",
       "      <td>23.05</td>\n",
       "    </tr>\n",
       "  </tbody>\n",
       "</table>\n",
       "</div>"
      ],
      "text/plain": [
       "          year  position  matches   wins  draws  loses  scored  missed    pts  \\\n",
       "count   684.00    684.00   684.00 684.00 684.00 684.00  684.00  684.00 684.00   \n",
       "mean  2,016.50     10.06    35.94  13.43   9.07  13.43   48.19   48.19  49.37   \n",
       "std       1.71      5.58     3.20   5.88   2.94   5.51   17.61   13.87  16.96   \n",
       "min   2,014.00      1.00    27.00   2.00   2.00   1.00   13.00   15.00  13.00   \n",
       "25%   2,015.00      5.00    34.00   9.00   7.00   9.00   36.00   38.00  38.00   \n",
       "50%   2,016.50     10.00    38.00  12.00   9.00  14.00   45.00   48.00  46.00   \n",
       "75%   2,018.00     15.00    38.00  16.00  11.00  17.00   56.00   58.00  59.25   \n",
       "max   2,019.00     20.00    38.00  32.00  18.00  29.00  118.00   94.00 100.00   \n",
       "\n",
       "          xG  xG_diff   npxG    xGA  xGA_diff  npxGA  npxGD  ppda_coef  \\\n",
       "count 684.00   684.00 684.00 684.00    684.00 684.00 684.00     684.00   \n",
       "mean   47.06    -1.13  42.90  47.06     -1.13  42.90  -0.00      10.91   \n",
       "std    14.60     6.85  13.70  11.78      6.66  11.00  19.29       2.52   \n",
       "min    15.06   -30.96  13.17  16.84    -29.18  16.08 -42.21       5.68   \n",
       "25%    37.13    -4.99  33.81  38.92     -5.70  35.47 -13.26       9.09   \n",
       "50%    44.71    -0.61  40.07  47.31     -0.92  43.03  -3.13      10.56   \n",
       "75%    53.86     3.59  49.22  54.83      3.38  50.26   9.74      12.43   \n",
       "max   113.60    18.15  99.48  88.43     16.37  78.54  73.05      21.90   \n",
       "\n",
       "       oppda_coef   deep  deep_allowed   xpts  xpts_diff  \n",
       "count      684.00 684.00        684.00 684.00     684.00  \n",
       "mean        10.91 208.68        208.68  49.54       0.17  \n",
       "std          3.30  83.89         54.71  13.56       7.16  \n",
       "min          4.39  76.00         83.00  17.91     -24.72  \n",
       "25%          8.81 151.75        170.00  39.47      -4.50  \n",
       "50%         10.35 188.00        205.00  47.10       0.12  \n",
       "75%         12.19 242.00        246.25  56.94       4.91  \n",
       "max         30.47 582.00        375.00  94.38      23.05  "
      ]
     },
     "execution_count": 5,
     "metadata": {},
     "output_type": "execute_result"
    }
   ],
   "source": [
    "df.describe()"
   ]
  },
  {
   "cell_type": "markdown",
   "id": "72f3273d",
   "metadata": {
    "papermill": {
     "duration": 0.04128,
     "end_time": "2022-05-21T19:57:39.406786",
     "exception": false,
     "start_time": "2022-05-21T19:57:39.365506",
     "status": "completed"
    },
    "tags": []
   },
   "source": [
    "# The Answers"
   ]
  },
  {
   "cell_type": "markdown",
   "id": "0d58bd9c",
   "metadata": {
    "papermill": {
     "duration": 0.038874,
     "end_time": "2022-05-21T19:57:39.486723",
     "exception": false,
     "start_time": "2022-05-21T19:57:39.447849",
     "status": "completed"
    },
    "tags": []
   },
   "source": [
    "## Find out the best teams and best leagues"
   ]
  },
  {
   "cell_type": "markdown",
   "id": "e7e8dcf9",
   "metadata": {
    "papermill": {
     "duration": 0.038989,
     "end_time": "2022-05-21T19:57:39.564641",
     "exception": false,
     "start_time": "2022-05-21T19:57:39.525652",
     "status": "completed"
    },
    "tags": []
   },
   "source": [
    "First, let's find out the league which has the highst xG_value, xG_diff value using with football metrics"
   ]
  },
  {
   "cell_type": "code",
   "execution_count": 6,
   "id": "131c810a",
   "metadata": {
    "execution": {
     "iopub.execute_input": "2022-05-21T19:57:39.646508Z",
     "iopub.status.busy": "2022-05-21T19:57:39.645720Z",
     "iopub.status.idle": "2022-05-21T19:57:40.918632Z",
     "shell.execute_reply": "2022-05-21T19:57:40.917626Z"
    },
    "papermill": {
     "duration": 1.316529,
     "end_time": "2022-05-21T19:57:40.920922",
     "exception": false,
     "start_time": "2022-05-21T19:57:39.604393",
     "status": "completed"
    },
    "tags": []
   },
   "outputs": [
    {
     "data": {
      "image/png": "[encoded data removed]",
      "text/plain": [
       "<Figure size 432x288 with 1 Axes>"
      ]
     },
     "metadata": {
      "needs_background": "light"
     },
     "output_type": "display_data"
    }
   ],
   "source": [
    "fig, ax = plt.subplots()\n",
    "\n",
    "ax.bar(data=df, x='league',height='xG')\n",
    "\n",
    "ax.set(title='Comparing xG values among 5 leagues',\n",
    "      xlabel='League',\n",
    "      ylabel='xG Value')\n",
    "\n",
    "plt.show()"
   ]
  },
  {
   "cell_type": "code",
   "execution_count": 7,
   "id": "0d631296",
   "metadata": {
    "execution": {
     "iopub.execute_input": "2022-05-21T19:57:41.003757Z",
     "iopub.status.busy": "2022-05-21T19:57:41.003070Z",
     "iopub.status.idle": "2022-05-21T19:57:42.132259Z",
     "shell.execute_reply": "2022-05-21T19:57:42.131269Z"
    },
    "papermill": {
     "duration": 1.172857,
     "end_time": "2022-05-21T19:57:42.134456",
     "exception": false,
     "start_time": "2022-05-21T19:57:40.961599",
     "status": "completed"
    },
    "tags": []
   },
   "outputs": [
    {
     "data": {
      "image/png": "[encoded data removed]",
      "text/plain": [
       "<Figure size 432x288 with 1 Axes>"
      ]
     },
     "metadata": {
      "needs_background": "light"
     },
     "output_type": "display_data"
    }
   ],
   "source": [
    "fig, ax= plt.subplots()\n",
    "\n",
    "ax.bar(data=df, x='league', height='xG_diff')\n",
    "\n",
    "ax.set(title=\"Comparing xG_diff values among 5 leagues\",\n",
    "      xlabel=\"Legaue\",\n",
    "      ylabel=\"xG_diff Values\")\n",
    "\n",
    "plt.show()"
   ]
  },
  {
   "cell_type": "code",
   "execution_count": 8,
   "id": "92f042d4",
   "metadata": {
    "execution": {
     "iopub.execute_input": "2022-05-21T19:57:42.220237Z",
     "iopub.status.busy": "2022-05-21T19:57:42.219973Z",
     "iopub.status.idle": "2022-05-21T19:57:42.490598Z",
     "shell.execute_reply": "2022-05-21T19:57:42.489668Z"
    },
    "papermill": {
     "duration": 0.31697,
     "end_time": "2022-05-21T19:57:42.492815",
     "exception": false,
     "start_time": "2022-05-21T19:57:42.175845",
     "status": "completed"
    },
    "tags": []
   },
   "outputs": [
    {
     "data": {
      "text/plain": [
       "<AxesSubplot:xlabel='league', ylabel='xG_diff'>"
      ]
     },
     "execution_count": 8,
     "metadata": {},
     "output_type": "execute_result"
    },
    {
     "data": {
      "image/png": "[encoded data removed]",
      "text/plain": [
       "<Figure size 432x288 with 1 Axes>"
      ]
     },
     "metadata": {
      "needs_background": "light"
     },
     "output_type": "display_data"
    }
   ],
   "source": [
    "sns.barplot(data=df, x='league', y='xG_diff')"
   ]
  },
  {
   "cell_type": "code",
   "execution_count": 9,
   "id": "e9f697d6",
   "metadata": {
    "execution": {
     "iopub.execute_input": "2022-05-21T19:57:42.580150Z",
     "iopub.status.busy": "2022-05-21T19:57:42.579544Z",
     "iopub.status.idle": "2022-05-21T19:57:43.840487Z",
     "shell.execute_reply": "2022-05-21T19:57:43.839525Z"
    },
    "papermill": {
     "duration": 1.306828,
     "end_time": "2022-05-21T19:57:43.842498",
     "exception": false,
     "start_time": "2022-05-21T19:57:42.535670",
     "status": "completed"
    },
    "tags": []
   },
   "outputs": [
    {
     "data": {
      "image/png": "[encoded data removed]",
      "text/plain": [
       "<Figure size 432x288 with 1 Axes>"
      ]
     },
     "metadata": {
      "needs_background": "light"
     },
     "output_type": "display_data"
    }
   ],
   "source": [
    "fig, ax = plt.subplots()\n",
    "\n",
    "ax.barh(data=df, y='league', width=df['scored'])\n",
    "\n",
    "plt.show()"
   ]
  },
  {
   "cell_type": "markdown",
   "id": "20c569b1",
   "metadata": {
    "papermill": {
     "duration": 0.042851,
     "end_time": "2022-05-21T19:57:43.929019",
     "exception": false,
     "start_time": "2022-05-21T19:57:43.886168",
     "status": "completed"
    },
    "tags": []
   },
   "source": [
    "Actually it is really hard to decide which league is the best only with xG or xG_diff values. It's because of that it's just rare to get many goals in football. It means that it can happen that we see very low goal score or xG value even in best league and one more reason is that it depends on the feature of league.\n",
    "<br>\n",
    "But those graph show that EPL and La_liga are the best leagues only considering with xG value, xG_diff and score."
   ]
  },
  {
   "cell_type": "markdown",
   "id": "cc827f7d",
   "metadata": {
    "papermill": {
     "duration": 0.042931,
     "end_time": "2022-05-21T19:57:44.015065",
     "exception": false,
     "start_time": "2022-05-21T19:57:43.972134",
     "status": "completed"
    },
    "tags": []
   },
   "source": [
    "# Exploring which teams are the best from best leagues."
   ]
  },
  {
   "cell_type": "markdown",
   "id": "281d807a",
   "metadata": {
    "papermill": {
     "duration": 0.041701,
     "end_time": "2022-05-21T19:57:44.099375",
     "exception": false,
     "start_time": "2022-05-21T19:57:44.057674",
     "status": "completed"
    },
    "tags": []
   },
   "source": [
    "## EPL"
   ]
  },
  {
   "cell_type": "markdown",
   "id": "ceff1a6e",
   "metadata": {
    "papermill": {
     "duration": 0.043645,
     "end_time": "2022-05-21T19:57:44.186534",
     "exception": false,
     "start_time": "2022-05-21T19:57:44.142889",
     "status": "completed"
    },
    "tags": []
   },
   "source": [
    "Let's consider only EPL and La liga, since they are the best leagues in europe.\n",
    "<br>\n",
    "First starting with **EPL**, let's find out best 4 teams since only top 4 teams can play by champions league, which is the most popular football event in the world."
   ]
  },
  {
   "cell_type": "code",
   "execution_count": 10,
   "id": "a82508ad",
   "metadata": {
    "execution": {
     "iopub.execute_input": "2022-05-21T19:57:44.277560Z",
     "iopub.status.busy": "2022-05-21T19:57:44.277048Z",
     "iopub.status.idle": "2022-05-21T19:57:44.282887Z",
     "shell.execute_reply": "2022-05-21T19:57:44.282087Z"
    },
    "papermill": {
     "duration": 0.05373,
     "end_time": "2022-05-21T19:57:44.285178",
     "exception": false,
     "start_time": "2022-05-21T19:57:44.231448",
     "status": "completed"
    },
    "tags": []
   },
   "outputs": [],
   "source": [
    "epl = df[df['league'] == \"EPL\"]"
   ]
  },
  {
   "cell_type": "code",
   "execution_count": 11,
   "id": "ea9d4559",
   "metadata": {
    "execution": {
     "iopub.execute_input": "2022-05-21T19:57:44.373305Z",
     "iopub.status.busy": "2022-05-21T19:57:44.372870Z",
     "iopub.status.idle": "2022-05-21T19:57:44.389384Z",
     "shell.execute_reply": "2022-05-21T19:57:44.388502Z"
    },
    "papermill": {
     "duration": 0.062921,
     "end_time": "2022-05-21T19:57:44.391482",
     "exception": false,
     "start_time": "2022-05-21T19:57:44.328561",
     "status": "completed"
    },
    "tags": []
   },
   "outputs": [
    {
     "data": {
      "text/html": [
       "<div>\n",
       "<style scoped>\n",
       "    .dataframe tbody tr th:only-of-type {\n",
       "        vertical-align: middle;\n",
       "    }\n",
       "\n",
       "    .dataframe tbody tr th {\n",
       "        vertical-align: top;\n",
       "    }\n",
       "\n",
       "    .dataframe thead th {\n",
       "        text-align: right;\n",
       "    }\n",
       "</style>\n",
       "<table border=\"1\" class=\"dataframe\">\n",
       "  <thead>\n",
       "    <tr style=\"text-align: right;\">\n",
       "      <th></th>\n",
       "      <th>league</th>\n",
       "      <th>year</th>\n",
       "      <th>position</th>\n",
       "      <th>team</th>\n",
       "      <th>matches</th>\n",
       "      <th>wins</th>\n",
       "      <th>draws</th>\n",
       "      <th>loses</th>\n",
       "      <th>scored</th>\n",
       "      <th>missed</th>\n",
       "      <th>pts</th>\n",
       "      <th>xG</th>\n",
       "      <th>xG_diff</th>\n",
       "      <th>npxG</th>\n",
       "      <th>xGA</th>\n",
       "      <th>xGA_diff</th>\n",
       "      <th>npxGA</th>\n",
       "      <th>npxGD</th>\n",
       "      <th>ppda_coef</th>\n",
       "      <th>oppda_coef</th>\n",
       "      <th>deep</th>\n",
       "      <th>deep_allowed</th>\n",
       "      <th>xpts</th>\n",
       "      <th>xpts_diff</th>\n",
       "    </tr>\n",
       "  </thead>\n",
       "  <tbody>\n",
       "    <tr>\n",
       "      <th>120</th>\n",
       "      <td>EPL</td>\n",
       "      <td>2014</td>\n",
       "      <td>1</td>\n",
       "      <td>Chelsea</td>\n",
       "      <td>38</td>\n",
       "      <td>26</td>\n",
       "      <td>9</td>\n",
       "      <td>3</td>\n",
       "      <td>73</td>\n",
       "      <td>32</td>\n",
       "      <td>87</td>\n",
       "      <td>68.64</td>\n",
       "      <td>-4.36</td>\n",
       "      <td>64.74</td>\n",
       "      <td>31.52</td>\n",
       "      <td>-0.48</td>\n",
       "      <td>29.24</td>\n",
       "      <td>35.50</td>\n",
       "      <td>10.94</td>\n",
       "      <td>13.42</td>\n",
       "      <td>407</td>\n",
       "      <td>171</td>\n",
       "      <td>75.32</td>\n",
       "      <td>-11.68</td>\n",
       "    </tr>\n",
       "    <tr>\n",
       "      <th>121</th>\n",
       "      <td>EPL</td>\n",
       "      <td>2014</td>\n",
       "      <td>2</td>\n",
       "      <td>Manchester City</td>\n",
       "      <td>38</td>\n",
       "      <td>24</td>\n",
       "      <td>7</td>\n",
       "      <td>7</td>\n",
       "      <td>83</td>\n",
       "      <td>38</td>\n",
       "      <td>79</td>\n",
       "      <td>75.82</td>\n",
       "      <td>-7.18</td>\n",
       "      <td>69.61</td>\n",
       "      <td>40.50</td>\n",
       "      <td>2.50</td>\n",
       "      <td>37.45</td>\n",
       "      <td>32.15</td>\n",
       "      <td>7.98</td>\n",
       "      <td>15.08</td>\n",
       "      <td>575</td>\n",
       "      <td>144</td>\n",
       "      <td>73.10</td>\n",
       "      <td>-5.90</td>\n",
       "    </tr>\n",
       "    <tr>\n",
       "      <th>122</th>\n",
       "      <td>EPL</td>\n",
       "      <td>2014</td>\n",
       "      <td>3</td>\n",
       "      <td>Arsenal</td>\n",
       "      <td>38</td>\n",
       "      <td>22</td>\n",
       "      <td>9</td>\n",
       "      <td>7</td>\n",
       "      <td>71</td>\n",
       "      <td>36</td>\n",
       "      <td>75</td>\n",
       "      <td>69.80</td>\n",
       "      <td>-1.20</td>\n",
       "      <td>64.47</td>\n",
       "      <td>35.72</td>\n",
       "      <td>-0.28</td>\n",
       "      <td>33.44</td>\n",
       "      <td>31.04</td>\n",
       "      <td>8.66</td>\n",
       "      <td>13.25</td>\n",
       "      <td>398</td>\n",
       "      <td>171</td>\n",
       "      <td>75.17</td>\n",
       "      <td>0.17</td>\n",
       "    </tr>\n",
       "  </tbody>\n",
       "</table>\n",
       "</div>"
      ],
      "text/plain": [
       "    league  year  position             team  matches  wins  draws  loses  \\\n",
       "120    EPL  2014         1          Chelsea       38    26      9      3   \n",
       "121    EPL  2014         2  Manchester City       38    24      7      7   \n",
       "122    EPL  2014         3          Arsenal       38    22      9      7   \n",
       "\n",
       "     scored  missed  pts    xG  xG_diff  npxG   xGA  xGA_diff  npxGA  npxGD  \\\n",
       "120      73      32   87 68.64    -4.36 64.74 31.52     -0.48  29.24  35.50   \n",
       "121      83      38   79 75.82    -7.18 69.61 40.50      2.50  37.45  32.15   \n",
       "122      71      36   75 69.80    -1.20 64.47 35.72     -0.28  33.44  31.04   \n",
       "\n",
       "     ppda_coef  oppda_coef  deep  deep_allowed  xpts  xpts_diff  \n",
       "120      10.94       13.42   407           171 75.32     -11.68  \n",
       "121       7.98       15.08   575           144 73.10      -5.90  \n",
       "122       8.66       13.25   398           171 75.17       0.17  "
      ]
     },
     "execution_count": 11,
     "metadata": {},
     "output_type": "execute_result"
    }
   ],
   "source": [
    "epl.head(3)"
   ]
  },
  {
   "cell_type": "markdown",
   "id": "5d5ef9d0",
   "metadata": {
    "papermill": {
     "duration": 0.042088,
     "end_time": "2022-05-21T19:57:44.476464",
     "exception": false,
     "start_time": "2022-05-21T19:57:44.434376",
     "status": "completed"
    },
    "tags": []
   },
   "source": [
    "Grouping with number of wins."
   ]
  },
  {
   "cell_type": "code",
   "execution_count": 12,
   "id": "75bb9e73",
   "metadata": {
    "execution": {
     "iopub.execute_input": "2022-05-21T19:57:44.562997Z",
     "iopub.status.busy": "2022-05-21T19:57:44.562400Z",
     "iopub.status.idle": "2022-05-21T19:57:44.578911Z",
     "shell.execute_reply": "2022-05-21T19:57:44.577943Z"
    },
    "papermill": {
     "duration": 0.062441,
     "end_time": "2022-05-21T19:57:44.580969",
     "exception": false,
     "start_time": "2022-05-21T19:57:44.518528",
     "status": "completed"
    },
    "tags": []
   },
   "outputs": [
    {
     "data": {
      "text/html": [
       "<div>\n",
       "<style scoped>\n",
       "    .dataframe tbody tr th:only-of-type {\n",
       "        vertical-align: middle;\n",
       "    }\n",
       "\n",
       "    .dataframe tbody tr th {\n",
       "        vertical-align: top;\n",
       "    }\n",
       "\n",
       "    .dataframe thead th {\n",
       "        text-align: right;\n",
       "    }\n",
       "</style>\n",
       "<table border=\"1\" class=\"dataframe\">\n",
       "  <thead>\n",
       "    <tr style=\"text-align: right;\">\n",
       "      <th></th>\n",
       "      <th>wins</th>\n",
       "      <th>xG</th>\n",
       "      <th>scored</th>\n",
       "    </tr>\n",
       "    <tr>\n",
       "      <th>team</th>\n",
       "      <th></th>\n",
       "      <th></th>\n",
       "      <th></th>\n",
       "    </tr>\n",
       "  </thead>\n",
       "  <tbody>\n",
       "    <tr>\n",
       "      <th>Manchester City</th>\n",
       "      <td>156</td>\n",
       "      <td>509.22</td>\n",
       "      <td>537</td>\n",
       "    </tr>\n",
       "    <tr>\n",
       "      <th>Liverpool</th>\n",
       "      <td>139</td>\n",
       "      <td>404.83</td>\n",
       "      <td>451</td>\n",
       "    </tr>\n",
       "    <tr>\n",
       "      <th>Chelsea</th>\n",
       "      <td>130</td>\n",
       "      <td>384.28</td>\n",
       "      <td>411</td>\n",
       "    </tr>\n",
       "    <tr>\n",
       "      <th>Tottenham</th>\n",
       "      <td>126</td>\n",
       "      <td>365.55</td>\n",
       "      <td>415</td>\n",
       "    </tr>\n",
       "    <tr>\n",
       "      <th>Arsenal</th>\n",
       "      <td>119</td>\n",
       "      <td>394.80</td>\n",
       "      <td>416</td>\n",
       "    </tr>\n",
       "  </tbody>\n",
       "</table>\n",
       "</div>"
      ],
      "text/plain": [
       "                 wins     xG  scored\n",
       "team                                \n",
       "Manchester City   156 509.22     537\n",
       "Liverpool         139 404.83     451\n",
       "Chelsea           130 384.28     411\n",
       "Tottenham         126 365.55     415\n",
       "Arsenal           119 394.80     416"
      ]
     },
     "execution_count": 12,
     "metadata": {},
     "output_type": "execute_result"
    }
   ],
   "source": [
    "epl.groupby('team')[['wins','xG','scored']].sum().sort_values(by='wins', ascending=False).head()"
   ]
  },
  {
   "cell_type": "code",
   "execution_count": 13,
   "id": "8cc251da",
   "metadata": {
    "execution": {
     "iopub.execute_input": "2022-05-21T19:57:44.669922Z",
     "iopub.status.busy": "2022-05-21T19:57:44.669617Z",
     "iopub.status.idle": "2022-05-21T19:57:44.683741Z",
     "shell.execute_reply": "2022-05-21T19:57:44.683097Z"
    },
    "papermill": {
     "duration": 0.060674,
     "end_time": "2022-05-21T19:57:44.685350",
     "exception": false,
     "start_time": "2022-05-21T19:57:44.624676",
     "status": "completed"
    },
    "tags": []
   },
   "outputs": [
    {
     "data": {
      "text/html": [
       "<div>\n",
       "<style scoped>\n",
       "    .dataframe tbody tr th:only-of-type {\n",
       "        vertical-align: middle;\n",
       "    }\n",
       "\n",
       "    .dataframe tbody tr th {\n",
       "        vertical-align: top;\n",
       "    }\n",
       "\n",
       "    .dataframe thead th {\n",
       "        text-align: right;\n",
       "    }\n",
       "</style>\n",
       "<table border=\"1\" class=\"dataframe\">\n",
       "  <thead>\n",
       "    <tr style=\"text-align: right;\">\n",
       "      <th></th>\n",
       "      <th>wins</th>\n",
       "      <th>xG</th>\n",
       "      <th>scored</th>\n",
       "    </tr>\n",
       "    <tr>\n",
       "      <th>team</th>\n",
       "      <th></th>\n",
       "      <th></th>\n",
       "      <th></th>\n",
       "    </tr>\n",
       "  </thead>\n",
       "  <tbody>\n",
       "    <tr>\n",
       "      <th>Manchester City</th>\n",
       "      <td>26.00</td>\n",
       "      <td>84.87</td>\n",
       "      <td>89.50</td>\n",
       "    </tr>\n",
       "    <tr>\n",
       "      <th>Liverpool</th>\n",
       "      <td>23.17</td>\n",
       "      <td>67.47</td>\n",
       "      <td>75.17</td>\n",
       "    </tr>\n",
       "    <tr>\n",
       "      <th>Chelsea</th>\n",
       "      <td>21.67</td>\n",
       "      <td>64.05</td>\n",
       "      <td>68.50</td>\n",
       "    </tr>\n",
       "    <tr>\n",
       "      <th>Tottenham</th>\n",
       "      <td>21.00</td>\n",
       "      <td>60.93</td>\n",
       "      <td>69.17</td>\n",
       "    </tr>\n",
       "    <tr>\n",
       "      <th>Arsenal</th>\n",
       "      <td>19.83</td>\n",
       "      <td>65.80</td>\n",
       "      <td>69.33</td>\n",
       "    </tr>\n",
       "  </tbody>\n",
       "</table>\n",
       "</div>"
      ],
      "text/plain": [
       "                 wins    xG  scored\n",
       "team                               \n",
       "Manchester City 26.00 84.87   89.50\n",
       "Liverpool       23.17 67.47   75.17\n",
       "Chelsea         21.67 64.05   68.50\n",
       "Tottenham       21.00 60.93   69.17\n",
       "Arsenal         19.83 65.80   69.33"
      ]
     },
     "execution_count": 13,
     "metadata": {},
     "output_type": "execute_result"
    }
   ],
   "source": [
    "epl.groupby('team')[['wins','xG','scored']].mean().sort_values(by='wins', ascending=False).head()"
   ]
  },
  {
   "cell_type": "markdown",
   "id": "0a32cb51",
   "metadata": {
    "papermill": {
     "duration": 0.04544,
     "end_time": "2022-05-21T19:57:44.774994",
     "exception": false,
     "start_time": "2022-05-21T19:57:44.729554",
     "status": "completed"
    },
    "tags": []
   },
   "source": [
    "Let's make some visual to check exatly the number of wins for each team."
   ]
  },
  {
   "cell_type": "code",
   "execution_count": 14,
   "id": "dbc6e1db",
   "metadata": {
    "execution": {
     "iopub.execute_input": "2022-05-21T19:57:44.865928Z",
     "iopub.status.busy": "2022-05-21T19:57:44.864908Z",
     "iopub.status.idle": "2022-05-21T19:57:44.873676Z",
     "shell.execute_reply": "2022-05-21T19:57:44.872714Z"
    },
    "papermill": {
     "duration": 0.057145,
     "end_time": "2022-05-21T19:57:44.876009",
     "exception": false,
     "start_time": "2022-05-21T19:57:44.818864",
     "status": "completed"
    },
    "tags": []
   },
   "outputs": [],
   "source": [
    "epl_grouping = epl.groupby('team')[['team','wins']].sum().sort_values(by='wins',ascending=True)\n",
    "\n",
    "epl_grouping.reset_index(inplace=True)"
   ]
  },
  {
   "cell_type": "code",
   "execution_count": 15,
   "id": "09256d74",
   "metadata": {
    "execution": {
     "iopub.execute_input": "2022-05-21T19:57:44.968155Z",
     "iopub.status.busy": "2022-05-21T19:57:44.967826Z",
     "iopub.status.idle": "2022-05-21T19:57:45.531443Z",
     "shell.execute_reply": "2022-05-21T19:57:45.530483Z"
    },
    "papermill": {
     "duration": 0.613251,
     "end_time": "2022-05-21T19:57:45.533600",
     "exception": false,
     "start_time": "2022-05-21T19:57:44.920349",
     "status": "completed"
    },
    "tags": []
   },
   "outputs": [
    {
     "data": {
      "image/png": "[encoded data removed]",
      "text/plain": [
       "<Figure size 720x504 with 1 Axes>"
      ]
     },
     "metadata": {
      "needs_background": "light"
     },
     "output_type": "display_data"
    }
   ],
   "source": [
    "plt.figure(figsize=(10,7))\n",
    "sns.barplot(data=epl_grouping, x='wins', y='team', palette=\"Blues_d\")\n",
    "\n",
    "plt.title(\"Which teams won mostly?\", size=15)\n",
    "plt.xlabel('Sum of Wins', size=15)\n",
    "plt.ylabel('Team', size=15)\n",
    "plt.tight_layout()\n",
    "plt.savefig(\"sort_bars_in_barplot_ascending_order_Seaborn_Python.png\", dpi=100)\n",
    "plt.show()"
   ]
  },
  {
   "cell_type": "markdown",
   "id": "dd49892b",
   "metadata": {
    "papermill": {
     "duration": 0.044665,
     "end_time": "2022-05-21T19:57:45.625216",
     "exception": false,
     "start_time": "2022-05-21T19:57:45.580551",
     "status": "completed"
    },
    "tags": []
   },
   "source": [
    "Last, let's check out the change of position for top 6 teams."
   ]
  },
  {
   "cell_type": "code",
   "execution_count": 16,
   "id": "cea3dff4",
   "metadata": {
    "execution": {
     "iopub.execute_input": "2022-05-21T19:57:45.717111Z",
     "iopub.status.busy": "2022-05-21T19:57:45.716517Z",
     "iopub.status.idle": "2022-05-21T19:57:46.151057Z",
     "shell.execute_reply": "2022-05-21T19:57:46.150131Z"
    },
    "papermill": {
     "duration": 0.483111,
     "end_time": "2022-05-21T19:57:46.153339",
     "exception": false,
     "start_time": "2022-05-21T19:57:45.670228",
     "status": "completed"
    },
    "tags": []
   },
   "outputs": [
    {
     "data": {
      "text/plain": [
       "<Figure size 720x576 with 0 Axes>"
      ]
     },
     "metadata": {},
     "output_type": "display_data"
    },
    {
     "data": {
      "image/png": "[encoded data removed]",
      "text/plain": [
       "<Figure size 490.625x360 with 1 Axes>"
      ]
     },
     "metadata": {
      "needs_background": "light"
     },
     "output_type": "display_data"
    }
   ],
   "source": [
    "top_6 = ['Manchester City', 'Liverpool', 'Chelsea', 'Tottenham', 'Manchester United', 'Arsenal']\n",
    "top_6_data = epl[epl['team'].isin(top_6)]\n",
    "\n",
    "plt.figure(figsize=(10,8))\n",
    "sns.relplot(data=top_6_data, x='year', y='position', hue='team', kind='line')\n",
    "\n",
    "\n",
    "plt.title(\"Change of position 2014-2019\", size=15)\n",
    "plt.xlabel('Year', size=15)\n",
    "plt.ylabel(\"Position\", size=15)\n",
    "plt.show()\n"
   ]
  },
  {
   "cell_type": "markdown",
   "id": "8818f0bf",
   "metadata": {
    "papermill": {
     "duration": 0.0484,
     "end_time": "2022-05-21T19:57:46.248981",
     "exception": false,
     "start_time": "2022-05-21T19:57:46.200581",
     "status": "completed"
    },
    "tags": []
   },
   "source": [
    "This shows that Liverpool is getting better from 2015 to 2019 but Arsenal is getting worse.\n",
    "<br>\n",
    "And it seems that leverpool and manchester city are very competitive for the league title."
   ]
  },
  {
   "cell_type": "markdown",
   "id": "0a9f1e1c",
   "metadata": {
    "papermill": {
     "duration": 0.046775,
     "end_time": "2022-05-21T19:57:46.344166",
     "exception": false,
     "start_time": "2022-05-21T19:57:46.297391",
     "status": "completed"
    },
    "tags": []
   },
   "source": [
    "When you are talking about football, it is all about, which team have won the game. It doesn't matter how many goals the team scored, when they lose the game, then they are not winner.\n",
    "<br>\n",
    "And even considering other conditions like xG values and goal score, we can say that, the top 4 teams in EPL are :\n",
    "<br>\n",
    "1. Manchester City  \n",
    "2. Liverpool                                    \n",
    "3. Chelsea                   \n",
    "4. Tottenham  "
   ]
  },
  {
   "cell_type": "markdown",
   "id": "dfec88d0",
   "metadata": {
    "papermill": {
     "duration": 0.046855,
     "end_time": "2022-05-21T19:57:46.438531",
     "exception": false,
     "start_time": "2022-05-21T19:57:46.391676",
     "status": "completed"
    },
    "tags": []
   },
   "source": [
    "**So, we can ask the real question now.\n",
    "<br>\n",
    "what is the special feature of winner teams? why do they win?\n",
    "<br>\n",
    "It's because of that the winner teams play offensive or deffensive? and what about xG and xpts(expected points) value? \n",
    "<br>\n",
    "Let's answer all those questions.**"
   ]
  },
  {
   "cell_type": "markdown",
   "id": "832d01eb",
   "metadata": {
    "papermill": {
     "duration": 0.047902,
     "end_time": "2022-05-21T19:57:46.534966",
     "exception": false,
     "start_time": "2022-05-21T19:57:46.487064",
     "status": "completed"
    },
    "tags": []
   },
   "source": [
    "First, we need **ppda_coef** value to know if the winners play offensive. To play offensive means that they pressure a lot \n",
    "<br>\n",
    "on the other hand, we need **oppda_coef** value to know if the winners play deffensive."
   ]
  },
  {
   "cell_type": "code",
   "execution_count": 17,
   "id": "12863f28",
   "metadata": {
    "execution": {
     "iopub.execute_input": "2022-05-21T19:57:46.633679Z",
     "iopub.status.busy": "2022-05-21T19:57:46.633152Z",
     "iopub.status.idle": "2022-05-21T19:57:46.651756Z",
     "shell.execute_reply": "2022-05-21T19:57:46.650835Z"
    },
    "papermill": {
     "duration": 0.069724,
     "end_time": "2022-05-21T19:57:46.654109",
     "exception": false,
     "start_time": "2022-05-21T19:57:46.584385",
     "status": "completed"
    },
    "tags": []
   },
   "outputs": [
    {
     "data": {
      "text/html": [
       "<div>\n",
       "<style scoped>\n",
       "    .dataframe tbody tr th:only-of-type {\n",
       "        vertical-align: middle;\n",
       "    }\n",
       "\n",
       "    .dataframe tbody tr th {\n",
       "        vertical-align: top;\n",
       "    }\n",
       "\n",
       "    .dataframe thead th {\n",
       "        text-align: right;\n",
       "    }\n",
       "</style>\n",
       "<table border=\"1\" class=\"dataframe\">\n",
       "  <thead>\n",
       "    <tr style=\"text-align: right;\">\n",
       "      <th></th>\n",
       "      <th>league</th>\n",
       "      <th>year</th>\n",
       "      <th>position</th>\n",
       "      <th>team</th>\n",
       "      <th>matches</th>\n",
       "      <th>wins</th>\n",
       "      <th>draws</th>\n",
       "      <th>loses</th>\n",
       "      <th>scored</th>\n",
       "      <th>missed</th>\n",
       "      <th>pts</th>\n",
       "      <th>xG</th>\n",
       "      <th>xG_diff</th>\n",
       "      <th>npxG</th>\n",
       "      <th>xGA</th>\n",
       "      <th>xGA_diff</th>\n",
       "      <th>npxGA</th>\n",
       "      <th>npxGD</th>\n",
       "      <th>ppda_coef</th>\n",
       "      <th>oppda_coef</th>\n",
       "      <th>deep</th>\n",
       "      <th>deep_allowed</th>\n",
       "      <th>xpts</th>\n",
       "      <th>xpts_diff</th>\n",
       "    </tr>\n",
       "  </thead>\n",
       "  <tbody>\n",
       "    <tr>\n",
       "      <th>0</th>\n",
       "      <td>La_liga</td>\n",
       "      <td>2014</td>\n",
       "      <td>1</td>\n",
       "      <td>Barcelona</td>\n",
       "      <td>38</td>\n",
       "      <td>30</td>\n",
       "      <td>4</td>\n",
       "      <td>4</td>\n",
       "      <td>110</td>\n",
       "      <td>21</td>\n",
       "      <td>94</td>\n",
       "      <td>102.98</td>\n",
       "      <td>-7.02</td>\n",
       "      <td>97.78</td>\n",
       "      <td>28.44</td>\n",
       "      <td>7.44</td>\n",
       "      <td>24.73</td>\n",
       "      <td>73.05</td>\n",
       "      <td>5.68</td>\n",
       "      <td>16.37</td>\n",
       "      <td>489</td>\n",
       "      <td>114</td>\n",
       "      <td>94.08</td>\n",
       "      <td>0.08</td>\n",
       "    </tr>\n",
       "    <tr>\n",
       "      <th>1</th>\n",
       "      <td>La_liga</td>\n",
       "      <td>2014</td>\n",
       "      <td>2</td>\n",
       "      <td>Real Madrid</td>\n",
       "      <td>38</td>\n",
       "      <td>30</td>\n",
       "      <td>2</td>\n",
       "      <td>6</td>\n",
       "      <td>118</td>\n",
       "      <td>38</td>\n",
       "      <td>92</td>\n",
       "      <td>95.77</td>\n",
       "      <td>-22.23</td>\n",
       "      <td>86.10</td>\n",
       "      <td>42.61</td>\n",
       "      <td>4.61</td>\n",
       "      <td>38.89</td>\n",
       "      <td>47.21</td>\n",
       "      <td>10.21</td>\n",
       "      <td>12.93</td>\n",
       "      <td>351</td>\n",
       "      <td>153</td>\n",
       "      <td>81.75</td>\n",
       "      <td>-10.25</td>\n",
       "    </tr>\n",
       "    <tr>\n",
       "      <th>2</th>\n",
       "      <td>La_liga</td>\n",
       "      <td>2014</td>\n",
       "      <td>3</td>\n",
       "      <td>Atletico Madrid</td>\n",
       "      <td>38</td>\n",
       "      <td>23</td>\n",
       "      <td>9</td>\n",
       "      <td>6</td>\n",
       "      <td>67</td>\n",
       "      <td>29</td>\n",
       "      <td>78</td>\n",
       "      <td>57.05</td>\n",
       "      <td>-9.95</td>\n",
       "      <td>52.59</td>\n",
       "      <td>29.07</td>\n",
       "      <td>0.07</td>\n",
       "      <td>26.84</td>\n",
       "      <td>25.75</td>\n",
       "      <td>8.98</td>\n",
       "      <td>9.24</td>\n",
       "      <td>197</td>\n",
       "      <td>123</td>\n",
       "      <td>73.14</td>\n",
       "      <td>-4.86</td>\n",
       "    </tr>\n",
       "    <tr>\n",
       "      <th>3</th>\n",
       "      <td>La_liga</td>\n",
       "      <td>2014</td>\n",
       "      <td>4</td>\n",
       "      <td>Valencia</td>\n",
       "      <td>38</td>\n",
       "      <td>22</td>\n",
       "      <td>11</td>\n",
       "      <td>5</td>\n",
       "      <td>70</td>\n",
       "      <td>32</td>\n",
       "      <td>77</td>\n",
       "      <td>55.06</td>\n",
       "      <td>-14.94</td>\n",
       "      <td>49.70</td>\n",
       "      <td>39.39</td>\n",
       "      <td>7.39</td>\n",
       "      <td>33.45</td>\n",
       "      <td>16.26</td>\n",
       "      <td>8.71</td>\n",
       "      <td>7.87</td>\n",
       "      <td>203</td>\n",
       "      <td>172</td>\n",
       "      <td>63.71</td>\n",
       "      <td>-13.29</td>\n",
       "    </tr>\n",
       "    <tr>\n",
       "      <th>4</th>\n",
       "      <td>La_liga</td>\n",
       "      <td>2014</td>\n",
       "      <td>5</td>\n",
       "      <td>Sevilla</td>\n",
       "      <td>38</td>\n",
       "      <td>23</td>\n",
       "      <td>7</td>\n",
       "      <td>8</td>\n",
       "      <td>71</td>\n",
       "      <td>45</td>\n",
       "      <td>76</td>\n",
       "      <td>69.53</td>\n",
       "      <td>-1.47</td>\n",
       "      <td>62.09</td>\n",
       "      <td>47.86</td>\n",
       "      <td>2.86</td>\n",
       "      <td>41.92</td>\n",
       "      <td>20.18</td>\n",
       "      <td>8.28</td>\n",
       "      <td>9.48</td>\n",
       "      <td>305</td>\n",
       "      <td>168</td>\n",
       "      <td>67.39</td>\n",
       "      <td>-8.61</td>\n",
       "    </tr>\n",
       "  </tbody>\n",
       "</table>\n",
       "</div>"
      ],
      "text/plain": [
       "    league  year  position             team  matches  wins  draws  loses  \\\n",
       "0  La_liga  2014         1        Barcelona       38    30      4      4   \n",
       "1  La_liga  2014         2      Real Madrid       38    30      2      6   \n",
       "2  La_liga  2014         3  Atletico Madrid       38    23      9      6   \n",
       "3  La_liga  2014         4         Valencia       38    22     11      5   \n",
       "4  La_liga  2014         5          Sevilla       38    23      7      8   \n",
       "\n",
       "   scored  missed  pts     xG  xG_diff  npxG   xGA  xGA_diff  npxGA  npxGD  \\\n",
       "0     110      21   94 102.98    -7.02 97.78 28.44      7.44  24.73  73.05   \n",
       "1     118      38   92  95.77   -22.23 86.10 42.61      4.61  38.89  47.21   \n",
       "2      67      29   78  57.05    -9.95 52.59 29.07      0.07  26.84  25.75   \n",
       "3      70      32   77  55.06   -14.94 49.70 39.39      7.39  33.45  16.26   \n",
       "4      71      45   76  69.53    -1.47 62.09 47.86      2.86  41.92  20.18   \n",
       "\n",
       "   ppda_coef  oppda_coef  deep  deep_allowed  xpts  xpts_diff  \n",
       "0       5.68       16.37   489           114 94.08       0.08  \n",
       "1      10.21       12.93   351           153 81.75     -10.25  \n",
       "2       8.98        9.24   197           123 73.14      -4.86  \n",
       "3       8.71        7.87   203           172 63.71     -13.29  \n",
       "4       8.28        9.48   305           168 67.39      -8.61  "
      ]
     },
     "execution_count": 17,
     "metadata": {},
     "output_type": "execute_result"
    }
   ],
   "source": [
    "df.head()"
   ]
  },
  {
   "cell_type": "code",
   "execution_count": 18,
   "id": "7df689dc",
   "metadata": {
    "execution": {
     "iopub.execute_input": "2022-05-21T19:57:46.758718Z",
     "iopub.status.busy": "2022-05-21T19:57:46.758391Z",
     "iopub.status.idle": "2022-05-21T19:57:46.774632Z",
     "shell.execute_reply": "2022-05-21T19:57:46.773649Z"
    },
    "papermill": {
     "duration": 0.069306,
     "end_time": "2022-05-21T19:57:46.776708",
     "exception": false,
     "start_time": "2022-05-21T19:57:46.707402",
     "status": "completed"
    },
    "tags": []
   },
   "outputs": [
    {
     "data": {
      "text/html": [
       "<div>\n",
       "<style scoped>\n",
       "    .dataframe tbody tr th:only-of-type {\n",
       "        vertical-align: middle;\n",
       "    }\n",
       "\n",
       "    .dataframe tbody tr th {\n",
       "        vertical-align: top;\n",
       "    }\n",
       "\n",
       "    .dataframe thead th {\n",
       "        text-align: right;\n",
       "    }\n",
       "</style>\n",
       "<table border=\"1\" class=\"dataframe\">\n",
       "  <thead>\n",
       "    <tr style=\"text-align: right;\">\n",
       "      <th></th>\n",
       "      <th>team</th>\n",
       "      <th>ppda_coef</th>\n",
       "      <th>oppda_coef</th>\n",
       "    </tr>\n",
       "  </thead>\n",
       "  <tbody>\n",
       "    <tr>\n",
       "      <th>0</th>\n",
       "      <td>Liverpool</td>\n",
       "      <td>55.41</td>\n",
       "      <td>110.71</td>\n",
       "    </tr>\n",
       "    <tr>\n",
       "      <th>1</th>\n",
       "      <td>Manchester City</td>\n",
       "      <td>47.49</td>\n",
       "      <td>129.17</td>\n",
       "    </tr>\n",
       "  </tbody>\n",
       "</table>\n",
       "</div>"
      ],
      "text/plain": [
       "              team  ppda_coef  oppda_coef\n",
       "0        Liverpool      55.41      110.71\n",
       "1  Manchester City      47.49      129.17"
      ]
     },
     "execution_count": 18,
     "metadata": {},
     "output_type": "execute_result"
    }
   ],
   "source": [
    "winner_teams = ['Manchester City', 'Liverpool']\n",
    "df_winner_teams = epl[epl['team'].isin(winner_teams)]\n",
    "winner_teams_groupping = df_winner_teams.groupby('team')[['ppda_coef', 'oppda_coef']].sum()\n",
    "winner_teams_groupping.reset_index(inplace=True)\n",
    "winner_teams_groupping"
   ]
  },
  {
   "cell_type": "code",
   "execution_count": 19,
   "id": "244175d2",
   "metadata": {
    "execution": {
     "iopub.execute_input": "2022-05-21T19:57:46.875511Z",
     "iopub.status.busy": "2022-05-21T19:57:46.875201Z",
     "iopub.status.idle": "2022-05-21T19:57:47.031357Z",
     "shell.execute_reply": "2022-05-21T19:57:47.030393Z"
    },
    "papermill": {
     "duration": 0.207778,
     "end_time": "2022-05-21T19:57:47.033335",
     "exception": false,
     "start_time": "2022-05-21T19:57:46.825557",
     "status": "completed"
    },
    "tags": []
   },
   "outputs": [
    {
     "data": {
      "image/png": "[encoded data removed]",
      "text/plain": [
       "<Figure size 432x288 with 1 Axes>"
      ]
     },
     "metadata": {
      "needs_background": "light"
     },
     "output_type": "display_data"
    }
   ],
   "source": [
    "fig, ax = plt.subplots()\n",
    "\n",
    "ax.barh(data=winner_teams_groupping, y='team', width='ppda_coef')\n",
    "\n",
    "plt.title('Which team is offensiver?', size= 15)\n",
    "plt.xlabel('ppda_coef values(offensive)', size= 15)\n",
    "plt.ylabel('team', size= 15)\n",
    "plt.show()"
   ]
  },
  {
   "cell_type": "code",
   "execution_count": 20,
   "id": "b6627e96",
   "metadata": {
    "execution": {
     "iopub.execute_input": "2022-05-21T19:57:47.137215Z",
     "iopub.status.busy": "2022-05-21T19:57:47.136926Z",
     "iopub.status.idle": "2022-05-21T19:57:47.296852Z",
     "shell.execute_reply": "2022-05-21T19:57:47.295898Z"
    },
    "papermill": {
     "duration": 0.215651,
     "end_time": "2022-05-21T19:57:47.299544",
     "exception": false,
     "start_time": "2022-05-21T19:57:47.083893",
     "status": "completed"
    },
    "tags": []
   },
   "outputs": [
    {
     "data": {
      "image/png": "[encoded data removed]",
      "text/plain": [
       "<Figure size 432x288 with 1 Axes>"
      ]
     },
     "metadata": {
      "needs_background": "light"
     },
     "output_type": "display_data"
    }
   ],
   "source": [
    "fig, ax = plt.subplots()\n",
    "\n",
    "ax.barh(data=winner_teams_groupping, y='team', width='oppda_coef')\n",
    "\n",
    "plt.title('Which team is diffensiver?', size= 15)\n",
    "plt.xlabel('ppda_coef values(diffensive)', size= 15)\n",
    "plt.ylabel('team', size= 15)\n",
    "plt.show()"
   ]
  },
  {
   "cell_type": "markdown",
   "id": "6223bd40",
   "metadata": {
    "papermill": {
     "duration": 0.051592,
     "end_time": "2022-05-21T19:57:47.406261",
     "exception": false,
     "start_time": "2022-05-21T19:57:47.354669",
     "status": "completed"
    },
    "tags": []
   },
   "source": [
    "This shows clearly that **liverpool** plays more offensive than manchester city.\n",
    "<br>\n",
    "And manchester city plays more diffensive."
   ]
  },
  {
   "cell_type": "code",
   "execution_count": 21,
   "id": "92618f97",
   "metadata": {
    "execution": {
     "iopub.execute_input": "2022-05-21T19:57:47.513750Z",
     "iopub.status.busy": "2022-05-21T19:57:47.513057Z",
     "iopub.status.idle": "2022-05-21T19:57:47.527373Z",
     "shell.execute_reply": "2022-05-21T19:57:47.526316Z"
    },
    "papermill": {
     "duration": 0.071266,
     "end_time": "2022-05-21T19:57:47.529750",
     "exception": false,
     "start_time": "2022-05-21T19:57:47.458484",
     "status": "completed"
    },
    "tags": []
   },
   "outputs": [
    {
     "data": {
      "text/html": [
       "<div>\n",
       "<style scoped>\n",
       "    .dataframe tbody tr th:only-of-type {\n",
       "        vertical-align: middle;\n",
       "    }\n",
       "\n",
       "    .dataframe tbody tr th {\n",
       "        vertical-align: top;\n",
       "    }\n",
       "\n",
       "    .dataframe thead th {\n",
       "        text-align: right;\n",
       "    }\n",
       "</style>\n",
       "<table border=\"1\" class=\"dataframe\">\n",
       "  <thead>\n",
       "    <tr style=\"text-align: right;\">\n",
       "      <th></th>\n",
       "      <th>team</th>\n",
       "      <th>xpts</th>\n",
       "      <th>xpts_diff</th>\n",
       "    </tr>\n",
       "  </thead>\n",
       "  <tbody>\n",
       "    <tr>\n",
       "      <th>0</th>\n",
       "      <td>Liverpool</td>\n",
       "      <td>431.41</td>\n",
       "      <td>-37.59</td>\n",
       "    </tr>\n",
       "    <tr>\n",
       "      <th>1</th>\n",
       "      <td>Manchester City</td>\n",
       "      <td>497.13</td>\n",
       "      <td>-4.87</td>\n",
       "    </tr>\n",
       "  </tbody>\n",
       "</table>\n",
       "</div>"
      ],
      "text/plain": [
       "              team   xpts  xpts_diff\n",
       "0        Liverpool 431.41     -37.59\n",
       "1  Manchester City 497.13      -4.87"
      ]
     },
     "execution_count": 21,
     "metadata": {},
     "output_type": "execute_result"
    }
   ],
   "source": [
    "winner_teams_groupping = df_winner_teams.groupby('team')[['xpts', 'xpts_diff']].sum()\n",
    "winner_teams_groupping.reset_index(inplace=True)\n",
    "winner_teams_groupping"
   ]
  },
  {
   "cell_type": "code",
   "execution_count": 22,
   "id": "d68a7110",
   "metadata": {
    "execution": {
     "iopub.execute_input": "2022-05-21T19:57:47.637650Z",
     "iopub.status.busy": "2022-05-21T19:57:47.636822Z",
     "iopub.status.idle": "2022-05-21T19:57:47.800471Z",
     "shell.execute_reply": "2022-05-21T19:57:47.799489Z"
    },
    "papermill": {
     "duration": 0.219758,
     "end_time": "2022-05-21T19:57:47.803073",
     "exception": false,
     "start_time": "2022-05-21T19:57:47.583315",
     "status": "completed"
    },
    "tags": []
   },
   "outputs": [
    {
     "data": {
      "image/png": "[encoded data removed]",
      "text/plain": [
       "<Figure size 432x288 with 1 Axes>"
      ]
     },
     "metadata": {
      "needs_background": "light"
     },
     "output_type": "display_data"
    }
   ],
   "source": [
    "fig, ax = plt.subplots()\n",
    "\n",
    "ax.barh(data=winner_teams_groupping, y='team', width='xpts')\n",
    "\n",
    "plt.title('Which team has higher expected point values?', size= 15)\n",
    "plt.xlabel('xpts(expected points)', size= 15)\n",
    "plt.ylabel('team', size= 15)\n",
    "plt.show()"
   ]
  },
  {
   "cell_type": "markdown",
   "id": "2c28b0a1",
   "metadata": {
    "papermill": {
     "duration": 0.060124,
     "end_time": "2022-05-21T19:57:47.924278",
     "exception": false,
     "start_time": "2022-05-21T19:57:47.864154",
     "status": "completed"
    },
    "tags": []
   },
   "source": [
    "However, when it comes to the points, which are very important to win the title, **manchester city** is absolute better than liverpool"
   ]
  },
  {
   "cell_type": "code",
   "execution_count": 23,
   "id": "f0bb33ac",
   "metadata": {
    "execution": {
     "iopub.execute_input": "2022-05-21T19:57:48.033694Z",
     "iopub.status.busy": "2022-05-21T19:57:48.033432Z",
     "iopub.status.idle": "2022-05-21T19:57:48.045589Z",
     "shell.execute_reply": "2022-05-21T19:57:48.044579Z"
    },
    "papermill": {
     "duration": 0.068613,
     "end_time": "2022-05-21T19:57:48.047604",
     "exception": false,
     "start_time": "2022-05-21T19:57:47.978991",
     "status": "completed"
    },
    "tags": []
   },
   "outputs": [
    {
     "data": {
      "text/html": [
       "<div>\n",
       "<style scoped>\n",
       "    .dataframe tbody tr th:only-of-type {\n",
       "        vertical-align: middle;\n",
       "    }\n",
       "\n",
       "    .dataframe tbody tr th {\n",
       "        vertical-align: top;\n",
       "    }\n",
       "\n",
       "    .dataframe thead th {\n",
       "        text-align: right;\n",
       "    }\n",
       "</style>\n",
       "<table border=\"1\" class=\"dataframe\">\n",
       "  <thead>\n",
       "    <tr style=\"text-align: right;\">\n",
       "      <th></th>\n",
       "      <th>xG</th>\n",
       "      <th>xG_diff</th>\n",
       "    </tr>\n",
       "    <tr>\n",
       "      <th>team</th>\n",
       "      <th></th>\n",
       "      <th></th>\n",
       "    </tr>\n",
       "  </thead>\n",
       "  <tbody>\n",
       "    <tr>\n",
       "      <th>Liverpool</th>\n",
       "      <td>404.83</td>\n",
       "      <td>-46.17</td>\n",
       "    </tr>\n",
       "    <tr>\n",
       "      <th>Manchester City</th>\n",
       "      <td>509.22</td>\n",
       "      <td>-27.78</td>\n",
       "    </tr>\n",
       "  </tbody>\n",
       "</table>\n",
       "</div>"
      ],
      "text/plain": [
       "                    xG  xG_diff\n",
       "team                           \n",
       "Liverpool       404.83   -46.17\n",
       "Manchester City 509.22   -27.78"
      ]
     },
     "execution_count": 23,
     "metadata": {},
     "output_type": "execute_result"
    }
   ],
   "source": [
    "df_winner_teams.groupby('team')[['xG', 'xG_diff']].sum()"
   ]
  },
  {
   "cell_type": "markdown",
   "id": "4fd8ac89",
   "metadata": {
    "papermill": {
     "duration": 0.054364,
     "end_time": "2022-05-21T19:57:48.157625",
     "exception": false,
     "start_time": "2022-05-21T19:57:48.103261",
     "status": "completed"
    },
    "tags": []
   },
   "source": [
    "Again, manchester city is much better than liverpool, when it comes to xG value."
   ]
  },
  {
   "cell_type": "code",
   "execution_count": 24,
   "id": "590c8d6f",
   "metadata": {
    "execution": {
     "iopub.execute_input": "2022-05-21T19:57:48.269486Z",
     "iopub.status.busy": "2022-05-21T19:57:48.269148Z",
     "iopub.status.idle": "2022-05-21T19:57:48.282646Z",
     "shell.execute_reply": "2022-05-21T19:57:48.281666Z"
    },
    "papermill": {
     "duration": 0.071648,
     "end_time": "2022-05-21T19:57:48.284841",
     "exception": false,
     "start_time": "2022-05-21T19:57:48.213193",
     "status": "completed"
    },
    "tags": []
   },
   "outputs": [
    {
     "data": {
      "text/html": [
       "<div>\n",
       "<style scoped>\n",
       "    .dataframe tbody tr th:only-of-type {\n",
       "        vertical-align: middle;\n",
       "    }\n",
       "\n",
       "    .dataframe tbody tr th {\n",
       "        vertical-align: top;\n",
       "    }\n",
       "\n",
       "    .dataframe thead th {\n",
       "        text-align: right;\n",
       "    }\n",
       "</style>\n",
       "<table border=\"1\" class=\"dataframe\">\n",
       "  <thead>\n",
       "    <tr style=\"text-align: right;\">\n",
       "      <th></th>\n",
       "      <th>wins</th>\n",
       "      <th>draws</th>\n",
       "      <th>loses</th>\n",
       "      <th>scored</th>\n",
       "      <th>missed</th>\n",
       "    </tr>\n",
       "    <tr>\n",
       "      <th>team</th>\n",
       "      <th></th>\n",
       "      <th></th>\n",
       "      <th></th>\n",
       "      <th></th>\n",
       "      <th></th>\n",
       "    </tr>\n",
       "  </thead>\n",
       "  <tbody>\n",
       "    <tr>\n",
       "      <th>Liverpool</th>\n",
       "      <td>139</td>\n",
       "      <td>52</td>\n",
       "      <td>37</td>\n",
       "      <td>451</td>\n",
       "      <td>233</td>\n",
       "    </tr>\n",
       "    <tr>\n",
       "      <th>Manchester City</th>\n",
       "      <td>156</td>\n",
       "      <td>34</td>\n",
       "      <td>38</td>\n",
       "      <td>537</td>\n",
       "      <td>203</td>\n",
       "    </tr>\n",
       "  </tbody>\n",
       "</table>\n",
       "</div>"
      ],
      "text/plain": [
       "                 wins  draws  loses  scored  missed\n",
       "team                                               \n",
       "Liverpool         139     52     37     451     233\n",
       "Manchester City   156     34     38     537     203"
      ]
     },
     "execution_count": 24,
     "metadata": {},
     "output_type": "execute_result"
    }
   ],
   "source": [
    "df_winner_teams.groupby('team')[['wins', 'draws', 'loses', 'scored', 'missed']].sum()"
   ]
  },
  {
   "cell_type": "markdown",
   "id": "51508696",
   "metadata": {
    "papermill": {
     "duration": 0.054526,
     "end_time": "2022-05-21T19:57:48.394329",
     "exception": false,
     "start_time": "2022-05-21T19:57:48.339803",
     "status": "completed"
    },
    "tags": []
   },
   "source": [
    "It would be possible to say that manchester city plays better football than liverpool with those results."
   ]
  },
  {
   "cell_type": "markdown",
   "id": "aee4399a",
   "metadata": {
    "papermill": {
     "duration": 0.055142,
     "end_time": "2022-05-21T19:57:48.504736",
     "exception": false,
     "start_time": "2022-05-21T19:57:48.449594",
     "status": "completed"
    },
    "tags": []
   },
   "source": [
    "# What is the special feature of winner teams in EPL? why do they win?\n",
    "    - Which winner team create more chances to score a goal?\n",
    "    - Which winner team play more defensive/offensive football?\n",
    "It sounds too obvious but the winner teams has higher xG, xpts values than other teams. But to play offensive or deffensive is not the key to be a winner.\n",
    "<br>\n",
    "Manchester city has the highst xG value in EPL, that means they create more chances to score a goal than other teams.\n",
    "<br>\n",
    "Liverpool plays very offensive football than manchester city.\n"
   ]
  },
  {
   "cell_type": "markdown",
   "id": "f5911c03",
   "metadata": {
    "papermill": {
     "duration": 0.055268,
     "end_time": "2022-05-21T19:57:48.614644",
     "exception": false,
     "start_time": "2022-05-21T19:57:48.559376",
     "status": "completed"
    },
    "tags": []
   },
   "source": [
    "# La liga"
   ]
  },
  {
   "cell_type": "markdown",
   "id": "e6400f78",
   "metadata": {
    "papermill": {
     "duration": 0.057815,
     "end_time": "2022-05-21T19:57:48.727063",
     "exception": false,
     "start_time": "2022-05-21T19:57:48.669248",
     "status": "completed"
    },
    "tags": []
   },
   "source": [
    "Now we explore the la liga."
   ]
  },
  {
   "cell_type": "code",
   "execution_count": 25,
   "id": "340b19f0",
   "metadata": {
    "execution": {
     "iopub.execute_input": "2022-05-21T19:57:48.835402Z",
     "iopub.status.busy": "2022-05-21T19:57:48.834264Z",
     "iopub.status.idle": "2022-05-21T19:57:48.854073Z",
     "shell.execute_reply": "2022-05-21T19:57:48.853133Z"
    },
    "papermill": {
     "duration": 0.076155,
     "end_time": "2022-05-21T19:57:48.856305",
     "exception": false,
     "start_time": "2022-05-21T19:57:48.780150",
     "status": "completed"
    },
    "tags": []
   },
   "outputs": [
    {
     "data": {
      "text/html": [
       "<div>\n",
       "<style scoped>\n",
       "    .dataframe tbody tr th:only-of-type {\n",
       "        vertical-align: middle;\n",
       "    }\n",
       "\n",
       "    .dataframe tbody tr th {\n",
       "        vertical-align: top;\n",
       "    }\n",
       "\n",
       "    .dataframe thead th {\n",
       "        text-align: right;\n",
       "    }\n",
       "</style>\n",
       "<table border=\"1\" class=\"dataframe\">\n",
       "  <thead>\n",
       "    <tr style=\"text-align: right;\">\n",
       "      <th></th>\n",
       "      <th>league</th>\n",
       "      <th>year</th>\n",
       "      <th>position</th>\n",
       "      <th>team</th>\n",
       "      <th>matches</th>\n",
       "      <th>wins</th>\n",
       "      <th>draws</th>\n",
       "      <th>loses</th>\n",
       "      <th>scored</th>\n",
       "      <th>missed</th>\n",
       "      <th>pts</th>\n",
       "      <th>xG</th>\n",
       "      <th>xG_diff</th>\n",
       "      <th>npxG</th>\n",
       "      <th>xGA</th>\n",
       "      <th>xGA_diff</th>\n",
       "      <th>npxGA</th>\n",
       "      <th>npxGD</th>\n",
       "      <th>ppda_coef</th>\n",
       "      <th>oppda_coef</th>\n",
       "      <th>deep</th>\n",
       "      <th>deep_allowed</th>\n",
       "      <th>xpts</th>\n",
       "      <th>xpts_diff</th>\n",
       "    </tr>\n",
       "  </thead>\n",
       "  <tbody>\n",
       "    <tr>\n",
       "      <th>0</th>\n",
       "      <td>La_liga</td>\n",
       "      <td>2014</td>\n",
       "      <td>1</td>\n",
       "      <td>Barcelona</td>\n",
       "      <td>38</td>\n",
       "      <td>30</td>\n",
       "      <td>4</td>\n",
       "      <td>4</td>\n",
       "      <td>110</td>\n",
       "      <td>21</td>\n",
       "      <td>94</td>\n",
       "      <td>102.98</td>\n",
       "      <td>-7.02</td>\n",
       "      <td>97.78</td>\n",
       "      <td>28.44</td>\n",
       "      <td>7.44</td>\n",
       "      <td>24.73</td>\n",
       "      <td>73.05</td>\n",
       "      <td>5.68</td>\n",
       "      <td>16.37</td>\n",
       "      <td>489</td>\n",
       "      <td>114</td>\n",
       "      <td>94.08</td>\n",
       "      <td>0.08</td>\n",
       "    </tr>\n",
       "    <tr>\n",
       "      <th>1</th>\n",
       "      <td>La_liga</td>\n",
       "      <td>2014</td>\n",
       "      <td>2</td>\n",
       "      <td>Real Madrid</td>\n",
       "      <td>38</td>\n",
       "      <td>30</td>\n",
       "      <td>2</td>\n",
       "      <td>6</td>\n",
       "      <td>118</td>\n",
       "      <td>38</td>\n",
       "      <td>92</td>\n",
       "      <td>95.77</td>\n",
       "      <td>-22.23</td>\n",
       "      <td>86.10</td>\n",
       "      <td>42.61</td>\n",
       "      <td>4.61</td>\n",
       "      <td>38.89</td>\n",
       "      <td>47.21</td>\n",
       "      <td>10.21</td>\n",
       "      <td>12.93</td>\n",
       "      <td>351</td>\n",
       "      <td>153</td>\n",
       "      <td>81.75</td>\n",
       "      <td>-10.25</td>\n",
       "    </tr>\n",
       "    <tr>\n",
       "      <th>2</th>\n",
       "      <td>La_liga</td>\n",
       "      <td>2014</td>\n",
       "      <td>3</td>\n",
       "      <td>Atletico Madrid</td>\n",
       "      <td>38</td>\n",
       "      <td>23</td>\n",
       "      <td>9</td>\n",
       "      <td>6</td>\n",
       "      <td>67</td>\n",
       "      <td>29</td>\n",
       "      <td>78</td>\n",
       "      <td>57.05</td>\n",
       "      <td>-9.95</td>\n",
       "      <td>52.59</td>\n",
       "      <td>29.07</td>\n",
       "      <td>0.07</td>\n",
       "      <td>26.84</td>\n",
       "      <td>25.75</td>\n",
       "      <td>8.98</td>\n",
       "      <td>9.24</td>\n",
       "      <td>197</td>\n",
       "      <td>123</td>\n",
       "      <td>73.14</td>\n",
       "      <td>-4.86</td>\n",
       "    </tr>\n",
       "    <tr>\n",
       "      <th>3</th>\n",
       "      <td>La_liga</td>\n",
       "      <td>2014</td>\n",
       "      <td>4</td>\n",
       "      <td>Valencia</td>\n",
       "      <td>38</td>\n",
       "      <td>22</td>\n",
       "      <td>11</td>\n",
       "      <td>5</td>\n",
       "      <td>70</td>\n",
       "      <td>32</td>\n",
       "      <td>77</td>\n",
       "      <td>55.06</td>\n",
       "      <td>-14.94</td>\n",
       "      <td>49.70</td>\n",
       "      <td>39.39</td>\n",
       "      <td>7.39</td>\n",
       "      <td>33.45</td>\n",
       "      <td>16.26</td>\n",
       "      <td>8.71</td>\n",
       "      <td>7.87</td>\n",
       "      <td>203</td>\n",
       "      <td>172</td>\n",
       "      <td>63.71</td>\n",
       "      <td>-13.29</td>\n",
       "    </tr>\n",
       "    <tr>\n",
       "      <th>4</th>\n",
       "      <td>La_liga</td>\n",
       "      <td>2014</td>\n",
       "      <td>5</td>\n",
       "      <td>Sevilla</td>\n",
       "      <td>38</td>\n",
       "      <td>23</td>\n",
       "      <td>7</td>\n",
       "      <td>8</td>\n",
       "      <td>71</td>\n",
       "      <td>45</td>\n",
       "      <td>76</td>\n",
       "      <td>69.53</td>\n",
       "      <td>-1.47</td>\n",
       "      <td>62.09</td>\n",
       "      <td>47.86</td>\n",
       "      <td>2.86</td>\n",
       "      <td>41.92</td>\n",
       "      <td>20.18</td>\n",
       "      <td>8.28</td>\n",
       "      <td>9.48</td>\n",
       "      <td>305</td>\n",
       "      <td>168</td>\n",
       "      <td>67.39</td>\n",
       "      <td>-8.61</td>\n",
       "    </tr>\n",
       "  </tbody>\n",
       "</table>\n",
       "</div>"
      ],
      "text/plain": [
       "    league  year  position             team  matches  wins  draws  loses  \\\n",
       "0  La_liga  2014         1        Barcelona       38    30      4      4   \n",
       "1  La_liga  2014         2      Real Madrid       38    30      2      6   \n",
       "2  La_liga  2014         3  Atletico Madrid       38    23      9      6   \n",
       "3  La_liga  2014         4         Valencia       38    22     11      5   \n",
       "4  La_liga  2014         5          Sevilla       38    23      7      8   \n",
       "\n",
       "   scored  missed  pts     xG  xG_diff  npxG   xGA  xGA_diff  npxGA  npxGD  \\\n",
       "0     110      21   94 102.98    -7.02 97.78 28.44      7.44  24.73  73.05   \n",
       "1     118      38   92  95.77   -22.23 86.10 42.61      4.61  38.89  47.21   \n",
       "2      67      29   78  57.05    -9.95 52.59 29.07      0.07  26.84  25.75   \n",
       "3      70      32   77  55.06   -14.94 49.70 39.39      7.39  33.45  16.26   \n",
       "4      71      45   76  69.53    -1.47 62.09 47.86      2.86  41.92  20.18   \n",
       "\n",
       "   ppda_coef  oppda_coef  deep  deep_allowed  xpts  xpts_diff  \n",
       "0       5.68       16.37   489           114 94.08       0.08  \n",
       "1      10.21       12.93   351           153 81.75     -10.25  \n",
       "2       8.98        9.24   197           123 73.14      -4.86  \n",
       "3       8.71        7.87   203           172 63.71     -13.29  \n",
       "4       8.28        9.48   305           168 67.39      -8.61  "
      ]
     },
     "execution_count": 25,
     "metadata": {},
     "output_type": "execute_result"
    }
   ],
   "source": [
    "la_liga = df[df['league'] == \"La_liga\"]\n",
    "la_liga.head()"
   ]
  },
  {
   "cell_type": "code",
   "execution_count": 26,
   "id": "5365d9aa",
   "metadata": {
    "execution": {
     "iopub.execute_input": "2022-05-21T19:57:48.964201Z",
     "iopub.status.busy": "2022-05-21T19:57:48.963923Z",
     "iopub.status.idle": "2022-05-21T19:57:48.978690Z",
     "shell.execute_reply": "2022-05-21T19:57:48.977769Z"
    },
    "papermill": {
     "duration": 0.071803,
     "end_time": "2022-05-21T19:57:48.980678",
     "exception": false,
     "start_time": "2022-05-21T19:57:48.908875",
     "status": "completed"
    },
    "tags": []
   },
   "outputs": [
    {
     "data": {
      "text/html": [
       "<div>\n",
       "<style scoped>\n",
       "    .dataframe tbody tr th:only-of-type {\n",
       "        vertical-align: middle;\n",
       "    }\n",
       "\n",
       "    .dataframe tbody tr th {\n",
       "        vertical-align: top;\n",
       "    }\n",
       "\n",
       "    .dataframe thead th {\n",
       "        text-align: right;\n",
       "    }\n",
       "</style>\n",
       "<table border=\"1\" class=\"dataframe\">\n",
       "  <thead>\n",
       "    <tr style=\"text-align: right;\">\n",
       "      <th></th>\n",
       "      <th>scored</th>\n",
       "      <th>xG</th>\n",
       "      <th>wins</th>\n",
       "    </tr>\n",
       "    <tr>\n",
       "      <th>team</th>\n",
       "      <th></th>\n",
       "      <th></th>\n",
       "      <th></th>\n",
       "    </tr>\n",
       "  </thead>\n",
       "  <tbody>\n",
       "    <tr>\n",
       "      <th>Barcelona</th>\n",
       "      <td>613</td>\n",
       "      <td>555.91</td>\n",
       "      <td>166</td>\n",
       "    </tr>\n",
       "    <tr>\n",
       "      <th>Real Madrid</th>\n",
       "      <td>561</td>\n",
       "      <td>509.19</td>\n",
       "      <td>156</td>\n",
       "    </tr>\n",
       "    <tr>\n",
       "      <th>Atletico Madrid</th>\n",
       "      <td>364</td>\n",
       "      <td>333.50</td>\n",
       "      <td>137</td>\n",
       "    </tr>\n",
       "    <tr>\n",
       "      <th>Sevilla</th>\n",
       "      <td>356</td>\n",
       "      <td>377.40</td>\n",
       "      <td>111</td>\n",
       "    </tr>\n",
       "    <tr>\n",
       "      <th>Villarreal</th>\n",
       "      <td>317</td>\n",
       "      <td>325.56</td>\n",
       "      <td>99</td>\n",
       "    </tr>\n",
       "  </tbody>\n",
       "</table>\n",
       "</div>"
      ],
      "text/plain": [
       "                 scored     xG  wins\n",
       "team                                \n",
       "Barcelona           613 555.91   166\n",
       "Real Madrid         561 509.19   156\n",
       "Atletico Madrid     364 333.50   137\n",
       "Sevilla             356 377.40   111\n",
       "Villarreal          317 325.56    99"
      ]
     },
     "execution_count": 26,
     "metadata": {},
     "output_type": "execute_result"
    }
   ],
   "source": [
    "la_liga.groupby('team')[['scored', 'xG', 'wins']].sum().sort_values(by='wins', ascending=False).head()"
   ]
  },
  {
   "cell_type": "code",
   "execution_count": 27,
   "id": "6a78a641",
   "metadata": {
    "execution": {
     "iopub.execute_input": "2022-05-21T19:57:49.111780Z",
     "iopub.status.busy": "2022-05-21T19:57:49.111005Z",
     "iopub.status.idle": "2022-05-21T19:57:49.125903Z",
     "shell.execute_reply": "2022-05-21T19:57:49.125221Z"
    },
    "papermill": {
     "duration": 0.090148,
     "end_time": "2022-05-21T19:57:49.128021",
     "exception": false,
     "start_time": "2022-05-21T19:57:49.037873",
     "status": "completed"
    },
    "tags": []
   },
   "outputs": [
    {
     "data": {
      "text/html": [
       "<div>\n",
       "<style scoped>\n",
       "    .dataframe tbody tr th:only-of-type {\n",
       "        vertical-align: middle;\n",
       "    }\n",
       "\n",
       "    .dataframe tbody tr th {\n",
       "        vertical-align: top;\n",
       "    }\n",
       "\n",
       "    .dataframe thead th {\n",
       "        text-align: right;\n",
       "    }\n",
       "</style>\n",
       "<table border=\"1\" class=\"dataframe\">\n",
       "  <thead>\n",
       "    <tr style=\"text-align: right;\">\n",
       "      <th></th>\n",
       "      <th>scored</th>\n",
       "      <th>xG</th>\n",
       "      <th>wins</th>\n",
       "    </tr>\n",
       "    <tr>\n",
       "      <th>team</th>\n",
       "      <th></th>\n",
       "      <th></th>\n",
       "      <th></th>\n",
       "    </tr>\n",
       "  </thead>\n",
       "  <tbody>\n",
       "    <tr>\n",
       "      <th>Barcelona</th>\n",
       "      <td>102.17</td>\n",
       "      <td>92.65</td>\n",
       "      <td>27.67</td>\n",
       "    </tr>\n",
       "    <tr>\n",
       "      <th>Real Madrid</th>\n",
       "      <td>93.50</td>\n",
       "      <td>84.86</td>\n",
       "      <td>26.00</td>\n",
       "    </tr>\n",
       "    <tr>\n",
       "      <th>Atletico Madrid</th>\n",
       "      <td>60.67</td>\n",
       "      <td>55.58</td>\n",
       "      <td>22.83</td>\n",
       "    </tr>\n",
       "    <tr>\n",
       "      <th>Sevilla</th>\n",
       "      <td>59.33</td>\n",
       "      <td>62.90</td>\n",
       "      <td>18.50</td>\n",
       "    </tr>\n",
       "    <tr>\n",
       "      <th>Villarreal</th>\n",
       "      <td>52.83</td>\n",
       "      <td>54.26</td>\n",
       "      <td>16.50</td>\n",
       "    </tr>\n",
       "  </tbody>\n",
       "</table>\n",
       "</div>"
      ],
      "text/plain": [
       "                 scored    xG  wins\n",
       "team                               \n",
       "Barcelona        102.17 92.65 27.67\n",
       "Real Madrid       93.50 84.86 26.00\n",
       "Atletico Madrid   60.67 55.58 22.83\n",
       "Sevilla           59.33 62.90 18.50\n",
       "Villarreal        52.83 54.26 16.50"
      ]
     },
     "execution_count": 27,
     "metadata": {},
     "output_type": "execute_result"
    }
   ],
   "source": [
    "la_liga.groupby('team')[['scored', 'xG', 'wins']].mean().sort_values(by='wins', ascending=False).head()"
   ]
  },
  {
   "cell_type": "code",
   "execution_count": 28,
   "id": "64d42ff9",
   "metadata": {
    "execution": {
     "iopub.execute_input": "2022-05-21T19:57:49.239223Z",
     "iopub.status.busy": "2022-05-21T19:57:49.238580Z",
     "iopub.status.idle": "2022-05-21T19:57:49.658717Z",
     "shell.execute_reply": "2022-05-21T19:57:49.657511Z"
    },
    "papermill": {
     "duration": 0.477352,
     "end_time": "2022-05-21T19:57:49.660943",
     "exception": false,
     "start_time": "2022-05-21T19:57:49.183591",
     "status": "completed"
    },
    "tags": []
   },
   "outputs": [
    {
     "data": {
      "image/png": "[encoded data removed]",
      "text/plain": [
       "<Figure size 471.5x360 with 1 Axes>"
      ]
     },
     "metadata": {
      "needs_background": "light"
     },
     "output_type": "display_data"
    }
   ],
   "source": [
    "top_4 = ['Barcelona', 'Real Madrid', 'Atletico Madrid', 'Sevilla']\n",
    "top_4_data = la_liga[la_liga['team'].isin(top_4)]\n",
    "\n",
    "sns.relplot(data=top_4_data, x='year', y='position', hue='team', kind='line')\n",
    "\n",
    "\n",
    "plt.title(\"Change of position 2014-2019\", size=15)\n",
    "plt.xlabel('Year', size=15)\n",
    "plt.ylabel(\"Position\", size=15)\n",
    "plt.show()\n"
   ]
  },
  {
   "cell_type": "markdown",
   "id": "e72fb1c5",
   "metadata": {
    "papermill": {
     "duration": 0.061174,
     "end_time": "2022-05-21T19:57:49.784252",
     "exception": false,
     "start_time": "2022-05-21T19:57:49.723078",
     "status": "completed"
    },
    "tags": []
   },
   "source": [
    "Barcelona got the league title except 2016, 2019 season, when real madrid then got the legaue title, while atletico and sevilla were even not close for that."
   ]
  },
  {
   "cell_type": "markdown",
   "id": "7ac77fb5",
   "metadata": {
    "papermill": {
     "duration": 0.055315,
     "end_time": "2022-05-21T19:57:49.897698",
     "exception": false,
     "start_time": "2022-05-21T19:57:49.842383",
     "status": "completed"
    },
    "tags": []
   },
   "source": [
    "Like we did before by EPL, let's answer all those questions again.\n",
    "<br>\n",
    "\n",
    "**what is the special feature of winner teams? why do they win?\n",
    "<br>\n",
    "It's because of that the winner teams play offensive or deffensive? and what about xG and xpts(expected points) value?**\n",
    "<br>"
   ]
  },
  {
   "cell_type": "code",
   "execution_count": 29,
   "id": "ff55de60",
   "metadata": {
    "execution": {
     "iopub.execute_input": "2022-05-21T19:57:50.015562Z",
     "iopub.status.busy": "2022-05-21T19:57:50.014586Z",
     "iopub.status.idle": "2022-05-21T19:57:50.029624Z",
     "shell.execute_reply": "2022-05-21T19:57:50.028519Z"
    },
    "papermill": {
     "duration": 0.076816,
     "end_time": "2022-05-21T19:57:50.032144",
     "exception": false,
     "start_time": "2022-05-21T19:57:49.955328",
     "status": "completed"
    },
    "tags": []
   },
   "outputs": [
    {
     "data": {
      "text/html": [
       "<div>\n",
       "<style scoped>\n",
       "    .dataframe tbody tr th:only-of-type {\n",
       "        vertical-align: middle;\n",
       "    }\n",
       "\n",
       "    .dataframe tbody tr th {\n",
       "        vertical-align: top;\n",
       "    }\n",
       "\n",
       "    .dataframe thead th {\n",
       "        text-align: right;\n",
       "    }\n",
       "</style>\n",
       "<table border=\"1\" class=\"dataframe\">\n",
       "  <thead>\n",
       "    <tr style=\"text-align: right;\">\n",
       "      <th></th>\n",
       "      <th>team</th>\n",
       "      <th>ppda_coef</th>\n",
       "      <th>oppda_coef</th>\n",
       "    </tr>\n",
       "  </thead>\n",
       "  <tbody>\n",
       "    <tr>\n",
       "      <th>0</th>\n",
       "      <td>Barcelona</td>\n",
       "      <td>44.78</td>\n",
       "      <td>95.45</td>\n",
       "    </tr>\n",
       "    <tr>\n",
       "      <th>1</th>\n",
       "      <td>Real Madrid</td>\n",
       "      <td>56.67</td>\n",
       "      <td>84.17</td>\n",
       "    </tr>\n",
       "  </tbody>\n",
       "</table>\n",
       "</div>"
      ],
      "text/plain": [
       "          team  ppda_coef  oppda_coef\n",
       "0    Barcelona      44.78       95.45\n",
       "1  Real Madrid      56.67       84.17"
      ]
     },
     "execution_count": 29,
     "metadata": {},
     "output_type": "execute_result"
    }
   ],
   "source": [
    "winner_teams = ['Barcelona', 'Real Madrid']\n",
    "la_df_winner_teams = la_liga[la_liga['team'].isin(winner_teams)]\n",
    "la_winner_teams_groupping = la_df_winner_teams.groupby('team')[['ppda_coef', 'oppda_coef']].sum()\n",
    "la_winner_teams_groupping.reset_index(inplace=True)\n",
    "la_winner_teams_groupping"
   ]
  },
  {
   "cell_type": "code",
   "execution_count": 30,
   "id": "12f65e87",
   "metadata": {
    "execution": {
     "iopub.execute_input": "2022-05-21T19:57:50.155443Z",
     "iopub.status.busy": "2022-05-21T19:57:50.154385Z",
     "iopub.status.idle": "2022-05-21T19:57:50.309773Z",
     "shell.execute_reply": "2022-05-21T19:57:50.308833Z"
    },
    "papermill": {
     "duration": 0.21855,
     "end_time": "2022-05-21T19:57:50.311870",
     "exception": false,
     "start_time": "2022-05-21T19:57:50.093320",
     "status": "completed"
    },
    "tags": []
   },
   "outputs": [
    {
     "data": {
      "image/png": "[encoded data removed]",
      "text/plain": [
       "<Figure size 432x288 with 1 Axes>"
      ]
     },
     "metadata": {
      "needs_background": "light"
     },
     "output_type": "display_data"
    }
   ],
   "source": [
    "fig, ax = plt.subplots()\n",
    "\n",
    "ax.barh(data=la_winner_teams_groupping, y='team', width='ppda_coef')\n",
    "\n",
    "plt.title(\"Which team plays more offensive?\", size=15)\n",
    "plt.xlabel(\"ppda coef value(offensive)\", size=15)\n",
    "plt.ylabel(\"Team\", size=15)\n",
    "plt.show()"
   ]
  },
  {
   "cell_type": "code",
   "execution_count": 31,
   "id": "ae79239c",
   "metadata": {
    "execution": {
     "iopub.execute_input": "2022-05-21T19:57:50.425063Z",
     "iopub.status.busy": "2022-05-21T19:57:50.424235Z",
     "iopub.status.idle": "2022-05-21T19:57:50.439038Z",
     "shell.execute_reply": "2022-05-21T19:57:50.438075Z"
    },
    "papermill": {
     "duration": 0.073864,
     "end_time": "2022-05-21T19:57:50.441449",
     "exception": false,
     "start_time": "2022-05-21T19:57:50.367585",
     "status": "completed"
    },
    "tags": []
   },
   "outputs": [
    {
     "data": {
      "text/html": [
       "<div>\n",
       "<style scoped>\n",
       "    .dataframe tbody tr th:only-of-type {\n",
       "        vertical-align: middle;\n",
       "    }\n",
       "\n",
       "    .dataframe tbody tr th {\n",
       "        vertical-align: top;\n",
       "    }\n",
       "\n",
       "    .dataframe thead th {\n",
       "        text-align: right;\n",
       "    }\n",
       "</style>\n",
       "<table border=\"1\" class=\"dataframe\">\n",
       "  <thead>\n",
       "    <tr style=\"text-align: right;\">\n",
       "      <th></th>\n",
       "      <th>team</th>\n",
       "      <th>xpts</th>\n",
       "      <th>xpts_diff</th>\n",
       "    </tr>\n",
       "  </thead>\n",
       "  <tbody>\n",
       "    <tr>\n",
       "      <th>0</th>\n",
       "      <td>Liverpool</td>\n",
       "      <td>431.41</td>\n",
       "      <td>-37.59</td>\n",
       "    </tr>\n",
       "    <tr>\n",
       "      <th>1</th>\n",
       "      <td>Manchester City</td>\n",
       "      <td>497.13</td>\n",
       "      <td>-4.87</td>\n",
       "    </tr>\n",
       "  </tbody>\n",
       "</table>\n",
       "</div>"
      ],
      "text/plain": [
       "              team   xpts  xpts_diff\n",
       "0        Liverpool 431.41     -37.59\n",
       "1  Manchester City 497.13      -4.87"
      ]
     },
     "execution_count": 31,
     "metadata": {},
     "output_type": "execute_result"
    }
   ],
   "source": [
    "la_winner_teams_groupping = df_winner_teams.groupby('team')[['xpts', 'xpts_diff']].sum()\n",
    "la_winner_teams_groupping.reset_index(inplace=True)\n",
    "la_winner_teams_groupping"
   ]
  },
  {
   "cell_type": "code",
   "execution_count": 32,
   "id": "0ffac81c",
   "metadata": {
    "execution": {
     "iopub.execute_input": "2022-05-21T19:57:50.563320Z",
     "iopub.status.busy": "2022-05-21T19:57:50.562688Z",
     "iopub.status.idle": "2022-05-21T19:57:50.577057Z",
     "shell.execute_reply": "2022-05-21T19:57:50.576031Z"
    },
    "papermill": {
     "duration": 0.078347,
     "end_time": "2022-05-21T19:57:50.579161",
     "exception": false,
     "start_time": "2022-05-21T19:57:50.500814",
     "status": "completed"
    },
    "tags": []
   },
   "outputs": [
    {
     "data": {
      "text/html": [
       "<div>\n",
       "<style scoped>\n",
       "    .dataframe tbody tr th:only-of-type {\n",
       "        vertical-align: middle;\n",
       "    }\n",
       "\n",
       "    .dataframe tbody tr th {\n",
       "        vertical-align: top;\n",
       "    }\n",
       "\n",
       "    .dataframe thead th {\n",
       "        text-align: right;\n",
       "    }\n",
       "</style>\n",
       "<table border=\"1\" class=\"dataframe\">\n",
       "  <thead>\n",
       "    <tr style=\"text-align: right;\">\n",
       "      <th></th>\n",
       "      <th>team</th>\n",
       "      <th>xG</th>\n",
       "      <th>xG_diff</th>\n",
       "    </tr>\n",
       "  </thead>\n",
       "  <tbody>\n",
       "    <tr>\n",
       "      <th>0</th>\n",
       "      <td>Liverpool</td>\n",
       "      <td>404.83</td>\n",
       "      <td>-46.17</td>\n",
       "    </tr>\n",
       "    <tr>\n",
       "      <th>1</th>\n",
       "      <td>Manchester City</td>\n",
       "      <td>509.22</td>\n",
       "      <td>-27.78</td>\n",
       "    </tr>\n",
       "  </tbody>\n",
       "</table>\n",
       "</div>"
      ],
      "text/plain": [
       "              team     xG  xG_diff\n",
       "0        Liverpool 404.83   -46.17\n",
       "1  Manchester City 509.22   -27.78"
      ]
     },
     "execution_count": 32,
     "metadata": {},
     "output_type": "execute_result"
    }
   ],
   "source": [
    "la_winner_teams_groupping = df_winner_teams.groupby('team')[['xG', 'xG_diff']].sum()\n",
    "la_winner_teams_groupping.reset_index(inplace=True)\n",
    "la_winner_teams_groupping"
   ]
  },
  {
   "cell_type": "code",
   "execution_count": 33,
   "id": "4f64efb1",
   "metadata": {
    "execution": {
     "iopub.execute_input": "2022-05-21T19:57:50.698235Z",
     "iopub.status.busy": "2022-05-21T19:57:50.697240Z",
     "iopub.status.idle": "2022-05-21T19:57:50.710375Z",
     "shell.execute_reply": "2022-05-21T19:57:50.709737Z"
    },
    "papermill": {
     "duration": 0.076088,
     "end_time": "2022-05-21T19:57:50.712542",
     "exception": false,
     "start_time": "2022-05-21T19:57:50.636454",
     "status": "completed"
    },
    "tags": []
   },
   "outputs": [
    {
     "data": {
      "text/html": [
       "<div>\n",
       "<style scoped>\n",
       "    .dataframe tbody tr th:only-of-type {\n",
       "        vertical-align: middle;\n",
       "    }\n",
       "\n",
       "    .dataframe tbody tr th {\n",
       "        vertical-align: top;\n",
       "    }\n",
       "\n",
       "    .dataframe thead th {\n",
       "        text-align: right;\n",
       "    }\n",
       "</style>\n",
       "<table border=\"1\" class=\"dataframe\">\n",
       "  <thead>\n",
       "    <tr style=\"text-align: right;\">\n",
       "      <th></th>\n",
       "      <th>wins</th>\n",
       "      <th>draws</th>\n",
       "      <th>loses</th>\n",
       "      <th>scored</th>\n",
       "      <th>missed</th>\n",
       "    </tr>\n",
       "    <tr>\n",
       "      <th>team</th>\n",
       "      <th></th>\n",
       "      <th></th>\n",
       "      <th></th>\n",
       "      <th></th>\n",
       "      <th></th>\n",
       "    </tr>\n",
       "  </thead>\n",
       "  <tbody>\n",
       "    <tr>\n",
       "      <th>Barcelona</th>\n",
       "      <td>166</td>\n",
       "      <td>39</td>\n",
       "      <td>23</td>\n",
       "      <td>613</td>\n",
       "      <td>190</td>\n",
       "    </tr>\n",
       "    <tr>\n",
       "      <th>Real Madrid</th>\n",
       "      <td>156</td>\n",
       "      <td>38</td>\n",
       "      <td>34</td>\n",
       "      <td>561</td>\n",
       "      <td>228</td>\n",
       "    </tr>\n",
       "  </tbody>\n",
       "</table>\n",
       "</div>"
      ],
      "text/plain": [
       "             wins  draws  loses  scored  missed\n",
       "team                                           \n",
       "Barcelona     166     39     23     613     190\n",
       "Real Madrid   156     38     34     561     228"
      ]
     },
     "execution_count": 33,
     "metadata": {},
     "output_type": "execute_result"
    }
   ],
   "source": [
    "la_df_winner_teams.groupby('team')[['wins', 'draws', 'loses', 'scored', 'missed']].sum()"
   ]
  },
  {
   "cell_type": "markdown",
   "id": "8ee1d45f",
   "metadata": {
    "papermill": {
     "duration": 0.057474,
     "end_time": "2022-05-21T19:57:50.828976",
     "exception": false,
     "start_time": "2022-05-21T19:57:50.771502",
     "status": "completed"
    },
    "tags": []
   },
   "source": [
    "# What is the special feature of winner teams in La liga? why do they win?\n",
    "    - Which winner team create more chances to score a goal?\n",
    "    - Which winner team play more defensive/offensive football?"
   ]
  },
  {
   "cell_type": "markdown",
   "id": "263c12f1",
   "metadata": {
    "papermill": {
     "duration": 0.057127,
     "end_time": "2022-05-21T19:57:50.944127",
     "exception": false,
     "start_time": "2022-05-21T19:57:50.887000",
     "status": "completed"
    },
    "tags": []
   },
   "source": [
    "Like we saw before by EPL, the special features of winner are high xG, xpts values. Even though Real Madrid plays more offensive, barcelona has more goal score than real Real Madrid."
   ]
  },
  {
   "cell_type": "markdown",
   "id": "ae6cedd6",
   "metadata": {
    "papermill": {
     "duration": 0.063261,
     "end_time": "2022-05-21T19:57:51.066115",
     "exception": false,
     "start_time": "2022-05-21T19:57:51.002854",
     "status": "completed"
    },
    "tags": []
   },
   "source": [
    "# Is there any particular characteristic of each league?"
   ]
  },
  {
   "cell_type": "code",
   "execution_count": 34,
   "id": "60fef759",
   "metadata": {
    "execution": {
     "iopub.execute_input": "2022-05-21T19:57:51.186549Z",
     "iopub.status.busy": "2022-05-21T19:57:51.185982Z",
     "iopub.status.idle": "2022-05-21T19:57:51.198127Z",
     "shell.execute_reply": "2022-05-21T19:57:51.197554Z"
    },
    "papermill": {
     "duration": 0.073318,
     "end_time": "2022-05-21T19:57:51.199976",
     "exception": false,
     "start_time": "2022-05-21T19:57:51.126658",
     "status": "completed"
    },
    "tags": []
   },
   "outputs": [
    {
     "data": {
      "text/html": [
       "<div>\n",
       "<style scoped>\n",
       "    .dataframe tbody tr th:only-of-type {\n",
       "        vertical-align: middle;\n",
       "    }\n",
       "\n",
       "    .dataframe tbody tr th {\n",
       "        vertical-align: top;\n",
       "    }\n",
       "\n",
       "    .dataframe thead th {\n",
       "        text-align: right;\n",
       "    }\n",
       "</style>\n",
       "<table border=\"1\" class=\"dataframe\">\n",
       "  <thead>\n",
       "    <tr style=\"text-align: right;\">\n",
       "      <th></th>\n",
       "      <th>scored</th>\n",
       "      <th>xG</th>\n",
       "      <th>ppda_coef</th>\n",
       "      <th>xpts</th>\n",
       "    </tr>\n",
       "    <tr>\n",
       "      <th>league</th>\n",
       "      <th></th>\n",
       "      <th></th>\n",
       "      <th></th>\n",
       "      <th></th>\n",
       "    </tr>\n",
       "  </thead>\n",
       "  <tbody>\n",
       "    <tr>\n",
       "      <th>EPL</th>\n",
       "      <td>51.58</td>\n",
       "      <td>50.76</td>\n",
       "      <td>11.85</td>\n",
       "      <td>52.56</td>\n",
       "    </tr>\n",
       "    <tr>\n",
       "      <th>La_liga</th>\n",
       "      <td>50.99</td>\n",
       "      <td>50.59</td>\n",
       "      <td>9.65</td>\n",
       "      <td>52.44</td>\n",
       "    </tr>\n",
       "  </tbody>\n",
       "</table>\n",
       "</div>"
      ],
      "text/plain": [
       "         scored    xG  ppda_coef  xpts\n",
       "league                                \n",
       "EPL       51.58 50.76      11.85 52.56\n",
       "La_liga   50.99 50.59       9.65 52.44"
      ]
     },
     "execution_count": 34,
     "metadata": {},
     "output_type": "execute_result"
    }
   ],
   "source": [
    "best_leagues = ['EPL', 'La_liga']\n",
    "df_best_leagues = df[df['league'].isin(best_leagues)]\n",
    "\n",
    "df_best_leagues.groupby('league')[['scored', 'xG', 'ppda_coef', 'xpts']].mean()"
   ]
  },
  {
   "cell_type": "markdown",
   "id": "b776cf22",
   "metadata": {
    "papermill": {
     "duration": 0.056601,
     "end_time": "2022-05-21T19:57:51.313850",
     "exception": false,
     "start_time": "2022-05-21T19:57:51.257249",
     "status": "completed"
    },
    "tags": []
   },
   "source": [
    "# Conclusion\n",
    "\n",
    "As well known, EPL is very aggressive league. and this proves that EPL has higher ppda_coef value than la_liga.\n",
    "<br>\n",
    "we figured out the best leagues, teams and compared them each other with many values like xG, xpts. And from that we could know, that Manchester city and Barcelona are the champions in their own leagues. But since it's very rare by football to score a lot of goals compared with like basketball or Hockey, we should also consider of luck and also many other different features."
   ]
  }
 ],
 "metadata": {
  "kernelspec": {
   "display_name": "Python 3",
   "language": "python",
   "name": "python3"
  },
  "language_info": {
   "codemirror_mode": {
    "name": "ipython",
    "version": 3
   },
   "file_extension": ".py",
   "mimetype": "text/x-python",
   "name": "python",
   "nbconvert_exporter": "python",
   "pygments_lexer": "ipython3",
   "version": "3.7.12"
  },
  "papermill": {
   "default_parameters": {},
   "duration": 23.997689,
   "end_time": "2022-05-21T19:57:52.192972",
   "environment_variables": {},
   "exception": null,
   "input_path": "__notebook__.ipynb",
   "output_path": "__notebook__.ipynb",
   "parameters": {},
   "start_time": "2022-05-21T19:57:28.195283",
   "version": "2.3.4"
  }
 },
 "nbformat": 4,
 "nbformat_minor": 5
}
