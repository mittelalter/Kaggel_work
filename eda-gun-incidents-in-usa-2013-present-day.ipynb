{
 "cells": [
  {
   "cell_type": "markdown",
   "id": "c6301ee7",
   "metadata": {
    "papermill": {
     "duration": 0.012959,
     "end_time": "2022-06-15T19:20:35.751881",
     "exception": false,
     "start_time": "2022-06-15T19:20:35.738922",
     "status": "completed"
    },
    "tags": []
   },
   "source": [
    "# **Intro**\n",
    "\n",
    "The dataset featured below was created by reconciling measurements from requests of gun violence incidents provided by the Gun Violence Archive (GVA).\n",
    "\n",
    "Source: Gun Violence Incidents - https://www.gunviolencearchive.org\n",
    "\n",
    "* Meaning of columns\n",
    "    * incident id - incident unique identifier - (str)\n",
    "    * incident date - recorded date of incident - (date)\n",
    "    * state - US state in which the incident took place - (str)\n",
    "    * city - city within the state where the incident took place - (str)\n",
    "    * address - street address where the incident took place - (str)\n",
    "    * killed - number of persons killed during incident - (int)\n",
    "    * injured - number of persons injured during incident - (int)\n"
   ]
  },
  {
   "cell_type": "markdown",
   "id": "60824d00",
   "metadata": {
    "papermill": {
     "duration": 0.012966,
     "end_time": "2022-06-15T19:20:35.779067",
     "exception": false,
     "start_time": "2022-06-15T19:20:35.766101",
     "status": "completed"
    },
    "tags": []
   },
   "source": [
    "# **Inspiration**\n",
    "* Explore & Compare gun incidents by years, states"
   ]
  },
  {
   "cell_type": "markdown",
   "id": "9a22b388",
   "metadata": {
    "papermill": {
     "duration": 0.012794,
     "end_time": "2022-06-15T19:20:35.804920",
     "exception": false,
     "start_time": "2022-06-15T19:20:35.792126",
     "status": "completed"
    },
    "tags": []
   },
   "source": [
    "# **Data Process**"
   ]
  },
  {
   "cell_type": "markdown",
   "id": "f89518c0",
   "metadata": {
    "papermill": {
     "duration": 0.011796,
     "end_time": "2022-06-15T19:20:35.829867",
     "exception": false,
     "start_time": "2022-06-15T19:20:35.818071",
     "status": "completed"
    },
    "tags": []
   },
   "source": [
    "## Load data"
   ]
  },
  {
   "cell_type": "code",
   "execution_count": 1,
   "id": "2d67b363",
   "metadata": {
    "execution": {
     "iopub.execute_input": "2022-06-15T19:20:35.855125Z",
     "iopub.status.busy": "2022-06-15T19:20:35.854394Z",
     "iopub.status.idle": "2022-06-15T19:20:37.267947Z",
     "shell.execute_reply": "2022-06-15T19:20:37.266606Z"
    },
    "papermill": {
     "duration": 1.430658,
     "end_time": "2022-06-15T19:20:37.271656",
     "exception": false,
     "start_time": "2022-06-15T19:20:35.840998",
     "status": "completed"
    },
    "tags": []
   },
   "outputs": [],
   "source": [
    "import numpy as np\n",
    "from numpy import median\n",
    "import pandas as pd\n",
    "pd.plotting.register_matplotlib_converters()\n",
    "import matplotlib.pyplot as plt\n",
    "%matplotlib inline\n",
    "import seaborn as sns\n",
    "pd.options.display.float_format = '{:,.2f}'.format  \n",
    "pd.options.display.max_columns = 999"
   ]
  },
  {
   "cell_type": "code",
   "execution_count": 2,
   "id": "8d79bdab",
   "metadata": {
    "execution": {
     "iopub.execute_input": "2022-06-15T19:20:37.295833Z",
     "iopub.status.busy": "2022-06-15T19:20:37.295365Z",
     "iopub.status.idle": "2022-06-15T19:20:38.809486Z",
     "shell.execute_reply": "2022-06-15T19:20:38.807768Z"
    },
    "papermill": {
     "duration": 1.530371,
     "end_time": "2022-06-15T19:20:38.813229",
     "exception": false,
     "start_time": "2022-06-15T19:20:37.282858",
     "status": "completed"
    },
    "tags": []
   },
   "outputs": [],
   "source": [
    "df = pd.read_csv(\"../input/gun-violence-incidents-in-the-usa/all_incidents.csv\", parse_dates=['date'])"
   ]
  },
  {
   "cell_type": "code",
   "execution_count": 3,
   "id": "59cfc4fc",
   "metadata": {
    "execution": {
     "iopub.execute_input": "2022-06-15T19:20:38.840168Z",
     "iopub.status.busy": "2022-06-15T19:20:38.839571Z",
     "iopub.status.idle": "2022-06-15T19:20:38.850062Z",
     "shell.execute_reply": "2022-06-15T19:20:38.849252Z"
    },
    "papermill": {
     "duration": 0.026872,
     "end_time": "2022-06-15T19:20:38.852497",
     "exception": false,
     "start_time": "2022-06-15T19:20:38.825625",
     "status": "completed"
    },
    "tags": []
   },
   "outputs": [
    {
     "data": {
      "text/plain": [
       "(472820, 7)"
      ]
     },
     "execution_count": 3,
     "metadata": {},
     "output_type": "execute_result"
    }
   ],
   "source": [
    "df.shape"
   ]
  },
  {
   "cell_type": "code",
   "execution_count": 4,
   "id": "f0af458d",
   "metadata": {
    "execution": {
     "iopub.execute_input": "2022-06-15T19:20:38.878118Z",
     "iopub.status.busy": "2022-06-15T19:20:38.876831Z",
     "iopub.status.idle": "2022-06-15T19:20:39.063711Z",
     "shell.execute_reply": "2022-06-15T19:20:39.062246Z"
    },
    "papermill": {
     "duration": 0.202874,
     "end_time": "2022-06-15T19:20:39.066645",
     "exception": false,
     "start_time": "2022-06-15T19:20:38.863771",
     "status": "completed"
    },
    "tags": []
   },
   "outputs": [
    {
     "name": "stdout",
     "output_type": "stream",
     "text": [
      "<class 'pandas.core.frame.DataFrame'>\n",
      "RangeIndex: 472820 entries, 0 to 472819\n",
      "Data columns (total 7 columns):\n",
      " #   Column       Non-Null Count   Dtype         \n",
      "---  ------       --------------   -----         \n",
      " 0   incident_id  472820 non-null  int64         \n",
      " 1   date         472820 non-null  datetime64[ns]\n",
      " 2   state        472820 non-null  object        \n",
      " 3   city         472820 non-null  object        \n",
      " 4   address      449089 non-null  object        \n",
      " 5   n_killed     472820 non-null  int64         \n",
      " 6   n_injured    472820 non-null  int64         \n",
      "dtypes: datetime64[ns](1), int64(3), object(3)\n",
      "memory usage: 25.3+ MB\n"
     ]
    }
   ],
   "source": [
    "df.info()"
   ]
  },
  {
   "cell_type": "code",
   "execution_count": 5,
   "id": "831458fa",
   "metadata": {
    "execution": {
     "iopub.execute_input": "2022-06-15T19:20:39.092114Z",
     "iopub.status.busy": "2022-06-15T19:20:39.090784Z",
     "iopub.status.idle": "2022-06-15T19:20:39.113442Z",
     "shell.execute_reply": "2022-06-15T19:20:39.112012Z"
    },
    "papermill": {
     "duration": 0.038873,
     "end_time": "2022-06-15T19:20:39.116936",
     "exception": false,
     "start_time": "2022-06-15T19:20:39.078063",
     "status": "completed"
    },
    "tags": []
   },
   "outputs": [
    {
     "data": {
      "text/html": [
       "<div>\n",
       "<style scoped>\n",
       "    .dataframe tbody tr th:only-of-type {\n",
       "        vertical-align: middle;\n",
       "    }\n",
       "\n",
       "    .dataframe tbody tr th {\n",
       "        vertical-align: top;\n",
       "    }\n",
       "\n",
       "    .dataframe thead th {\n",
       "        text-align: right;\n",
       "    }\n",
       "</style>\n",
       "<table border=\"1\" class=\"dataframe\">\n",
       "  <thead>\n",
       "    <tr style=\"text-align: right;\">\n",
       "      <th></th>\n",
       "      <th>incident_id</th>\n",
       "      <th>date</th>\n",
       "      <th>state</th>\n",
       "      <th>city</th>\n",
       "      <th>address</th>\n",
       "      <th>n_killed</th>\n",
       "      <th>n_injured</th>\n",
       "    </tr>\n",
       "  </thead>\n",
       "  <tbody>\n",
       "    <tr>\n",
       "      <th>0</th>\n",
       "      <td>2314858</td>\n",
       "      <td>2022-05-28</td>\n",
       "      <td>Arkansas</td>\n",
       "      <td>Little Rock</td>\n",
       "      <td>W 9th St and Broadway St</td>\n",
       "      <td>0</td>\n",
       "      <td>1</td>\n",
       "    </tr>\n",
       "    <tr>\n",
       "      <th>1</th>\n",
       "      <td>2314409</td>\n",
       "      <td>2022-05-28</td>\n",
       "      <td>Colorado</td>\n",
       "      <td>Denver</td>\n",
       "      <td>3300 block of Clay St</td>\n",
       "      <td>0</td>\n",
       "      <td>1</td>\n",
       "    </tr>\n",
       "    <tr>\n",
       "      <th>2</th>\n",
       "      <td>2314498</td>\n",
       "      <td>2022-05-28</td>\n",
       "      <td>Missouri</td>\n",
       "      <td>Saint Louis</td>\n",
       "      <td>Page Blvd and Vandeventer Ave</td>\n",
       "      <td>0</td>\n",
       "      <td>1</td>\n",
       "    </tr>\n",
       "    <tr>\n",
       "      <th>3</th>\n",
       "      <td>2314485</td>\n",
       "      <td>2022-05-28</td>\n",
       "      <td>South Carolina</td>\n",
       "      <td>Florence</td>\n",
       "      <td>Old River Rd</td>\n",
       "      <td>0</td>\n",
       "      <td>2</td>\n",
       "    </tr>\n",
       "    <tr>\n",
       "      <th>4</th>\n",
       "      <td>2314483</td>\n",
       "      <td>2022-05-28</td>\n",
       "      <td>California</td>\n",
       "      <td>Carmichael</td>\n",
       "      <td>4400 block of Manzanita Ave</td>\n",
       "      <td>1</td>\n",
       "      <td>0</td>\n",
       "    </tr>\n",
       "  </tbody>\n",
       "</table>\n",
       "</div>"
      ],
      "text/plain": [
       "   incident_id       date           state         city  \\\n",
       "0      2314858 2022-05-28        Arkansas  Little Rock   \n",
       "1      2314409 2022-05-28        Colorado       Denver   \n",
       "2      2314498 2022-05-28        Missouri  Saint Louis   \n",
       "3      2314485 2022-05-28  South Carolina     Florence   \n",
       "4      2314483 2022-05-28      California   Carmichael   \n",
       "\n",
       "                         address  n_killed  n_injured  \n",
       "0       W 9th St and Broadway St         0          1  \n",
       "1          3300 block of Clay St         0          1  \n",
       "2  Page Blvd and Vandeventer Ave         0          1  \n",
       "3                   Old River Rd         0          2  \n",
       "4    4400 block of Manzanita Ave         1          0  "
      ]
     },
     "execution_count": 5,
     "metadata": {},
     "output_type": "execute_result"
    }
   ],
   "source": [
    "df.head()"
   ]
  },
  {
   "cell_type": "markdown",
   "id": "47679da0",
   "metadata": {
    "papermill": {
     "duration": 0.013437,
     "end_time": "2022-06-15T19:20:39.144799",
     "exception": false,
     "start_time": "2022-06-15T19:20:39.131362",
     "status": "completed"
    },
    "tags": []
   },
   "source": [
    "## Data cleaning"
   ]
  },
  {
   "cell_type": "code",
   "execution_count": 6,
   "id": "badf9d95",
   "metadata": {
    "execution": {
     "iopub.execute_input": "2022-06-15T19:20:39.172489Z",
     "iopub.status.busy": "2022-06-15T19:20:39.171364Z",
     "iopub.status.idle": "2022-06-15T19:20:39.340566Z",
     "shell.execute_reply": "2022-06-15T19:20:39.339302Z"
    },
    "papermill": {
     "duration": 0.187212,
     "end_time": "2022-06-15T19:20:39.345044",
     "exception": false,
     "start_time": "2022-06-15T19:20:39.157832",
     "status": "completed"
    },
    "tags": []
   },
   "outputs": [
    {
     "name": "stdout",
     "output_type": "stream",
     "text": [
      "incident_id        0\n",
      "date               0\n",
      "state              0\n",
      "city               0\n",
      "address        23731\n",
      "n_killed           0\n",
      "n_injured          0\n",
      "dtype: int64\n"
     ]
    }
   ],
   "source": [
    "missing_values = df.isnull().sum()\n",
    "print(missing_values)"
   ]
  },
  {
   "cell_type": "code",
   "execution_count": 7,
   "id": "b6cfb37c",
   "metadata": {
    "execution": {
     "iopub.execute_input": "2022-06-15T19:20:39.372136Z",
     "iopub.status.busy": "2022-06-15T19:20:39.371652Z",
     "iopub.status.idle": "2022-06-15T19:20:39.378542Z",
     "shell.execute_reply": "2022-06-15T19:20:39.377304Z"
    },
    "papermill": {
     "duration": 0.024043,
     "end_time": "2022-06-15T19:20:39.381971",
     "exception": false,
     "start_time": "2022-06-15T19:20:39.357928",
     "status": "completed"
    },
    "tags": []
   },
   "outputs": [
    {
     "name": "stdout",
     "output_type": "stream",
     "text": [
      "23731\n"
     ]
    }
   ],
   "source": [
    "total_cells = np.product(df.shape)\n",
    "total_missing = missing_values.sum()\n",
    "print(total_missing)"
   ]
  },
  {
   "cell_type": "code",
   "execution_count": 8,
   "id": "150d3828",
   "metadata": {
    "execution": {
     "iopub.execute_input": "2022-06-15T19:20:39.407851Z",
     "iopub.status.busy": "2022-06-15T19:20:39.407355Z",
     "iopub.status.idle": "2022-06-15T19:20:39.415925Z",
     "shell.execute_reply": "2022-06-15T19:20:39.414806Z"
    },
    "papermill": {
     "duration": 0.024455,
     "end_time": "2022-06-15T19:20:39.418285",
     "exception": false,
     "start_time": "2022-06-15T19:20:39.393830",
     "status": "completed"
    },
    "tags": []
   },
   "outputs": [
    {
     "data": {
      "text/plain": [
       "0.72"
      ]
     },
     "execution_count": 8,
     "metadata": {},
     "output_type": "execute_result"
    }
   ],
   "source": [
    "percent_missing = round((total_missing/total_cells) * 100, 2)\n",
    "percent_missing"
   ]
  },
  {
   "cell_type": "markdown",
   "id": "febf7807",
   "metadata": {
    "papermill": {
     "duration": 0.011764,
     "end_time": "2022-06-15T19:20:39.442319",
     "exception": false,
     "start_time": "2022-06-15T19:20:39.430555",
     "status": "completed"
    },
    "tags": []
   },
   "source": [
    "Since there is only 0.72% missing values about adress colum, which is not important for my analysis, i will just leave those null values."
   ]
  },
  {
   "cell_type": "code",
   "execution_count": 9,
   "id": "5ac47c95",
   "metadata": {
    "execution": {
     "iopub.execute_input": "2022-06-15T19:20:39.468652Z",
     "iopub.status.busy": "2022-06-15T19:20:39.467638Z",
     "iopub.status.idle": "2022-06-15T19:20:39.974329Z",
     "shell.execute_reply": "2022-06-15T19:20:39.972987Z"
    },
    "papermill": {
     "duration": 0.522826,
     "end_time": "2022-06-15T19:20:39.977232",
     "exception": false,
     "start_time": "2022-06-15T19:20:39.454406",
     "status": "completed"
    },
    "tags": []
   },
   "outputs": [
    {
     "data": {
      "text/plain": [
       "False    471986\n",
       "True        834\n",
       "dtype: int64"
      ]
     },
     "execution_count": 9,
     "metadata": {},
     "output_type": "execute_result"
    }
   ],
   "source": [
    "df.duplicated().value_counts()"
   ]
  },
  {
   "cell_type": "code",
   "execution_count": 10,
   "id": "42f9ac7e",
   "metadata": {
    "execution": {
     "iopub.execute_input": "2022-06-15T19:20:40.006377Z",
     "iopub.status.busy": "2022-06-15T19:20:40.005821Z",
     "iopub.status.idle": "2022-06-15T19:20:40.538520Z",
     "shell.execute_reply": "2022-06-15T19:20:40.537350Z"
    },
    "papermill": {
     "duration": 0.550352,
     "end_time": "2022-06-15T19:20:40.541578",
     "exception": false,
     "start_time": "2022-06-15T19:20:39.991226",
     "status": "completed"
    },
    "tags": []
   },
   "outputs": [],
   "source": [
    "df.drop_duplicates(inplace=True)"
   ]
  },
  {
   "cell_type": "code",
   "execution_count": 11,
   "id": "9f74da40",
   "metadata": {
    "execution": {
     "iopub.execute_input": "2022-06-15T19:20:40.569774Z",
     "iopub.status.busy": "2022-06-15T19:20:40.569260Z",
     "iopub.status.idle": "2022-06-15T19:20:41.159098Z",
     "shell.execute_reply": "2022-06-15T19:20:41.157843Z"
    },
    "papermill": {
     "duration": 0.608089,
     "end_time": "2022-06-15T19:20:41.162117",
     "exception": false,
     "start_time": "2022-06-15T19:20:40.554028",
     "status": "completed"
    },
    "tags": []
   },
   "outputs": [
    {
     "data": {
      "text/plain": [
       "False    471986\n",
       "dtype: int64"
      ]
     },
     "execution_count": 11,
     "metadata": {},
     "output_type": "execute_result"
    }
   ],
   "source": [
    "df.duplicated().value_counts()"
   ]
  },
  {
   "cell_type": "code",
   "execution_count": 12,
   "id": "b3157ab8",
   "metadata": {
    "execution": {
     "iopub.execute_input": "2022-06-15T19:20:41.191731Z",
     "iopub.status.busy": "2022-06-15T19:20:41.191235Z",
     "iopub.status.idle": "2022-06-15T19:20:41.199057Z",
     "shell.execute_reply": "2022-06-15T19:20:41.197750Z"
    },
    "papermill": {
     "duration": 0.026493,
     "end_time": "2022-06-15T19:20:41.201764",
     "exception": false,
     "start_time": "2022-06-15T19:20:41.175271",
     "status": "completed"
    },
    "tags": []
   },
   "outputs": [
    {
     "data": {
      "text/plain": [
       "(471986, 7)"
      ]
     },
     "execution_count": 12,
     "metadata": {},
     "output_type": "execute_result"
    }
   ],
   "source": [
    "df.shape"
   ]
  },
  {
   "cell_type": "markdown",
   "id": "3d35469e",
   "metadata": {
    "papermill": {
     "duration": 0.012087,
     "end_time": "2022-06-15T19:20:41.226534",
     "exception": false,
     "start_time": "2022-06-15T19:20:41.214447",
     "status": "completed"
    },
    "tags": []
   },
   "source": [
    "All duplicated values has been removed."
   ]
  },
  {
   "cell_type": "markdown",
   "id": "c92263aa",
   "metadata": {
    "papermill": {
     "duration": 0.012223,
     "end_time": "2022-06-15T19:20:41.251396",
     "exception": false,
     "start_time": "2022-06-15T19:20:41.239173",
     "status": "completed"
    },
    "tags": []
   },
   "source": [
    "# **Exploring**"
   ]
  },
  {
   "cell_type": "code",
   "execution_count": 13,
   "id": "f7456b4c",
   "metadata": {
    "execution": {
     "iopub.execute_input": "2022-06-15T19:20:41.281341Z",
     "iopub.status.busy": "2022-06-15T19:20:41.280211Z",
     "iopub.status.idle": "2022-06-15T19:20:41.290647Z",
     "shell.execute_reply": "2022-06-15T19:20:41.289423Z"
    },
    "papermill": {
     "duration": 0.028035,
     "end_time": "2022-06-15T19:20:41.293610",
     "exception": false,
     "start_time": "2022-06-15T19:20:41.265575",
     "status": "completed"
    },
    "tags": []
   },
   "outputs": [],
   "source": [
    "df['total'] = df['n_killed'] + df['n_injured']"
   ]
  },
  {
   "cell_type": "code",
   "execution_count": 14,
   "id": "fc4406da",
   "metadata": {
    "execution": {
     "iopub.execute_input": "2022-06-15T19:20:41.324791Z",
     "iopub.status.busy": "2022-06-15T19:20:41.324300Z",
     "iopub.status.idle": "2022-06-15T19:20:41.340632Z",
     "shell.execute_reply": "2022-06-15T19:20:41.339594Z"
    },
    "papermill": {
     "duration": 0.036067,
     "end_time": "2022-06-15T19:20:41.343443",
     "exception": false,
     "start_time": "2022-06-15T19:20:41.307376",
     "status": "completed"
    },
    "tags": []
   },
   "outputs": [
    {
     "data": {
      "text/html": [
       "<div>\n",
       "<style scoped>\n",
       "    .dataframe tbody tr th:only-of-type {\n",
       "        vertical-align: middle;\n",
       "    }\n",
       "\n",
       "    .dataframe tbody tr th {\n",
       "        vertical-align: top;\n",
       "    }\n",
       "\n",
       "    .dataframe thead th {\n",
       "        text-align: right;\n",
       "    }\n",
       "</style>\n",
       "<table border=\"1\" class=\"dataframe\">\n",
       "  <thead>\n",
       "    <tr style=\"text-align: right;\">\n",
       "      <th></th>\n",
       "      <th>incident_id</th>\n",
       "      <th>date</th>\n",
       "      <th>state</th>\n",
       "      <th>city</th>\n",
       "      <th>address</th>\n",
       "      <th>n_killed</th>\n",
       "      <th>n_injured</th>\n",
       "      <th>total</th>\n",
       "    </tr>\n",
       "  </thead>\n",
       "  <tbody>\n",
       "    <tr>\n",
       "      <th>0</th>\n",
       "      <td>2314858</td>\n",
       "      <td>2022-05-28</td>\n",
       "      <td>Arkansas</td>\n",
       "      <td>Little Rock</td>\n",
       "      <td>W 9th St and Broadway St</td>\n",
       "      <td>0</td>\n",
       "      <td>1</td>\n",
       "      <td>1</td>\n",
       "    </tr>\n",
       "    <tr>\n",
       "      <th>1</th>\n",
       "      <td>2314409</td>\n",
       "      <td>2022-05-28</td>\n",
       "      <td>Colorado</td>\n",
       "      <td>Denver</td>\n",
       "      <td>3300 block of Clay St</td>\n",
       "      <td>0</td>\n",
       "      <td>1</td>\n",
       "      <td>1</td>\n",
       "    </tr>\n",
       "    <tr>\n",
       "      <th>2</th>\n",
       "      <td>2314498</td>\n",
       "      <td>2022-05-28</td>\n",
       "      <td>Missouri</td>\n",
       "      <td>Saint Louis</td>\n",
       "      <td>Page Blvd and Vandeventer Ave</td>\n",
       "      <td>0</td>\n",
       "      <td>1</td>\n",
       "      <td>1</td>\n",
       "    </tr>\n",
       "    <tr>\n",
       "      <th>3</th>\n",
       "      <td>2314485</td>\n",
       "      <td>2022-05-28</td>\n",
       "      <td>South Carolina</td>\n",
       "      <td>Florence</td>\n",
       "      <td>Old River Rd</td>\n",
       "      <td>0</td>\n",
       "      <td>2</td>\n",
       "      <td>2</td>\n",
       "    </tr>\n",
       "    <tr>\n",
       "      <th>4</th>\n",
       "      <td>2314483</td>\n",
       "      <td>2022-05-28</td>\n",
       "      <td>California</td>\n",
       "      <td>Carmichael</td>\n",
       "      <td>4400 block of Manzanita Ave</td>\n",
       "      <td>1</td>\n",
       "      <td>0</td>\n",
       "      <td>1</td>\n",
       "    </tr>\n",
       "  </tbody>\n",
       "</table>\n",
       "</div>"
      ],
      "text/plain": [
       "   incident_id       date           state         city  \\\n",
       "0      2314858 2022-05-28        Arkansas  Little Rock   \n",
       "1      2314409 2022-05-28        Colorado       Denver   \n",
       "2      2314498 2022-05-28        Missouri  Saint Louis   \n",
       "3      2314485 2022-05-28  South Carolina     Florence   \n",
       "4      2314483 2022-05-28      California   Carmichael   \n",
       "\n",
       "                         address  n_killed  n_injured  total  \n",
       "0       W 9th St and Broadway St         0          1      1  \n",
       "1          3300 block of Clay St         0          1      1  \n",
       "2  Page Blvd and Vandeventer Ave         0          1      1  \n",
       "3                   Old River Rd         0          2      2  \n",
       "4    4400 block of Manzanita Ave         1          0      1  "
      ]
     },
     "execution_count": 14,
     "metadata": {},
     "output_type": "execute_result"
    }
   ],
   "source": [
    "df.head()"
   ]
  },
  {
   "cell_type": "code",
   "execution_count": 15,
   "id": "1a0cfdc3",
   "metadata": {
    "execution": {
     "iopub.execute_input": "2022-06-15T19:20:41.374217Z",
     "iopub.status.busy": "2022-06-15T19:20:41.373676Z",
     "iopub.status.idle": "2022-06-15T19:20:41.585739Z",
     "shell.execute_reply": "2022-06-15T19:20:41.584468Z"
    },
    "papermill": {
     "duration": 0.230679,
     "end_time": "2022-06-15T19:20:41.588477",
     "exception": false,
     "start_time": "2022-06-15T19:20:41.357798",
     "status": "completed"
    },
    "tags": []
   },
   "outputs": [
    {
     "data": {
      "image/png": "[encoded data removed]",
      "text/plain": [
       "<Figure size 432x288 with 1 Axes>"
      ]
     },
     "metadata": {
      "needs_background": "light"
     },
     "output_type": "display_data"
    }
   ],
   "source": [
    "total_over_0 = df['total'] != 0\n",
    "\n",
    "total_over_0.value_counts().plot(kind='bar',color='salmon')\n",
    "\n",
    "plt.title(\"Total gun incidents (Killed & Injured)\", size=15)\n",
    "\n",
    "plt.show()"
   ]
  },
  {
   "cell_type": "markdown",
   "id": "b2ebc1a0",
   "metadata": {
    "papermill": {
     "duration": 0.014381,
     "end_time": "2022-06-15T19:20:41.617625",
     "exception": false,
     "start_time": "2022-06-15T19:20:41.603244",
     "status": "completed"
    },
    "tags": []
   },
   "source": [
    "Check the total of gun incidents\n",
    "* Total - 471986\n",
    "    * Gun incidents - 318047\n",
    "    * No incidents - 121736"
   ]
  },
  {
   "cell_type": "code",
   "execution_count": 16,
   "id": "cc44cb50",
   "metadata": {
    "execution": {
     "iopub.execute_input": "2022-06-15T19:20:41.648865Z",
     "iopub.status.busy": "2022-06-15T19:20:41.647456Z",
     "iopub.status.idle": "2022-06-15T19:20:41.813596Z",
     "shell.execute_reply": "2022-06-15T19:20:41.811422Z"
    },
    "papermill": {
     "duration": 0.185063,
     "end_time": "2022-06-15T19:20:41.816847",
     "exception": false,
     "start_time": "2022-06-15T19:20:41.631784",
     "status": "completed"
    },
    "tags": []
   },
   "outputs": [
    {
     "data": {
      "image/png": "[encoded data removed]",
      "text/plain": [
       "<Figure size 432x288 with 1 Axes>"
      ]
     },
     "metadata": {
      "needs_background": "light"
     },
     "output_type": "display_data"
    }
   ],
   "source": [
    "killed = df['n_killed'] != 0\n",
    "killed.value_counts().plot(kind='bar', color='salmon')\n",
    "\n",
    "plt.title(\"Total number of people who are killed by gun\", size=15)\n",
    "\n",
    "plt.show()"
   ]
  },
  {
   "cell_type": "markdown",
   "id": "ae0b4cbc",
   "metadata": {
    "papermill": {
     "duration": 0.013281,
     "end_time": "2022-06-15T19:20:41.844278",
     "exception": false,
     "start_time": "2022-06-15T19:20:41.830997",
     "status": "completed"
    },
    "tags": []
   },
   "source": [
    "Check the total number of victims in this dataset.\n",
    "* Total - 471986\n",
    "    * Killed - 121736\n",
    "    * Not Killed - 350250\n",
    "    "
   ]
  },
  {
   "cell_type": "markdown",
   "id": "fe7fe915",
   "metadata": {
    "papermill": {
     "duration": 0.014809,
     "end_time": "2022-06-15T19:20:41.874450",
     "exception": false,
     "start_time": "2022-06-15T19:20:41.859641",
     "status": "completed"
    },
    "tags": []
   },
   "source": [
    "#### **Explore & Compare gun incidents by years, states**"
   ]
  },
  {
   "cell_type": "code",
   "execution_count": 17,
   "id": "652ea3d2",
   "metadata": {
    "execution": {
     "iopub.execute_input": "2022-06-15T19:20:41.905925Z",
     "iopub.status.busy": "2022-06-15T19:20:41.905479Z",
     "iopub.status.idle": "2022-06-15T19:20:42.091688Z",
     "shell.execute_reply": "2022-06-15T19:20:42.089777Z"
    },
    "papermill": {
     "duration": 0.205916,
     "end_time": "2022-06-15T19:20:42.094971",
     "exception": false,
     "start_time": "2022-06-15T19:20:41.889055",
     "status": "completed"
    },
    "tags": []
   },
   "outputs": [],
   "source": [
    "cleaned_data = df[(df['date'].dt.year != 2013) & (df['date'].dt.year != 2022)]"
   ]
  },
  {
   "cell_type": "code",
   "execution_count": 18,
   "id": "7b8f349e",
   "metadata": {
    "execution": {
     "iopub.execute_input": "2022-06-15T19:20:42.129596Z",
     "iopub.status.busy": "2022-06-15T19:20:42.128656Z",
     "iopub.status.idle": "2022-06-15T19:20:42.248900Z",
     "shell.execute_reply": "2022-06-15T19:20:42.247492Z"
    },
    "papermill": {
     "duration": 0.142018,
     "end_time": "2022-06-15T19:20:42.251758",
     "exception": false,
     "start_time": "2022-06-15T19:20:42.109740",
     "status": "completed"
    },
    "tags": []
   },
   "outputs": [],
   "source": [
    "incidents_total = df.groupby(cleaned_data['date'].dt.year)['total'].sum()"
   ]
  },
  {
   "cell_type": "code",
   "execution_count": 19,
   "id": "9ed61025",
   "metadata": {
    "execution": {
     "iopub.execute_input": "2022-06-15T19:20:42.288349Z",
     "iopub.status.busy": "2022-06-15T19:20:42.287746Z",
     "iopub.status.idle": "2022-06-15T19:20:42.590704Z",
     "shell.execute_reply": "2022-06-15T19:20:42.588973Z"
    },
    "papermill": {
     "duration": 0.324032,
     "end_time": "2022-06-15T19:20:42.593630",
     "exception": false,
     "start_time": "2022-06-15T19:20:42.269598",
     "status": "completed"
    },
    "tags": []
   },
   "outputs": [
    {
     "data": {
      "image/png": "[encoded data removed]",
      "text/plain": [
       "<Figure size 432x288 with 1 Axes>"
      ]
     },
     "metadata": {
      "needs_background": "light"
     },
     "output_type": "display_data"
    }
   ],
   "source": [
    "sns.barplot(x=incidents_total.index.astype(int), y=incidents_total, color='salmon')\n",
    "\n",
    "plt.title(\"Total gun incidents (injured/killed)\", size=15)\n",
    "plt.xlabel('Date')\n",
    "plt.ylabel(\"Number of victims\")\n",
    "\n",
    "plt.show()"
   ]
  },
  {
   "cell_type": "markdown",
   "id": "c3e9fd82",
   "metadata": {
    "papermill": {
     "duration": 0.022052,
     "end_time": "2022-06-15T19:20:42.633505",
     "exception": false,
     "start_time": "2022-06-15T19:20:42.611453",
     "status": "completed"
    },
    "tags": []
   },
   "source": [
    "We see that the incidents are increased over the years."
   ]
  },
  {
   "cell_type": "code",
   "execution_count": 20,
   "id": "ff87bdd5",
   "metadata": {
    "execution": {
     "iopub.execute_input": "2022-06-15T19:20:42.668772Z",
     "iopub.status.busy": "2022-06-15T19:20:42.667441Z",
     "iopub.status.idle": "2022-06-15T19:20:42.752828Z",
     "shell.execute_reply": "2022-06-15T19:20:42.751362Z"
    },
    "papermill": {
     "duration": 0.106574,
     "end_time": "2022-06-15T19:20:42.756051",
     "exception": false,
     "start_time": "2022-06-15T19:20:42.649477",
     "status": "completed"
    },
    "tags": []
   },
   "outputs": [],
   "source": [
    "c_killed = df.groupby(cleaned_data['date'].dt.year)['n_killed'].sum()"
   ]
  },
  {
   "cell_type": "code",
   "execution_count": 21,
   "id": "920343ca",
   "metadata": {
    "execution": {
     "iopub.execute_input": "2022-06-15T19:20:42.787672Z",
     "iopub.status.busy": "2022-06-15T19:20:42.787213Z",
     "iopub.status.idle": "2022-06-15T19:20:43.060611Z",
     "shell.execute_reply": "2022-06-15T19:20:43.059267Z"
    },
    "papermill": {
     "duration": 0.292508,
     "end_time": "2022-06-15T19:20:43.063483",
     "exception": false,
     "start_time": "2022-06-15T19:20:42.770975",
     "status": "completed"
    },
    "tags": []
   },
   "outputs": [
    {
     "data": {
      "image/png": "[encoded data removed]",
      "text/plain": [
       "<Figure size 432x288 with 1 Axes>"
      ]
     },
     "metadata": {
      "needs_background": "light"
     },
     "output_type": "display_data"
    }
   ],
   "source": [
    "sns.barplot(x=c_killed.index.astype(int), y=c_killed, color='salmon')\n",
    "\n",
    "plt.title(\"Gun incidents (killed)\", size=15)\n",
    "plt.xlabel(\"Date\")\n",
    "plt.ylabel(\"Number of victims\")\n",
    "\n",
    "plt.show()"
   ]
  },
  {
   "cell_type": "code",
   "execution_count": 22,
   "id": "ab7ccb4b",
   "metadata": {
    "execution": {
     "iopub.execute_input": "2022-06-15T19:20:43.096947Z",
     "iopub.status.busy": "2022-06-15T19:20:43.096511Z",
     "iopub.status.idle": "2022-06-15T19:20:43.158418Z",
     "shell.execute_reply": "2022-06-15T19:20:43.156949Z"
    },
    "papermill": {
     "duration": 0.082395,
     "end_time": "2022-06-15T19:20:43.161277",
     "exception": false,
     "start_time": "2022-06-15T19:20:43.078882",
     "status": "completed"
    },
    "tags": []
   },
   "outputs": [],
   "source": [
    "state = df.groupby(\"state\")['total'].sum().sort_values(ascending=False)"
   ]
  },
  {
   "cell_type": "code",
   "execution_count": 23,
   "id": "9fd7fe90",
   "metadata": {
    "execution": {
     "iopub.execute_input": "2022-06-15T19:20:43.195145Z",
     "iopub.status.busy": "2022-06-15T19:20:43.194613Z",
     "iopub.status.idle": "2022-06-15T19:20:44.270245Z",
     "shell.execute_reply": "2022-06-15T19:20:44.268892Z"
    },
    "papermill": {
     "duration": 1.096523,
     "end_time": "2022-06-15T19:20:44.273289",
     "exception": false,
     "start_time": "2022-06-15T19:20:43.176766",
     "status": "completed"
    },
    "tags": []
   },
   "outputs": [
    {
     "data": {
      "image/png": "[encoded data removed]",
      "text/plain": [
       "<Figure size 576x792 with 1 Axes>"
      ]
     },
     "metadata": {
      "needs_background": "light"
     },
     "output_type": "display_data"
    }
   ],
   "source": [
    "fig, ax = plt.subplots(figsize=(8,11))\n",
    "\n",
    "sns.barplot(x=state, y=state.index, ax=ax, palette=\"Blues_d\")\n",
    "plt.title(\"Gun incidents (injured/killed) by states\", size=15)\n",
    "plt.xlabel(\"Number of victims\")\n",
    "\n",
    "plt.show()"
   ]
  },
  {
   "cell_type": "code",
   "execution_count": 24,
   "id": "def54112",
   "metadata": {
    "execution": {
     "iopub.execute_input": "2022-06-15T19:20:44.312856Z",
     "iopub.status.busy": "2022-06-15T19:20:44.312386Z",
     "iopub.status.idle": "2022-06-15T19:20:44.377633Z",
     "shell.execute_reply": "2022-06-15T19:20:44.376136Z"
    },
    "papermill": {
     "duration": 0.088811,
     "end_time": "2022-06-15T19:20:44.381831",
     "exception": false,
     "start_time": "2022-06-15T19:20:44.293020",
     "status": "completed"
    },
    "tags": []
   },
   "outputs": [],
   "source": [
    "k_state = df.groupby(\"state\")['n_killed'].sum().sort_values(ascending=False)"
   ]
  },
  {
   "cell_type": "code",
   "execution_count": 25,
   "id": "76f47d04",
   "metadata": {
    "execution": {
     "iopub.execute_input": "2022-06-15T19:20:44.422741Z",
     "iopub.status.busy": "2022-06-15T19:20:44.422051Z",
     "iopub.status.idle": "2022-06-15T19:20:45.340515Z",
     "shell.execute_reply": "2022-06-15T19:20:45.339389Z"
    },
    "papermill": {
     "duration": 0.940583,
     "end_time": "2022-06-15T19:20:45.343674",
     "exception": false,
     "start_time": "2022-06-15T19:20:44.403091",
     "status": "completed"
    },
    "tags": []
   },
   "outputs": [
    {
     "data": {
      "image/png": "[encoded data removed]",
      "text/plain": [
       "<Figure size 720x792 with 1 Axes>"
      ]
     },
     "metadata": {
      "needs_background": "light"
     },
     "output_type": "display_data"
    }
   ],
   "source": [
    "fig, ax = plt.subplots(figsize=(10,11))\n",
    "\n",
    "sns.barplot(x=k_state, y=k_state.index, ax=ax, palette=\"Blues_d\")\n",
    "plt.title(\"Gun incidents (killed) by states\", size=15)\n",
    "plt.xlabel(\"Number of victims\")\n",
    "\n",
    "plt.show()"
   ]
  },
  {
   "cell_type": "code",
   "execution_count": 26,
   "id": "63959e7f",
   "metadata": {
    "execution": {
     "iopub.execute_input": "2022-06-15T19:20:45.379165Z",
     "iopub.status.busy": "2022-06-15T19:20:45.378479Z",
     "iopub.status.idle": "2022-06-15T19:20:45.480739Z",
     "shell.execute_reply": "2022-06-15T19:20:45.479548Z"
    },
    "papermill": {
     "duration": 0.122807,
     "end_time": "2022-06-15T19:20:45.483665",
     "exception": false,
     "start_time": "2022-06-15T19:20:45.360858",
     "status": "completed"
    },
    "tags": []
   },
   "outputs": [],
   "source": [
    "city = df.groupby(\"city\")['total'].sum().sort_values(ascending=False).head(50)"
   ]
  },
  {
   "cell_type": "code",
   "execution_count": 27,
   "id": "d1a6647a",
   "metadata": {
    "execution": {
     "iopub.execute_input": "2022-06-15T19:20:45.518176Z",
     "iopub.status.busy": "2022-06-15T19:20:45.517441Z",
     "iopub.status.idle": "2022-06-15T19:20:46.449718Z",
     "shell.execute_reply": "2022-06-15T19:20:46.448283Z"
    },
    "papermill": {
     "duration": 0.953772,
     "end_time": "2022-06-15T19:20:46.452950",
     "exception": false,
     "start_time": "2022-06-15T19:20:45.499178",
     "status": "completed"
    },
    "tags": []
   },
   "outputs": [
    {
     "data": {
      "image/png": "[encoded data removed]",
      "text/plain": [
       "<Figure size 576x792 with 1 Axes>"
      ]
     },
     "metadata": {
      "needs_background": "light"
     },
     "output_type": "display_data"
    }
   ],
   "source": [
    "fig, ax = plt.subplots(figsize=(8,11))\n",
    "\n",
    "sns.barplot(x=city, y=city.index, palette='Blues_d')\n",
    "plt.title('Gun incidents (injured/killed) by cities', size=15)\n",
    "plt.xlabel(\"Number of victims\")\n",
    "\n",
    "plt.show()"
   ]
  },
  {
   "cell_type": "code",
   "execution_count": 28,
   "id": "a60158ad",
   "metadata": {
    "execution": {
     "iopub.execute_input": "2022-06-15T19:20:46.490412Z",
     "iopub.status.busy": "2022-06-15T19:20:46.489861Z",
     "iopub.status.idle": "2022-06-15T19:20:46.586741Z",
     "shell.execute_reply": "2022-06-15T19:20:46.585583Z"
    },
    "papermill": {
     "duration": 0.118846,
     "end_time": "2022-06-15T19:20:46.589769",
     "exception": false,
     "start_time": "2022-06-15T19:20:46.470923",
     "status": "completed"
    },
    "tags": []
   },
   "outputs": [],
   "source": [
    "k_city = df.groupby(\"city\")['n_killed'].sum().sort_values(ascending=False).head(50)"
   ]
  },
  {
   "cell_type": "code",
   "execution_count": 29,
   "id": "9690a438",
   "metadata": {
    "execution": {
     "iopub.execute_input": "2022-06-15T19:20:46.625752Z",
     "iopub.status.busy": "2022-06-15T19:20:46.625274Z",
     "iopub.status.idle": "2022-06-15T19:20:47.718667Z",
     "shell.execute_reply": "2022-06-15T19:20:47.717773Z"
    },
    "papermill": {
     "duration": 1.11523,
     "end_time": "2022-06-15T19:20:47.721607",
     "exception": false,
     "start_time": "2022-06-15T19:20:46.606377",
     "status": "completed"
    },
    "tags": []
   },
   "outputs": [
    {
     "data": {
      "image/png": "[encoded data removed]",
      "text/plain": [
       "<Figure size 720x792 with 1 Axes>"
      ]
     },
     "metadata": {
      "needs_background": "light"
     },
     "output_type": "display_data"
    }
   ],
   "source": [
    "fig, ax = plt.subplots(figsize=(10,11))\n",
    "\n",
    "sns.barplot(x=k_city, y=k_city.index, palette='Blues_d')\n",
    "plt.title('Gun incidents (killed) by cities', size=15)\n",
    "plt.xlabel(\"Number of victims\")\n",
    "\n",
    "plt.show()"
   ]
  },
  {
   "cell_type": "markdown",
   "id": "ec939930",
   "metadata": {
    "papermill": {
     "duration": 0.017213,
     "end_time": "2022-06-15T19:20:47.756005",
     "exception": false,
     "start_time": "2022-06-15T19:20:47.738792",
     "status": "completed"
    },
    "tags": []
   },
   "source": [
    "# **Conclusion**"
   ]
  },
  {
   "cell_type": "markdown",
   "id": "0f0acbed",
   "metadata": {
    "papermill": {
     "duration": 0.016252,
     "end_time": "2022-06-15T19:20:47.789023",
     "exception": false,
     "start_time": "2022-06-15T19:20:47.772771",
     "status": "completed"
    },
    "tags": []
   },
   "source": [
    "### Year\n",
    "* Gun incidetns in USA are increased over the years (2014-2021).\n",
    "\n",
    "### State\n",
    "* The top3 **states**, where have the highst number of **gun incidents**, are:\n",
    "    * 1. Illinois\n",
    "    * 2. California\n",
    "    * 3. Texas\n",
    "    * This is very surprising, when we consider that the state of illinois is **5th(11M)** most populous state in USA. But illinois has the highst gun incident rate, while califirnia and texas are the 1th (39M) and 2th (27M) most populos states in USA.\n",
    "   \n",
    "  \n",
    "* The top3 **states**, where have the highst number of **victims (killed)**, are:\n",
    "    * 1. California\n",
    "    * 2. Texas\n",
    "    * 3. Illinois\n",
    "    \n",
    "### City\n",
    "* The top3 **cities**, where have the highst number of **gun incidnets**, are:\n",
    "    * 1. Chicago (illinois)\n",
    "    * 2. Philadelphia (Pennsylvania)\n",
    "    * 3. Baltimore (Maryland)\n",
    "    * This is interesting that top3 cities are not from top3 states, like illinois, california and texas.\n",
    "    \n",
    "    \n",
    "* The top3 **cities**, where have the highst number of **victims (killed)**, are:\n",
    "    * 1. Chicago\n",
    "    * 2. Houston\n",
    "    * 3. Philadelphia\n",
    "\n",
    "    "
   ]
  }
 ],
 "metadata": {
  "kernelspec": {
   "display_name": "Python 3",
   "language": "python",
   "name": "python3"
  },
  "language_info": {
   "codemirror_mode": {
    "name": "ipython",
    "version": 3
   },
   "file_extension": ".py",
   "mimetype": "text/x-python",
   "name": "python",
   "nbconvert_exporter": "python",
   "pygments_lexer": "ipython3",
   "version": "3.7.12"
  },
  "papermill": {
   "default_parameters": {},
   "duration": 26.642405,
   "end_time": "2022-06-15T19:20:48.933708",
   "environment_variables": {},
   "exception": null,
   "input_path": "__notebook__.ipynb",
   "output_path": "__notebook__.ipynb",
   "parameters": {},
   "start_time": "2022-06-15T19:20:22.291303",
   "version": "2.3.4"
  }
 },
 "nbformat": 4,
 "nbformat_minor": 5
}
