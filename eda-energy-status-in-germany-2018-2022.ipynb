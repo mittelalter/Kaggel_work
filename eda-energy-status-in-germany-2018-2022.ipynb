{
 "cells": [
  {
   "cell_type": "code",
   "execution_count": 1,
   "id": "fc4e50b7",
   "metadata": {
    "execution": {
     "iopub.execute_input": "2022-06-10T20:57:51.419209Z",
     "iopub.status.busy": "2022-06-10T20:57:51.418400Z",
     "iopub.status.idle": "2022-06-10T20:57:52.581868Z",
     "shell.execute_reply": "2022-06-10T20:57:52.580910Z"
    },
    "papermill": {
     "duration": 1.179945,
     "end_time": "2022-06-10T20:57:52.584543",
     "exception": false,
     "start_time": "2022-06-10T20:57:51.404598",
     "status": "completed"
    },
    "tags": []
   },
   "outputs": [],
   "source": [
    "import numpy as np\n",
    "from numpy import median\n",
    "import pandas as pd\n",
    "pd.plotting.register_matplotlib_converters()\n",
    "import matplotlib.pyplot as plt\n",
    "%matplotlib inline\n",
    "import seaborn as sns\n",
    "pd.options.display.float_format = '{:,.2f}'.format  \n",
    "pd.options.display.max_columns = 999"
   ]
  },
  {
   "cell_type": "markdown",
   "id": "6e66e081",
   "metadata": {
    "papermill": {
     "duration": 0.010377,
     "end_time": "2022-06-10T20:57:52.605143",
     "exception": false,
     "start_time": "2022-06-10T20:57:52.594766",
     "status": "completed"
    },
    "tags": []
   },
   "source": [
    "# **Intro**\n",
    "* This dataset is about energy status in germany from 2018-2022.\n",
    "* To understand the dataset easily:\n",
    "    * Watt(W): A unit of how much electricity is produced per unit time.\n",
    "        * 1MW = 1,000kW = 1,000,000W\n",
    "        \n",
    "    <br>\n",
    "    \n",
    "    * What can you do with 1 MWh(megawatt-hour)?\n",
    "        * Power the average American home for 1.2 months.\n",
    "        * Drive an electric vehicle 3,600 miles.\n",
    "        * Power two 60-watt lightbulbs non-stop for a year.\n",
    "        * Smelt 137 pounds of aluminum.\n",
    "        * Toast 89,000 slices of bread.\n",
    "        * Run an average home pool pump for 5 months.\n",
    "        * un two modern refrigerators for a year.\n",
    "        \n",
    "    <br>\n",
    "        \n",
    "    * **Meaning of Residual Load**\n",
    "        * The residual load is what is left after subtracting those generators who have to produce electricity (\"must run\") and those that generate with (almost) no marginal costs (variable renewables like wind, solar and hydro).\n",
    "        * In electrical power engineering, “residual load” refers to the demand for electrical power (the “load”) in a power grid after eliminating the share of fluctuating feed-in from supply-dependent generators such as wind farms and photovoltaic plants. The residual load thus represents the demand that must be met by the available, dispatchable power plants (such as storage power plants and thermal power plants). If the available power plant output is too low, the uncovered load quantities can lead to a (power) failure on the consumer side in extreme cases.\n",
    "\n",
    "\n"
   ]
  },
  {
   "cell_type": "markdown",
   "id": "32eccb5b",
   "metadata": {
    "papermill": {
     "duration": 0.009962,
     "end_time": "2022-06-10T20:57:52.625479",
     "exception": false,
     "start_time": "2022-06-10T20:57:52.615517",
     "status": "completed"
    },
    "tags": []
   },
   "source": [
    "# **Inspiration**\n",
    "\n",
    "* Figure out general energy status with % from each energy generation resources.\n",
    "* Comparing each energy generation resources to find out a power generation.\n",
    "* Find out the increase/decrease of each energy generation resources.\n"
   ]
  },
  {
   "cell_type": "markdown",
   "id": "a16f98a7",
   "metadata": {
    "papermill": {
     "duration": 0.00996,
     "end_time": "2022-06-10T20:57:52.645618",
     "exception": false,
     "start_time": "2022-06-10T20:57:52.635658",
     "status": "completed"
    },
    "tags": []
   },
   "source": [
    "## **Load Data**"
   ]
  },
  {
   "cell_type": "code",
   "execution_count": 2,
   "id": "8ca99d9f",
   "metadata": {
    "execution": {
     "iopub.execute_input": "2022-06-10T20:57:52.668479Z",
     "iopub.status.busy": "2022-06-10T20:57:52.667825Z",
     "iopub.status.idle": "2022-06-10T20:57:52.877552Z",
     "shell.execute_reply": "2022-06-10T20:57:52.876305Z"
    },
    "papermill": {
     "duration": 0.224205,
     "end_time": "2022-06-10T20:57:52.880064",
     "exception": false,
     "start_time": "2022-06-10T20:57:52.655859",
     "status": "completed"
    },
    "tags": []
   },
   "outputs": [],
   "source": [
    "df = pd.read_csv(\"../input/germany-energy-day-ahead-2018-to-2022/Data_Actual.csv\", low_memory=False, parse_dates=['Date_Time of day'])"
   ]
  },
  {
   "cell_type": "code",
   "execution_count": 3,
   "id": "61730f30",
   "metadata": {
    "execution": {
     "iopub.execute_input": "2022-06-10T20:57:52.902495Z",
     "iopub.status.busy": "2022-06-10T20:57:52.902107Z",
     "iopub.status.idle": "2022-06-10T20:57:52.927837Z",
     "shell.execute_reply": "2022-06-10T20:57:52.926891Z"
    },
    "papermill": {
     "duration": 0.040138,
     "end_time": "2022-06-10T20:57:52.930545",
     "exception": false,
     "start_time": "2022-06-10T20:57:52.890407",
     "status": "completed"
    },
    "tags": []
   },
   "outputs": [
    {
     "data": {
      "text/html": [
       "<div>\n",
       "<style scoped>\n",
       "    .dataframe tbody tr th:only-of-type {\n",
       "        vertical-align: middle;\n",
       "    }\n",
       "\n",
       "    .dataframe tbody tr th {\n",
       "        vertical-align: top;\n",
       "    }\n",
       "\n",
       "    .dataframe thead th {\n",
       "        text-align: right;\n",
       "    }\n",
       "</style>\n",
       "<table border=\"1\" class=\"dataframe\">\n",
       "  <thead>\n",
       "    <tr style=\"text-align: right;\">\n",
       "      <th></th>\n",
       "      <th>Date_Time of day</th>\n",
       "      <th>Germany/Luxembourg[€/MWh]</th>\n",
       "      <th>Day of Week</th>\n",
       "      <th>Total (grid load)[MWh]</th>\n",
       "      <th>Residual load[MWh]</th>\n",
       "      <th>Hydro pumped storage[MWh]_x</th>\n",
       "      <th>Biomass[MWh]</th>\n",
       "      <th>Hydropower[MWh]</th>\n",
       "      <th>Wind offshore[MWh]</th>\n",
       "      <th>Wind onshore[MWh]</th>\n",
       "      <th>Photovoltaics[MWh]</th>\n",
       "      <th>Other renewable[MWh]</th>\n",
       "      <th>Nuclear[MWh]</th>\n",
       "      <th>Lignite[MWh]</th>\n",
       "      <th>Hard coal[MWh]</th>\n",
       "      <th>Fossil gas[MWh]</th>\n",
       "      <th>Hydro pumped storage[MWh]_y</th>\n",
       "      <th>Other conventional[MWh]</th>\n",
       "    </tr>\n",
       "  </thead>\n",
       "  <tbody>\n",
       "    <tr>\n",
       "      <th>0</th>\n",
       "      <td>2018-01-31 00:00:00</td>\n",
       "      <td>29.61</td>\n",
       "      <td>2</td>\n",
       "      <td>13,770</td>\n",
       "      <td>9,754</td>\n",
       "      <td>261</td>\n",
       "      <td>1,204</td>\n",
       "      <td>478.75</td>\n",
       "      <td>987</td>\n",
       "      <td>3,030</td>\n",
       "      <td>0</td>\n",
       "      <td>58</td>\n",
       "      <td>2,328</td>\n",
       "      <td>3,961</td>\n",
       "      <td>1,145</td>\n",
       "      <td>1,126</td>\n",
       "      <td>9</td>\n",
       "      <td>317</td>\n",
       "    </tr>\n",
       "    <tr>\n",
       "      <th>1</th>\n",
       "      <td>2018-01-31 01:00:00</td>\n",
       "      <td>28.98</td>\n",
       "      <td>2</td>\n",
       "      <td>13,123</td>\n",
       "      <td>8,764</td>\n",
       "      <td>425</td>\n",
       "      <td>1,201.5</td>\n",
       "      <td>480.50</td>\n",
       "      <td>1,009</td>\n",
       "      <td>3,351</td>\n",
       "      <td>0</td>\n",
       "      <td>57</td>\n",
       "      <td>2,336.75</td>\n",
       "      <td>3,913</td>\n",
       "      <td>995</td>\n",
       "      <td>1,131</td>\n",
       "      <td>9</td>\n",
       "      <td>316</td>\n",
       "    </tr>\n",
       "    <tr>\n",
       "      <th>2</th>\n",
       "      <td>2018-01-31 02:00:00</td>\n",
       "      <td>27.24</td>\n",
       "      <td>2</td>\n",
       "      <td>12,856</td>\n",
       "      <td>8,065</td>\n",
       "      <td>544</td>\n",
       "      <td>1,198</td>\n",
       "      <td>470.25</td>\n",
       "      <td>1,055</td>\n",
       "      <td>3,736</td>\n",
       "      <td>0</td>\n",
       "      <td>57</td>\n",
       "      <td>2,309</td>\n",
       "      <td>3,843</td>\n",
       "      <td>922</td>\n",
       "      <td>1,108</td>\n",
       "      <td>6</td>\n",
       "      <td>319</td>\n",
       "    </tr>\n",
       "  </tbody>\n",
       "</table>\n",
       "</div>"
      ],
      "text/plain": [
       "     Date_Time of day  Germany/Luxembourg[€/MWh]  Day of Week  \\\n",
       "0 2018-01-31 00:00:00                      29.61            2   \n",
       "1 2018-01-31 01:00:00                      28.98            2   \n",
       "2 2018-01-31 02:00:00                      27.24            2   \n",
       "\n",
       "  Total (grid load)[MWh] Residual load[MWh] Hydro pumped storage[MWh]_x  \\\n",
       "0                 13,770              9,754                         261   \n",
       "1                 13,123              8,764                         425   \n",
       "2                 12,856              8,065                         544   \n",
       "\n",
       "  Biomass[MWh]  Hydropower[MWh] Wind offshore[MWh] Wind onshore[MWh]  \\\n",
       "0        1,204           478.75                987             3,030   \n",
       "1      1,201.5           480.50              1,009             3,351   \n",
       "2        1,198           470.25              1,055             3,736   \n",
       "\n",
       "  Photovoltaics[MWh]  Other renewable[MWh] Nuclear[MWh] Lignite[MWh]  \\\n",
       "0                  0                    58        2,328        3,961   \n",
       "1                  0                    57     2,336.75        3,913   \n",
       "2                  0                    57        2,309        3,843   \n",
       "\n",
       "  Hard coal[MWh] Fossil gas[MWh] Hydro pumped storage[MWh]_y  \\\n",
       "0          1,145           1,126                           9   \n",
       "1            995           1,131                           9   \n",
       "2            922           1,108                           6   \n",
       "\n",
       "  Other conventional[MWh]  \n",
       "0                     317  \n",
       "1                     316  \n",
       "2                     319  "
      ]
     },
     "execution_count": 3,
     "metadata": {},
     "output_type": "execute_result"
    }
   ],
   "source": [
    "df.head(3)"
   ]
  },
  {
   "cell_type": "code",
   "execution_count": 4,
   "id": "84aa1d17",
   "metadata": {
    "execution": {
     "iopub.execute_input": "2022-06-10T20:57:52.953449Z",
     "iopub.status.busy": "2022-06-10T20:57:52.952756Z",
     "iopub.status.idle": "2022-06-10T20:57:52.959185Z",
     "shell.execute_reply": "2022-06-10T20:57:52.958230Z"
    },
    "papermill": {
     "duration": 0.019962,
     "end_time": "2022-06-10T20:57:52.961178",
     "exception": false,
     "start_time": "2022-06-10T20:57:52.941216",
     "status": "completed"
    },
    "tags": []
   },
   "outputs": [
    {
     "data": {
      "text/plain": [
       "(35084, 18)"
      ]
     },
     "execution_count": 4,
     "metadata": {},
     "output_type": "execute_result"
    }
   ],
   "source": [
    "df.shape"
   ]
  },
  {
   "cell_type": "code",
   "execution_count": 5,
   "id": "320a8feb",
   "metadata": {
    "execution": {
     "iopub.execute_input": "2022-06-10T20:57:52.983448Z",
     "iopub.status.busy": "2022-06-10T20:57:52.983096Z",
     "iopub.status.idle": "2022-06-10T20:57:53.031261Z",
     "shell.execute_reply": "2022-06-10T20:57:53.029615Z"
    },
    "papermill": {
     "duration": 0.062612,
     "end_time": "2022-06-10T20:57:53.034185",
     "exception": false,
     "start_time": "2022-06-10T20:57:52.971573",
     "status": "completed"
    },
    "tags": []
   },
   "outputs": [
    {
     "name": "stdout",
     "output_type": "stream",
     "text": [
      "<class 'pandas.core.frame.DataFrame'>\n",
      "RangeIndex: 35084 entries, 0 to 35083\n",
      "Data columns (total 18 columns):\n",
      " #   Column                       Non-Null Count  Dtype         \n",
      "---  ------                       --------------  -----         \n",
      " 0   Date_Time of day             35084 non-null  datetime64[ns]\n",
      " 1   Germany/Luxembourg[€/MWh]    35083 non-null  float64       \n",
      " 2   Day of Week                  35084 non-null  int64         \n",
      " 3   Total (grid load)[MWh]       35084 non-null  object        \n",
      " 4   Residual load[MWh]           35084 non-null  object        \n",
      " 5   Hydro pumped storage[MWh]_x  35084 non-null  object        \n",
      " 6   Biomass[MWh]                 35084 non-null  object        \n",
      " 7   Hydropower[MWh]              35084 non-null  float64       \n",
      " 8   Wind offshore[MWh]           35084 non-null  object        \n",
      " 9   Wind onshore[MWh]            35084 non-null  object        \n",
      " 10  Photovoltaics[MWh]           35084 non-null  object        \n",
      " 11  Other renewable[MWh]         35084 non-null  int64         \n",
      " 12  Nuclear[MWh]                 35084 non-null  object        \n",
      " 13  Lignite[MWh]                 35084 non-null  object        \n",
      " 14  Hard coal[MWh]               35084 non-null  object        \n",
      " 15  Fossil gas[MWh]              35084 non-null  object        \n",
      " 16  Hydro pumped storage[MWh]_y  35084 non-null  object        \n",
      " 17  Other conventional[MWh]      35084 non-null  object        \n",
      "dtypes: datetime64[ns](1), float64(2), int64(2), object(13)\n",
      "memory usage: 4.8+ MB\n"
     ]
    }
   ],
   "source": [
    "df.info()"
   ]
  },
  {
   "cell_type": "markdown",
   "id": "b2d33ff5",
   "metadata": {
    "papermill": {
     "duration": 0.010729,
     "end_time": "2022-06-10T20:57:53.055921",
     "exception": false,
     "start_time": "2022-06-10T20:57:53.045192",
     "status": "completed"
    },
    "tags": []
   },
   "source": [
    "## **Clean Data**"
   ]
  },
  {
   "cell_type": "markdown",
   "id": "6c8708a5",
   "metadata": {
    "papermill": {
     "duration": 0.010765,
     "end_time": "2022-06-10T20:57:53.077599",
     "exception": false,
     "start_time": "2022-06-10T20:57:53.066834",
     "status": "completed"
    },
    "tags": []
   },
   "source": [
    "The dtype of colums should be numeric to be able to calculate. But some colums, because of comma, are not numeric. So we should convert them to numeric."
   ]
  },
  {
   "cell_type": "code",
   "execution_count": 6,
   "id": "306b0fcc",
   "metadata": {
    "execution": {
     "iopub.execute_input": "2022-06-10T20:57:53.102868Z",
     "iopub.status.busy": "2022-06-10T20:57:53.102196Z",
     "iopub.status.idle": "2022-06-10T20:57:53.107488Z",
     "shell.execute_reply": "2022-06-10T20:57:53.106840Z"
    },
    "papermill": {
     "duration": 0.019773,
     "end_time": "2022-06-10T20:57:53.109311",
     "exception": false,
     "start_time": "2022-06-10T20:57:53.089538",
     "status": "completed"
    },
    "tags": []
   },
   "outputs": [
    {
     "data": {
      "text/plain": [
       "['Germany/Luxembourg[€/MWh]',\n",
       " 'Day of Week',\n",
       " 'Total (grid load)[MWh]',\n",
       " 'Residual load[MWh]',\n",
       " 'Hydro pumped storage[MWh]_x',\n",
       " 'Biomass[MWh]',\n",
       " 'Hydropower[MWh]',\n",
       " 'Wind offshore[MWh]',\n",
       " 'Wind onshore[MWh]',\n",
       " 'Photovoltaics[MWh]',\n",
       " 'Other renewable[MWh]',\n",
       " 'Nuclear[MWh]',\n",
       " 'Lignite[MWh]',\n",
       " 'Hard coal[MWh]',\n",
       " 'Fossil gas[MWh]',\n",
       " 'Hydro pumped storage[MWh]_y',\n",
       " 'Other conventional[MWh]']"
      ]
     },
     "execution_count": 6,
     "metadata": {},
     "output_type": "execute_result"
    }
   ],
   "source": [
    "col_list = list(df.columns[1:])\n",
    "col_list"
   ]
  },
  {
   "cell_type": "code",
   "execution_count": 7,
   "id": "c3f708c6",
   "metadata": {
    "execution": {
     "iopub.execute_input": "2022-06-10T20:57:53.133557Z",
     "iopub.status.busy": "2022-06-10T20:57:53.132964Z",
     "iopub.status.idle": "2022-06-10T20:57:53.263382Z",
     "shell.execute_reply": "2022-06-10T20:57:53.262341Z"
    },
    "papermill": {
     "duration": 0.14578,
     "end_time": "2022-06-10T20:57:53.266339",
     "exception": false,
     "start_time": "2022-06-10T20:57:53.120559",
     "status": "completed"
    },
    "tags": []
   },
   "outputs": [],
   "source": [
    "# Convert ',' to ''\n",
    "for column in col_list:\n",
    "    if df[column].dtype == \"object\":\n",
    "        df[column] = df[column].apply(lambda v: v.replace(',',''))"
   ]
  },
  {
   "cell_type": "code",
   "execution_count": 8,
   "id": "7cfb6d89",
   "metadata": {
    "execution": {
     "iopub.execute_input": "2022-06-10T20:57:53.290700Z",
     "iopub.status.busy": "2022-06-10T20:57:53.289869Z",
     "iopub.status.idle": "2022-06-10T20:57:53.552754Z",
     "shell.execute_reply": "2022-06-10T20:57:53.551886Z"
    },
    "papermill": {
     "duration": 0.277761,
     "end_time": "2022-06-10T20:57:53.555218",
     "exception": false,
     "start_time": "2022-06-10T20:57:53.277457",
     "status": "completed"
    },
    "tags": []
   },
   "outputs": [],
   "source": [
    "# Convert dtype to numeric \n",
    "for column in col_list:\n",
    "    if df[column].dtype == \"object\":\n",
    "        df[column] = pd.to_numeric(df[column], errors='coerce')"
   ]
  },
  {
   "cell_type": "code",
   "execution_count": 9,
   "id": "3809f511",
   "metadata": {
    "execution": {
     "iopub.execute_input": "2022-06-10T20:57:53.581984Z",
     "iopub.status.busy": "2022-06-10T20:57:53.581354Z",
     "iopub.status.idle": "2022-06-10T20:57:53.596690Z",
     "shell.execute_reply": "2022-06-10T20:57:53.595820Z"
    },
    "papermill": {
     "duration": 0.03219,
     "end_time": "2022-06-10T20:57:53.599252",
     "exception": false,
     "start_time": "2022-06-10T20:57:53.567062",
     "status": "completed"
    },
    "tags": []
   },
   "outputs": [
    {
     "name": "stdout",
     "output_type": "stream",
     "text": [
      "<class 'pandas.core.frame.DataFrame'>\n",
      "RangeIndex: 35084 entries, 0 to 35083\n",
      "Data columns (total 18 columns):\n",
      " #   Column                       Non-Null Count  Dtype         \n",
      "---  ------                       --------------  -----         \n",
      " 0   Date_Time of day             35084 non-null  datetime64[ns]\n",
      " 1   Germany/Luxembourg[€/MWh]    35083 non-null  float64       \n",
      " 2   Day of Week                  35084 non-null  int64         \n",
      " 3   Total (grid load)[MWh]       35084 non-null  int64         \n",
      " 4   Residual load[MWh]           35084 non-null  int64         \n",
      " 5   Hydro pumped storage[MWh]_x  35084 non-null  int64         \n",
      " 6   Biomass[MWh]                 35084 non-null  float64       \n",
      " 7   Hydropower[MWh]              35084 non-null  float64       \n",
      " 8   Wind offshore[MWh]           35084 non-null  int64         \n",
      " 9   Wind onshore[MWh]            35084 non-null  int64         \n",
      " 10  Photovoltaics[MWh]           35084 non-null  int64         \n",
      " 11  Other renewable[MWh]         35084 non-null  int64         \n",
      " 12  Nuclear[MWh]                 35084 non-null  float64       \n",
      " 13  Lignite[MWh]                 35084 non-null  float64       \n",
      " 14  Hard coal[MWh]               35084 non-null  int64         \n",
      " 15  Fossil gas[MWh]              35084 non-null  int64         \n",
      " 16  Hydro pumped storage[MWh]_y  35084 non-null  int64         \n",
      " 17  Other conventional[MWh]      35084 non-null  int64         \n",
      "dtypes: datetime64[ns](1), float64(5), int64(12)\n",
      "memory usage: 4.8 MB\n"
     ]
    }
   ],
   "source": [
    "df.info()"
   ]
  },
  {
   "cell_type": "code",
   "execution_count": 10,
   "id": "39b01ef2",
   "metadata": {
    "execution": {
     "iopub.execute_input": "2022-06-10T20:57:53.625569Z",
     "iopub.status.busy": "2022-06-10T20:57:53.625052Z",
     "iopub.status.idle": "2022-06-10T20:57:53.642530Z",
     "shell.execute_reply": "2022-06-10T20:57:53.641606Z"
    },
    "papermill": {
     "duration": 0.03176,
     "end_time": "2022-06-10T20:57:53.644468",
     "exception": false,
     "start_time": "2022-06-10T20:57:53.612708",
     "status": "completed"
    },
    "tags": []
   },
   "outputs": [
    {
     "data": {
      "text/html": [
       "<div>\n",
       "<style scoped>\n",
       "    .dataframe tbody tr th:only-of-type {\n",
       "        vertical-align: middle;\n",
       "    }\n",
       "\n",
       "    .dataframe tbody tr th {\n",
       "        vertical-align: top;\n",
       "    }\n",
       "\n",
       "    .dataframe thead th {\n",
       "        text-align: right;\n",
       "    }\n",
       "</style>\n",
       "<table border=\"1\" class=\"dataframe\">\n",
       "  <thead>\n",
       "    <tr style=\"text-align: right;\">\n",
       "      <th></th>\n",
       "      <th>Date_Time of day</th>\n",
       "      <th>Germany/Luxembourg[€/MWh]</th>\n",
       "      <th>Day of Week</th>\n",
       "      <th>Total (grid load)[MWh]</th>\n",
       "      <th>Residual load[MWh]</th>\n",
       "      <th>Hydro pumped storage[MWh]_x</th>\n",
       "      <th>Biomass[MWh]</th>\n",
       "      <th>Hydropower[MWh]</th>\n",
       "      <th>Wind offshore[MWh]</th>\n",
       "      <th>Wind onshore[MWh]</th>\n",
       "      <th>Photovoltaics[MWh]</th>\n",
       "      <th>Other renewable[MWh]</th>\n",
       "      <th>Nuclear[MWh]</th>\n",
       "      <th>Lignite[MWh]</th>\n",
       "      <th>Hard coal[MWh]</th>\n",
       "      <th>Fossil gas[MWh]</th>\n",
       "      <th>Hydro pumped storage[MWh]_y</th>\n",
       "      <th>Other conventional[MWh]</th>\n",
       "    </tr>\n",
       "  </thead>\n",
       "  <tbody>\n",
       "    <tr>\n",
       "      <th>0</th>\n",
       "      <td>2018-01-31 00:00:00</td>\n",
       "      <td>29.61</td>\n",
       "      <td>2</td>\n",
       "      <td>13770</td>\n",
       "      <td>9754</td>\n",
       "      <td>261</td>\n",
       "      <td>1,204.00</td>\n",
       "      <td>478.75</td>\n",
       "      <td>987</td>\n",
       "      <td>3030</td>\n",
       "      <td>0</td>\n",
       "      <td>58</td>\n",
       "      <td>2,328.00</td>\n",
       "      <td>3,961.00</td>\n",
       "      <td>1145</td>\n",
       "      <td>1126</td>\n",
       "      <td>9</td>\n",
       "      <td>317</td>\n",
       "    </tr>\n",
       "    <tr>\n",
       "      <th>1</th>\n",
       "      <td>2018-01-31 01:00:00</td>\n",
       "      <td>28.98</td>\n",
       "      <td>2</td>\n",
       "      <td>13123</td>\n",
       "      <td>8764</td>\n",
       "      <td>425</td>\n",
       "      <td>1,201.50</td>\n",
       "      <td>480.50</td>\n",
       "      <td>1009</td>\n",
       "      <td>3351</td>\n",
       "      <td>0</td>\n",
       "      <td>57</td>\n",
       "      <td>2,336.75</td>\n",
       "      <td>3,913.00</td>\n",
       "      <td>995</td>\n",
       "      <td>1131</td>\n",
       "      <td>9</td>\n",
       "      <td>316</td>\n",
       "    </tr>\n",
       "    <tr>\n",
       "      <th>2</th>\n",
       "      <td>2018-01-31 02:00:00</td>\n",
       "      <td>27.24</td>\n",
       "      <td>2</td>\n",
       "      <td>12856</td>\n",
       "      <td>8065</td>\n",
       "      <td>544</td>\n",
       "      <td>1,198.00</td>\n",
       "      <td>470.25</td>\n",
       "      <td>1055</td>\n",
       "      <td>3736</td>\n",
       "      <td>0</td>\n",
       "      <td>57</td>\n",
       "      <td>2,309.00</td>\n",
       "      <td>3,843.00</td>\n",
       "      <td>922</td>\n",
       "      <td>1108</td>\n",
       "      <td>6</td>\n",
       "      <td>319</td>\n",
       "    </tr>\n",
       "    <tr>\n",
       "      <th>3</th>\n",
       "      <td>2018-01-31 03:00:00</td>\n",
       "      <td>17.97</td>\n",
       "      <td>2</td>\n",
       "      <td>12911</td>\n",
       "      <td>7477</td>\n",
       "      <td>797</td>\n",
       "      <td>1,199.25</td>\n",
       "      <td>468.75</td>\n",
       "      <td>1064</td>\n",
       "      <td>4370</td>\n",
       "      <td>0</td>\n",
       "      <td>57</td>\n",
       "      <td>2,313.75</td>\n",
       "      <td>3,635.00</td>\n",
       "      <td>915</td>\n",
       "      <td>1101</td>\n",
       "      <td>4</td>\n",
       "      <td>318</td>\n",
       "    </tr>\n",
       "    <tr>\n",
       "      <th>4</th>\n",
       "      <td>2018-01-31 04:00:00</td>\n",
       "      <td>19.53</td>\n",
       "      <td>2</td>\n",
       "      <td>13227</td>\n",
       "      <td>7316</td>\n",
       "      <td>871</td>\n",
       "      <td>1,195.50</td>\n",
       "      <td>464.00</td>\n",
       "      <td>1061</td>\n",
       "      <td>4851</td>\n",
       "      <td>0</td>\n",
       "      <td>57</td>\n",
       "      <td>2,291.25</td>\n",
       "      <td>3,457.00</td>\n",
       "      <td>928</td>\n",
       "      <td>1116</td>\n",
       "      <td>2</td>\n",
       "      <td>313</td>\n",
       "    </tr>\n",
       "  </tbody>\n",
       "</table>\n",
       "</div>"
      ],
      "text/plain": [
       "     Date_Time of day  Germany/Luxembourg[€/MWh]  Day of Week  \\\n",
       "0 2018-01-31 00:00:00                      29.61            2   \n",
       "1 2018-01-31 01:00:00                      28.98            2   \n",
       "2 2018-01-31 02:00:00                      27.24            2   \n",
       "3 2018-01-31 03:00:00                      17.97            2   \n",
       "4 2018-01-31 04:00:00                      19.53            2   \n",
       "\n",
       "   Total (grid load)[MWh]  Residual load[MWh]  Hydro pumped storage[MWh]_x  \\\n",
       "0                   13770                9754                          261   \n",
       "1                   13123                8764                          425   \n",
       "2                   12856                8065                          544   \n",
       "3                   12911                7477                          797   \n",
       "4                   13227                7316                          871   \n",
       "\n",
       "   Biomass[MWh]  Hydropower[MWh]  Wind offshore[MWh]  Wind onshore[MWh]  \\\n",
       "0      1,204.00           478.75                 987               3030   \n",
       "1      1,201.50           480.50                1009               3351   \n",
       "2      1,198.00           470.25                1055               3736   \n",
       "3      1,199.25           468.75                1064               4370   \n",
       "4      1,195.50           464.00                1061               4851   \n",
       "\n",
       "   Photovoltaics[MWh]  Other renewable[MWh]  Nuclear[MWh]  Lignite[MWh]  \\\n",
       "0                   0                    58      2,328.00      3,961.00   \n",
       "1                   0                    57      2,336.75      3,913.00   \n",
       "2                   0                    57      2,309.00      3,843.00   \n",
       "3                   0                    57      2,313.75      3,635.00   \n",
       "4                   0                    57      2,291.25      3,457.00   \n",
       "\n",
       "   Hard coal[MWh]  Fossil gas[MWh]  Hydro pumped storage[MWh]_y  \\\n",
       "0            1145             1126                            9   \n",
       "1             995             1131                            9   \n",
       "2             922             1108                            6   \n",
       "3             915             1101                            4   \n",
       "4             928             1116                            2   \n",
       "\n",
       "   Other conventional[MWh]  \n",
       "0                      317  \n",
       "1                      316  \n",
       "2                      319  \n",
       "3                      318  \n",
       "4                      313  "
      ]
     },
     "execution_count": 10,
     "metadata": {},
     "output_type": "execute_result"
    }
   ],
   "source": [
    "df.head()"
   ]
  },
  {
   "cell_type": "code",
   "execution_count": 11,
   "id": "f5113909",
   "metadata": {
    "execution": {
     "iopub.execute_input": "2022-06-10T20:57:53.667890Z",
     "iopub.status.busy": "2022-06-10T20:57:53.667188Z",
     "iopub.status.idle": "2022-06-10T20:57:53.748205Z",
     "shell.execute_reply": "2022-06-10T20:57:53.746875Z"
    },
    "papermill": {
     "duration": 0.095251,
     "end_time": "2022-06-10T20:57:53.750499",
     "exception": false,
     "start_time": "2022-06-10T20:57:53.655248",
     "status": "completed"
    },
    "tags": []
   },
   "outputs": [
    {
     "data": {
      "text/html": [
       "<div>\n",
       "<style scoped>\n",
       "    .dataframe tbody tr th:only-of-type {\n",
       "        vertical-align: middle;\n",
       "    }\n",
       "\n",
       "    .dataframe tbody tr th {\n",
       "        vertical-align: top;\n",
       "    }\n",
       "\n",
       "    .dataframe thead th {\n",
       "        text-align: right;\n",
       "    }\n",
       "</style>\n",
       "<table border=\"1\" class=\"dataframe\">\n",
       "  <thead>\n",
       "    <tr style=\"text-align: right;\">\n",
       "      <th></th>\n",
       "      <th>Germany/Luxembourg[€/MWh]</th>\n",
       "      <th>Day of Week</th>\n",
       "      <th>Total (grid load)[MWh]</th>\n",
       "      <th>Residual load[MWh]</th>\n",
       "      <th>Hydro pumped storage[MWh]_x</th>\n",
       "      <th>Biomass[MWh]</th>\n",
       "      <th>Hydropower[MWh]</th>\n",
       "      <th>Wind offshore[MWh]</th>\n",
       "      <th>Wind onshore[MWh]</th>\n",
       "      <th>Photovoltaics[MWh]</th>\n",
       "      <th>Other renewable[MWh]</th>\n",
       "      <th>Nuclear[MWh]</th>\n",
       "      <th>Lignite[MWh]</th>\n",
       "      <th>Hard coal[MWh]</th>\n",
       "      <th>Fossil gas[MWh]</th>\n",
       "      <th>Hydro pumped storage[MWh]_y</th>\n",
       "      <th>Other conventional[MWh]</th>\n",
       "    </tr>\n",
       "  </thead>\n",
       "  <tbody>\n",
       "    <tr>\n",
       "      <th>count</th>\n",
       "      <td>35,083.00</td>\n",
       "      <td>35,084.00</td>\n",
       "      <td>35,084.00</td>\n",
       "      <td>35,084.00</td>\n",
       "      <td>35,084.00</td>\n",
       "      <td>35,084.00</td>\n",
       "      <td>35,084.00</td>\n",
       "      <td>35,084.00</td>\n",
       "      <td>35,084.00</td>\n",
       "      <td>35,084.00</td>\n",
       "      <td>35,084.00</td>\n",
       "      <td>35,084.00</td>\n",
       "      <td>35,084.00</td>\n",
       "      <td>35,084.00</td>\n",
       "      <td>35,084.00</td>\n",
       "      <td>35,084.00</td>\n",
       "      <td>35,084.00</td>\n",
       "    </tr>\n",
       "    <tr>\n",
       "      <th>mean</th>\n",
       "      <td>55.27</td>\n",
       "      <td>3.11</td>\n",
       "      <td>14,219.95</td>\n",
       "      <td>9,559.94</td>\n",
       "      <td>309.58</td>\n",
       "      <td>1,143.78</td>\n",
       "      <td>435.27</td>\n",
       "      <td>680.23</td>\n",
       "      <td>2,726.60</td>\n",
       "      <td>1,253.49</td>\n",
       "      <td>43.74</td>\n",
       "      <td>1,892.77</td>\n",
       "      <td>2,925.73</td>\n",
       "      <td>1,478.93</td>\n",
       "      <td>1,499.73</td>\n",
       "      <td>293.30</td>\n",
       "      <td>352.78</td>\n",
       "    </tr>\n",
       "    <tr>\n",
       "      <th>std</th>\n",
       "      <td>51.31</td>\n",
       "      <td>2.07</td>\n",
       "      <td>2,471.94</td>\n",
       "      <td>3,076.53</td>\n",
       "      <td>351.12</td>\n",
       "      <td>61.56</td>\n",
       "      <td>92.44</td>\n",
       "      <td>467.09</td>\n",
       "      <td>2,170.12</td>\n",
       "      <td>1,921.47</td>\n",
       "      <td>8.05</td>\n",
       "      <td>308.45</td>\n",
       "      <td>926.41</td>\n",
       "      <td>987.67</td>\n",
       "      <td>673.28</td>\n",
       "      <td>342.67</td>\n",
       "      <td>98.57</td>\n",
       "    </tr>\n",
       "    <tr>\n",
       "      <th>min</th>\n",
       "      <td>-90.01</td>\n",
       "      <td>0.00</td>\n",
       "      <td>8,324.00</td>\n",
       "      <td>716.00</td>\n",
       "      <td>0.00</td>\n",
       "      <td>929.00</td>\n",
       "      <td>210.00</td>\n",
       "      <td>0.00</td>\n",
       "      <td>25.00</td>\n",
       "      <td>0.00</td>\n",
       "      <td>28.00</td>\n",
       "      <td>665.00</td>\n",
       "      <td>715.00</td>\n",
       "      <td>182.00</td>\n",
       "      <td>214.00</td>\n",
       "      <td>0.00</td>\n",
       "      <td>97.00</td>\n",
       "    </tr>\n",
       "    <tr>\n",
       "      <th>25%</th>\n",
       "      <td>31.50</td>\n",
       "      <td>1.00</td>\n",
       "      <td>12,186.00</td>\n",
       "      <td>7,514.00</td>\n",
       "      <td>22.00</td>\n",
       "      <td>1,098.00</td>\n",
       "      <td>362.00</td>\n",
       "      <td>250.00</td>\n",
       "      <td>1,059.00</td>\n",
       "      <td>0.00</td>\n",
       "      <td>37.00</td>\n",
       "      <td>1,659.00</td>\n",
       "      <td>2,321.00</td>\n",
       "      <td>623.00</td>\n",
       "      <td>935.00</td>\n",
       "      <td>49.00</td>\n",
       "      <td>307.00</td>\n",
       "    </tr>\n",
       "    <tr>\n",
       "      <th>50%</th>\n",
       "      <td>43.30</td>\n",
       "      <td>3.00</td>\n",
       "      <td>14,149.00</td>\n",
       "      <td>9,659.00</td>\n",
       "      <td>158.00</td>\n",
       "      <td>1,143.00</td>\n",
       "      <td>428.75</td>\n",
       "      <td>636.00</td>\n",
       "      <td>2,076.00</td>\n",
       "      <td>21.00</td>\n",
       "      <td>42.00</td>\n",
       "      <td>1,944.00</td>\n",
       "      <td>3,087.00</td>\n",
       "      <td>1,223.00</td>\n",
       "      <td>1,414.00</td>\n",
       "      <td>140.00</td>\n",
       "      <td>361.00</td>\n",
       "    </tr>\n",
       "    <tr>\n",
       "      <th>75%</th>\n",
       "      <td>59.08</td>\n",
       "      <td>5.00</td>\n",
       "      <td>16,320.00</td>\n",
       "      <td>11,700.25</td>\n",
       "      <td>519.00</td>\n",
       "      <td>1,200.00</td>\n",
       "      <td>508.25</td>\n",
       "      <td>1,069.00</td>\n",
       "      <td>3,838.00</td>\n",
       "      <td>2,029.00</td>\n",
       "      <td>51.00</td>\n",
       "      <td>2,035.00</td>\n",
       "      <td>3,696.00</td>\n",
       "      <td>2,158.00</td>\n",
       "      <td>1,960.00</td>\n",
       "      <td>438.00</td>\n",
       "      <td>391.00</td>\n",
       "    </tr>\n",
       "    <tr>\n",
       "      <th>max</th>\n",
       "      <td>620.00</td>\n",
       "      <td>7.00</td>\n",
       "      <td>20,445.00</td>\n",
       "      <td>18,558.00</td>\n",
       "      <td>1,636.00</td>\n",
       "      <td>1,264.00</td>\n",
       "      <td>670.75</td>\n",
       "      <td>1,804.00</td>\n",
       "      <td>10,558.00</td>\n",
       "      <td>9,096.00</td>\n",
       "      <td>62.00</td>\n",
       "      <td>2,382.00</td>\n",
       "      <td>4,606.00</td>\n",
       "      <td>4,351.00</td>\n",
       "      <td>3,756.00</td>\n",
       "      <td>2,058.00</td>\n",
       "      <td>1,739.00</td>\n",
       "    </tr>\n",
       "  </tbody>\n",
       "</table>\n",
       "</div>"
      ],
      "text/plain": [
       "       Germany/Luxembourg[€/MWh]  Day of Week  Total (grid load)[MWh]  \\\n",
       "count                  35,083.00    35,084.00               35,084.00   \n",
       "mean                       55.27         3.11               14,219.95   \n",
       "std                        51.31         2.07                2,471.94   \n",
       "min                       -90.01         0.00                8,324.00   \n",
       "25%                        31.50         1.00               12,186.00   \n",
       "50%                        43.30         3.00               14,149.00   \n",
       "75%                        59.08         5.00               16,320.00   \n",
       "max                       620.00         7.00               20,445.00   \n",
       "\n",
       "       Residual load[MWh]  Hydro pumped storage[MWh]_x  Biomass[MWh]  \\\n",
       "count           35,084.00                    35,084.00     35,084.00   \n",
       "mean             9,559.94                       309.58      1,143.78   \n",
       "std              3,076.53                       351.12         61.56   \n",
       "min                716.00                         0.00        929.00   \n",
       "25%              7,514.00                        22.00      1,098.00   \n",
       "50%              9,659.00                       158.00      1,143.00   \n",
       "75%             11,700.25                       519.00      1,200.00   \n",
       "max             18,558.00                     1,636.00      1,264.00   \n",
       "\n",
       "       Hydropower[MWh]  Wind offshore[MWh]  Wind onshore[MWh]  \\\n",
       "count        35,084.00           35,084.00          35,084.00   \n",
       "mean            435.27              680.23           2,726.60   \n",
       "std              92.44              467.09           2,170.12   \n",
       "min             210.00                0.00              25.00   \n",
       "25%             362.00              250.00           1,059.00   \n",
       "50%             428.75              636.00           2,076.00   \n",
       "75%             508.25            1,069.00           3,838.00   \n",
       "max             670.75            1,804.00          10,558.00   \n",
       "\n",
       "       Photovoltaics[MWh]  Other renewable[MWh]  Nuclear[MWh]  Lignite[MWh]  \\\n",
       "count           35,084.00             35,084.00     35,084.00     35,084.00   \n",
       "mean             1,253.49                 43.74      1,892.77      2,925.73   \n",
       "std              1,921.47                  8.05        308.45        926.41   \n",
       "min                  0.00                 28.00        665.00        715.00   \n",
       "25%                  0.00                 37.00      1,659.00      2,321.00   \n",
       "50%                 21.00                 42.00      1,944.00      3,087.00   \n",
       "75%              2,029.00                 51.00      2,035.00      3,696.00   \n",
       "max              9,096.00                 62.00      2,382.00      4,606.00   \n",
       "\n",
       "       Hard coal[MWh]  Fossil gas[MWh]  Hydro pumped storage[MWh]_y  \\\n",
       "count       35,084.00        35,084.00                    35,084.00   \n",
       "mean         1,478.93         1,499.73                       293.30   \n",
       "std            987.67           673.28                       342.67   \n",
       "min            182.00           214.00                         0.00   \n",
       "25%            623.00           935.00                        49.00   \n",
       "50%          1,223.00         1,414.00                       140.00   \n",
       "75%          2,158.00         1,960.00                       438.00   \n",
       "max          4,351.00         3,756.00                     2,058.00   \n",
       "\n",
       "       Other conventional[MWh]  \n",
       "count                35,084.00  \n",
       "mean                    352.78  \n",
       "std                      98.57  \n",
       "min                      97.00  \n",
       "25%                     307.00  \n",
       "50%                     361.00  \n",
       "75%                     391.00  \n",
       "max                   1,739.00  "
      ]
     },
     "execution_count": 11,
     "metadata": {},
     "output_type": "execute_result"
    }
   ],
   "source": [
    "df.describe()"
   ]
  },
  {
   "cell_type": "markdown",
   "id": "2370a6f1",
   "metadata": {
    "papermill": {
     "duration": 0.011119,
     "end_time": "2022-06-10T20:57:53.773104",
     "exception": false,
     "start_time": "2022-06-10T20:57:53.761985",
     "status": "completed"
    },
    "tags": []
   },
   "source": [
    "# **Exploring**"
   ]
  },
  {
   "cell_type": "markdown",
   "id": "6c057a3e",
   "metadata": {
    "papermill": {
     "duration": 0.010962,
     "end_time": "2022-06-10T20:57:53.795230",
     "exception": false,
     "start_time": "2022-06-10T20:57:53.784268",
     "status": "completed"
    },
    "tags": []
   },
   "source": [
    "### **1. Figure out general energy status with % from each energy generation resources.**"
   ]
  },
  {
   "cell_type": "code",
   "execution_count": 12,
   "id": "9850f324",
   "metadata": {
    "execution": {
     "iopub.execute_input": "2022-06-10T20:57:53.819289Z",
     "iopub.status.busy": "2022-06-10T20:57:53.818917Z",
     "iopub.status.idle": "2022-06-10T20:57:53.828203Z",
     "shell.execute_reply": "2022-06-10T20:57:53.827287Z"
    },
    "papermill": {
     "duration": 0.023717,
     "end_time": "2022-06-10T20:57:53.830113",
     "exception": false,
     "start_time": "2022-06-10T20:57:53.806396",
     "status": "completed"
    },
    "tags": []
   },
   "outputs": [
    {
     "data": {
      "text/plain": [
       "Total (grid load)[MWh]   14,219.95\n",
       "Residual load[MWh]        9,559.94\n",
       "dtype: float64"
      ]
     },
     "execution_count": 12,
     "metadata": {},
     "output_type": "execute_result"
    }
   ],
   "source": [
    "e_total = df.columns[3:5]\n",
    "df[e_total].mean()"
   ]
  },
  {
   "cell_type": "code",
   "execution_count": 13,
   "id": "d17a532b",
   "metadata": {
    "execution": {
     "iopub.execute_input": "2022-06-10T20:57:53.854920Z",
     "iopub.status.busy": "2022-06-10T20:57:53.854284Z",
     "iopub.status.idle": "2022-06-10T20:57:54.029961Z",
     "shell.execute_reply": "2022-06-10T20:57:54.028545Z"
    },
    "papermill": {
     "duration": 0.191984,
     "end_time": "2022-06-10T20:57:54.033300",
     "exception": false,
     "start_time": "2022-06-10T20:57:53.841316",
     "status": "completed"
    },
    "tags": []
   },
   "outputs": [
    {
     "data": {
      "image/png": "[encoded data removed]",
      "text/plain": [
       "<Figure size 720x576 with 1 Axes>"
      ]
     },
     "metadata": {},
     "output_type": "display_data"
    }
   ],
   "source": [
    "df[e_total].mean().plot(kind='pie', autopct='%1.0f%%', subplots=True, figsize=(10,8))\n",
    "\n",
    "plt.title(\"Total Rate of Energy Generation in Germany\", size=15)\n",
    "plt.ylabel('.')\n",
    "\n",
    "plt.show()"
   ]
  },
  {
   "cell_type": "markdown",
   "id": "e56f2012",
   "metadata": {
    "papermill": {
     "duration": 0.020173,
     "end_time": "2022-06-10T20:57:54.079190",
     "exception": false,
     "start_time": "2022-06-10T20:57:54.059017",
     "status": "completed"
    },
    "tags": []
   },
   "source": [
    "This shows that around 40% of energy will be generated by dispatchable fuel resources plants (such as nuclear, lignite, coal). And the other 60% of energy by renewable & other."
   ]
  },
  {
   "cell_type": "markdown",
   "id": "c402e9b3",
   "metadata": {
    "papermill": {
     "duration": 0.011799,
     "end_time": "2022-06-10T20:57:54.102956",
     "exception": false,
     "start_time": "2022-06-10T20:57:54.091157",
     "status": "completed"
    },
    "tags": []
   },
   "source": [
    "**First, let's start with Residual Load (40% from totla rate of energy generation).**"
   ]
  },
  {
   "cell_type": "code",
   "execution_count": 14,
   "id": "7bca3675",
   "metadata": {
    "execution": {
     "iopub.execute_input": "2022-06-10T20:57:54.129232Z",
     "iopub.status.busy": "2022-06-10T20:57:54.128802Z",
     "iopub.status.idle": "2022-06-10T20:57:54.139294Z",
     "shell.execute_reply": "2022-06-10T20:57:54.138162Z"
    },
    "papermill": {
     "duration": 0.025915,
     "end_time": "2022-06-10T20:57:54.141400",
     "exception": false,
     "start_time": "2022-06-10T20:57:54.115485",
     "status": "completed"
    },
    "tags": []
   },
   "outputs": [
    {
     "data": {
      "text/plain": [
       "Nuclear[MWh]     1,892.77\n",
       "Lignite[MWh]     2,925.73\n",
       "Hard coal[MWh]   1,478.93\n",
       "dtype: float64"
      ]
     },
     "execution_count": 14,
     "metadata": {},
     "output_type": "execute_result"
    }
   ],
   "source": [
    "e_dis_list = df.columns[12:15]\n",
    "df[e_dis_list].mean()"
   ]
  },
  {
   "cell_type": "code",
   "execution_count": 15,
   "id": "166bacde",
   "metadata": {
    "execution": {
     "iopub.execute_input": "2022-06-10T20:57:54.168213Z",
     "iopub.status.busy": "2022-06-10T20:57:54.167495Z",
     "iopub.status.idle": "2022-06-10T20:57:54.308457Z",
     "shell.execute_reply": "2022-06-10T20:57:54.306404Z"
    },
    "papermill": {
     "duration": 0.158779,
     "end_time": "2022-06-10T20:57:54.312419",
     "exception": false,
     "start_time": "2022-06-10T20:57:54.153640",
     "status": "completed"
    },
    "tags": []
   },
   "outputs": [
    {
     "data": {
      "image/png": "[encoded data removed]",
      "text/plain": [
       "<Figure size 720x576 with 1 Axes>"
      ]
     },
     "metadata": {},
     "output_type": "display_data"
    }
   ],
   "source": [
    "df[e_dis_list].mean().plot(kind='pie', autopct='%1.0f%%', subplots=True, figsize=(10,8))\n",
    "\n",
    "plt.title(\"Dispatchable Fuel Resources (Residual Load)\", size=15)\n",
    "plt.ylabel('.')\n",
    "\n",
    "plt.show()"
   ]
  },
  {
   "cell_type": "markdown",
   "id": "c85a7816",
   "metadata": {
    "papermill": {
     "duration": 0.023074,
     "end_time": "2022-06-10T20:57:54.360888",
     "exception": false,
     "start_time": "2022-06-10T20:57:54.337814",
     "status": "completed"
    },
    "tags": []
   },
   "source": [
    "**Second, with renewable & other energy sources (60% from total rate of energy generation).**"
   ]
  },
  {
   "cell_type": "code",
   "execution_count": 16,
   "id": "bfcd1615",
   "metadata": {
    "execution": {
     "iopub.execute_input": "2022-06-10T20:57:54.388166Z",
     "iopub.status.busy": "2022-06-10T20:57:54.387689Z",
     "iopub.status.idle": "2022-06-10T20:57:54.403383Z",
     "shell.execute_reply": "2022-06-10T20:57:54.402301Z"
    },
    "papermill": {
     "duration": 0.031929,
     "end_time": "2022-06-10T20:57:54.405519",
     "exception": false,
     "start_time": "2022-06-10T20:57:54.373590",
     "status": "completed"
    },
    "tags": []
   },
   "outputs": [
    {
     "data": {
      "text/plain": [
       "Hydro pumped storage[MWh]_x     309.58\n",
       "Biomass[MWh]                  1,143.78\n",
       "Hydropower[MWh]                 435.27\n",
       "Wind offshore[MWh]              680.23\n",
       "Wind onshore[MWh]             2,726.60\n",
       "Photovoltaics[MWh]            1,253.49\n",
       "Other renewable[MWh]             43.74\n",
       "Fossil gas[MWh]               1,499.73\n",
       "Hydro pumped storage[MWh]_y     293.30\n",
       "Other conventional[MWh]         352.78\n",
       "dtype: float64"
      ]
     },
     "execution_count": 16,
     "metadata": {},
     "output_type": "execute_result"
    }
   ],
   "source": [
    "e_60 = list(df.columns[5:12]) + list(df.columns[15:])\n",
    "df[e_60].mean()"
   ]
  },
  {
   "cell_type": "code",
   "execution_count": 17,
   "id": "339748a6",
   "metadata": {
    "execution": {
     "iopub.execute_input": "2022-06-10T20:57:54.434994Z",
     "iopub.status.busy": "2022-06-10T20:57:54.434083Z",
     "iopub.status.idle": "2022-06-10T20:57:54.669066Z",
     "shell.execute_reply": "2022-06-10T20:57:54.667594Z"
    },
    "papermill": {
     "duration": 0.252939,
     "end_time": "2022-06-10T20:57:54.671544",
     "exception": false,
     "start_time": "2022-06-10T20:57:54.418605",
     "status": "completed"
    },
    "tags": []
   },
   "outputs": [
    {
     "data": {
      "image/png": "[encoded data removed]",
      "text/plain": [
       "<Figure size 720x576 with 1 Axes>"
      ]
     },
     "metadata": {},
     "output_type": "display_data"
    }
   ],
   "source": [
    "df[e_60].mean().plot(kind='pie', autopct='%1.0f%%', subplots=True, figsize=(10,8))\n",
    "\n",
    "plt.title(\"Renewable Energy Resources & Others (Except Residual Load)\", size=15)\n",
    "plt.ylabel('.')\n",
    "\n",
    "plt.show()"
   ]
  },
  {
   "cell_type": "markdown",
   "id": "9c0eef27",
   "metadata": {
    "papermill": {
     "duration": 0.014382,
     "end_time": "2022-06-10T20:57:54.701356",
     "exception": false,
     "start_time": "2022-06-10T20:57:54.686974",
     "status": "completed"
    },
    "tags": []
   },
   "source": [
    "It is noticeable that fossil gas has 17%, which is quite a lot."
   ]
  },
  {
   "cell_type": "markdown",
   "id": "8f58e62e",
   "metadata": {
    "papermill": {
     "duration": 0.013275,
     "end_time": "2022-06-10T20:57:54.728722",
     "exception": false,
     "start_time": "2022-06-10T20:57:54.715447",
     "status": "completed"
    },
    "tags": []
   },
   "source": [
    "**Then now, let's check out only renewable energy resources.**"
   ]
  },
  {
   "cell_type": "code",
   "execution_count": 18,
   "id": "ee92fb78",
   "metadata": {
    "execution": {
     "iopub.execute_input": "2022-06-10T20:57:54.758551Z",
     "iopub.status.busy": "2022-06-10T20:57:54.757695Z",
     "iopub.status.idle": "2022-06-10T20:57:54.770222Z",
     "shell.execute_reply": "2022-06-10T20:57:54.769310Z"
    },
    "papermill": {
     "duration": 0.030003,
     "end_time": "2022-06-10T20:57:54.772136",
     "exception": false,
     "start_time": "2022-06-10T20:57:54.742133",
     "status": "completed"
    },
    "tags": []
   },
   "outputs": [
    {
     "data": {
      "text/plain": [
       "Hydro pumped storage[MWh]_x     309.58\n",
       "Biomass[MWh]                  1,143.78\n",
       "Hydropower[MWh]                 435.27\n",
       "Wind offshore[MWh]              680.23\n",
       "Wind onshore[MWh]             2,726.60\n",
       "Photovoltaics[MWh]            1,253.49\n",
       "Other renewable[MWh]             43.74\n",
       "Hydro pumped storage[MWh]_y     293.30\n",
       "dtype: float64"
      ]
     },
     "execution_count": 18,
     "metadata": {},
     "output_type": "execute_result"
    }
   ],
   "source": [
    "e_renewable = list(df.columns[5:12])\n",
    "e_renewable.append(df.columns[-2])\n",
    "df[e_renewable].mean()"
   ]
  },
  {
   "cell_type": "code",
   "execution_count": 19,
   "id": "afe81c23",
   "metadata": {
    "execution": {
     "iopub.execute_input": "2022-06-10T20:57:54.801347Z",
     "iopub.status.busy": "2022-06-10T20:57:54.800511Z",
     "iopub.status.idle": "2022-06-10T20:57:55.014001Z",
     "shell.execute_reply": "2022-06-10T20:57:55.012524Z"
    },
    "papermill": {
     "duration": 0.231658,
     "end_time": "2022-06-10T20:57:55.017138",
     "exception": false,
     "start_time": "2022-06-10T20:57:54.785480",
     "status": "completed"
    },
    "tags": []
   },
   "outputs": [
    {
     "data": {
      "image/png": "[encoded data removed]",
      "text/plain": [
       "<Figure size 720x576 with 1 Axes>"
      ]
     },
     "metadata": {},
     "output_type": "display_data"
    }
   ],
   "source": [
    "df[e_renewable].mean().plot(kind='pie', autopct='%1.0f%%', subplots=True, figsize=(10,8))\n",
    "\n",
    "plt.title(\"Renewable Energy Resources\", size=15)\n",
    "plt.ylabel('.')\n",
    "\n",
    "plt.show()"
   ]
  },
  {
   "cell_type": "markdown",
   "id": "3f789558",
   "metadata": {
    "papermill": {
     "duration": 0.013928,
     "end_time": "2022-06-10T20:57:55.050310",
     "exception": false,
     "start_time": "2022-06-10T20:57:55.036382",
     "status": "completed"
    },
    "tags": []
   },
   "source": [
    "It is interesting that the wind power has 50% from entire rate of renewable energy sources."
   ]
  },
  {
   "cell_type": "markdown",
   "id": "65f99fc7",
   "metadata": {
    "papermill": {
     "duration": 0.014449,
     "end_time": "2022-06-10T20:57:55.078930",
     "exception": false,
     "start_time": "2022-06-10T20:57:55.064481",
     "status": "completed"
    },
    "tags": []
   },
   "source": [
    "**For the last, we compare all energy resources.**"
   ]
  },
  {
   "cell_type": "code",
   "execution_count": 20,
   "id": "d62018b2",
   "metadata": {
    "execution": {
     "iopub.execute_input": "2022-06-10T20:57:55.109921Z",
     "iopub.status.busy": "2022-06-10T20:57:55.109183Z",
     "iopub.status.idle": "2022-06-10T20:57:55.113342Z",
     "shell.execute_reply": "2022-06-10T20:57:55.112650Z"
    },
    "papermill": {
     "duration": 0.022104,
     "end_time": "2022-06-10T20:57:55.115247",
     "exception": false,
     "start_time": "2022-06-10T20:57:55.093143",
     "status": "completed"
    },
    "tags": []
   },
   "outputs": [],
   "source": [
    "e_list = df.columns[5:]"
   ]
  },
  {
   "cell_type": "code",
   "execution_count": 21,
   "id": "a4b7339a",
   "metadata": {
    "execution": {
     "iopub.execute_input": "2022-06-10T20:57:55.145294Z",
     "iopub.status.busy": "2022-06-10T20:57:55.144820Z",
     "iopub.status.idle": "2022-06-10T20:57:55.401647Z",
     "shell.execute_reply": "2022-06-10T20:57:55.400862Z"
    },
    "papermill": {
     "duration": 0.274254,
     "end_time": "2022-06-10T20:57:55.403588",
     "exception": false,
     "start_time": "2022-06-10T20:57:55.129334",
     "status": "completed"
    },
    "tags": []
   },
   "outputs": [
    {
     "data": {
      "image/png": "[encoded data removed]",
      "text/plain": [
       "<Figure size 720x576 with 1 Axes>"
      ]
     },
     "metadata": {},
     "output_type": "display_data"
    }
   ],
   "source": [
    "df[e_list].mean().plot(\n",
    "    kind='pie', autopct='%1.0f%%', subplots=True, figsize=(10, 8))\n",
    "\n",
    "plt.title(\"All Energy Resources % in Germany\", size=15)\n",
    "plt.ylabel('.')\n",
    "\n",
    "plt.show()"
   ]
  },
  {
   "cell_type": "markdown",
   "id": "840d461e",
   "metadata": {
    "papermill": {
     "duration": 0.015066,
     "end_time": "2022-06-10T20:57:55.433890",
     "exception": false,
     "start_time": "2022-06-10T20:57:55.418824",
     "status": "completed"
    },
    "tags": []
   },
   "source": [
    "### **2. Find out the increase/decrease of each energy generation resources.**"
   ]
  },
  {
   "cell_type": "markdown",
   "id": "16317271",
   "metadata": {
    "papermill": {
     "duration": 0.015586,
     "end_time": "2022-06-10T20:57:55.465080",
     "exception": false,
     "start_time": "2022-06-10T20:57:55.449494",
     "status": "completed"
    },
    "tags": []
   },
   "source": [
    "Since the dataset has not the data about 2022 in full, we are not going to use the data from 2022."
   ]
  },
  {
   "cell_type": "code",
   "execution_count": 22,
   "id": "a3be236f",
   "metadata": {
    "execution": {
     "iopub.execute_input": "2022-06-10T20:57:55.499085Z",
     "iopub.status.busy": "2022-06-10T20:57:55.498388Z",
     "iopub.status.idle": "2022-06-10T20:57:55.518611Z",
     "shell.execute_reply": "2022-06-10T20:57:55.516939Z"
    },
    "papermill": {
     "duration": 0.040612,
     "end_time": "2022-06-10T20:57:55.521036",
     "exception": false,
     "start_time": "2022-06-10T20:57:55.480424",
     "status": "completed"
    },
    "tags": []
   },
   "outputs": [],
   "source": [
    "year = df['Date_Time of day'].dt.year != 2022\n",
    "new_df = df[year]\n",
    "y = new_df['Date_Time of day'].dt.year"
   ]
  },
  {
   "cell_type": "code",
   "execution_count": 23,
   "id": "fe4a886e",
   "metadata": {
    "execution": {
     "iopub.execute_input": "2022-06-10T20:57:55.554495Z",
     "iopub.status.busy": "2022-06-10T20:57:55.553586Z",
     "iopub.status.idle": "2022-06-10T20:57:55.571016Z",
     "shell.execute_reply": "2022-06-10T20:57:55.570095Z"
    },
    "papermill": {
     "duration": 0.036537,
     "end_time": "2022-06-10T20:57:55.573220",
     "exception": false,
     "start_time": "2022-06-10T20:57:55.536683",
     "status": "completed"
    },
    "tags": []
   },
   "outputs": [],
   "source": [
    "total = df.groupby(y)['Total (grid load)[MWh]'].mean()"
   ]
  },
  {
   "cell_type": "code",
   "execution_count": 24,
   "id": "a8e26440",
   "metadata": {
    "execution": {
     "iopub.execute_input": "2022-06-10T20:57:55.605719Z",
     "iopub.status.busy": "2022-06-10T20:57:55.604723Z",
     "iopub.status.idle": "2022-06-10T20:57:55.800273Z",
     "shell.execute_reply": "2022-06-10T20:57:55.799376Z"
    },
    "papermill": {
     "duration": 0.214601,
     "end_time": "2022-06-10T20:57:55.802725",
     "exception": false,
     "start_time": "2022-06-10T20:57:55.588124",
     "status": "completed"
    },
    "tags": []
   },
   "outputs": [
    {
     "data": {
      "image/png": "[encoded data removed]",
      "text/plain": [
       "<Figure size 432x288 with 1 Axes>"
      ]
     },
     "metadata": {
      "needs_background": "light"
     },
     "output_type": "display_data"
    }
   ],
   "source": [
    "sns.barplot(data=df, x=total.index.astype(int), y=total)\n",
    "\n",
    "plt.title('Total Energy Generation 2018-2021', size=15)\n",
    "plt.xlabel(\"Year\")\n",
    "plt.ylabel(\"Energy Value\")\n",
    "\n",
    "plt.show()"
   ]
  },
  {
   "cell_type": "markdown",
   "id": "fa8a11fc",
   "metadata": {
    "papermill": {
     "duration": 0.016387,
     "end_time": "2022-06-10T20:57:55.836230",
     "exception": false,
     "start_time": "2022-06-10T20:57:55.819843",
     "status": "completed"
    },
    "tags": []
   },
   "source": [
    "When it comes to total energy generation, it seems like that there is not noticeable gap for last 4 years."
   ]
  },
  {
   "cell_type": "markdown",
   "id": "eaf7484e",
   "metadata": {
    "papermill": {
     "duration": 0.015822,
     "end_time": "2022-06-10T20:57:55.868351",
     "exception": false,
     "start_time": "2022-06-10T20:57:55.852529",
     "status": "completed"
    },
    "tags": []
   },
   "source": [
    "#### **1. Dispatchable fuel resources (Residual Load)**"
   ]
  },
  {
   "cell_type": "code",
   "execution_count": 25,
   "id": "a5aad153",
   "metadata": {
    "execution": {
     "iopub.execute_input": "2022-06-10T20:57:55.903994Z",
     "iopub.status.busy": "2022-06-10T20:57:55.903554Z",
     "iopub.status.idle": "2022-06-10T20:57:55.912135Z",
     "shell.execute_reply": "2022-06-10T20:57:55.911221Z"
    },
    "papermill": {
     "duration": 0.028582,
     "end_time": "2022-06-10T20:57:55.914475",
     "exception": false,
     "start_time": "2022-06-10T20:57:55.885893",
     "status": "completed"
    },
    "tags": []
   },
   "outputs": [],
   "source": [
    "lig = df.groupby(y)['Lignite[MWh]'].mean()"
   ]
  },
  {
   "cell_type": "code",
   "execution_count": 26,
   "id": "9fc9dade",
   "metadata": {
    "execution": {
     "iopub.execute_input": "2022-06-10T20:57:55.949480Z",
     "iopub.status.busy": "2022-06-10T20:57:55.949096Z",
     "iopub.status.idle": "2022-06-10T20:57:56.136674Z",
     "shell.execute_reply": "2022-06-10T20:57:56.135845Z"
    },
    "papermill": {
     "duration": 0.207326,
     "end_time": "2022-06-10T20:57:56.138949",
     "exception": false,
     "start_time": "2022-06-10T20:57:55.931623",
     "status": "completed"
    },
    "tags": []
   },
   "outputs": [
    {
     "data": {
      "image/png": "[encoded data removed]",
      "text/plain": [
       "<Figure size 432x288 with 1 Axes>"
      ]
     },
     "metadata": {
      "needs_background": "light"
     },
     "output_type": "display_data"
    }
   ],
   "source": [
    "sns.barplot(data=df, x=lig.index.astype(int), y=lig)\n",
    "\n",
    "plt.title(\"Lignite-generated Energy\", size=15)\n",
    "plt.xlabel(\"Year\", size=15)\n",
    "plt.ylabel(\"Energy\",size=15)\n",
    "plt.show()"
   ]
  },
  {
   "cell_type": "code",
   "execution_count": 27,
   "id": "977f9753",
   "metadata": {
    "execution": {
     "iopub.execute_input": "2022-06-10T20:57:56.172984Z",
     "iopub.status.busy": "2022-06-10T20:57:56.172469Z",
     "iopub.status.idle": "2022-06-10T20:57:56.181746Z",
     "shell.execute_reply": "2022-06-10T20:57:56.180957Z"
    },
    "papermill": {
     "duration": 0.02845,
     "end_time": "2022-06-10T20:57:56.183928",
     "exception": false,
     "start_time": "2022-06-10T20:57:56.155478",
     "status": "completed"
    },
    "tags": []
   },
   "outputs": [],
   "source": [
    "nuclear = df.groupby(y)['Nuclear[MWh]'].mean()"
   ]
  },
  {
   "cell_type": "code",
   "execution_count": 28,
   "id": "b2252e6c",
   "metadata": {
    "execution": {
     "iopub.execute_input": "2022-06-10T20:57:56.218732Z",
     "iopub.status.busy": "2022-06-10T20:57:56.217984Z",
     "iopub.status.idle": "2022-06-10T20:57:56.227214Z",
     "shell.execute_reply": "2022-06-10T20:57:56.226296Z"
    },
    "papermill": {
     "duration": 0.028779,
     "end_time": "2022-06-10T20:57:56.229308",
     "exception": false,
     "start_time": "2022-06-10T20:57:56.200529",
     "status": "completed"
    },
    "tags": []
   },
   "outputs": [],
   "source": [
    "coal = df.groupby(y)['Hard coal[MWh]'].mean()"
   ]
  },
  {
   "cell_type": "code",
   "execution_count": 29,
   "id": "a2a7bc59",
   "metadata": {
    "execution": {
     "iopub.execute_input": "2022-06-10T20:57:56.263039Z",
     "iopub.status.busy": "2022-06-10T20:57:56.262231Z",
     "iopub.status.idle": "2022-06-10T20:57:56.571143Z",
     "shell.execute_reply": "2022-06-10T20:57:56.570256Z"
    },
    "papermill": {
     "duration": 0.328266,
     "end_time": "2022-06-10T20:57:56.573073",
     "exception": false,
     "start_time": "2022-06-10T20:57:56.244807",
     "status": "completed"
    },
    "tags": []
   },
   "outputs": [
    {
     "data": {
      "image/png": "[encoded data removed]",
      "text/plain": [
       "<Figure size 864x360 with 2 Axes>"
      ]
     },
     "metadata": {
      "needs_background": "light"
     },
     "output_type": "display_data"
    }
   ],
   "source": [
    "fig, ax = plt.subplots(1, 2, figsize=(12,5))\n",
    "\n",
    "sns.barplot(data=df, x=nuclear.index.astype(int), y=nuclear, ax=ax[0])\n",
    "ax[0].set_title(\"Nuclear-generated Energy\", size=15)\n",
    "ax[0].set_xlabel(\"Year\", size=12)\n",
    "ax[0].set_ylabel(\"Energy\",size=12)\n",
    "\n",
    "sns.barplot(data=df, x=coal.index.astype(int), y=coal, ax=ax[1])\n",
    "ax[1].set_title(\"Hard Coal-generated Energy\", size=15)\n",
    "ax[1].set_xlabel(\"Year\", size=12)\n",
    "ax[1].set_ylabel(\"Energy\",size=12)\n",
    "\n",
    "plt.show()"
   ]
  },
  {
   "cell_type": "markdown",
   "id": "6bb7e752",
   "metadata": {
    "papermill": {
     "duration": 0.046511,
     "end_time": "2022-06-10T20:57:56.635981",
     "exception": false,
     "start_time": "2022-06-10T20:57:56.589470",
     "status": "completed"
    },
    "tags": []
   },
   "source": [
    "#### **2. Renewable Soruces**"
   ]
  },
  {
   "cell_type": "code",
   "execution_count": 30,
   "id": "a08449f1",
   "metadata": {
    "execution": {
     "iopub.execute_input": "2022-06-10T20:57:56.671066Z",
     "iopub.status.busy": "2022-06-10T20:57:56.670373Z",
     "iopub.status.idle": "2022-06-10T20:57:56.684173Z",
     "shell.execute_reply": "2022-06-10T20:57:56.682963Z"
    },
    "papermill": {
     "duration": 0.033809,
     "end_time": "2022-06-10T20:57:56.686461",
     "exception": false,
     "start_time": "2022-06-10T20:57:56.652652",
     "status": "completed"
    },
    "tags": []
   },
   "outputs": [],
   "source": [
    "wind_off = df.groupby(y)['Wind offshore[MWh]'].mean()\n",
    "wind_on = df.groupby(y)['Wind onshore[MWh]'].mean()"
   ]
  },
  {
   "cell_type": "code",
   "execution_count": 31,
   "id": "7b9d6ba1",
   "metadata": {
    "execution": {
     "iopub.execute_input": "2022-06-10T20:57:56.720906Z",
     "iopub.status.busy": "2022-06-10T20:57:56.720428Z",
     "iopub.status.idle": "2022-06-10T20:57:57.053415Z",
     "shell.execute_reply": "2022-06-10T20:57:57.050883Z"
    },
    "papermill": {
     "duration": 0.353863,
     "end_time": "2022-06-10T20:57:57.056425",
     "exception": false,
     "start_time": "2022-06-10T20:57:56.702562",
     "status": "completed"
    },
    "tags": []
   },
   "outputs": [
    {
     "data": {
      "image/png": "[encoded data removed]",
      "text/plain": [
       "<Figure size 864x360 with 2 Axes>"
      ]
     },
     "metadata": {
      "needs_background": "light"
     },
     "output_type": "display_data"
    }
   ],
   "source": [
    "fig, ax = plt.subplots(1, 2, figsize=(12,5))\n",
    "\n",
    "sns.barplot(data=df, x=wind_on.index.astype(int), y=wind_on, ax=ax[0])\n",
    "ax[0].set_title(\"Wind Onshore-generated Energy\", size=15)\n",
    "ax[0].set_xlabel(\"Year\", size=12)\n",
    "ax[0].set_ylabel(\"Energy\",size=12)\n",
    "\n",
    "\n",
    "sns.barplot(data=df, x=wind_off.index.astype(int), y=wind_off, ax=ax[1])\n",
    "ax[1].set_title(\"Wind Offshore-generated Energy\", size=15)\n",
    "ax[1].set_xlabel(\"Year\", size=12)\n",
    "ax[1].set_ylabel(\"Energy\",size=12)\n",
    "\n",
    "plt.show()"
   ]
  },
  {
   "cell_type": "markdown",
   "id": "1f511047",
   "metadata": {
    "papermill": {
     "duration": 0.016154,
     "end_time": "2022-06-10T20:57:57.089062",
     "exception": false,
     "start_time": "2022-06-10T20:57:57.072908",
     "status": "completed"
    },
    "tags": []
   },
   "source": [
    "The huge gap between on and off -shore is noticeable."
   ]
  },
  {
   "cell_type": "code",
   "execution_count": 32,
   "id": "19360ecf",
   "metadata": {
    "execution": {
     "iopub.execute_input": "2022-06-10T20:57:57.124369Z",
     "iopub.status.busy": "2022-06-10T20:57:57.123647Z",
     "iopub.status.idle": "2022-06-10T20:57:57.138800Z",
     "shell.execute_reply": "2022-06-10T20:57:57.137470Z"
    },
    "papermill": {
     "duration": 0.035673,
     "end_time": "2022-06-10T20:57:57.141336",
     "exception": false,
     "start_time": "2022-06-10T20:57:57.105663",
     "status": "completed"
    },
    "tags": []
   },
   "outputs": [],
   "source": [
    "bio = df.groupby(y)['Biomass[MWh]'].mean()\n",
    "hyd = df.groupby(y)['Hydropower[MWh]'].mean()"
   ]
  },
  {
   "cell_type": "code",
   "execution_count": 33,
   "id": "14b76ed3",
   "metadata": {
    "execution": {
     "iopub.execute_input": "2022-06-10T20:57:57.177189Z",
     "iopub.status.busy": "2022-06-10T20:57:57.176551Z",
     "iopub.status.idle": "2022-06-10T20:57:57.476503Z",
     "shell.execute_reply": "2022-06-10T20:57:57.475487Z"
    },
    "papermill": {
     "duration": 0.320604,
     "end_time": "2022-06-10T20:57:57.479028",
     "exception": false,
     "start_time": "2022-06-10T20:57:57.158424",
     "status": "completed"
    },
    "tags": []
   },
   "outputs": [
    {
     "data": {
      "image/png": "[encoded data removed]",
      "text/plain": [
       "<Figure size 864x360 with 2 Axes>"
      ]
     },
     "metadata": {
      "needs_background": "light"
     },
     "output_type": "display_data"
    }
   ],
   "source": [
    "fig, ax = plt.subplots(1, 2, figsize=(12, 5))\n",
    "\n",
    "sns.barplot(data=df, x=bio.index.astype(int), y=bio, ax=ax[0])\n",
    "ax[0].set_title(\"Biomass-generated Energy\", size=15)\n",
    "ax[0].set_xlabel(\"Year\", size=12)\n",
    "ax[0].set_ylabel(\"Energy\",size=12)\n",
    "\n",
    "\n",
    "sns.barplot(data=df, x=hyd.index.astype(int), y=hyd, ax=ax[1])\n",
    "ax[1].set_title(\"Hydropower-generated Energy\", size=15)\n",
    "ax[1].set_xlabel(\"Year\", size=12)\n",
    "ax[1].set_ylabel(\"Energy\",size=12)\n",
    "\n",
    "plt.show()"
   ]
  },
  {
   "cell_type": "code",
   "execution_count": 34,
   "id": "e32ea2e9",
   "metadata": {
    "execution": {
     "iopub.execute_input": "2022-06-10T20:57:57.516081Z",
     "iopub.status.busy": "2022-06-10T20:57:57.515382Z",
     "iopub.status.idle": "2022-06-10T20:57:57.528371Z",
     "shell.execute_reply": "2022-06-10T20:57:57.527510Z"
    },
    "papermill": {
     "duration": 0.033978,
     "end_time": "2022-06-10T20:57:57.530526",
     "exception": false,
     "start_time": "2022-06-10T20:57:57.496548",
     "status": "completed"
    },
    "tags": []
   },
   "outputs": [],
   "source": [
    "hyd_x = df.groupby(y)['Hydro pumped storage[MWh]_x'].mean()\n",
    "hyd_y = df.groupby(y)['Hydro pumped storage[MWh]_y'].mean()"
   ]
  },
  {
   "cell_type": "code",
   "execution_count": 35,
   "id": "18a8a62a",
   "metadata": {
    "execution": {
     "iopub.execute_input": "2022-06-10T20:57:57.566590Z",
     "iopub.status.busy": "2022-06-10T20:57:57.565924Z",
     "iopub.status.idle": "2022-06-10T20:57:57.872072Z",
     "shell.execute_reply": "2022-06-10T20:57:57.870227Z"
    },
    "papermill": {
     "duration": 0.327737,
     "end_time": "2022-06-10T20:57:57.875070",
     "exception": false,
     "start_time": "2022-06-10T20:57:57.547333",
     "status": "completed"
    },
    "tags": []
   },
   "outputs": [
    {
     "data": {
      "image/png": "[encoded data removed]",
      "text/plain": [
       "<Figure size 864x360 with 2 Axes>"
      ]
     },
     "metadata": {
      "needs_background": "light"
     },
     "output_type": "display_data"
    }
   ],
   "source": [
    "fig, ax = plt.subplots(1, 2, figsize=(12, 5))\n",
    "\n",
    "sns.barplot(data=df, x=hyd_x.index.astype(int), y=hyd_x, ax=ax[0])\n",
    "ax[0].set_title(\"Hydro-pumped-storage_x-generated Energy\", size=15)\n",
    "ax[0].set_xlabel(\"Year\", size=12)\n",
    "ax[0].set_ylabel(\"Energy\",size=12)\n",
    "\n",
    "\n",
    "sns.barplot(data=df, x=hyd_y.index.astype(int), y=hyd_y, ax=ax[1])\n",
    "ax[1].set_title(\"Hydro-pumped-storage_y-generated Energy\", size=15)\n",
    "ax[1].set_xlabel(\"Year\", size=12)\n",
    "ax[1].set_ylabel(\"Energy\",size=12)\n",
    "\n",
    "plt.show()"
   ]
  },
  {
   "cell_type": "code",
   "execution_count": 36,
   "id": "b8bce4ad",
   "metadata": {
    "execution": {
     "iopub.execute_input": "2022-06-10T20:57:57.919757Z",
     "iopub.status.busy": "2022-06-10T20:57:57.919076Z",
     "iopub.status.idle": "2022-06-10T20:57:57.932815Z",
     "shell.execute_reply": "2022-06-10T20:57:57.931736Z"
    },
    "papermill": {
     "duration": 0.03979,
     "end_time": "2022-06-10T20:57:57.935640",
     "exception": false,
     "start_time": "2022-06-10T20:57:57.895850",
     "status": "completed"
    },
    "tags": []
   },
   "outputs": [],
   "source": [
    "solar = df.groupby(y)['Photovoltaics[MWh]'].mean()\n",
    "other = df.groupby(y)['Other renewable[MWh]'].mean()"
   ]
  },
  {
   "cell_type": "code",
   "execution_count": 37,
   "id": "d42f3ae3",
   "metadata": {
    "execution": {
     "iopub.execute_input": "2022-06-10T20:57:57.978668Z",
     "iopub.status.busy": "2022-06-10T20:57:57.978273Z",
     "iopub.status.idle": "2022-06-10T20:57:58.258722Z",
     "shell.execute_reply": "2022-06-10T20:57:58.258031Z"
    },
    "papermill": {
     "duration": 0.30374,
     "end_time": "2022-06-10T20:57:58.260924",
     "exception": false,
     "start_time": "2022-06-10T20:57:57.957184",
     "status": "completed"
    },
    "tags": []
   },
   "outputs": [
    {
     "data": {
      "image/png": "[encoded data removed]",
      "text/plain": [
       "<Figure size 864x360 with 2 Axes>"
      ]
     },
     "metadata": {
      "needs_background": "light"
     },
     "output_type": "display_data"
    }
   ],
   "source": [
    "fig, ax = plt.subplots(1, 2, figsize=(12, 5))\n",
    "\n",
    "sns.barplot(data=df, x=solar.index.astype(int), y=solar, ax=ax[0])\n",
    "ax[0].set_title(\"Solar-generated Energy\", size=15)\n",
    "ax[0].set_xlabel(\"Year\", size=12)\n",
    "ax[0].set_ylabel(\"Energy\",size=12)\n",
    "\n",
    "\n",
    "sns.barplot(data=df, x=other.index.astype(int), y=other, ax=ax[1])\n",
    "ax[1].set_title(\"Other Renewable-generated Energy\", size=15)\n",
    "ax[1].set_xlabel(\"Year\", size=12)\n",
    "ax[1].set_ylabel(\"Energy\",size=12)\n",
    "\n",
    "plt.show()"
   ]
  },
  {
   "cell_type": "markdown",
   "id": "03fc9fbc",
   "metadata": {
    "papermill": {
     "duration": 0.021047,
     "end_time": "2022-06-10T20:57:58.301526",
     "exception": false,
     "start_time": "2022-06-10T20:57:58.280479",
     "status": "completed"
    },
    "tags": []
   },
   "source": [
    "#### **3. Other Resources**"
   ]
  },
  {
   "cell_type": "code",
   "execution_count": 38,
   "id": "efc5bb55",
   "metadata": {
    "execution": {
     "iopub.execute_input": "2022-06-10T20:57:58.346749Z",
     "iopub.status.busy": "2022-06-10T20:57:58.346116Z",
     "iopub.status.idle": "2022-06-10T20:57:58.358876Z",
     "shell.execute_reply": "2022-06-10T20:57:58.358012Z"
    },
    "papermill": {
     "duration": 0.038979,
     "end_time": "2022-06-10T20:57:58.361670",
     "exception": false,
     "start_time": "2022-06-10T20:57:58.322691",
     "status": "completed"
    },
    "tags": []
   },
   "outputs": [],
   "source": [
    "fossil = df.groupby(y)['Fossil gas[MWh]'].mean()\n",
    "other_c = df.groupby(y)['Other conventional[MWh]'].mean()"
   ]
  },
  {
   "cell_type": "code",
   "execution_count": 39,
   "id": "578eccc2",
   "metadata": {
    "execution": {
     "iopub.execute_input": "2022-06-10T20:57:58.403934Z",
     "iopub.status.busy": "2022-06-10T20:57:58.403328Z",
     "iopub.status.idle": "2022-06-10T20:57:58.837700Z",
     "shell.execute_reply": "2022-06-10T20:57:58.836951Z"
    },
    "papermill": {
     "duration": 0.458141,
     "end_time": "2022-06-10T20:57:58.839884",
     "exception": false,
     "start_time": "2022-06-10T20:57:58.381743",
     "status": "completed"
    },
    "tags": []
   },
   "outputs": [
    {
     "data": {
      "image/png": "[encoded data removed]",
      "text/plain": [
       "<Figure size 864x360 with 2 Axes>"
      ]
     },
     "metadata": {
      "needs_background": "light"
     },
     "output_type": "display_data"
    }
   ],
   "source": [
    "fig, ax = plt.subplots(1, 2, figsize=(12, 5))\n",
    "\n",
    "sns.barplot(data=df, x=fossil.index.astype(int), y=fossil, ax=ax[0])\n",
    "ax[0].set_title(\"Fossil Gas-generated Energy\", size=15)\n",
    "ax[0].set_xlabel(\"Year\", size=12)\n",
    "ax[0].set_ylabel(\"Energy\",size=12)\n",
    "\n",
    "\n",
    "sns.barplot(data=df, x=other_c.index.astype(int), y=other_c, ax=ax[1])\n",
    "ax[1].set_title(\"Other Conventional-generated Energy\", size=15)\n",
    "ax[1].set_xlabel(\"Year\", size=12)\n",
    "ax[1].set_ylabel(\"Energy\",size=12)\n",
    "\n",
    "plt.show()"
   ]
  },
  {
   "cell_type": "markdown",
   "id": "35c3a330",
   "metadata": {
    "papermill": {
     "duration": 0.018274,
     "end_time": "2022-06-10T20:57:58.877506",
     "exception": false,
     "start_time": "2022-06-10T20:57:58.859232",
     "status": "completed"
    },
    "tags": []
   },
   "source": [
    "# **Conclusion**\n",
    "\n",
    "* **1. Figure out general energy status with % from each energy generation resources.**\n",
    "    * **Total Energy (100%) status in Germany** \n",
    "        * Renewable Energy (50%)\n",
    "        * Dispatchable Fuel Resources (40%)\n",
    "        * Other (10%) (Fossile gas, etc)\n",
    "        \n",
    "        <br>\n",
    "        \n",
    "    * **Renewable Energy**\n",
    "        * Wind (50%)\n",
    "        * Solar (18%)\n",
    "        * Biomass (17%)\n",
    "        * Hydro (14%)\n",
    "        * Other (1%)\n",
    "        \n",
    "        <br>\n",
    "        \n",
    "    * **Dispatchable Fuel Resources**\n",
    "        * Lignite (46%)\n",
    "        * Nuclear (30%)\n",
    "        * Hard coal (23%)\n",
    "        \n",
    "        <br>\n",
    "        \n",
    "        \n",
    "* **2. Find out the increase/decrease of each energy generation resources.**\n",
    "    * This dataset shows clearly that the generation of dispatchable fuel resources (such as nuclear, coal) are decreased, while the generation of energy with renewable resources are increased. This makes sense, since the goverment of germany offcially announced that they are planning to increase the energy-generation-rate of renewable resources, while they phase out all dispatchable fuel resources till 2030.\n",
    "        \n"
   ]
  }
 ],
 "metadata": {
  "kernelspec": {
   "display_name": "Python 3",
   "language": "python",
   "name": "python3"
  },
  "language_info": {
   "codemirror_mode": {
    "name": "ipython",
    "version": 3
   },
   "file_extension": ".py",
   "mimetype": "text/x-python",
   "name": "python",
   "nbconvert_exporter": "python",
   "pygments_lexer": "ipython3",
   "version": "3.7.12"
  },
  "papermill": {
   "default_parameters": {},
   "duration": 17.941451,
   "end_time": "2022-06-10T20:57:59.921353",
   "environment_variables": {},
   "exception": null,
   "input_path": "__notebook__.ipynb",
   "output_path": "__notebook__.ipynb",
   "parameters": {},
   "start_time": "2022-06-10T20:57:41.979902",
   "version": "2.3.4"
  }
 },
 "nbformat": 4,
 "nbformat_minor": 5
}
