{
 "cells": [
  {
   "cell_type": "code",
   "execution_count": 1,
   "id": "eff999da",
   "metadata": {
    "execution": {
     "iopub.execute_input": "2022-05-25T09:24:42.530936Z",
     "iopub.status.busy": "2022-05-25T09:24:42.530304Z",
     "iopub.status.idle": "2022-05-25T09:24:43.686110Z",
     "shell.execute_reply": "2022-05-25T09:24:43.684853Z"
    },
    "papermill": {
     "duration": 1.208507,
     "end_time": "2022-05-25T09:24:43.688889",
     "exception": false,
     "start_time": "2022-05-25T09:24:42.480382",
     "status": "completed"
    },
    "tags": []
   },
   "outputs": [
    {
     "name": "stdout",
     "output_type": "stream",
     "text": [
      "complete\n"
     ]
    }
   ],
   "source": [
    "import pandas as pd\n",
    "pd.plotting.register_matplotlib_converters()\n",
    "import matplotlib.pyplot as plt\n",
    "%matplotlib inline\n",
    "import seaborn as sns\n",
    "pd.options.display.float_format = '{:,.2f}'.format  \n",
    "pd.options.display.max_columns = 999\n",
    "print(\"complete\")"
   ]
  },
  {
   "cell_type": "markdown",
   "id": "1718567a",
   "metadata": {
    "papermill": {
     "duration": 0.04142,
     "end_time": "2022-05-25T09:24:43.772865",
     "exception": false,
     "start_time": "2022-05-25T09:24:43.731445",
     "status": "completed"
    },
    "tags": []
   },
   "source": [
    "# EDA and Questions\n",
    "### what sorts of people were more likely to survive?"
   ]
  },
  {
   "cell_type": "code",
   "execution_count": 2,
   "id": "70ae540e",
   "metadata": {
    "execution": {
     "iopub.execute_input": "2022-05-25T09:24:43.863330Z",
     "iopub.status.busy": "2022-05-25T09:24:43.863035Z",
     "iopub.status.idle": "2022-05-25T09:24:43.899851Z",
     "shell.execute_reply": "2022-05-25T09:24:43.898973Z"
    },
    "papermill": {
     "duration": 0.085205,
     "end_time": "2022-05-25T09:24:43.902489",
     "exception": false,
     "start_time": "2022-05-25T09:24:43.817284",
     "status": "completed"
    },
    "tags": []
   },
   "outputs": [
    {
     "data": {
      "text/html": [
       "<div>\n",
       "<style scoped>\n",
       "    .dataframe tbody tr th:only-of-type {\n",
       "        vertical-align: middle;\n",
       "    }\n",
       "\n",
       "    .dataframe tbody tr th {\n",
       "        vertical-align: top;\n",
       "    }\n",
       "\n",
       "    .dataframe thead th {\n",
       "        text-align: right;\n",
       "    }\n",
       "</style>\n",
       "<table border=\"1\" class=\"dataframe\">\n",
       "  <thead>\n",
       "    <tr style=\"text-align: right;\">\n",
       "      <th></th>\n",
       "      <th>PassengerId</th>\n",
       "      <th>Survived</th>\n",
       "      <th>Pclass</th>\n",
       "      <th>Name</th>\n",
       "      <th>Sex</th>\n",
       "      <th>Age</th>\n",
       "      <th>SibSp</th>\n",
       "      <th>Parch</th>\n",
       "      <th>Ticket</th>\n",
       "      <th>Fare</th>\n",
       "      <th>Cabin</th>\n",
       "      <th>Embarked</th>\n",
       "    </tr>\n",
       "  </thead>\n",
       "  <tbody>\n",
       "    <tr>\n",
       "      <th>0</th>\n",
       "      <td>1</td>\n",
       "      <td>0</td>\n",
       "      <td>3</td>\n",
       "      <td>Braund, Mr. Owen Harris</td>\n",
       "      <td>male</td>\n",
       "      <td>22.00</td>\n",
       "      <td>1</td>\n",
       "      <td>0</td>\n",
       "      <td>A/5 21171</td>\n",
       "      <td>7.25</td>\n",
       "      <td>NaN</td>\n",
       "      <td>S</td>\n",
       "    </tr>\n",
       "    <tr>\n",
       "      <th>1</th>\n",
       "      <td>2</td>\n",
       "      <td>1</td>\n",
       "      <td>1</td>\n",
       "      <td>Cumings, Mrs. John Bradley (Florence Briggs Th...</td>\n",
       "      <td>female</td>\n",
       "      <td>38.00</td>\n",
       "      <td>1</td>\n",
       "      <td>0</td>\n",
       "      <td>PC 17599</td>\n",
       "      <td>71.28</td>\n",
       "      <td>C85</td>\n",
       "      <td>C</td>\n",
       "    </tr>\n",
       "    <tr>\n",
       "      <th>2</th>\n",
       "      <td>3</td>\n",
       "      <td>1</td>\n",
       "      <td>3</td>\n",
       "      <td>Heikkinen, Miss. Laina</td>\n",
       "      <td>female</td>\n",
       "      <td>26.00</td>\n",
       "      <td>0</td>\n",
       "      <td>0</td>\n",
       "      <td>STON/O2. 3101282</td>\n",
       "      <td>7.92</td>\n",
       "      <td>NaN</td>\n",
       "      <td>S</td>\n",
       "    </tr>\n",
       "    <tr>\n",
       "      <th>3</th>\n",
       "      <td>4</td>\n",
       "      <td>1</td>\n",
       "      <td>1</td>\n",
       "      <td>Futrelle, Mrs. Jacques Heath (Lily May Peel)</td>\n",
       "      <td>female</td>\n",
       "      <td>35.00</td>\n",
       "      <td>1</td>\n",
       "      <td>0</td>\n",
       "      <td>113803</td>\n",
       "      <td>53.10</td>\n",
       "      <td>C123</td>\n",
       "      <td>S</td>\n",
       "    </tr>\n",
       "    <tr>\n",
       "      <th>4</th>\n",
       "      <td>5</td>\n",
       "      <td>0</td>\n",
       "      <td>3</td>\n",
       "      <td>Allen, Mr. William Henry</td>\n",
       "      <td>male</td>\n",
       "      <td>35.00</td>\n",
       "      <td>0</td>\n",
       "      <td>0</td>\n",
       "      <td>373450</td>\n",
       "      <td>8.05</td>\n",
       "      <td>NaN</td>\n",
       "      <td>S</td>\n",
       "    </tr>\n",
       "  </tbody>\n",
       "</table>\n",
       "</div>"
      ],
      "text/plain": [
       "   PassengerId  Survived  Pclass  \\\n",
       "0            1         0       3   \n",
       "1            2         1       1   \n",
       "2            3         1       3   \n",
       "3            4         1       1   \n",
       "4            5         0       3   \n",
       "\n",
       "                                                Name     Sex   Age  SibSp  \\\n",
       "0                            Braund, Mr. Owen Harris    male 22.00      1   \n",
       "1  Cumings, Mrs. John Bradley (Florence Briggs Th...  female 38.00      1   \n",
       "2                             Heikkinen, Miss. Laina  female 26.00      0   \n",
       "3       Futrelle, Mrs. Jacques Heath (Lily May Peel)  female 35.00      1   \n",
       "4                           Allen, Mr. William Henry    male 35.00      0   \n",
       "\n",
       "   Parch            Ticket  Fare Cabin Embarked  \n",
       "0      0         A/5 21171  7.25   NaN        S  \n",
       "1      0          PC 17599 71.28   C85        C  \n",
       "2      0  STON/O2. 3101282  7.92   NaN        S  \n",
       "3      0            113803 53.10  C123        S  \n",
       "4      0            373450  8.05   NaN        S  "
      ]
     },
     "execution_count": 2,
     "metadata": {},
     "output_type": "execute_result"
    }
   ],
   "source": [
    "df = pd.read_csv(\"../input/titanic/train.csv\")\n",
    "df.head()"
   ]
  },
  {
   "cell_type": "code",
   "execution_count": 3,
   "id": "2b597b1e",
   "metadata": {
    "execution": {
     "iopub.execute_input": "2022-05-25T09:24:43.989998Z",
     "iopub.status.busy": "2022-05-25T09:24:43.989702Z",
     "iopub.status.idle": "2022-05-25T09:24:43.995180Z",
     "shell.execute_reply": "2022-05-25T09:24:43.994578Z"
    },
    "papermill": {
     "duration": 0.052282,
     "end_time": "2022-05-25T09:24:43.997356",
     "exception": false,
     "start_time": "2022-05-25T09:24:43.945074",
     "status": "completed"
    },
    "tags": []
   },
   "outputs": [
    {
     "data": {
      "text/plain": [
       "(891, 12)"
      ]
     },
     "execution_count": 3,
     "metadata": {},
     "output_type": "execute_result"
    }
   ],
   "source": [
    "df.shape"
   ]
  },
  {
   "cell_type": "code",
   "execution_count": 4,
   "id": "09a41143",
   "metadata": {
    "execution": {
     "iopub.execute_input": "2022-05-25T09:24:44.085729Z",
     "iopub.status.busy": "2022-05-25T09:24:44.085424Z",
     "iopub.status.idle": "2022-05-25T09:24:44.110849Z",
     "shell.execute_reply": "2022-05-25T09:24:44.110024Z"
    },
    "papermill": {
     "duration": 0.072686,
     "end_time": "2022-05-25T09:24:44.113478",
     "exception": false,
     "start_time": "2022-05-25T09:24:44.040792",
     "status": "completed"
    },
    "tags": []
   },
   "outputs": [
    {
     "name": "stdout",
     "output_type": "stream",
     "text": [
      "<class 'pandas.core.frame.DataFrame'>\n",
      "RangeIndex: 891 entries, 0 to 890\n",
      "Data columns (total 12 columns):\n",
      " #   Column       Non-Null Count  Dtype  \n",
      "---  ------       --------------  -----  \n",
      " 0   PassengerId  891 non-null    int64  \n",
      " 1   Survived     891 non-null    int64  \n",
      " 2   Pclass       891 non-null    int64  \n",
      " 3   Name         891 non-null    object \n",
      " 4   Sex          891 non-null    object \n",
      " 5   Age          714 non-null    float64\n",
      " 6   SibSp        891 non-null    int64  \n",
      " 7   Parch        891 non-null    int64  \n",
      " 8   Ticket       891 non-null    object \n",
      " 9   Fare         891 non-null    float64\n",
      " 10  Cabin        204 non-null    object \n",
      " 11  Embarked     889 non-null    object \n",
      "dtypes: float64(2), int64(5), object(5)\n",
      "memory usage: 83.7+ KB\n"
     ]
    }
   ],
   "source": [
    "df.info()"
   ]
  },
  {
   "cell_type": "code",
   "execution_count": 5,
   "id": "f3833f59",
   "metadata": {
    "execution": {
     "iopub.execute_input": "2022-05-25T09:24:44.201021Z",
     "iopub.status.busy": "2022-05-25T09:24:44.200718Z",
     "iopub.status.idle": "2022-05-25T09:24:44.232550Z",
     "shell.execute_reply": "2022-05-25T09:24:44.231727Z"
    },
    "papermill": {
     "duration": 0.078234,
     "end_time": "2022-05-25T09:24:44.234698",
     "exception": false,
     "start_time": "2022-05-25T09:24:44.156464",
     "status": "completed"
    },
    "tags": []
   },
   "outputs": [
    {
     "data": {
      "text/html": [
       "<div>\n",
       "<style scoped>\n",
       "    .dataframe tbody tr th:only-of-type {\n",
       "        vertical-align: middle;\n",
       "    }\n",
       "\n",
       "    .dataframe tbody tr th {\n",
       "        vertical-align: top;\n",
       "    }\n",
       "\n",
       "    .dataframe thead th {\n",
       "        text-align: right;\n",
       "    }\n",
       "</style>\n",
       "<table border=\"1\" class=\"dataframe\">\n",
       "  <thead>\n",
       "    <tr style=\"text-align: right;\">\n",
       "      <th></th>\n",
       "      <th>PassengerId</th>\n",
       "      <th>Survived</th>\n",
       "      <th>Pclass</th>\n",
       "      <th>Age</th>\n",
       "      <th>SibSp</th>\n",
       "      <th>Parch</th>\n",
       "      <th>Fare</th>\n",
       "    </tr>\n",
       "  </thead>\n",
       "  <tbody>\n",
       "    <tr>\n",
       "      <th>count</th>\n",
       "      <td>891.00</td>\n",
       "      <td>891.00</td>\n",
       "      <td>891.00</td>\n",
       "      <td>714.00</td>\n",
       "      <td>891.00</td>\n",
       "      <td>891.00</td>\n",
       "      <td>891.00</td>\n",
       "    </tr>\n",
       "    <tr>\n",
       "      <th>mean</th>\n",
       "      <td>446.00</td>\n",
       "      <td>0.38</td>\n",
       "      <td>2.31</td>\n",
       "      <td>29.70</td>\n",
       "      <td>0.52</td>\n",
       "      <td>0.38</td>\n",
       "      <td>32.20</td>\n",
       "    </tr>\n",
       "    <tr>\n",
       "      <th>std</th>\n",
       "      <td>257.35</td>\n",
       "      <td>0.49</td>\n",
       "      <td>0.84</td>\n",
       "      <td>14.53</td>\n",
       "      <td>1.10</td>\n",
       "      <td>0.81</td>\n",
       "      <td>49.69</td>\n",
       "    </tr>\n",
       "    <tr>\n",
       "      <th>min</th>\n",
       "      <td>1.00</td>\n",
       "      <td>0.00</td>\n",
       "      <td>1.00</td>\n",
       "      <td>0.42</td>\n",
       "      <td>0.00</td>\n",
       "      <td>0.00</td>\n",
       "      <td>0.00</td>\n",
       "    </tr>\n",
       "    <tr>\n",
       "      <th>25%</th>\n",
       "      <td>223.50</td>\n",
       "      <td>0.00</td>\n",
       "      <td>2.00</td>\n",
       "      <td>20.12</td>\n",
       "      <td>0.00</td>\n",
       "      <td>0.00</td>\n",
       "      <td>7.91</td>\n",
       "    </tr>\n",
       "    <tr>\n",
       "      <th>50%</th>\n",
       "      <td>446.00</td>\n",
       "      <td>0.00</td>\n",
       "      <td>3.00</td>\n",
       "      <td>28.00</td>\n",
       "      <td>0.00</td>\n",
       "      <td>0.00</td>\n",
       "      <td>14.45</td>\n",
       "    </tr>\n",
       "    <tr>\n",
       "      <th>75%</th>\n",
       "      <td>668.50</td>\n",
       "      <td>1.00</td>\n",
       "      <td>3.00</td>\n",
       "      <td>38.00</td>\n",
       "      <td>1.00</td>\n",
       "      <td>0.00</td>\n",
       "      <td>31.00</td>\n",
       "    </tr>\n",
       "    <tr>\n",
       "      <th>max</th>\n",
       "      <td>891.00</td>\n",
       "      <td>1.00</td>\n",
       "      <td>3.00</td>\n",
       "      <td>80.00</td>\n",
       "      <td>8.00</td>\n",
       "      <td>6.00</td>\n",
       "      <td>512.33</td>\n",
       "    </tr>\n",
       "  </tbody>\n",
       "</table>\n",
       "</div>"
      ],
      "text/plain": [
       "       PassengerId  Survived  Pclass    Age  SibSp  Parch   Fare\n",
       "count       891.00    891.00  891.00 714.00 891.00 891.00 891.00\n",
       "mean        446.00      0.38    2.31  29.70   0.52   0.38  32.20\n",
       "std         257.35      0.49    0.84  14.53   1.10   0.81  49.69\n",
       "min           1.00      0.00    1.00   0.42   0.00   0.00   0.00\n",
       "25%         223.50      0.00    2.00  20.12   0.00   0.00   7.91\n",
       "50%         446.00      0.00    3.00  28.00   0.00   0.00  14.45\n",
       "75%         668.50      1.00    3.00  38.00   1.00   0.00  31.00\n",
       "max         891.00      1.00    3.00  80.00   8.00   6.00 512.33"
      ]
     },
     "execution_count": 5,
     "metadata": {},
     "output_type": "execute_result"
    }
   ],
   "source": [
    "df.describe()"
   ]
  },
  {
   "cell_type": "markdown",
   "id": "a5eb3700",
   "metadata": {
    "papermill": {
     "duration": 0.04492,
     "end_time": "2022-05-25T09:24:44.323676",
     "exception": false,
     "start_time": "2022-05-25T09:24:44.278756",
     "status": "completed"
    },
    "tags": []
   },
   "source": [
    "**Null value check**"
   ]
  },
  {
   "cell_type": "code",
   "execution_count": 6,
   "id": "53825c76",
   "metadata": {
    "execution": {
     "iopub.execute_input": "2022-05-25T09:24:44.413017Z",
     "iopub.status.busy": "2022-05-25T09:24:44.412723Z",
     "iopub.status.idle": "2022-05-25T09:24:44.421302Z",
     "shell.execute_reply": "2022-05-25T09:24:44.420627Z"
    },
    "papermill": {
     "duration": 0.055441,
     "end_time": "2022-05-25T09:24:44.423082",
     "exception": false,
     "start_time": "2022-05-25T09:24:44.367641",
     "status": "completed"
    },
    "tags": []
   },
   "outputs": [
    {
     "data": {
      "text/plain": [
       "PassengerId      0\n",
       "Survived         0\n",
       "Pclass           0\n",
       "Name             0\n",
       "Sex              0\n",
       "Age            177\n",
       "SibSp            0\n",
       "Parch            0\n",
       "Ticket           0\n",
       "Fare             0\n",
       "Cabin          687\n",
       "Embarked         2\n",
       "dtype: int64"
      ]
     },
     "execution_count": 6,
     "metadata": {},
     "output_type": "execute_result"
    }
   ],
   "source": [
    "df.isnull().sum()"
   ]
  },
  {
   "cell_type": "markdown",
   "id": "e56fd7e8",
   "metadata": {
    "papermill": {
     "duration": 0.043909,
     "end_time": "2022-05-25T09:24:44.510939",
     "exception": false,
     "start_time": "2022-05-25T09:24:44.467030",
     "status": "completed"
    },
    "tags": []
   },
   "source": [
    "There is a lot of null values in Cabin column and also a bit much in Age."
   ]
  },
  {
   "cell_type": "markdown",
   "id": "73a2913b",
   "metadata": {
    "papermill": {
     "duration": 0.043937,
     "end_time": "2022-05-25T09:24:44.600021",
     "exception": false,
     "start_time": "2022-05-25T09:24:44.556084",
     "status": "completed"
    },
    "tags": []
   },
   "source": [
    "#### **How many people are survived?**"
   ]
  },
  {
   "cell_type": "code",
   "execution_count": 7,
   "id": "ba7c9479",
   "metadata": {
    "execution": {
     "iopub.execute_input": "2022-05-25T09:24:44.690803Z",
     "iopub.status.busy": "2022-05-25T09:24:44.690517Z",
     "iopub.status.idle": "2022-05-25T09:24:44.697483Z",
     "shell.execute_reply": "2022-05-25T09:24:44.696438Z"
    },
    "papermill": {
     "duration": 0.054695,
     "end_time": "2022-05-25T09:24:44.699503",
     "exception": false,
     "start_time": "2022-05-25T09:24:44.644808",
     "status": "completed"
    },
    "tags": []
   },
   "outputs": [
    {
     "data": {
      "text/plain": [
       "0    549\n",
       "1    342\n",
       "Name: Survived, dtype: int64"
      ]
     },
     "execution_count": 7,
     "metadata": {},
     "output_type": "execute_result"
    }
   ],
   "source": [
    "df['Survived'].value_counts()"
   ]
  },
  {
   "cell_type": "code",
   "execution_count": 8,
   "id": "0c8806e3",
   "metadata": {
    "execution": {
     "iopub.execute_input": "2022-05-25T09:24:44.793611Z",
     "iopub.status.busy": "2022-05-25T09:24:44.793319Z",
     "iopub.status.idle": "2022-05-25T09:24:44.993077Z",
     "shell.execute_reply": "2022-05-25T09:24:44.992157Z"
    },
    "papermill": {
     "duration": 0.249402,
     "end_time": "2022-05-25T09:24:44.995418",
     "exception": false,
     "start_time": "2022-05-25T09:24:44.746016",
     "status": "completed"
    },
    "tags": []
   },
   "outputs": [
    {
     "data": {
      "image/png": "[encoded data removed]",
      "text/plain": [
       "<Figure size 360x360 with 1 Axes>"
      ]
     },
     "metadata": {
      "needs_background": "light"
     },
     "output_type": "display_data"
    }
   ],
   "source": [
    "fig, ax = plt.subplots(figsize=(5,5))\n",
    "\n",
    "sns.countplot(data=df, x='Survived', ax=ax)\n",
    "\n",
    "ax.set_title(\"How many people are survived?\", size=15)\n",
    "\n",
    "plt.show()"
   ]
  },
  {
   "cell_type": "markdown",
   "id": "64d911aa",
   "metadata": {
    "papermill": {
     "duration": 0.046626,
     "end_time": "2022-05-25T09:24:45.088567",
     "exception": false,
     "start_time": "2022-05-25T09:24:45.041941",
     "status": "completed"
    },
    "tags": []
   },
   "source": [
    "As we can see, there are more people, who are not survived than who are survived.\n",
    "* Total 891\n",
    "* Death 549\n",
    "* Survived 342"
   ]
  },
  {
   "cell_type": "code",
   "execution_count": 9,
   "id": "6960e7a2",
   "metadata": {
    "execution": {
     "iopub.execute_input": "2022-05-25T09:24:45.182122Z",
     "iopub.status.busy": "2022-05-25T09:24:45.181537Z",
     "iopub.status.idle": "2022-05-25T09:24:45.190009Z",
     "shell.execute_reply": "2022-05-25T09:24:45.189170Z"
    },
    "papermill": {
     "duration": 0.057238,
     "end_time": "2022-05-25T09:24:45.192012",
     "exception": false,
     "start_time": "2022-05-25T09:24:45.134774",
     "status": "completed"
    },
    "tags": []
   },
   "outputs": [
    {
     "data": {
      "text/plain": [
       "Pclass        -0.34\n",
       "Age           -0.08\n",
       "SibSp         -0.04\n",
       "PassengerId   -0.01\n",
       "Parch          0.08\n",
       "Fare           0.26\n",
       "Survived       1.00\n",
       "Name: Survived, dtype: float64"
      ]
     },
     "execution_count": 9,
     "metadata": {},
     "output_type": "execute_result"
    }
   ],
   "source": [
    "df.corr()['Survived'].sort_values()"
   ]
  },
  {
   "cell_type": "markdown",
   "id": "4881c49e",
   "metadata": {
    "papermill": {
     "duration": 0.046084,
     "end_time": "2022-05-25T09:24:45.284276",
     "exception": false,
     "start_time": "2022-05-25T09:24:45.238192",
     "status": "completed"
    },
    "tags": []
   },
   "source": [
    "Here we observe the good correlation between **Fare** and **Survived**. It means that it has to do with **Pclass**.\n",
    "<br>\n",
    "But first let's check out **Sex** and **Age** attributes."
   ]
  },
  {
   "cell_type": "markdown",
   "id": "3246862f",
   "metadata": {
    "papermill": {
     "duration": 0.045574,
     "end_time": "2022-05-25T09:24:45.375813",
     "exception": false,
     "start_time": "2022-05-25T09:24:45.330239",
     "status": "completed"
    },
    "tags": []
   },
   "source": [
    "#### **Sex vs Survived**"
   ]
  },
  {
   "cell_type": "code",
   "execution_count": 10,
   "id": "6ffd2662",
   "metadata": {
    "execution": {
     "iopub.execute_input": "2022-05-25T09:24:45.469858Z",
     "iopub.status.busy": "2022-05-25T09:24:45.469278Z",
     "iopub.status.idle": "2022-05-25T09:24:45.478383Z",
     "shell.execute_reply": "2022-05-25T09:24:45.477560Z"
    },
    "papermill": {
     "duration": 0.058588,
     "end_time": "2022-05-25T09:24:45.480393",
     "exception": false,
     "start_time": "2022-05-25T09:24:45.421805",
     "status": "completed"
    },
    "tags": []
   },
   "outputs": [
    {
     "data": {
      "text/plain": [
       "Sex     Survived\n",
       "female  1           233\n",
       "        0            81\n",
       "male    0           468\n",
       "        1           109\n",
       "Name: Survived, dtype: int64"
      ]
     },
     "execution_count": 10,
     "metadata": {},
     "output_type": "execute_result"
    }
   ],
   "source": [
    "df.groupby('Sex')['Survived'].value_counts()"
   ]
  },
  {
   "cell_type": "markdown",
   "id": "0ea9943e",
   "metadata": {
    "papermill": {
     "duration": 0.045876,
     "end_time": "2022-05-25T09:24:45.572464",
     "exception": false,
     "start_time": "2022-05-25T09:24:45.526588",
     "status": "completed"
    },
    "tags": []
   },
   "source": [
    "This shows that:-\n",
    "* Male\n",
    "    * Total 577\n",
    "    * Death 468\n",
    "    * Survived 109\n",
    "    * Rate of Death 81.1%\n",
    "* Female\n",
    "    * Total 314\n",
    "    * Death 81\n",
    "    * Survived 233\n",
    "    * Rate of Death 34.8%"
   ]
  },
  {
   "cell_type": "code",
   "execution_count": 11,
   "id": "6412d030",
   "metadata": {
    "execution": {
     "iopub.execute_input": "2022-05-25T09:24:45.667406Z",
     "iopub.status.busy": "2022-05-25T09:24:45.666799Z",
     "iopub.status.idle": "2022-05-25T09:24:46.041598Z",
     "shell.execute_reply": "2022-05-25T09:24:46.040769Z"
    },
    "papermill": {
     "duration": 0.424989,
     "end_time": "2022-05-25T09:24:46.044062",
     "exception": false,
     "start_time": "2022-05-25T09:24:45.619073",
     "status": "completed"
    },
    "tags": []
   },
   "outputs": [
    {
     "data": {
      "image/png": "[encoded data removed]",
      "text/plain": [
       "<Figure size 1008x432 with 2 Axes>"
      ]
     },
     "metadata": {
      "needs_background": "light"
     },
     "output_type": "display_data"
    }
   ],
   "source": [
    "fig, ax = plt.subplots(1, 2, figsize=(14,6))\n",
    "\n",
    "sns.barplot(data=df, x='Sex', y=\"Survived\", ax=ax[0])\n",
    "ax[0].set_title('Male vs Female')\n",
    "\n",
    "sns.countplot(data=df, x='Sex', hue='Survived',ax=ax[1])\n",
    "ax[1].set_title('How many male and female are survived?')\n",
    "\n",
    "plt.show()"
   ]
  },
  {
   "cell_type": "markdown",
   "id": "87ed59d1",
   "metadata": {
    "papermill": {
     "duration": 0.04806,
     "end_time": "2022-05-25T09:24:46.141591",
     "exception": false,
     "start_time": "2022-05-25T09:24:46.093531",
     "status": "completed"
    },
    "tags": []
   },
   "source": [
    "We observe that:-\n",
    "Female survived much more than male.\n",
    "<br>\n",
    "This shows clearly that sex is a very correlative feature of surviving."
   ]
  },
  {
   "cell_type": "markdown",
   "id": "dd19e322",
   "metadata": {
    "papermill": {
     "duration": 0.047076,
     "end_time": "2022-05-25T09:24:46.236122",
     "exception": false,
     "start_time": "2022-05-25T09:24:46.189046",
     "status": "completed"
    },
    "tags": []
   },
   "source": [
    "#### **Age vs Survived**"
   ]
  },
  {
   "cell_type": "code",
   "execution_count": 12,
   "id": "c95dedd8",
   "metadata": {
    "execution": {
     "iopub.execute_input": "2022-05-25T09:24:46.332556Z",
     "iopub.status.busy": "2022-05-25T09:24:46.332302Z",
     "iopub.status.idle": "2022-05-25T09:24:46.342643Z",
     "shell.execute_reply": "2022-05-25T09:24:46.341745Z"
    },
    "papermill": {
     "duration": 0.061225,
     "end_time": "2022-05-25T09:24:46.344781",
     "exception": false,
     "start_time": "2022-05-25T09:24:46.283556",
     "status": "completed"
    },
    "tags": []
   },
   "outputs": [
    {
     "data": {
      "text/plain": [
       "count   714.00\n",
       "mean     29.70\n",
       "std      14.53\n",
       "min       0.42\n",
       "25%      20.12\n",
       "50%      28.00\n",
       "75%      38.00\n",
       "max      80.00\n",
       "Name: Age, dtype: float64"
      ]
     },
     "execution_count": 12,
     "metadata": {},
     "output_type": "execute_result"
    }
   ],
   "source": [
    "df['Age'].describe()"
   ]
  },
  {
   "cell_type": "code",
   "execution_count": 13,
   "id": "49457a2d",
   "metadata": {
    "execution": {
     "iopub.execute_input": "2022-05-25T09:24:46.443614Z",
     "iopub.status.busy": "2022-05-25T09:24:46.443048Z",
     "iopub.status.idle": "2022-05-25T09:24:46.449790Z",
     "shell.execute_reply": "2022-05-25T09:24:46.449158Z"
    },
    "papermill": {
     "duration": 0.05885,
     "end_time": "2022-05-25T09:24:46.451963",
     "exception": false,
     "start_time": "2022-05-25T09:24:46.393113",
     "status": "completed"
    },
    "tags": []
   },
   "outputs": [],
   "source": [
    "male = df[df['Sex'] == 'male']\n",
    "female = df[df['Sex'] == 'female']"
   ]
  },
  {
   "cell_type": "code",
   "execution_count": 14,
   "id": "ad1cbc60",
   "metadata": {
    "execution": {
     "iopub.execute_input": "2022-05-25T09:24:46.549294Z",
     "iopub.status.busy": "2022-05-25T09:24:46.548711Z",
     "iopub.status.idle": "2022-05-25T09:24:46.957038Z",
     "shell.execute_reply": "2022-05-25T09:24:46.956350Z"
    },
    "papermill": {
     "duration": 0.459609,
     "end_time": "2022-05-25T09:24:46.959148",
     "exception": false,
     "start_time": "2022-05-25T09:24:46.499539",
     "status": "completed"
    },
    "tags": []
   },
   "outputs": [
    {
     "data": {
      "image/png": "[encoded data removed]",
      "text/plain": [
       "<Figure size 1008x432 with 2 Axes>"
      ]
     },
     "metadata": {
      "needs_background": "light"
     },
     "output_type": "display_data"
    }
   ],
   "source": [
    "fig, ax = plt.subplots(1, 2, figsize=(14,6))\n",
    "\n",
    "sns.histplot(data=male, x='Age', ax=ax[0], bins=20)\n",
    "sns.histplot(data=female, x='Age', ax=ax[1], bins=20)\n",
    "\n",
    "ax[0].set_title(\"Male\")\n",
    "ax[1].set_title(\"Female\")\n",
    "\n",
    "plt.show()"
   ]
  },
  {
   "cell_type": "markdown",
   "id": "850a4f76",
   "metadata": {
    "papermill": {
     "duration": 0.04853,
     "end_time": "2022-05-25T09:24:47.057713",
     "exception": false,
     "start_time": "2022-05-25T09:24:47.009183",
     "status": "completed"
    },
    "tags": []
   },
   "source": [
    "This shosw that\n",
    "* There are males who mostly are between 20 ~ 30\n",
    "* There are females who mostly are bwtween 18 ~ 35 "
   ]
  },
  {
   "cell_type": "code",
   "execution_count": 15,
   "id": "dd8efbe4",
   "metadata": {
    "execution": {
     "iopub.execute_input": "2022-05-25T09:24:47.156483Z",
     "iopub.status.busy": "2022-05-25T09:24:47.155896Z",
     "iopub.status.idle": "2022-05-25T09:24:47.494746Z",
     "shell.execute_reply": "2022-05-25T09:24:47.493887Z"
    },
    "papermill": {
     "duration": 0.390896,
     "end_time": "2022-05-25T09:24:47.496989",
     "exception": false,
     "start_time": "2022-05-25T09:24:47.106093",
     "status": "completed"
    },
    "tags": []
   },
   "outputs": [
    {
     "data": {
      "image/png": "[encoded data removed]",
      "text/plain": [
       "<Figure size 720x432 with 1 Axes>"
      ]
     },
     "metadata": {
      "needs_background": "light"
     },
     "output_type": "display_data"
    }
   ],
   "source": [
    "age_dropped = df['Age'].dropna()\n",
    "\n",
    "fig, ax = plt.subplots(figsize=(10,6))\n",
    "\n",
    "sns.histplot(data=df, x=age_dropped, hue='Survived', kde=False, ax=ax, bins=20)\n",
    "\n",
    "ax.set_title('Survived on Age')\n",
    "\n",
    "plt.show()"
   ]
  },
  {
   "cell_type": "markdown",
   "id": "5383b7a1",
   "metadata": {
    "papermill": {
     "duration": 0.051469,
     "end_time": "2022-05-25T09:24:47.597919",
     "exception": false,
     "start_time": "2022-05-25T09:24:47.546450",
     "status": "completed"
    },
    "tags": []
   },
   "source": [
    "We observer that-\n",
    "* People who are between 20 and 30 are not survived mostly."
   ]
  },
  {
   "cell_type": "markdown",
   "id": "01d9edbf",
   "metadata": {
    "papermill": {
     "duration": 0.057457,
     "end_time": "2022-05-25T09:24:47.705480",
     "exception": false,
     "start_time": "2022-05-25T09:24:47.648023",
     "status": "completed"
    },
    "tags": []
   },
   "source": [
    "#### **Sex, Age vs Survived**"
   ]
  },
  {
   "cell_type": "code",
   "execution_count": 16,
   "id": "267a73ba",
   "metadata": {
    "execution": {
     "iopub.execute_input": "2022-05-25T09:24:47.822125Z",
     "iopub.status.busy": "2022-05-25T09:24:47.821541Z",
     "iopub.status.idle": "2022-05-25T09:24:47.829361Z",
     "shell.execute_reply": "2022-05-25T09:24:47.828706Z"
    },
    "papermill": {
     "duration": 0.064744,
     "end_time": "2022-05-25T09:24:47.831566",
     "exception": false,
     "start_time": "2022-05-25T09:24:47.766822",
     "status": "completed"
    },
    "tags": []
   },
   "outputs": [],
   "source": [
    "male = df[df['Sex'] == 'male']\n",
    "male_age_dropped = male['Age'].dropna()\n",
    "\n",
    "female = df[df['Sex'] == 'female']\n",
    "female_age_dropped = female['Age'].dropna()"
   ]
  },
  {
   "cell_type": "code",
   "execution_count": 17,
   "id": "17d9e844",
   "metadata": {
    "execution": {
     "iopub.execute_input": "2022-05-25T09:24:47.934188Z",
     "iopub.status.busy": "2022-05-25T09:24:47.933582Z",
     "iopub.status.idle": "2022-05-25T09:24:48.493850Z",
     "shell.execute_reply": "2022-05-25T09:24:48.493202Z"
    },
    "papermill": {
     "duration": 0.614945,
     "end_time": "2022-05-25T09:24:48.495848",
     "exception": false,
     "start_time": "2022-05-25T09:24:47.880903",
     "status": "completed"
    },
    "tags": []
   },
   "outputs": [
    {
     "data": {
      "image/png": "[encoded data removed]",
      "text/plain": [
       "<Figure size 864x576 with 2 Axes>"
      ]
     },
     "metadata": {
      "needs_background": "light"
     },
     "output_type": "display_data"
    }
   ],
   "source": [
    "fig, ax = plt.subplots(1, 2, figsize=(12,8))\n",
    "\n",
    "sns.histplot(data=male, x=male_age_dropped, hue='Survived', kde=False, ax=ax[0], bins=18)\n",
    "sns.histplot(data=female, x=female_age_dropped, hue='Survived', kde=False, ax=ax[1], bins=18)\n",
    "\n",
    "ax[0].set_title(\"How many males are survived on age\", size=15)\n",
    "ax[1].set_title(\"How many females are survived on age\", size=15)\n",
    "\n",
    "plt.show()"
   ]
  },
  {
   "cell_type": "markdown",
   "id": "22909f0e",
   "metadata": {
    "papermill": {
     "duration": 0.050325,
     "end_time": "2022-05-25T09:24:48.596891",
     "exception": false,
     "start_time": "2022-05-25T09:24:48.546566",
     "status": "completed"
    },
    "tags": []
   },
   "source": [
    "We observe that:-\n",
    "* **Male**\n",
    "    * age around 30 mostly survived\n",
    "    * age between 18 ~ 30 mostly not survived\n",
    "<br>    \n",
    "* **Female**\n",
    "    * age between 15 ~ 35 mostly survived\n",
    "    * age between 10 ~ 30 mostly not survived"
   ]
  },
  {
   "cell_type": "markdown",
   "id": "f5669a66",
   "metadata": {
    "papermill": {
     "duration": 0.051829,
     "end_time": "2022-05-25T09:24:48.699728",
     "exception": false,
     "start_time": "2022-05-25T09:24:48.647899",
     "status": "completed"
    },
    "tags": []
   },
   "source": [
    "#### **Pclass vs Survived**"
   ]
  },
  {
   "cell_type": "code",
   "execution_count": 18,
   "id": "c9a4ba9f",
   "metadata": {
    "execution": {
     "iopub.execute_input": "2022-05-25T09:24:48.813706Z",
     "iopub.status.busy": "2022-05-25T09:24:48.813177Z",
     "iopub.status.idle": "2022-05-25T09:24:49.116085Z",
     "shell.execute_reply": "2022-05-25T09:24:49.115117Z"
    },
    "papermill": {
     "duration": 0.363504,
     "end_time": "2022-05-25T09:24:49.118353",
     "exception": false,
     "start_time": "2022-05-25T09:24:48.754849",
     "status": "completed"
    },
    "tags": []
   },
   "outputs": [
    {
     "data": {
      "image/png": "[encoded data removed]",
      "text/plain": [
       "<Figure size 432x288 with 1 Axes>"
      ]
     },
     "metadata": {
      "needs_background": "light"
     },
     "output_type": "display_data"
    }
   ],
   "source": [
    "fig, ax = plt.subplots()\n",
    "\n",
    "sns.countplot(data=df, x='Pclass', ax=ax)\n",
    "\n",
    "ax.set_title(\"Count of Pclass\", size=15)\n",
    "\n",
    "plt.show()"
   ]
  },
  {
   "cell_type": "markdown",
   "id": "e394b3e4",
   "metadata": {
    "papermill": {
     "duration": 0.050974,
     "end_time": "2022-05-25T09:24:49.220809",
     "exception": false,
     "start_time": "2022-05-25T09:24:49.169835",
     "status": "completed"
    },
    "tags": []
   },
   "source": [
    "This shows that there are much more people who have a class 3 than class 1 or 2"
   ]
  },
  {
   "cell_type": "code",
   "execution_count": 19,
   "id": "b0589b99",
   "metadata": {
    "execution": {
     "iopub.execute_input": "2022-05-25T09:24:49.325132Z",
     "iopub.status.busy": "2022-05-25T09:24:49.324828Z",
     "iopub.status.idle": "2022-05-25T09:24:49.735824Z",
     "shell.execute_reply": "2022-05-25T09:24:49.735195Z"
    },
    "papermill": {
     "duration": 0.466071,
     "end_time": "2022-05-25T09:24:49.738142",
     "exception": false,
     "start_time": "2022-05-25T09:24:49.272071",
     "status": "completed"
    },
    "tags": []
   },
   "outputs": [
    {
     "data": {
      "image/png": "[encoded data removed]",
      "text/plain": [
       "<Figure size 432x288 with 1 Axes>"
      ]
     },
     "metadata": {
      "needs_background": "light"
     },
     "output_type": "display_data"
    }
   ],
   "source": [
    "fig, ax = plt.subplots()\n",
    "\n",
    "sns.barplot(x=\"Sex\", y=\"Survived\", hue=\"Pclass\", data=df, ax=ax)\n",
    "\n",
    "ax.set_title(\"Survived on Pclass\", size=15)\n",
    "\n",
    "plt.show()"
   ]
  },
  {
   "cell_type": "markdown",
   "id": "31759c7b",
   "metadata": {
    "papermill": {
     "duration": 0.052229,
     "end_time": "2022-05-25T09:24:49.843347",
     "exception": false,
     "start_time": "2022-05-25T09:24:49.791118",
     "status": "completed"
    },
    "tags": []
   },
   "source": [
    "We see it cleary that people, who had **Pclass 1**, are survived more than people who had **Pclass 2 or 3**.\n",
    "<br>\n",
    "But it shows that **Pclass** does not effect about surviving rate by females compared to males."
   ]
  },
  {
   "cell_type": "markdown",
   "id": "e952a3fc",
   "metadata": {
    "papermill": {
     "duration": 0.051685,
     "end_time": "2022-05-25T09:24:49.947360",
     "exception": false,
     "start_time": "2022-05-25T09:24:49.895675",
     "status": "completed"
    },
    "tags": []
   },
   "source": [
    "#### **Embarked vs Survived**"
   ]
  },
  {
   "cell_type": "code",
   "execution_count": 20,
   "id": "42f9400a",
   "metadata": {
    "execution": {
     "iopub.execute_input": "2022-05-25T09:24:50.053596Z",
     "iopub.status.busy": "2022-05-25T09:24:50.053322Z",
     "iopub.status.idle": "2022-05-25T09:24:50.270612Z",
     "shell.execute_reply": "2022-05-25T09:24:50.269745Z"
    },
    "papermill": {
     "duration": 0.273869,
     "end_time": "2022-05-25T09:24:50.273140",
     "exception": false,
     "start_time": "2022-05-25T09:24:49.999271",
     "status": "completed"
    },
    "tags": []
   },
   "outputs": [
    {
     "data": {
      "image/png": "[encoded data removed]",
      "text/plain": [
       "<Figure size 432x288 with 1 Axes>"
      ]
     },
     "metadata": {
      "needs_background": "light"
     },
     "output_type": "display_data"
    }
   ],
   "source": [
    "#C = Cherbourg, Q = Queenstown, S = Southampton\n",
    "\n",
    "fig, ax = plt.subplots()\n",
    "\n",
    "sns.countplot(data=df, x='Pclass', hue='Embarked', ax=ax)\n",
    "\n",
    "ax.set_title(\"Pclass of Embarked\", size=15)\n",
    "\n",
    "plt.show()"
   ]
  },
  {
   "cell_type": "code",
   "execution_count": 21,
   "id": "1ed7f87b",
   "metadata": {
    "execution": {
     "iopub.execute_input": "2022-05-25T09:24:50.381613Z",
     "iopub.status.busy": "2022-05-25T09:24:50.381307Z",
     "iopub.status.idle": "2022-05-25T09:24:50.788163Z",
     "shell.execute_reply": "2022-05-25T09:24:50.787175Z"
    },
    "papermill": {
     "duration": 0.464225,
     "end_time": "2022-05-25T09:24:50.790676",
     "exception": false,
     "start_time": "2022-05-25T09:24:50.326451",
     "status": "completed"
    },
    "tags": []
   },
   "outputs": [
    {
     "data": {
      "image/png": "[encoded data removed]",
      "text/plain": [
       "<Figure size 432x288 with 1 Axes>"
      ]
     },
     "metadata": {
      "needs_background": "light"
     },
     "output_type": "display_data"
    }
   ],
   "source": [
    "fig, ax = plt.subplots()\n",
    "\n",
    "sns.barplot(data=df, x='Sex', y='Survived', hue='Embarked', ax=ax)\n",
    "\n",
    "ax.set_title(\"Survived on Embarked\", size=15)\n",
    "\n",
    "plt.show()"
   ]
  },
  {
   "cell_type": "markdown",
   "id": "e5c51d98",
   "metadata": {
    "papermill": {
     "duration": 0.054014,
     "end_time": "2022-05-25T09:24:50.899420",
     "exception": false,
     "start_time": "2022-05-25T09:24:50.845406",
     "status": "completed"
    },
    "tags": []
   },
   "source": [
    "This shows that the survive rate of **Cherbourg** is the highst even than **South hampton**, where most people come from."
   ]
  },
  {
   "cell_type": "code",
   "execution_count": 22,
   "id": "2b2f0487",
   "metadata": {
    "execution": {
     "iopub.execute_input": "2022-05-25T09:24:51.012149Z",
     "iopub.status.busy": "2022-05-25T09:24:51.011470Z",
     "iopub.status.idle": "2022-05-25T09:24:51.021451Z",
     "shell.execute_reply": "2022-05-25T09:24:51.020599Z"
    },
    "papermill": {
     "duration": 0.067888,
     "end_time": "2022-05-25T09:24:51.023705",
     "exception": false,
     "start_time": "2022-05-25T09:24:50.955817",
     "status": "completed"
    },
    "tags": []
   },
   "outputs": [
    {
     "data": {
      "text/plain": [
       "Embarked  Survived\n",
       "C         1            93\n",
       "          0            75\n",
       "Q         0            47\n",
       "          1            30\n",
       "S         0           427\n",
       "          1           217\n",
       "Name: Survived, dtype: int64"
      ]
     },
     "execution_count": 22,
     "metadata": {},
     "output_type": "execute_result"
    }
   ],
   "source": [
    "df.groupby(\"Embarked\")['Survived'].value_counts()"
   ]
  },
  {
   "cell_type": "markdown",
   "id": "df95ed71",
   "metadata": {
    "papermill": {
     "duration": 0.054441,
     "end_time": "2022-05-25T09:24:51.136191",
     "exception": false,
     "start_time": "2022-05-25T09:24:51.081750",
     "status": "completed"
    },
    "tags": []
   },
   "source": [
    "Here we can calculate the **survive rate.**\n",
    "<br>\n",
    "* **S**: 33.7%\n",
    "* **Q**: 39%\n",
    "* **C**: 55.4%"
   ]
  },
  {
   "cell_type": "markdown",
   "id": "e7f6ebcd",
   "metadata": {
    "papermill": {
     "duration": 0.053917,
     "end_time": "2022-05-25T09:24:51.244673",
     "exception": false,
     "start_time": "2022-05-25T09:24:51.190756",
     "status": "completed"
    },
    "tags": []
   },
   "source": [
    "#### **Family vs Survived**"
   ]
  },
  {
   "cell_type": "code",
   "execution_count": 23,
   "id": "a91cdf1f",
   "metadata": {
    "execution": {
     "iopub.execute_input": "2022-05-25T09:24:51.358271Z",
     "iopub.status.busy": "2022-05-25T09:24:51.357495Z",
     "iopub.status.idle": "2022-05-25T09:24:51.372551Z",
     "shell.execute_reply": "2022-05-25T09:24:51.371587Z"
    },
    "papermill": {
     "duration": 0.074845,
     "end_time": "2022-05-25T09:24:51.374471",
     "exception": false,
     "start_time": "2022-05-25T09:24:51.299626",
     "status": "completed"
    },
    "tags": []
   },
   "outputs": [
    {
     "data": {
      "text/html": [
       "<div>\n",
       "<style scoped>\n",
       "    .dataframe tbody tr th:only-of-type {\n",
       "        vertical-align: middle;\n",
       "    }\n",
       "\n",
       "    .dataframe tbody tr th {\n",
       "        vertical-align: top;\n",
       "    }\n",
       "\n",
       "    .dataframe thead th {\n",
       "        text-align: right;\n",
       "    }\n",
       "</style>\n",
       "<table border=\"1\" class=\"dataframe\">\n",
       "  <thead>\n",
       "    <tr style=\"text-align: right;\">\n",
       "      <th></th>\n",
       "      <th>PassengerId</th>\n",
       "      <th>Survived</th>\n",
       "      <th>Pclass</th>\n",
       "      <th>Name</th>\n",
       "      <th>Sex</th>\n",
       "      <th>Age</th>\n",
       "      <th>SibSp</th>\n",
       "      <th>Parch</th>\n",
       "      <th>Ticket</th>\n",
       "      <th>Fare</th>\n",
       "      <th>Cabin</th>\n",
       "      <th>Embarked</th>\n",
       "    </tr>\n",
       "  </thead>\n",
       "  <tbody>\n",
       "    <tr>\n",
       "      <th>0</th>\n",
       "      <td>1</td>\n",
       "      <td>0</td>\n",
       "      <td>3</td>\n",
       "      <td>Braund, Mr. Owen Harris</td>\n",
       "      <td>male</td>\n",
       "      <td>22.00</td>\n",
       "      <td>1</td>\n",
       "      <td>0</td>\n",
       "      <td>A/5 21171</td>\n",
       "      <td>7.25</td>\n",
       "      <td>NaN</td>\n",
       "      <td>S</td>\n",
       "    </tr>\n",
       "    <tr>\n",
       "      <th>1</th>\n",
       "      <td>2</td>\n",
       "      <td>1</td>\n",
       "      <td>1</td>\n",
       "      <td>Cumings, Mrs. John Bradley (Florence Briggs Th...</td>\n",
       "      <td>female</td>\n",
       "      <td>38.00</td>\n",
       "      <td>1</td>\n",
       "      <td>0</td>\n",
       "      <td>PC 17599</td>\n",
       "      <td>71.28</td>\n",
       "      <td>C85</td>\n",
       "      <td>C</td>\n",
       "    </tr>\n",
       "    <tr>\n",
       "      <th>2</th>\n",
       "      <td>3</td>\n",
       "      <td>1</td>\n",
       "      <td>3</td>\n",
       "      <td>Heikkinen, Miss. Laina</td>\n",
       "      <td>female</td>\n",
       "      <td>26.00</td>\n",
       "      <td>0</td>\n",
       "      <td>0</td>\n",
       "      <td>STON/O2. 3101282</td>\n",
       "      <td>7.92</td>\n",
       "      <td>NaN</td>\n",
       "      <td>S</td>\n",
       "    </tr>\n",
       "    <tr>\n",
       "      <th>3</th>\n",
       "      <td>4</td>\n",
       "      <td>1</td>\n",
       "      <td>1</td>\n",
       "      <td>Futrelle, Mrs. Jacques Heath (Lily May Peel)</td>\n",
       "      <td>female</td>\n",
       "      <td>35.00</td>\n",
       "      <td>1</td>\n",
       "      <td>0</td>\n",
       "      <td>113803</td>\n",
       "      <td>53.10</td>\n",
       "      <td>C123</td>\n",
       "      <td>S</td>\n",
       "    </tr>\n",
       "    <tr>\n",
       "      <th>4</th>\n",
       "      <td>5</td>\n",
       "      <td>0</td>\n",
       "      <td>3</td>\n",
       "      <td>Allen, Mr. William Henry</td>\n",
       "      <td>male</td>\n",
       "      <td>35.00</td>\n",
       "      <td>0</td>\n",
       "      <td>0</td>\n",
       "      <td>373450</td>\n",
       "      <td>8.05</td>\n",
       "      <td>NaN</td>\n",
       "      <td>S</td>\n",
       "    </tr>\n",
       "  </tbody>\n",
       "</table>\n",
       "</div>"
      ],
      "text/plain": [
       "   PassengerId  Survived  Pclass  \\\n",
       "0            1         0       3   \n",
       "1            2         1       1   \n",
       "2            3         1       3   \n",
       "3            4         1       1   \n",
       "4            5         0       3   \n",
       "\n",
       "                                                Name     Sex   Age  SibSp  \\\n",
       "0                            Braund, Mr. Owen Harris    male 22.00      1   \n",
       "1  Cumings, Mrs. John Bradley (Florence Briggs Th...  female 38.00      1   \n",
       "2                             Heikkinen, Miss. Laina  female 26.00      0   \n",
       "3       Futrelle, Mrs. Jacques Heath (Lily May Peel)  female 35.00      1   \n",
       "4                           Allen, Mr. William Henry    male 35.00      0   \n",
       "\n",
       "   Parch            Ticket  Fare Cabin Embarked  \n",
       "0      0         A/5 21171  7.25   NaN        S  \n",
       "1      0          PC 17599 71.28   C85        C  \n",
       "2      0  STON/O2. 3101282  7.92   NaN        S  \n",
       "3      0            113803 53.10  C123        S  \n",
       "4      0            373450  8.05   NaN        S  "
      ]
     },
     "execution_count": 23,
     "metadata": {},
     "output_type": "execute_result"
    }
   ],
   "source": [
    "df.head()"
   ]
  },
  {
   "cell_type": "code",
   "execution_count": 24,
   "id": "71ef91f2",
   "metadata": {
    "execution": {
     "iopub.execute_input": "2022-05-25T09:24:51.486137Z",
     "iopub.status.busy": "2022-05-25T09:24:51.485827Z",
     "iopub.status.idle": "2022-05-25T09:24:52.245660Z",
     "shell.execute_reply": "2022-05-25T09:24:52.244717Z"
    },
    "papermill": {
     "duration": 0.81851,
     "end_time": "2022-05-25T09:24:52.248071",
     "exception": false,
     "start_time": "2022-05-25T09:24:51.429561",
     "status": "completed"
    },
    "tags": []
   },
   "outputs": [
    {
     "data": {
      "image/png": "[encoded data removed]",
      "text/plain": [
       "<Figure size 1008x432 with 2 Axes>"
      ]
     },
     "metadata": {
      "needs_background": "light"
     },
     "output_type": "display_data"
    }
   ],
   "source": [
    "fig, ax = plt.subplots(1, 2, figsize=(14, 6))\n",
    "\n",
    "sns.barplot(data=df, x='SibSp', y='Survived', ax=ax[0])\n",
    "ax[0].set_title('Survived on count of siblings', size=15)\n",
    "ax[0].set_xlabel(\"Count of siblings\", size=15)\n",
    "ax[0].set_ylabel(\"Survived\", size=15)\n",
    "\n",
    "sns.barplot(data=df, x='Parch', y='Survived', ax=ax[1])\n",
    "ax[1].set_title(\"Survived on count of child and parents\", size=15)\n",
    "ax[1].set_xlabel(\"Count of child and parents\", size=15)\n",
    "ax[1].set_ylabel(\"Survived\", size=15)\n",
    "\n",
    "plt.show()"
   ]
  },
  {
   "cell_type": "markdown",
   "id": "1bd93a05",
   "metadata": {
    "papermill": {
     "duration": 0.056098,
     "end_time": "2022-05-25T09:24:52.360353",
     "exception": false,
     "start_time": "2022-05-25T09:24:52.304255",
     "status": "completed"
    },
    "tags": []
   },
   "source": [
    "We observe that the families of many members are mostly not survived, while alone or the familes of just only 1 or 2 memebrs are mostly survived."
   ]
  },
  {
   "cell_type": "code",
   "execution_count": 25,
   "id": "8de4bf0e",
   "metadata": {
    "execution": {
     "iopub.execute_input": "2022-05-25T09:24:52.474506Z",
     "iopub.status.busy": "2022-05-25T09:24:52.474203Z",
     "iopub.status.idle": "2022-05-25T09:24:52.490443Z",
     "shell.execute_reply": "2022-05-25T09:24:52.489713Z"
    },
    "papermill": {
     "duration": 0.077163,
     "end_time": "2022-05-25T09:24:52.493918",
     "exception": false,
     "start_time": "2022-05-25T09:24:52.416755",
     "status": "completed"
    },
    "tags": []
   },
   "outputs": [
    {
     "data": {
      "text/html": [
       "<div>\n",
       "<style scoped>\n",
       "    .dataframe tbody tr th:only-of-type {\n",
       "        vertical-align: middle;\n",
       "    }\n",
       "\n",
       "    .dataframe tbody tr th {\n",
       "        vertical-align: top;\n",
       "    }\n",
       "\n",
       "    .dataframe thead th {\n",
       "        text-align: right;\n",
       "    }\n",
       "</style>\n",
       "<table border=\"1\" class=\"dataframe\">\n",
       "  <thead>\n",
       "    <tr style=\"text-align: right;\">\n",
       "      <th></th>\n",
       "      <th>PassengerId</th>\n",
       "      <th>Survived</th>\n",
       "      <th>Pclass</th>\n",
       "      <th>Name</th>\n",
       "      <th>Sex</th>\n",
       "      <th>Age</th>\n",
       "      <th>SibSp</th>\n",
       "      <th>Parch</th>\n",
       "      <th>Ticket</th>\n",
       "      <th>Fare</th>\n",
       "      <th>Cabin</th>\n",
       "      <th>Embarked</th>\n",
       "      <th>Family_total</th>\n",
       "    </tr>\n",
       "  </thead>\n",
       "  <tbody>\n",
       "    <tr>\n",
       "      <th>0</th>\n",
       "      <td>1</td>\n",
       "      <td>0</td>\n",
       "      <td>3</td>\n",
       "      <td>Braund, Mr. Owen Harris</td>\n",
       "      <td>male</td>\n",
       "      <td>22.00</td>\n",
       "      <td>1</td>\n",
       "      <td>0</td>\n",
       "      <td>A/5 21171</td>\n",
       "      <td>7.25</td>\n",
       "      <td>NaN</td>\n",
       "      <td>S</td>\n",
       "      <td>1</td>\n",
       "    </tr>\n",
       "    <tr>\n",
       "      <th>1</th>\n",
       "      <td>2</td>\n",
       "      <td>1</td>\n",
       "      <td>1</td>\n",
       "      <td>Cumings, Mrs. John Bradley (Florence Briggs Th...</td>\n",
       "      <td>female</td>\n",
       "      <td>38.00</td>\n",
       "      <td>1</td>\n",
       "      <td>0</td>\n",
       "      <td>PC 17599</td>\n",
       "      <td>71.28</td>\n",
       "      <td>C85</td>\n",
       "      <td>C</td>\n",
       "      <td>1</td>\n",
       "    </tr>\n",
       "    <tr>\n",
       "      <th>2</th>\n",
       "      <td>3</td>\n",
       "      <td>1</td>\n",
       "      <td>3</td>\n",
       "      <td>Heikkinen, Miss. Laina</td>\n",
       "      <td>female</td>\n",
       "      <td>26.00</td>\n",
       "      <td>0</td>\n",
       "      <td>0</td>\n",
       "      <td>STON/O2. 3101282</td>\n",
       "      <td>7.92</td>\n",
       "      <td>NaN</td>\n",
       "      <td>S</td>\n",
       "      <td>0</td>\n",
       "    </tr>\n",
       "    <tr>\n",
       "      <th>3</th>\n",
       "      <td>4</td>\n",
       "      <td>1</td>\n",
       "      <td>1</td>\n",
       "      <td>Futrelle, Mrs. Jacques Heath (Lily May Peel)</td>\n",
       "      <td>female</td>\n",
       "      <td>35.00</td>\n",
       "      <td>1</td>\n",
       "      <td>0</td>\n",
       "      <td>113803</td>\n",
       "      <td>53.10</td>\n",
       "      <td>C123</td>\n",
       "      <td>S</td>\n",
       "      <td>1</td>\n",
       "    </tr>\n",
       "    <tr>\n",
       "      <th>4</th>\n",
       "      <td>5</td>\n",
       "      <td>0</td>\n",
       "      <td>3</td>\n",
       "      <td>Allen, Mr. William Henry</td>\n",
       "      <td>male</td>\n",
       "      <td>35.00</td>\n",
       "      <td>0</td>\n",
       "      <td>0</td>\n",
       "      <td>373450</td>\n",
       "      <td>8.05</td>\n",
       "      <td>NaN</td>\n",
       "      <td>S</td>\n",
       "      <td>0</td>\n",
       "    </tr>\n",
       "  </tbody>\n",
       "</table>\n",
       "</div>"
      ],
      "text/plain": [
       "   PassengerId  Survived  Pclass  \\\n",
       "0            1         0       3   \n",
       "1            2         1       1   \n",
       "2            3         1       3   \n",
       "3            4         1       1   \n",
       "4            5         0       3   \n",
       "\n",
       "                                                Name     Sex   Age  SibSp  \\\n",
       "0                            Braund, Mr. Owen Harris    male 22.00      1   \n",
       "1  Cumings, Mrs. John Bradley (Florence Briggs Th...  female 38.00      1   \n",
       "2                             Heikkinen, Miss. Laina  female 26.00      0   \n",
       "3       Futrelle, Mrs. Jacques Heath (Lily May Peel)  female 35.00      1   \n",
       "4                           Allen, Mr. William Henry    male 35.00      0   \n",
       "\n",
       "   Parch            Ticket  Fare Cabin Embarked  Family_total  \n",
       "0      0         A/5 21171  7.25   NaN        S             1  \n",
       "1      0          PC 17599 71.28   C85        C             1  \n",
       "2      0  STON/O2. 3101282  7.92   NaN        S             0  \n",
       "3      0            113803 53.10  C123        S             1  \n",
       "4      0            373450  8.05   NaN        S             0  "
      ]
     },
     "execution_count": 25,
     "metadata": {},
     "output_type": "execute_result"
    }
   ],
   "source": [
    "df['Family_total'] = df['SibSp'] + df['Parch']\n",
    "df.head()"
   ]
  },
  {
   "cell_type": "code",
   "execution_count": 26,
   "id": "8f1a2cee",
   "metadata": {
    "execution": {
     "iopub.execute_input": "2022-05-25T09:24:52.610759Z",
     "iopub.status.busy": "2022-05-25T09:24:52.610067Z",
     "iopub.status.idle": "2022-05-25T09:24:53.137423Z",
     "shell.execute_reply": "2022-05-25T09:24:53.136384Z"
    },
    "papermill": {
     "duration": 0.588295,
     "end_time": "2022-05-25T09:24:53.139711",
     "exception": false,
     "start_time": "2022-05-25T09:24:52.551416",
     "status": "completed"
    },
    "tags": []
   },
   "outputs": [
    {
     "data": {
      "image/png": "[encoded data removed]",
      "text/plain": [
       "<Figure size 432x288 with 1 Axes>"
      ]
     },
     "metadata": {
      "needs_background": "light"
     },
     "output_type": "display_data"
    }
   ],
   "source": [
    "fig, ax = plt.subplots()\n",
    "\n",
    "sns.barplot(data=df, x='Family_total', y='Survived', ax=ax)\n",
    "\n",
    "ax.set_title(\"Survived on count of family\", size=15)\n",
    "\n",
    "plt.show()"
   ]
  },
  {
   "cell_type": "markdown",
   "id": "e7f54c81",
   "metadata": {
    "papermill": {
     "duration": 0.058007,
     "end_time": "2022-05-25T09:24:53.256477",
     "exception": false,
     "start_time": "2022-05-25T09:24:53.198470",
     "status": "completed"
    },
    "tags": []
   },
   "source": [
    "The families, which have more than 4 members are mostly not survived."
   ]
  },
  {
   "cell_type": "markdown",
   "id": "09aa2b58",
   "metadata": {
    "papermill": {
     "duration": 0.057309,
     "end_time": "2022-05-25T09:24:53.371819",
     "exception": false,
     "start_time": "2022-05-25T09:24:53.314510",
     "status": "completed"
    },
    "tags": []
   },
   "source": [
    "# Conclusion"
   ]
  },
  {
   "cell_type": "markdown",
   "id": "6a609573",
   "metadata": {
    "papermill": {
     "duration": 0.057942,
     "end_time": "2022-05-25T09:24:53.487961",
     "exception": false,
     "start_time": "2022-05-25T09:24:53.430019",
     "status": "completed"
    },
    "tags": []
   },
   "source": [
    "Back to the main question, **what sorts of people were more likely to survive?**\n",
    "<br>\n",
    "The answer is -\n",
    "* Females\n",
    "    * age between 15 ~ 35\n",
    "    * having Pclass 1\n",
    "    * embarked from Cherbourg\n",
    "    * having only 1 ~ 3 family members"
   ]
  },
  {
   "cell_type": "markdown",
   "id": "a763e7ce",
   "metadata": {
    "papermill": {
     "duration": 0.057473,
     "end_time": "2022-05-25T09:24:53.604400",
     "exception": false,
     "start_time": "2022-05-25T09:24:53.546927",
     "status": "completed"
    },
    "tags": []
   },
   "source": [
    "But then **what sorts of people were less likely to survived?**\n",
    "<br>\n",
    "The answer is -\n",
    "* Males\n",
    "    * age between 18 ~ 30\n",
    "    * having Pclass 3\n",
    "    * embarked from South hampton\n",
    "    * having a big family (over 4 members)"
   ]
  }
 ],
 "metadata": {
  "kernelspec": {
   "display_name": "Python 3",
   "language": "python",
   "name": "python3"
  },
  "language_info": {
   "codemirror_mode": {
    "name": "ipython",
    "version": 3
   },
   "file_extension": ".py",
   "mimetype": "text/x-python",
   "name": "python",
   "nbconvert_exporter": "python",
   "pygments_lexer": "ipython3",
   "version": "3.7.12"
  },
  "papermill": {
   "default_parameters": {},
   "duration": 21.976474,
   "end_time": "2022-05-25T09:24:54.383536",
   "environment_variables": {},
   "exception": null,
   "input_path": "__notebook__.ipynb",
   "output_path": "__notebook__.ipynb",
   "parameters": {},
   "start_time": "2022-05-25T09:24:32.407062",
   "version": "2.3.4"
  }
 },
 "nbformat": 4,
 "nbformat_minor": 5
}
