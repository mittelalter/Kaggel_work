{
 "cells": [
  {
   "cell_type": "markdown",
   "id": "cdc81f44",
   "metadata": {
    "papermill": {
     "duration": 0.010319,
     "end_time": "2022-05-29T18:57:43.678280",
     "exception": false,
     "start_time": "2022-05-29T18:57:43.667961",
     "status": "completed"
    },
    "tags": []
   },
   "source": [
    "## **Statement of Analysis Task**\n",
    "\n",
    "**Find interesting relationships between people, who have credit risk and who don't have.**"
   ]
  },
  {
   "cell_type": "markdown",
   "id": "4ddc9117",
   "metadata": {
    "papermill": {
     "duration": 0.008688,
     "end_time": "2022-05-29T18:57:43.696342",
     "exception": false,
     "start_time": "2022-05-29T18:57:43.687654",
     "status": "completed"
    },
    "tags": []
   },
   "source": [
    "# **PHASE 1: ASK**\n",
    "**1. Main Question**\n",
    "* What kind of people tend to need a credit more than other?"
   ]
  },
  {
   "cell_type": "markdown",
   "id": "8eb5368c",
   "metadata": {
    "papermill": {
     "duration": 0.008632,
     "end_time": "2022-05-29T18:57:43.714674",
     "exception": false,
     "start_time": "2022-05-29T18:57:43.706042",
     "status": "completed"
    },
    "tags": []
   },
   "source": [
    "# **PHASE 2: Prepare**\n",
    "**1 .Determine the credibility of the data.**\n",
    "* The original dataset is prepared by Prof.Hofmann\n",
    "* Data source: UCI\n",
    "\n",
    "**2. Columns meaning**\n",
    "* Age (numeric)\n",
    "* Sex (text: male, female)\n",
    "* Job (numeric: 0 - unskilled and non-resident, 1 - unskilled and resident, 2 - skilled, 3 - * highly skilled)\n",
    "* Housing (text: own, rent, or free)\n",
    "* Saving accounts (text - little, moderate, quite rich, rich)\n",
    "* Checking account (text - same as like saving accounts)\n",
    "* Credit amount (numeric, in DM)\n",
    "* Duration (numeric, in month)\n",
    "* Purpose (text: car, furniture/equipment, radio/TV, domestic appliances, repairs, education, business, vacation/others)"
   ]
  },
  {
   "cell_type": "code",
   "execution_count": 1,
   "id": "84fc0c3b",
   "metadata": {
    "execution": {
     "iopub.execute_input": "2022-05-29T18:57:43.734992Z",
     "iopub.status.busy": "2022-05-29T18:57:43.734364Z",
     "iopub.status.idle": "2022-05-29T18:57:44.986581Z",
     "shell.execute_reply": "2022-05-29T18:57:44.985236Z"
    },
    "papermill": {
     "duration": 1.265987,
     "end_time": "2022-05-29T18:57:44.989768",
     "exception": false,
     "start_time": "2022-05-29T18:57:43.723781",
     "status": "completed"
    },
    "tags": []
   },
   "outputs": [],
   "source": [
    "import pandas as pd\n",
    "pd.plotting.register_matplotlib_converters()\n",
    "import matplotlib.pyplot as plt\n",
    "%matplotlib inline\n",
    "import seaborn as sns\n",
    "pd.options.display.float_format = '{:,.2f}'.format  \n",
    "pd.options.display.max_columns = 999"
   ]
  },
  {
   "cell_type": "code",
   "execution_count": 2,
   "id": "9b86bce4",
   "metadata": {
    "execution": {
     "iopub.execute_input": "2022-05-29T18:57:45.010360Z",
     "iopub.status.busy": "2022-05-29T18:57:45.009934Z",
     "iopub.status.idle": "2022-05-29T18:57:45.037701Z",
     "shell.execute_reply": "2022-05-29T18:57:45.036892Z"
    },
    "papermill": {
     "duration": 0.040827,
     "end_time": "2022-05-29T18:57:45.040155",
     "exception": false,
     "start_time": "2022-05-29T18:57:44.999328",
     "status": "completed"
    },
    "tags": []
   },
   "outputs": [],
   "source": [
    "df = pd.read_csv(\"../input/german-credit/german_credit_data.csv\")"
   ]
  },
  {
   "cell_type": "code",
   "execution_count": 3,
   "id": "901284b6",
   "metadata": {
    "execution": {
     "iopub.execute_input": "2022-05-29T18:57:45.060505Z",
     "iopub.status.busy": "2022-05-29T18:57:45.059896Z",
     "iopub.status.idle": "2022-05-29T18:57:45.067514Z",
     "shell.execute_reply": "2022-05-29T18:57:45.066754Z"
    },
    "papermill": {
     "duration": 0.020819,
     "end_time": "2022-05-29T18:57:45.070167",
     "exception": false,
     "start_time": "2022-05-29T18:57:45.049348",
     "status": "completed"
    },
    "tags": []
   },
   "outputs": [
    {
     "data": {
      "text/plain": [
       "(1000, 10)"
      ]
     },
     "execution_count": 3,
     "metadata": {},
     "output_type": "execute_result"
    }
   ],
   "source": [
    "df.shape"
   ]
  },
  {
   "cell_type": "code",
   "execution_count": 4,
   "id": "4364134a",
   "metadata": {
    "execution": {
     "iopub.execute_input": "2022-05-29T18:57:45.090444Z",
     "iopub.status.busy": "2022-05-29T18:57:45.089837Z",
     "iopub.status.idle": "2022-05-29T18:57:45.116927Z",
     "shell.execute_reply": "2022-05-29T18:57:45.115698Z"
    },
    "papermill": {
     "duration": 0.039779,
     "end_time": "2022-05-29T18:57:45.119189",
     "exception": false,
     "start_time": "2022-05-29T18:57:45.079410",
     "status": "completed"
    },
    "tags": []
   },
   "outputs": [
    {
     "name": "stdout",
     "output_type": "stream",
     "text": [
      "<class 'pandas.core.frame.DataFrame'>\n",
      "RangeIndex: 1000 entries, 0 to 999\n",
      "Data columns (total 10 columns):\n",
      " #   Column            Non-Null Count  Dtype \n",
      "---  ------            --------------  ----- \n",
      " 0   Unnamed: 0        1000 non-null   int64 \n",
      " 1   Age               1000 non-null   int64 \n",
      " 2   Sex               1000 non-null   object\n",
      " 3   Job               1000 non-null   int64 \n",
      " 4   Housing           1000 non-null   object\n",
      " 5   Saving accounts   817 non-null    object\n",
      " 6   Checking account  606 non-null    object\n",
      " 7   Credit amount     1000 non-null   int64 \n",
      " 8   Duration          1000 non-null   int64 \n",
      " 9   Purpose           1000 non-null   object\n",
      "dtypes: int64(5), object(5)\n",
      "memory usage: 78.2+ KB\n"
     ]
    }
   ],
   "source": [
    "df.info()"
   ]
  },
  {
   "cell_type": "code",
   "execution_count": 5,
   "id": "8465391e",
   "metadata": {
    "execution": {
     "iopub.execute_input": "2022-05-29T18:57:45.139621Z",
     "iopub.status.busy": "2022-05-29T18:57:45.139199Z",
     "iopub.status.idle": "2022-05-29T18:57:45.172492Z",
     "shell.execute_reply": "2022-05-29T18:57:45.171449Z"
    },
    "papermill": {
     "duration": 0.046043,
     "end_time": "2022-05-29T18:57:45.174691",
     "exception": false,
     "start_time": "2022-05-29T18:57:45.128648",
     "status": "completed"
    },
    "tags": []
   },
   "outputs": [
    {
     "data": {
      "text/html": [
       "<div>\n",
       "<style scoped>\n",
       "    .dataframe tbody tr th:only-of-type {\n",
       "        vertical-align: middle;\n",
       "    }\n",
       "\n",
       "    .dataframe tbody tr th {\n",
       "        vertical-align: top;\n",
       "    }\n",
       "\n",
       "    .dataframe thead th {\n",
       "        text-align: right;\n",
       "    }\n",
       "</style>\n",
       "<table border=\"1\" class=\"dataframe\">\n",
       "  <thead>\n",
       "    <tr style=\"text-align: right;\">\n",
       "      <th></th>\n",
       "      <th>Unnamed: 0</th>\n",
       "      <th>Age</th>\n",
       "      <th>Job</th>\n",
       "      <th>Credit amount</th>\n",
       "      <th>Duration</th>\n",
       "    </tr>\n",
       "  </thead>\n",
       "  <tbody>\n",
       "    <tr>\n",
       "      <th>count</th>\n",
       "      <td>1,000.00</td>\n",
       "      <td>1,000.00</td>\n",
       "      <td>1,000.00</td>\n",
       "      <td>1,000.00</td>\n",
       "      <td>1,000.00</td>\n",
       "    </tr>\n",
       "    <tr>\n",
       "      <th>mean</th>\n",
       "      <td>499.50</td>\n",
       "      <td>35.55</td>\n",
       "      <td>1.90</td>\n",
       "      <td>3,271.26</td>\n",
       "      <td>20.90</td>\n",
       "    </tr>\n",
       "    <tr>\n",
       "      <th>std</th>\n",
       "      <td>288.82</td>\n",
       "      <td>11.38</td>\n",
       "      <td>0.65</td>\n",
       "      <td>2,822.74</td>\n",
       "      <td>12.06</td>\n",
       "    </tr>\n",
       "    <tr>\n",
       "      <th>min</th>\n",
       "      <td>0.00</td>\n",
       "      <td>19.00</td>\n",
       "      <td>0.00</td>\n",
       "      <td>250.00</td>\n",
       "      <td>4.00</td>\n",
       "    </tr>\n",
       "    <tr>\n",
       "      <th>25%</th>\n",
       "      <td>249.75</td>\n",
       "      <td>27.00</td>\n",
       "      <td>2.00</td>\n",
       "      <td>1,365.50</td>\n",
       "      <td>12.00</td>\n",
       "    </tr>\n",
       "    <tr>\n",
       "      <th>50%</th>\n",
       "      <td>499.50</td>\n",
       "      <td>33.00</td>\n",
       "      <td>2.00</td>\n",
       "      <td>2,319.50</td>\n",
       "      <td>18.00</td>\n",
       "    </tr>\n",
       "    <tr>\n",
       "      <th>75%</th>\n",
       "      <td>749.25</td>\n",
       "      <td>42.00</td>\n",
       "      <td>2.00</td>\n",
       "      <td>3,972.25</td>\n",
       "      <td>24.00</td>\n",
       "    </tr>\n",
       "    <tr>\n",
       "      <th>max</th>\n",
       "      <td>999.00</td>\n",
       "      <td>75.00</td>\n",
       "      <td>3.00</td>\n",
       "      <td>18,424.00</td>\n",
       "      <td>72.00</td>\n",
       "    </tr>\n",
       "  </tbody>\n",
       "</table>\n",
       "</div>"
      ],
      "text/plain": [
       "       Unnamed: 0      Age      Job  Credit amount  Duration\n",
       "count    1,000.00 1,000.00 1,000.00       1,000.00  1,000.00\n",
       "mean       499.50    35.55     1.90       3,271.26     20.90\n",
       "std        288.82    11.38     0.65       2,822.74     12.06\n",
       "min          0.00    19.00     0.00         250.00      4.00\n",
       "25%        249.75    27.00     2.00       1,365.50     12.00\n",
       "50%        499.50    33.00     2.00       2,319.50     18.00\n",
       "75%        749.25    42.00     2.00       3,972.25     24.00\n",
       "max        999.00    75.00     3.00      18,424.00     72.00"
      ]
     },
     "execution_count": 5,
     "metadata": {},
     "output_type": "execute_result"
    }
   ],
   "source": [
    "df.describe()"
   ]
  },
  {
   "cell_type": "code",
   "execution_count": 6,
   "id": "45e10350",
   "metadata": {
    "execution": {
     "iopub.execute_input": "2022-05-29T18:57:45.196887Z",
     "iopub.status.busy": "2022-05-29T18:57:45.195929Z",
     "iopub.status.idle": "2022-05-29T18:57:45.210909Z",
     "shell.execute_reply": "2022-05-29T18:57:45.209877Z"
    },
    "papermill": {
     "duration": 0.028197,
     "end_time": "2022-05-29T18:57:45.213223",
     "exception": false,
     "start_time": "2022-05-29T18:57:45.185026",
     "status": "completed"
    },
    "tags": []
   },
   "outputs": [
    {
     "data": {
      "text/html": [
       "<div>\n",
       "<style scoped>\n",
       "    .dataframe tbody tr th:only-of-type {\n",
       "        vertical-align: middle;\n",
       "    }\n",
       "\n",
       "    .dataframe tbody tr th {\n",
       "        vertical-align: top;\n",
       "    }\n",
       "\n",
       "    .dataframe thead th {\n",
       "        text-align: right;\n",
       "    }\n",
       "</style>\n",
       "<table border=\"1\" class=\"dataframe\">\n",
       "  <thead>\n",
       "    <tr style=\"text-align: right;\">\n",
       "      <th></th>\n",
       "      <th>Unnamed: 0</th>\n",
       "      <th>Age</th>\n",
       "      <th>Sex</th>\n",
       "      <th>Job</th>\n",
       "      <th>Housing</th>\n",
       "      <th>Saving accounts</th>\n",
       "      <th>Checking account</th>\n",
       "      <th>Credit amount</th>\n",
       "      <th>Duration</th>\n",
       "      <th>Purpose</th>\n",
       "    </tr>\n",
       "  </thead>\n",
       "  <tbody>\n",
       "    <tr>\n",
       "      <th>0</th>\n",
       "      <td>0</td>\n",
       "      <td>67</td>\n",
       "      <td>male</td>\n",
       "      <td>2</td>\n",
       "      <td>own</td>\n",
       "      <td>NaN</td>\n",
       "      <td>little</td>\n",
       "      <td>1169</td>\n",
       "      <td>6</td>\n",
       "      <td>radio/TV</td>\n",
       "    </tr>\n",
       "    <tr>\n",
       "      <th>1</th>\n",
       "      <td>1</td>\n",
       "      <td>22</td>\n",
       "      <td>female</td>\n",
       "      <td>2</td>\n",
       "      <td>own</td>\n",
       "      <td>little</td>\n",
       "      <td>moderate</td>\n",
       "      <td>5951</td>\n",
       "      <td>48</td>\n",
       "      <td>radio/TV</td>\n",
       "    </tr>\n",
       "    <tr>\n",
       "      <th>2</th>\n",
       "      <td>2</td>\n",
       "      <td>49</td>\n",
       "      <td>male</td>\n",
       "      <td>1</td>\n",
       "      <td>own</td>\n",
       "      <td>little</td>\n",
       "      <td>NaN</td>\n",
       "      <td>2096</td>\n",
       "      <td>12</td>\n",
       "      <td>education</td>\n",
       "    </tr>\n",
       "    <tr>\n",
       "      <th>3</th>\n",
       "      <td>3</td>\n",
       "      <td>45</td>\n",
       "      <td>male</td>\n",
       "      <td>2</td>\n",
       "      <td>free</td>\n",
       "      <td>little</td>\n",
       "      <td>little</td>\n",
       "      <td>7882</td>\n",
       "      <td>42</td>\n",
       "      <td>furniture/equipment</td>\n",
       "    </tr>\n",
       "    <tr>\n",
       "      <th>4</th>\n",
       "      <td>4</td>\n",
       "      <td>53</td>\n",
       "      <td>male</td>\n",
       "      <td>2</td>\n",
       "      <td>free</td>\n",
       "      <td>little</td>\n",
       "      <td>little</td>\n",
       "      <td>4870</td>\n",
       "      <td>24</td>\n",
       "      <td>car</td>\n",
       "    </tr>\n",
       "  </tbody>\n",
       "</table>\n",
       "</div>"
      ],
      "text/plain": [
       "   Unnamed: 0  Age     Sex  Job Housing Saving accounts Checking account  \\\n",
       "0           0   67    male    2     own             NaN           little   \n",
       "1           1   22  female    2     own          little         moderate   \n",
       "2           2   49    male    1     own          little              NaN   \n",
       "3           3   45    male    2    free          little           little   \n",
       "4           4   53    male    2    free          little           little   \n",
       "\n",
       "   Credit amount  Duration              Purpose  \n",
       "0           1169         6             radio/TV  \n",
       "1           5951        48             radio/TV  \n",
       "2           2096        12            education  \n",
       "3           7882        42  furniture/equipment  \n",
       "4           4870        24                  car  "
      ]
     },
     "execution_count": 6,
     "metadata": {},
     "output_type": "execute_result"
    }
   ],
   "source": [
    "df.head()"
   ]
  },
  {
   "cell_type": "markdown",
   "id": "9815fe2e",
   "metadata": {
    "papermill": {
     "duration": 0.009442,
     "end_time": "2022-05-29T18:57:45.232700",
     "exception": false,
     "start_time": "2022-05-29T18:57:45.223258",
     "status": "completed"
    },
    "tags": []
   },
   "source": [
    "# **PHASE 3: Process**\n",
    "\n",
    "**1. Clean the data, and prepare the data for analysis**\n",
    "* Checking null values"
   ]
  },
  {
   "cell_type": "code",
   "execution_count": 7,
   "id": "168af012",
   "metadata": {
    "execution": {
     "iopub.execute_input": "2022-05-29T18:57:45.254851Z",
     "iopub.status.busy": "2022-05-29T18:57:45.253624Z",
     "iopub.status.idle": "2022-05-29T18:57:45.263453Z",
     "shell.execute_reply": "2022-05-29T18:57:45.262535Z"
    },
    "papermill": {
     "duration": 0.023192,
     "end_time": "2022-05-29T18:57:45.265629",
     "exception": false,
     "start_time": "2022-05-29T18:57:45.242437",
     "status": "completed"
    },
    "tags": []
   },
   "outputs": [
    {
     "data": {
      "text/plain": [
       "Unnamed: 0            0\n",
       "Age                   0\n",
       "Sex                   0\n",
       "Job                   0\n",
       "Housing               0\n",
       "Saving accounts     183\n",
       "Checking account    394\n",
       "Credit amount         0\n",
       "Duration              0\n",
       "Purpose               0\n",
       "dtype: int64"
      ]
     },
     "execution_count": 7,
     "metadata": {},
     "output_type": "execute_result"
    }
   ],
   "source": [
    "df.isnull().sum()"
   ]
  },
  {
   "cell_type": "markdown",
   "id": "e13b2da9",
   "metadata": {
    "papermill": {
     "duration": 0.009564,
     "end_time": "2022-05-29T18:57:45.285092",
     "exception": false,
     "start_time": "2022-05-29T18:57:45.275528",
     "status": "completed"
    },
    "tags": []
   },
   "source": [
    "There are null values in 2 columns but those null values will not affect the main point of analysis."
   ]
  },
  {
   "cell_type": "markdown",
   "id": "e78ce758",
   "metadata": {
    "papermill": {
     "duration": 0.009493,
     "end_time": "2022-05-29T18:57:45.304643",
     "exception": false,
     "start_time": "2022-05-29T18:57:45.295150",
     "status": "completed"
    },
    "tags": []
   },
   "source": [
    "# **PHASE 4: Analyze**\n",
    "**1. Idendify the relationships to ask the questions**\n",
    "* Job vs Credit Amount, Checking Account, Housing (Does having a nice job affect the amount of credit and checking account ?)\n",
    "* Age vs Credit Amount, Purpose, Duration (Does age affect those features?)\n"
   ]
  },
  {
   "cell_type": "code",
   "execution_count": 8,
   "id": "830dbef4",
   "metadata": {
    "execution": {
     "iopub.execute_input": "2022-05-29T18:57:45.326483Z",
     "iopub.status.busy": "2022-05-29T18:57:45.325846Z",
     "iopub.status.idle": "2022-05-29T18:57:45.339479Z",
     "shell.execute_reply": "2022-05-29T18:57:45.338414Z"
    },
    "papermill": {
     "duration": 0.027445,
     "end_time": "2022-05-29T18:57:45.342079",
     "exception": false,
     "start_time": "2022-05-29T18:57:45.314634",
     "status": "completed"
    },
    "tags": []
   },
   "outputs": [
    {
     "data": {
      "text/html": [
       "<div>\n",
       "<style scoped>\n",
       "    .dataframe tbody tr th:only-of-type {\n",
       "        vertical-align: middle;\n",
       "    }\n",
       "\n",
       "    .dataframe tbody tr th {\n",
       "        vertical-align: top;\n",
       "    }\n",
       "\n",
       "    .dataframe thead th {\n",
       "        text-align: right;\n",
       "    }\n",
       "</style>\n",
       "<table border=\"1\" class=\"dataframe\">\n",
       "  <thead>\n",
       "    <tr style=\"text-align: right;\">\n",
       "      <th></th>\n",
       "      <th>Unnamed: 0</th>\n",
       "      <th>Age</th>\n",
       "      <th>Sex</th>\n",
       "      <th>Job</th>\n",
       "      <th>Housing</th>\n",
       "      <th>Saving accounts</th>\n",
       "      <th>Checking account</th>\n",
       "      <th>Credit amount</th>\n",
       "      <th>Duration</th>\n",
       "      <th>Purpose</th>\n",
       "    </tr>\n",
       "  </thead>\n",
       "  <tbody>\n",
       "    <tr>\n",
       "      <th>0</th>\n",
       "      <td>0</td>\n",
       "      <td>67</td>\n",
       "      <td>male</td>\n",
       "      <td>2</td>\n",
       "      <td>own</td>\n",
       "      <td>NaN</td>\n",
       "      <td>little</td>\n",
       "      <td>1169</td>\n",
       "      <td>6</td>\n",
       "      <td>radio/TV</td>\n",
       "    </tr>\n",
       "    <tr>\n",
       "      <th>1</th>\n",
       "      <td>1</td>\n",
       "      <td>22</td>\n",
       "      <td>female</td>\n",
       "      <td>2</td>\n",
       "      <td>own</td>\n",
       "      <td>little</td>\n",
       "      <td>moderate</td>\n",
       "      <td>5951</td>\n",
       "      <td>48</td>\n",
       "      <td>radio/TV</td>\n",
       "    </tr>\n",
       "    <tr>\n",
       "      <th>2</th>\n",
       "      <td>2</td>\n",
       "      <td>49</td>\n",
       "      <td>male</td>\n",
       "      <td>1</td>\n",
       "      <td>own</td>\n",
       "      <td>little</td>\n",
       "      <td>NaN</td>\n",
       "      <td>2096</td>\n",
       "      <td>12</td>\n",
       "      <td>education</td>\n",
       "    </tr>\n",
       "    <tr>\n",
       "      <th>3</th>\n",
       "      <td>3</td>\n",
       "      <td>45</td>\n",
       "      <td>male</td>\n",
       "      <td>2</td>\n",
       "      <td>free</td>\n",
       "      <td>little</td>\n",
       "      <td>little</td>\n",
       "      <td>7882</td>\n",
       "      <td>42</td>\n",
       "      <td>furniture/equipment</td>\n",
       "    </tr>\n",
       "    <tr>\n",
       "      <th>4</th>\n",
       "      <td>4</td>\n",
       "      <td>53</td>\n",
       "      <td>male</td>\n",
       "      <td>2</td>\n",
       "      <td>free</td>\n",
       "      <td>little</td>\n",
       "      <td>little</td>\n",
       "      <td>4870</td>\n",
       "      <td>24</td>\n",
       "      <td>car</td>\n",
       "    </tr>\n",
       "  </tbody>\n",
       "</table>\n",
       "</div>"
      ],
      "text/plain": [
       "   Unnamed: 0  Age     Sex  Job Housing Saving accounts Checking account  \\\n",
       "0           0   67    male    2     own             NaN           little   \n",
       "1           1   22  female    2     own          little         moderate   \n",
       "2           2   49    male    1     own          little              NaN   \n",
       "3           3   45    male    2    free          little           little   \n",
       "4           4   53    male    2    free          little           little   \n",
       "\n",
       "   Credit amount  Duration              Purpose  \n",
       "0           1169         6             radio/TV  \n",
       "1           5951        48             radio/TV  \n",
       "2           2096        12            education  \n",
       "3           7882        42  furniture/equipment  \n",
       "4           4870        24                  car  "
      ]
     },
     "execution_count": 8,
     "metadata": {},
     "output_type": "execute_result"
    }
   ],
   "source": [
    "df.head()"
   ]
  },
  {
   "cell_type": "markdown",
   "id": "fd7a6365",
   "metadata": {
    "papermill": {
     "duration": 0.009945,
     "end_time": "2022-05-29T18:57:45.362370",
     "exception": false,
     "start_time": "2022-05-29T18:57:45.352425",
     "status": "completed"
    },
    "tags": []
   },
   "source": [
    "#### **1. Job vs Credit Amount, Checking Account, Housing**"
   ]
  },
  {
   "cell_type": "code",
   "execution_count": 9,
   "id": "1e61809f",
   "metadata": {
    "execution": {
     "iopub.execute_input": "2022-05-29T18:57:45.384543Z",
     "iopub.status.busy": "2022-05-29T18:57:45.383833Z",
     "iopub.status.idle": "2022-05-29T18:57:45.391061Z",
     "shell.execute_reply": "2022-05-29T18:57:45.390326Z"
    },
    "papermill": {
     "duration": 0.020931,
     "end_time": "2022-05-29T18:57:45.393372",
     "exception": false,
     "start_time": "2022-05-29T18:57:45.372441",
     "status": "completed"
    },
    "tags": []
   },
   "outputs": [
    {
     "data": {
      "text/plain": [
       "male      690\n",
       "female    310\n",
       "Name: Sex, dtype: int64"
      ]
     },
     "execution_count": 9,
     "metadata": {},
     "output_type": "execute_result"
    }
   ],
   "source": [
    "df['Sex'].value_counts()"
   ]
  },
  {
   "cell_type": "code",
   "execution_count": 10,
   "id": "47942a3c",
   "metadata": {
    "execution": {
     "iopub.execute_input": "2022-05-29T18:57:45.416484Z",
     "iopub.status.busy": "2022-05-29T18:57:45.415716Z",
     "iopub.status.idle": "2022-05-29T18:57:45.425199Z",
     "shell.execute_reply": "2022-05-29T18:57:45.424086Z"
    },
    "papermill": {
     "duration": 0.023766,
     "end_time": "2022-05-29T18:57:45.427571",
     "exception": false,
     "start_time": "2022-05-29T18:57:45.403805",
     "status": "completed"
    },
    "tags": []
   },
   "outputs": [
    {
     "data": {
      "text/plain": [
       "count    1,000.00\n",
       "mean     3,271.26\n",
       "std      2,822.74\n",
       "min        250.00\n",
       "25%      1,365.50\n",
       "50%      2,319.50\n",
       "75%      3,972.25\n",
       "max     18,424.00\n",
       "Name: Credit amount, dtype: float64"
      ]
     },
     "execution_count": 10,
     "metadata": {},
     "output_type": "execute_result"
    }
   ],
   "source": [
    "df['Credit amount'].describe()"
   ]
  },
  {
   "cell_type": "code",
   "execution_count": 11,
   "id": "ca22fb59",
   "metadata": {
    "execution": {
     "iopub.execute_input": "2022-05-29T18:57:45.450718Z",
     "iopub.status.busy": "2022-05-29T18:57:45.449987Z",
     "iopub.status.idle": "2022-05-29T18:57:45.459853Z",
     "shell.execute_reply": "2022-05-29T18:57:45.458883Z"
    },
    "papermill": {
     "duration": 0.023807,
     "end_time": "2022-05-29T18:57:45.461917",
     "exception": false,
     "start_time": "2022-05-29T18:57:45.438110",
     "status": "completed"
    },
    "tags": []
   },
   "outputs": [
    {
     "data": {
      "text/plain": [
       "Job\n",
       "0   2,745.14\n",
       "1   2,358.52\n",
       "2   3,070.97\n",
       "3   5,435.49\n",
       "Name: Credit amount, dtype: float64"
      ]
     },
     "execution_count": 11,
     "metadata": {},
     "output_type": "execute_result"
    }
   ],
   "source": [
    "df.groupby('Job')['Credit amount'].mean()"
   ]
  },
  {
   "cell_type": "code",
   "execution_count": 12,
   "id": "613eee4e",
   "metadata": {
    "execution": {
     "iopub.execute_input": "2022-05-29T18:57:45.485026Z",
     "iopub.status.busy": "2022-05-29T18:57:45.484371Z",
     "iopub.status.idle": "2022-05-29T18:57:45.492455Z",
     "shell.execute_reply": "2022-05-29T18:57:45.491292Z"
    },
    "papermill": {
     "duration": 0.022242,
     "end_time": "2022-05-29T18:57:45.494812",
     "exception": false,
     "start_time": "2022-05-29T18:57:45.472570",
     "status": "completed"
    },
    "tags": []
   },
   "outputs": [
    {
     "data": {
      "text/plain": [
       "Sex\n",
       "female   2,877.77\n",
       "male     3,448.04\n",
       "Name: Credit amount, dtype: float64"
      ]
     },
     "execution_count": 12,
     "metadata": {},
     "output_type": "execute_result"
    }
   ],
   "source": [
    "df.groupby('Sex')['Credit amount'].mean()"
   ]
  },
  {
   "cell_type": "code",
   "execution_count": 13,
   "id": "5bea136a",
   "metadata": {
    "execution": {
     "iopub.execute_input": "2022-05-29T18:57:45.518671Z",
     "iopub.status.busy": "2022-05-29T18:57:45.518280Z",
     "iopub.status.idle": "2022-05-29T18:57:45.526396Z",
     "shell.execute_reply": "2022-05-29T18:57:45.525225Z"
    },
    "papermill": {
     "duration": 0.022585,
     "end_time": "2022-05-29T18:57:45.528651",
     "exception": false,
     "start_time": "2022-05-29T18:57:45.506066",
     "status": "completed"
    },
    "tags": []
   },
   "outputs": [
    {
     "data": {
      "text/plain": [
       "2    630\n",
       "1    200\n",
       "3    148\n",
       "0     22\n",
       "Name: Job, dtype: int64"
      ]
     },
     "execution_count": 13,
     "metadata": {},
     "output_type": "execute_result"
    }
   ],
   "source": [
    "df['Job'].value_counts()"
   ]
  },
  {
   "cell_type": "code",
   "execution_count": 14,
   "id": "8070039f",
   "metadata": {
    "execution": {
     "iopub.execute_input": "2022-05-29T18:57:45.552550Z",
     "iopub.status.busy": "2022-05-29T18:57:45.551685Z",
     "iopub.status.idle": "2022-05-29T18:57:45.760668Z",
     "shell.execute_reply": "2022-05-29T18:57:45.759908Z"
    },
    "papermill": {
     "duration": 0.223248,
     "end_time": "2022-05-29T18:57:45.762746",
     "exception": false,
     "start_time": "2022-05-29T18:57:45.539498",
     "status": "completed"
    },
    "tags": []
   },
   "outputs": [
    {
     "data": {
      "image/png": "[encoded data removed]",
      "text/plain": [
       "<Figure size 432x288 with 1 Axes>"
      ]
     },
     "metadata": {
      "needs_background": "light"
     },
     "output_type": "display_data"
    }
   ],
   "source": [
    "sns.countplot(data=df, x='Job', hue='Sex')\n",
    "\n",
    "plt.title(\"Count of Job Class on Sex\", size=15)\n",
    "plt.xlabel(\"Job Class\", size=15)\n",
    "plt.ylabel(\"Count\", size=15)\n",
    "\n",
    "plt.show()"
   ]
  },
  {
   "cell_type": "code",
   "execution_count": 15,
   "id": "3b46375c",
   "metadata": {
    "execution": {
     "iopub.execute_input": "2022-05-29T18:57:45.789239Z",
     "iopub.status.busy": "2022-05-29T18:57:45.788407Z",
     "iopub.status.idle": "2022-05-29T18:57:46.542180Z",
     "shell.execute_reply": "2022-05-29T18:57:46.541106Z"
    },
    "papermill": {
     "duration": 0.769407,
     "end_time": "2022-05-29T18:57:46.544697",
     "exception": false,
     "start_time": "2022-05-29T18:57:45.775290",
     "status": "completed"
    },
    "tags": []
   },
   "outputs": [
    {
     "data": {
      "image/png": "[encoded data removed]",
      "text/plain": [
       "<Figure size 430.5x360 with 1 Axes>"
      ]
     },
     "metadata": {
      "needs_background": "light"
     },
     "output_type": "display_data"
    }
   ],
   "source": [
    "sns.lmplot(data=df, x='Credit amount', y='Job', hue='Sex')\n",
    "\n",
    "plt.title(\"Credit amount on Job\", size=15)\n",
    "plt.xlabel(\"Credit amount\", size=15)\n",
    "plt.ylabel(\"Job Class\", size=15)\n",
    "\n",
    "plt.show()"
   ]
  },
  {
   "cell_type": "code",
   "execution_count": 16,
   "id": "8102a672",
   "metadata": {
    "execution": {
     "iopub.execute_input": "2022-05-29T18:57:46.570354Z",
     "iopub.status.busy": "2022-05-29T18:57:46.569956Z",
     "iopub.status.idle": "2022-05-29T18:57:46.782189Z",
     "shell.execute_reply": "2022-05-29T18:57:46.781200Z"
    },
    "papermill": {
     "duration": 0.227937,
     "end_time": "2022-05-29T18:57:46.784631",
     "exception": false,
     "start_time": "2022-05-29T18:57:46.556694",
     "status": "completed"
    },
    "tags": []
   },
   "outputs": [
    {
     "data": {
      "image/png": "[encoded data removed]",
      "text/plain": [
       "<Figure size 432x288 with 1 Axes>"
      ]
     },
     "metadata": {
      "needs_background": "light"
     },
     "output_type": "display_data"
    }
   ],
   "source": [
    "sns.countplot(data=df, x='Checking account', hue='Sex')\n",
    "\n",
    "plt.title(\"Checking account on Sex\", size=15)\n",
    "plt.xlabel(\"Checking Account\", size=15)\n",
    "plt.ylabel(\"Count\")\n",
    "\n",
    "plt.show()"
   ]
  },
  {
   "cell_type": "code",
   "execution_count": 17,
   "id": "d399a47f",
   "metadata": {
    "execution": {
     "iopub.execute_input": "2022-05-29T18:57:46.811920Z",
     "iopub.status.busy": "2022-05-29T18:57:46.811458Z",
     "iopub.status.idle": "2022-05-29T18:57:47.478347Z",
     "shell.execute_reply": "2022-05-29T18:57:47.477237Z"
    },
    "papermill": {
     "duration": 0.683148,
     "end_time": "2022-05-29T18:57:47.480401",
     "exception": false,
     "start_time": "2022-05-29T18:57:46.797253",
     "status": "completed"
    },
    "tags": []
   },
   "outputs": [
    {
     "data": {
      "image/png": "[encoded data removed]",
      "text/plain": [
       "<Figure size 432x288 with 1 Axes>"
      ]
     },
     "metadata": {
      "needs_background": "light"
     },
     "output_type": "display_data"
    }
   ],
   "source": [
    "sns.barplot(data=df, x='Job', y='Credit amount', hue='Housing')\n",
    "\n",
    "plt.title('Credit Amount on Job, by Hosing', size=15)\n",
    "plt.xlabel(\"Job\", size=15)\n",
    "plt.ylabel(\"Credit Amount\", size=15)\n",
    "\n",
    "plt.show()"
   ]
  },
  {
   "cell_type": "markdown",
   "id": "c3373268",
   "metadata": {
    "papermill": {
     "duration": 0.011974,
     "end_time": "2022-05-29T18:57:47.504701",
     "exception": false,
     "start_time": "2022-05-29T18:57:47.492727",
     "status": "completed"
    },
    "tags": []
   },
   "source": [
    "**Main Point**\n",
    "* People from this dataset have mostly job class 2.\n",
    "* People tend to have more credit, who have high class job.\n",
    "* People, who don't pay moeny for house, have more credit amount."
   ]
  },
  {
   "cell_type": "markdown",
   "id": "e4a235cf",
   "metadata": {
    "papermill": {
     "duration": 0.012147,
     "end_time": "2022-05-29T18:57:47.529366",
     "exception": false,
     "start_time": "2022-05-29T18:57:47.517219",
     "status": "completed"
    },
    "tags": []
   },
   "source": [
    "#### **2. Age vs Credit Amount, Purpose, Duration**"
   ]
  },
  {
   "cell_type": "code",
   "execution_count": 18,
   "id": "ba0b4bf6",
   "metadata": {
    "execution": {
     "iopub.execute_input": "2022-05-29T18:57:47.555975Z",
     "iopub.status.busy": "2022-05-29T18:57:47.555295Z",
     "iopub.status.idle": "2022-05-29T18:57:47.564984Z",
     "shell.execute_reply": "2022-05-29T18:57:47.563889Z"
    },
    "papermill": {
     "duration": 0.025734,
     "end_time": "2022-05-29T18:57:47.567414",
     "exception": false,
     "start_time": "2022-05-29T18:57:47.541680",
     "status": "completed"
    },
    "tags": []
   },
   "outputs": [
    {
     "data": {
      "text/plain": [
       "count   1,000.00\n",
       "mean       35.55\n",
       "std        11.38\n",
       "min        19.00\n",
       "25%        27.00\n",
       "50%        33.00\n",
       "75%        42.00\n",
       "max        75.00\n",
       "Name: Age, dtype: float64"
      ]
     },
     "execution_count": 18,
     "metadata": {},
     "output_type": "execute_result"
    }
   ],
   "source": [
    "df['Age'].describe()"
   ]
  },
  {
   "cell_type": "code",
   "execution_count": 19,
   "id": "87f95d23",
   "metadata": {
    "execution": {
     "iopub.execute_input": "2022-05-29T18:57:47.594317Z",
     "iopub.status.busy": "2022-05-29T18:57:47.593596Z",
     "iopub.status.idle": "2022-05-29T18:57:47.602593Z",
     "shell.execute_reply": "2022-05-29T18:57:47.601611Z"
    },
    "papermill": {
     "duration": 0.025015,
     "end_time": "2022-05-29T18:57:47.604934",
     "exception": false,
     "start_time": "2022-05-29T18:57:47.579919",
     "status": "completed"
    },
    "tags": []
   },
   "outputs": [
    {
     "data": {
      "text/plain": [
       "Sex\n",
       "female   32.80\n",
       "male     36.78\n",
       "Name: Age, dtype: float64"
      ]
     },
     "execution_count": 19,
     "metadata": {},
     "output_type": "execute_result"
    }
   ],
   "source": [
    "df.groupby('Sex')['Age'].mean()"
   ]
  },
  {
   "cell_type": "code",
   "execution_count": 20,
   "id": "d9bd6348",
   "metadata": {
    "execution": {
     "iopub.execute_input": "2022-05-29T18:57:47.632311Z",
     "iopub.status.busy": "2022-05-29T18:57:47.631744Z",
     "iopub.status.idle": "2022-05-29T18:57:48.066344Z",
     "shell.execute_reply": "2022-05-29T18:57:48.065454Z"
    },
    "papermill": {
     "duration": 0.450385,
     "end_time": "2022-05-29T18:57:48.068417",
     "exception": false,
     "start_time": "2022-05-29T18:57:47.618032",
     "status": "completed"
    },
    "tags": []
   },
   "outputs": [
    {
     "data": {
      "image/png": "[encoded data removed]",
      "text/plain": [
       "<Figure size 432x288 with 1 Axes>"
      ]
     },
     "metadata": {
      "needs_background": "light"
     },
     "output_type": "display_data"
    }
   ],
   "source": [
    "sns.histplot(data=df, x='Age', hue='Job')\n",
    "\n",
    "plt.title(\"Job Class on Age\", size=15)\n",
    "plt.xlabel(\"Age\", size=15)\n",
    "plt.ylabel(\"Count\", size=15)\n",
    "\n",
    "plt.show()"
   ]
  },
  {
   "cell_type": "code",
   "execution_count": 21,
   "id": "f59d7e41",
   "metadata": {
    "execution": {
     "iopub.execute_input": "2022-05-29T18:57:48.097071Z",
     "iopub.status.busy": "2022-05-29T18:57:48.096000Z",
     "iopub.status.idle": "2022-05-29T18:57:48.466979Z",
     "shell.execute_reply": "2022-05-29T18:57:48.465893Z"
    },
    "papermill": {
     "duration": 0.388106,
     "end_time": "2022-05-29T18:57:48.470007",
     "exception": false,
     "start_time": "2022-05-29T18:57:48.081901",
     "status": "completed"
    },
    "tags": []
   },
   "outputs": [
    {
     "data": {
      "image/png": "[encoded data removed]",
      "text/plain": [
       "<Figure size 432x288 with 1 Axes>"
      ]
     },
     "metadata": {
      "needs_background": "light"
     },
     "output_type": "display_data"
    }
   ],
   "source": [
    "sns.regplot(data=df, x='Age', y='Credit amount')\n",
    "\n",
    "plt.title(\"Relation between Age and Credit Amount\", size=15)\n",
    "plt.xlabel(\"Age\", size=15)\n",
    "plt.ylabel(\"Credit Amount\", size=15)\n",
    "\n",
    "plt.show()"
   ]
  },
  {
   "cell_type": "code",
   "execution_count": 22,
   "id": "50586d98",
   "metadata": {
    "execution": {
     "iopub.execute_input": "2022-05-29T18:57:48.500068Z",
     "iopub.status.busy": "2022-05-29T18:57:48.499370Z",
     "iopub.status.idle": "2022-05-29T18:57:48.873748Z",
     "shell.execute_reply": "2022-05-29T18:57:48.872832Z"
    },
    "papermill": {
     "duration": 0.392907,
     "end_time": "2022-05-29T18:57:48.877080",
     "exception": false,
     "start_time": "2022-05-29T18:57:48.484173",
     "status": "completed"
    },
    "tags": []
   },
   "outputs": [
    {
     "data": {
      "image/png": "[encoded data removed]",
      "text/plain": [
       "<Figure size 432x288 with 1 Axes>"
      ]
     },
     "metadata": {
      "needs_background": "light"
     },
     "output_type": "display_data"
    }
   ],
   "source": [
    "sns.regplot(data=df, x='Credit amount', y='Duration')\n",
    "\n",
    "plt.title(\"Relation between Credit Amount and Duration\", size=15)\n",
    "plt.xlabel(\"Credit Amount\", size=15)\n",
    "plt.ylabel(\"Duration\", size=15)\n",
    "\n",
    "plt.show()"
   ]
  },
  {
   "cell_type": "code",
   "execution_count": 23,
   "id": "08485de3",
   "metadata": {
    "execution": {
     "iopub.execute_input": "2022-05-29T18:57:48.913447Z",
     "iopub.status.busy": "2022-05-29T18:57:48.912796Z",
     "iopub.status.idle": "2022-05-29T18:57:49.717992Z",
     "shell.execute_reply": "2022-05-29T18:57:49.716926Z"
    },
    "papermill": {
     "duration": 0.827683,
     "end_time": "2022-05-29T18:57:49.720551",
     "exception": false,
     "start_time": "2022-05-29T18:57:48.892868",
     "status": "completed"
    },
    "tags": []
   },
   "outputs": [
    {
     "data": {
      "image/png": "[encoded data removed]",
      "text/plain": [
       "<Figure size 432x288 with 1 Axes>"
      ]
     },
     "metadata": {
      "needs_background": "light"
     },
     "output_type": "display_data"
    }
   ],
   "source": [
    "sns.barplot(data=df, x='Duration', y='Purpose', hue='Sex')\n",
    "\n",
    "plt.title(\"Purpose on Duration by Sex\", size=15)\n",
    "plt.xlabel(\"Duration\", size=15)\n",
    "plt.ylabel(\"Purpose\", size=15)\n",
    "\n",
    "plt.show()"
   ]
  },
  {
   "cell_type": "code",
   "execution_count": 24,
   "id": "935976f6",
   "metadata": {
    "execution": {
     "iopub.execute_input": "2022-05-29T18:57:49.752244Z",
     "iopub.status.busy": "2022-05-29T18:57:49.751273Z",
     "iopub.status.idle": "2022-05-29T18:57:50.584229Z",
     "shell.execute_reply": "2022-05-29T18:57:50.583242Z"
    },
    "papermill": {
     "duration": 0.851226,
     "end_time": "2022-05-29T18:57:50.586610",
     "exception": false,
     "start_time": "2022-05-29T18:57:49.735384",
     "status": "completed"
    },
    "tags": []
   },
   "outputs": [
    {
     "data": {
      "image/png": "[encoded data removed]",
      "text/plain": [
       "<Figure size 432x288 with 1 Axes>"
      ]
     },
     "metadata": {
      "needs_background": "light"
     },
     "output_type": "display_data"
    }
   ],
   "source": [
    "sns.barplot(data=df, x='Credit amount', y='Purpose', hue='Sex')\n",
    "\n",
    "plt.title(\"Purpose on Credit Amount by Sex\", size=15)\n",
    "plt.xlabel(\"Credit Amount\", size=15)\n",
    "plt.ylabel(\"Purpose\", size=15)\n",
    "\n",
    "plt.show()"
   ]
  },
  {
   "cell_type": "markdown",
   "id": "b0098f8d",
   "metadata": {
    "papermill": {
     "duration": 0.014554,
     "end_time": "2022-05-29T18:57:50.616197",
     "exception": false,
     "start_time": "2022-05-29T18:57:50.601643",
     "status": "completed"
    },
    "tags": []
   },
   "source": [
    "The remarkable point is,\n",
    "* It seems like that age does not affect to credit amount.\n",
    "* It may sound obvious, but the more credit amount, the longer duration.\n",
    "* Female tend to have more credit amount, durtaion for their vacation."
   ]
  },
  {
   "cell_type": "markdown",
   "id": "456786ce",
   "metadata": {
    "papermill": {
     "duration": 0.01433,
     "end_time": "2022-05-29T18:57:50.645329",
     "exception": false,
     "start_time": "2022-05-29T18:57:50.630999",
     "status": "completed"
    },
    "tags": []
   },
   "source": [
    "# **PHASE 5: Share**\n",
    "#### **1. Share my conclusion**\n",
    "* What kind of people tend to need a credit more than other?\n",
    "    * A female\n",
    "    * lives in a house for free\n",
    "    * has a job class 2 ~ 3\n",
    "    * has a purpose for vacation\n",
    "\n"
   ]
  }
 ],
 "metadata": {
  "kernelspec": {
   "display_name": "Python 3",
   "language": "python",
   "name": "python3"
  },
  "language_info": {
   "codemirror_mode": {
    "name": "ipython",
    "version": 3
   },
   "file_extension": ".py",
   "mimetype": "text/x-python",
   "name": "python",
   "nbconvert_exporter": "python",
   "pygments_lexer": "ipython3",
   "version": "3.7.12"
  },
  "papermill": {
   "default_parameters": {},
   "duration": 19.313436,
   "end_time": "2022-05-29T18:57:51.482271",
   "environment_variables": {},
   "exception": null,
   "input_path": "__notebook__.ipynb",
   "output_path": "__notebook__.ipynb",
   "parameters": {},
   "start_time": "2022-05-29T18:57:32.168835",
   "version": "2.3.4"
  }
 },
 "nbformat": 4,
 "nbformat_minor": 5
}
