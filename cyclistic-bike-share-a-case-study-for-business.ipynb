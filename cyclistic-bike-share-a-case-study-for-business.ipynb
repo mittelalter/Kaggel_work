{
 "cells": [
  {
   "cell_type": "markdown",
   "id": "d8368407",
   "metadata": {
    "papermill": {
     "duration": 0.015736,
     "end_time": "2022-05-26T19:41:33.235872",
     "exception": false,
     "start_time": "2022-05-26T19:41:33.220136",
     "status": "completed"
    },
    "tags": []
   },
   "source": [
    "## **Statement of the Business Task**\n",
    "\n",
    "<br>\n",
    "\n",
    "**The bike-share company wants to analyze their data to find a main difference in behaviour between their two types of customers, \"Casual rider\" and \"Annual member\". Customers who purchase single-ride or full-day passes are referred to as casual riders. Customers\n",
    "who purchase annual memberships are Cyclistic(annual) members**"
   ]
  },
  {
   "cell_type": "markdown",
   "id": "242e18d3",
   "metadata": {
    "papermill": {
     "duration": 0.014411,
     "end_time": "2022-05-26T19:41:33.266103",
     "exception": false,
     "start_time": "2022-05-26T19:41:33.251692",
     "status": "completed"
    },
    "tags": []
   },
   "source": [
    "## **STEP 1: Ask**\n",
    "\n",
    "#### **1. Identify the business task**\n",
    "* Maximizing the number of annual members in order to make a better business model and a profit.\n",
    "* To achieve this goal, the company wants to convert casual riders into annual members.\n",
    "\n",
    "#### **2. Main Questions**\n",
    "* How do annual members and casual riders use Cyclistic bikes differently?\n",
    "* Why would casual riders buy Cyclistic annual memberships?\n",
    "* How can Cyclistic use digital media to influence casual riders to become members?\n",
    "\n",
    "#### **3. Problem that i want to solve**\n",
    "* **Figure out, what would motivate the casual riders to buy a annual membership?**\n"
   ]
  },
  {
   "cell_type": "markdown",
   "id": "7077ab76",
   "metadata": {
    "papermill": {
     "duration": 0.013775,
     "end_time": "2022-05-26T19:41:33.294085",
     "exception": false,
     "start_time": "2022-05-26T19:41:33.280310",
     "status": "completed"
    },
    "tags": []
   },
   "source": [
    "## **STEP2: Prepare**\n"
   ]
  },
  {
   "cell_type": "markdown",
   "id": "114dfc95",
   "metadata": {
    "papermill": {
     "duration": 0.0139,
     "end_time": "2022-05-26T19:41:33.322057",
     "exception": false,
     "start_time": "2022-05-26T19:41:33.308157",
     "status": "completed"
    },
    "tags": []
   },
   "source": [
    "####  **1 .Determine the credibility of the data.**\n",
    "* This public data is from the bike-share-company. It starts from 2013 ~ 2022.\n",
    "* The data seems well organized, since it's a public data from the company"
   ]
  },
  {
   "cell_type": "markdown",
   "id": "f8e7ddc0",
   "metadata": {
    "papermill": {
     "duration": 0.014089,
     "end_time": "2022-05-26T19:41:33.350129",
     "exception": false,
     "start_time": "2022-05-26T19:41:33.336040",
     "status": "completed"
    },
    "tags": []
   },
   "source": [
    "#### **2. Sort and Filter**\n",
    "* I'm going to use the data from 2022 January ~ 2022 April."
   ]
  },
  {
   "cell_type": "code",
   "execution_count": 1,
   "id": "ce322243",
   "metadata": {
    "execution": {
     "iopub.execute_input": "2022-05-26T19:41:33.380468Z",
     "iopub.status.busy": "2022-05-26T19:41:33.379870Z",
     "iopub.status.idle": "2022-05-26T19:41:34.598915Z",
     "shell.execute_reply": "2022-05-26T19:41:34.597543Z"
    },
    "papermill": {
     "duration": 1.238636,
     "end_time": "2022-05-26T19:41:34.602746",
     "exception": false,
     "start_time": "2022-05-26T19:41:33.364110",
     "status": "completed"
    },
    "tags": []
   },
   "outputs": [
    {
     "name": "stdout",
     "output_type": "stream",
     "text": [
      "complete\n"
     ]
    }
   ],
   "source": [
    "import pandas as pd\n",
    "pd.plotting.register_matplotlib_converters()\n",
    "import matplotlib.pyplot as plt\n",
    "%matplotlib inline\n",
    "import seaborn as sns\n",
    "pd.options.display.float_format = '{:,.2f}'.format  \n",
    "pd.options.display.max_columns = 999\n",
    "print(\"complete\")"
   ]
  },
  {
   "cell_type": "code",
   "execution_count": 2,
   "id": "00a823a1",
   "metadata": {
    "execution": {
     "iopub.execute_input": "2022-05-26T19:41:34.634280Z",
     "iopub.status.busy": "2022-05-26T19:41:34.633869Z",
     "iopub.status.idle": "2022-05-26T19:41:40.717959Z",
     "shell.execute_reply": "2022-05-26T19:41:40.717066Z"
    },
    "papermill": {
     "duration": 6.102426,
     "end_time": "2022-05-26T19:41:40.720465",
     "exception": false,
     "start_time": "2022-05-26T19:41:34.618039",
     "status": "completed"
    },
    "tags": []
   },
   "outputs": [],
   "source": [
    "df1 = pd.read_csv(\"../input/casestudy/Case_study/csv/202201-divvy-tripdata.csv\")\n",
    "df2 = pd.read_csv(\"../input/casestudy/Case_study/csv/202202-divvy-tripdata.csv\")\n",
    "df3 = pd.read_csv(\"../input/casestudy/Case_study/csv/202203-divvy-tripdata.csv\")\n",
    "df4 = pd.read_csv(\"../input/casestudy/Case_study/csv/202204-divvy-tripdata.csv\")\n",
    "\n",
    "frames = [df1, df2, df3, df4]\n",
    "\n",
    "result = pd.concat(frames)"
   ]
  },
  {
   "cell_type": "code",
   "execution_count": 3,
   "id": "9564c082",
   "metadata": {
    "execution": {
     "iopub.execute_input": "2022-05-26T19:41:40.750706Z",
     "iopub.status.busy": "2022-05-26T19:41:40.750284Z",
     "iopub.status.idle": "2022-05-26T19:41:40.758664Z",
     "shell.execute_reply": "2022-05-26T19:41:40.757769Z"
    },
    "papermill": {
     "duration": 0.026854,
     "end_time": "2022-05-26T19:41:40.761706",
     "exception": false,
     "start_time": "2022-05-26T19:41:40.734852",
     "status": "completed"
    },
    "tags": []
   },
   "outputs": [
    {
     "data": {
      "text/plain": [
       "(874670, 15)"
      ]
     },
     "execution_count": 3,
     "metadata": {},
     "output_type": "execute_result"
    }
   ],
   "source": [
    "result.shape"
   ]
  },
  {
   "cell_type": "code",
   "execution_count": 4,
   "id": "ee19e3db",
   "metadata": {
    "execution": {
     "iopub.execute_input": "2022-05-26T19:41:40.793095Z",
     "iopub.status.busy": "2022-05-26T19:41:40.792099Z",
     "iopub.status.idle": "2022-05-26T19:41:40.814421Z",
     "shell.execute_reply": "2022-05-26T19:41:40.813744Z"
    },
    "papermill": {
     "duration": 0.039949,
     "end_time": "2022-05-26T19:41:40.816268",
     "exception": false,
     "start_time": "2022-05-26T19:41:40.776319",
     "status": "completed"
    },
    "tags": []
   },
   "outputs": [
    {
     "data": {
      "text/html": [
       "<div>\n",
       "<style scoped>\n",
       "    .dataframe tbody tr th:only-of-type {\n",
       "        vertical-align: middle;\n",
       "    }\n",
       "\n",
       "    .dataframe tbody tr th {\n",
       "        vertical-align: top;\n",
       "    }\n",
       "\n",
       "    .dataframe thead th {\n",
       "        text-align: right;\n",
       "    }\n",
       "</style>\n",
       "<table border=\"1\" class=\"dataframe\">\n",
       "  <thead>\n",
       "    <tr style=\"text-align: right;\">\n",
       "      <th></th>\n",
       "      <th>ride_id</th>\n",
       "      <th>rideable_type</th>\n",
       "      <th>started_at</th>\n",
       "      <th>ended_at</th>\n",
       "      <th>start_station_name</th>\n",
       "      <th>start_station_id</th>\n",
       "      <th>end_station_name</th>\n",
       "      <th>end_station_id</th>\n",
       "      <th>start_lat</th>\n",
       "      <th>start_lng</th>\n",
       "      <th>end_lat</th>\n",
       "      <th>end_lng</th>\n",
       "      <th>member_casual</th>\n",
       "      <th>ride_length</th>\n",
       "      <th>day_of_week</th>\n",
       "    </tr>\n",
       "  </thead>\n",
       "  <tbody>\n",
       "    <tr>\n",
       "      <th>0</th>\n",
       "      <td>C2F7DD78E82EC875</td>\n",
       "      <td>electric_bike</td>\n",
       "      <td>2022-01-13 11:59</td>\n",
       "      <td>2022-01-13 12:02</td>\n",
       "      <td>Glenwood Ave &amp; Touhy Ave</td>\n",
       "      <td>525</td>\n",
       "      <td>Clark St &amp; Touhy Ave</td>\n",
       "      <td>RP-007</td>\n",
       "      <td>42.01</td>\n",
       "      <td>-87.67</td>\n",
       "      <td>42.01</td>\n",
       "      <td>-87.67</td>\n",
       "      <td>casual</td>\n",
       "      <td>0:02:57</td>\n",
       "      <td>5</td>\n",
       "    </tr>\n",
       "    <tr>\n",
       "      <th>1</th>\n",
       "      <td>A6CF8980A652D272</td>\n",
       "      <td>electric_bike</td>\n",
       "      <td>2022-01-10 8:41</td>\n",
       "      <td>2022-01-10 8:46</td>\n",
       "      <td>Glenwood Ave &amp; Touhy Ave</td>\n",
       "      <td>525</td>\n",
       "      <td>Clark St &amp; Touhy Ave</td>\n",
       "      <td>RP-007</td>\n",
       "      <td>42.01</td>\n",
       "      <td>-87.67</td>\n",
       "      <td>42.01</td>\n",
       "      <td>-87.67</td>\n",
       "      <td>casual</td>\n",
       "      <td>0:04:21</td>\n",
       "      <td>2</td>\n",
       "    </tr>\n",
       "    <tr>\n",
       "      <th>2</th>\n",
       "      <td>BD0F91DFF741C66D</td>\n",
       "      <td>classic_bike</td>\n",
       "      <td>2022-01-25 4:53</td>\n",
       "      <td>2022-01-25 4:58</td>\n",
       "      <td>Sheffield Ave &amp; Fullerton Ave</td>\n",
       "      <td>TA1306000016</td>\n",
       "      <td>Greenview Ave &amp; Fullerton Ave</td>\n",
       "      <td>TA1307000001</td>\n",
       "      <td>41.93</td>\n",
       "      <td>-87.65</td>\n",
       "      <td>41.93</td>\n",
       "      <td>-87.67</td>\n",
       "      <td>member</td>\n",
       "      <td>0:04:21</td>\n",
       "      <td>3</td>\n",
       "    </tr>\n",
       "    <tr>\n",
       "      <th>3</th>\n",
       "      <td>CBB80ED419105406</td>\n",
       "      <td>classic_bike</td>\n",
       "      <td>2022-01-04 0:18</td>\n",
       "      <td>2022-01-04 0:33</td>\n",
       "      <td>Clark St &amp; Bryn Mawr Ave</td>\n",
       "      <td>KA1504000151</td>\n",
       "      <td>Paulina St &amp; Montrose Ave</td>\n",
       "      <td>TA1309000021</td>\n",
       "      <td>41.98</td>\n",
       "      <td>-87.67</td>\n",
       "      <td>41.96</td>\n",
       "      <td>-87.67</td>\n",
       "      <td>casual</td>\n",
       "      <td>0:14:56</td>\n",
       "      <td>3</td>\n",
       "    </tr>\n",
       "    <tr>\n",
       "      <th>4</th>\n",
       "      <td>DDC963BFDDA51EEA</td>\n",
       "      <td>classic_bike</td>\n",
       "      <td>2022-01-20 1:31</td>\n",
       "      <td>2022-01-20 1:37</td>\n",
       "      <td>Michigan Ave &amp; Jackson Blvd</td>\n",
       "      <td>TA1309000002</td>\n",
       "      <td>State St &amp; Randolph St</td>\n",
       "      <td>TA1305000029</td>\n",
       "      <td>41.88</td>\n",
       "      <td>-87.62</td>\n",
       "      <td>41.88</td>\n",
       "      <td>-87.63</td>\n",
       "      <td>member</td>\n",
       "      <td>0:06:02</td>\n",
       "      <td>5</td>\n",
       "    </tr>\n",
       "  </tbody>\n",
       "</table>\n",
       "</div>"
      ],
      "text/plain": [
       "            ride_id  rideable_type        started_at          ended_at  \\\n",
       "0  C2F7DD78E82EC875  electric_bike  2022-01-13 11:59  2022-01-13 12:02   \n",
       "1  A6CF8980A652D272  electric_bike   2022-01-10 8:41   2022-01-10 8:46   \n",
       "2  BD0F91DFF741C66D   classic_bike   2022-01-25 4:53   2022-01-25 4:58   \n",
       "3  CBB80ED419105406   classic_bike   2022-01-04 0:18   2022-01-04 0:33   \n",
       "4  DDC963BFDDA51EEA   classic_bike   2022-01-20 1:31   2022-01-20 1:37   \n",
       "\n",
       "              start_station_name start_station_id  \\\n",
       "0       Glenwood Ave & Touhy Ave              525   \n",
       "1       Glenwood Ave & Touhy Ave              525   \n",
       "2  Sheffield Ave & Fullerton Ave     TA1306000016   \n",
       "3       Clark St & Bryn Mawr Ave     KA1504000151   \n",
       "4    Michigan Ave & Jackson Blvd     TA1309000002   \n",
       "\n",
       "                end_station_name end_station_id  start_lat  start_lng  \\\n",
       "0           Clark St & Touhy Ave         RP-007      42.01     -87.67   \n",
       "1           Clark St & Touhy Ave         RP-007      42.01     -87.67   \n",
       "2  Greenview Ave & Fullerton Ave   TA1307000001      41.93     -87.65   \n",
       "3      Paulina St & Montrose Ave   TA1309000021      41.98     -87.67   \n",
       "4         State St & Randolph St   TA1305000029      41.88     -87.62   \n",
       "\n",
       "   end_lat  end_lng member_casual ride_length  day_of_week  \n",
       "0    42.01   -87.67        casual     0:02:57            5  \n",
       "1    42.01   -87.67        casual     0:04:21            2  \n",
       "2    41.93   -87.67        member     0:04:21            3  \n",
       "3    41.96   -87.67        casual     0:14:56            3  \n",
       "4    41.88   -87.63        member     0:06:02            5  "
      ]
     },
     "execution_count": 4,
     "metadata": {},
     "output_type": "execute_result"
    }
   ],
   "source": [
    "result.head()"
   ]
  },
  {
   "cell_type": "code",
   "execution_count": 5,
   "id": "281034eb",
   "metadata": {
    "execution": {
     "iopub.execute_input": "2022-05-26T19:41:40.848455Z",
     "iopub.status.busy": "2022-05-26T19:41:40.847247Z",
     "iopub.status.idle": "2022-05-26T19:41:41.792030Z",
     "shell.execute_reply": "2022-05-26T19:41:41.791073Z"
    },
    "papermill": {
     "duration": 0.963701,
     "end_time": "2022-05-26T19:41:41.795170",
     "exception": false,
     "start_time": "2022-05-26T19:41:40.831469",
     "status": "completed"
    },
    "tags": []
   },
   "outputs": [
    {
     "name": "stdout",
     "output_type": "stream",
     "text": [
      "<class 'pandas.core.frame.DataFrame'>\n",
      "Int64Index: 874670 entries, 0 to 371248\n",
      "Data columns (total 15 columns):\n",
      " #   Column              Non-Null Count   Dtype  \n",
      "---  ------              --------------   -----  \n",
      " 0   ride_id             874670 non-null  object \n",
      " 1   rideable_type       874670 non-null  object \n",
      " 2   started_at          874670 non-null  object \n",
      " 3   ended_at            874670 non-null  object \n",
      " 4   start_station_name  721697 non-null  object \n",
      " 5   start_station_id    721697 non-null  object \n",
      " 6   end_station_name    709943 non-null  object \n",
      " 7   end_station_id      709943 non-null  object \n",
      " 8   start_lat           874670 non-null  float64\n",
      " 9   start_lng           874670 non-null  float64\n",
      " 10  end_lat             873924 non-null  float64\n",
      " 11  end_lng             873924 non-null  float64\n",
      " 12  member_casual       874670 non-null  object \n",
      " 13  ride_length         874670 non-null  object \n",
      " 14  day_of_week         874670 non-null  int64  \n",
      "dtypes: float64(4), int64(1), object(10)\n",
      "memory usage: 106.8+ MB\n"
     ]
    }
   ],
   "source": [
    "result.info()"
   ]
  },
  {
   "cell_type": "markdown",
   "id": "0fd75652",
   "metadata": {
    "papermill": {
     "duration": 0.014709,
     "end_time": "2022-05-26T19:41:41.824750",
     "exception": false,
     "start_time": "2022-05-26T19:41:41.810041",
     "status": "completed"
    },
    "tags": []
   },
   "source": [
    "## **STEP 3: Process**\n",
    "\n",
    "#### **1. What tools am i going to use?**\n",
    "* Python and Python libraries like pyplot, seaborn for visualization.\n",
    "\n",
    "#### 2. **Clean the data, and prepare the data for analysis**\n",
    "* Checking null values and duplicate data"
   ]
  },
  {
   "cell_type": "code",
   "execution_count": 6,
   "id": "47e131e5",
   "metadata": {
    "execution": {
     "iopub.execute_input": "2022-05-26T19:41:41.857188Z",
     "iopub.status.busy": "2022-05-26T19:41:41.856338Z",
     "iopub.status.idle": "2022-05-26T19:41:42.779647Z",
     "shell.execute_reply": "2022-05-26T19:41:42.778746Z"
    },
    "papermill": {
     "duration": 0.942008,
     "end_time": "2022-05-26T19:41:42.782293",
     "exception": false,
     "start_time": "2022-05-26T19:41:41.840285",
     "status": "completed"
    },
    "tags": []
   },
   "outputs": [
    {
     "data": {
      "text/plain": [
       "ride_id                    0\n",
       "rideable_type              0\n",
       "started_at                 0\n",
       "ended_at                   0\n",
       "start_station_name    152973\n",
       "start_station_id      152973\n",
       "end_station_name      164727\n",
       "end_station_id        164727\n",
       "start_lat                  0\n",
       "start_lng                  0\n",
       "end_lat                  746\n",
       "end_lng                  746\n",
       "member_casual              0\n",
       "ride_length                0\n",
       "day_of_week                0\n",
       "dtype: int64"
      ]
     },
     "execution_count": 6,
     "metadata": {},
     "output_type": "execute_result"
    }
   ],
   "source": [
    "result.isnull().sum()"
   ]
  },
  {
   "cell_type": "code",
   "execution_count": 7,
   "id": "cd5052c9",
   "metadata": {
    "execution": {
     "iopub.execute_input": "2022-05-26T19:41:42.814995Z",
     "iopub.status.busy": "2022-05-26T19:41:42.814419Z",
     "iopub.status.idle": "2022-05-26T19:41:45.092822Z",
     "shell.execute_reply": "2022-05-26T19:41:45.091698Z"
    },
    "papermill": {
     "duration": 2.298369,
     "end_time": "2022-05-26T19:41:45.095922",
     "exception": false,
     "start_time": "2022-05-26T19:41:42.797553",
     "status": "completed"
    },
    "tags": []
   },
   "outputs": [
    {
     "data": {
      "text/plain": [
       "False    874670\n",
       "dtype: int64"
      ]
     },
     "execution_count": 7,
     "metadata": {},
     "output_type": "execute_result"
    }
   ],
   "source": [
    "result.duplicated().value_counts()"
   ]
  },
  {
   "cell_type": "code",
   "execution_count": 8,
   "id": "eaf4f5c1",
   "metadata": {
    "execution": {
     "iopub.execute_input": "2022-05-26T19:41:45.134502Z",
     "iopub.status.busy": "2022-05-26T19:41:45.133830Z",
     "iopub.status.idle": "2022-05-26T19:41:45.140406Z",
     "shell.execute_reply": "2022-05-26T19:41:45.139672Z"
    },
    "papermill": {
     "duration": 0.026129,
     "end_time": "2022-05-26T19:41:45.142363",
     "exception": false,
     "start_time": "2022-05-26T19:41:45.116234",
     "status": "completed"
    },
    "tags": []
   },
   "outputs": [
    {
     "data": {
      "text/plain": [
       "True"
      ]
     },
     "execution_count": 8,
     "metadata": {},
     "output_type": "execute_result"
    }
   ],
   "source": [
    "result.columns.is_unique"
   ]
  },
  {
   "cell_type": "markdown",
   "id": "d8ad1fa9",
   "metadata": {
    "papermill": {
     "duration": 0.015114,
     "end_time": "2022-05-26T19:41:45.173006",
     "exception": false,
     "start_time": "2022-05-26T19:41:45.157892",
     "status": "completed"
    },
    "tags": []
   },
   "source": [
    "There are no duplicated values. But there are a lot of null values in station and a little bit in latitude, langtidue. So i will clean it up"
   ]
  },
  {
   "cell_type": "code",
   "execution_count": 9,
   "id": "909a4794",
   "metadata": {
    "execution": {
     "iopub.execute_input": "2022-05-26T19:41:45.206055Z",
     "iopub.status.busy": "2022-05-26T19:41:45.204993Z",
     "iopub.status.idle": "2022-05-26T19:41:46.635282Z",
     "shell.execute_reply": "2022-05-26T19:41:46.634410Z"
    },
    "papermill": {
     "duration": 1.448811,
     "end_time": "2022-05-26T19:41:46.637663",
     "exception": false,
     "start_time": "2022-05-26T19:41:45.188852",
     "status": "completed"
    },
    "tags": []
   },
   "outputs": [],
   "source": [
    "result.dropna(inplace=True)"
   ]
  },
  {
   "cell_type": "code",
   "execution_count": 10,
   "id": "bf627520",
   "metadata": {
    "execution": {
     "iopub.execute_input": "2022-05-26T19:41:46.671044Z",
     "iopub.status.busy": "2022-05-26T19:41:46.670326Z",
     "iopub.status.idle": "2022-05-26T19:41:47.410945Z",
     "shell.execute_reply": "2022-05-26T19:41:47.409981Z"
    },
    "papermill": {
     "duration": 0.760085,
     "end_time": "2022-05-26T19:41:47.413047",
     "exception": false,
     "start_time": "2022-05-26T19:41:46.652962",
     "status": "completed"
    },
    "tags": []
   },
   "outputs": [
    {
     "data": {
      "text/plain": [
       "ride_id               0\n",
       "rideable_type         0\n",
       "started_at            0\n",
       "ended_at              0\n",
       "start_station_name    0\n",
       "start_station_id      0\n",
       "end_station_name      0\n",
       "end_station_id        0\n",
       "start_lat             0\n",
       "start_lng             0\n",
       "end_lat               0\n",
       "end_lng               0\n",
       "member_casual         0\n",
       "ride_length           0\n",
       "day_of_week           0\n",
       "dtype: int64"
      ]
     },
     "execution_count": 10,
     "metadata": {},
     "output_type": "execute_result"
    }
   ],
   "source": [
    "result.isnull().sum()"
   ]
  },
  {
   "cell_type": "markdown",
   "id": "59897ce5",
   "metadata": {
    "papermill": {
     "duration": 0.01545,
     "end_time": "2022-05-26T19:41:47.444026",
     "exception": false,
     "start_time": "2022-05-26T19:41:47.428576",
     "status": "completed"
    },
    "tags": []
   },
   "source": [
    "## **STEP 4: Analyze**\n",
    "#### **1. Identify trends and relationships.**\n",
    "* **Customer Type vs Ride Length** (Which type of customers ride our bike shorter or longer?)\n",
    "* **Customer Type vs Day** (Do customer ride a bike more on the week or on the weekend?)\n",
    "* **Customer Type vs Bike Type** (What kind of bike type prefer our customer?)\n",
    "* **Customer Type vs Station** (Are there any specific stations, where our customer start on riding?)"
   ]
  },
  {
   "cell_type": "markdown",
   "id": "0b2b2ff8",
   "metadata": {
    "papermill": {
     "duration": 0.015574,
     "end_time": "2022-05-26T19:41:47.474990",
     "exception": false,
     "start_time": "2022-05-26T19:41:47.459416",
     "status": "completed"
    },
    "tags": []
   },
   "source": [
    "#### **1. Customer Type vs Ride Length**"
   ]
  },
  {
   "cell_type": "markdown",
   "id": "4e342790",
   "metadata": {
    "papermill": {
     "duration": 0.016722,
     "end_time": "2022-05-26T19:41:47.507214",
     "exception": false,
     "start_time": "2022-05-26T19:41:47.490492",
     "status": "completed"
    },
    "tags": []
   },
   "source": [
    "First, in order to calculate the ride length, we need to convert the dtype of ride_length to numeric."
   ]
  },
  {
   "cell_type": "code",
   "execution_count": 11,
   "id": "e563eeee",
   "metadata": {
    "execution": {
     "iopub.execute_input": "2022-05-26T19:41:47.540464Z",
     "iopub.status.busy": "2022-05-26T19:41:47.539915Z",
     "iopub.status.idle": "2022-05-26T19:41:47.990120Z",
     "shell.execute_reply": "2022-05-26T19:41:47.989037Z"
    },
    "papermill": {
     "duration": 0.469144,
     "end_time": "2022-05-26T19:41:47.992596",
     "exception": false,
     "start_time": "2022-05-26T19:41:47.523452",
     "status": "completed"
    },
    "tags": []
   },
   "outputs": [],
   "source": [
    "result['ride_length'] = result['ride_length'].apply(lambda v: v.replace('0','').replace(':',''))"
   ]
  },
  {
   "cell_type": "code",
   "execution_count": 12,
   "id": "f29e189d",
   "metadata": {
    "execution": {
     "iopub.execute_input": "2022-05-26T19:41:48.026141Z",
     "iopub.status.busy": "2022-05-26T19:41:48.025738Z",
     "iopub.status.idle": "2022-05-26T19:41:48.789585Z",
     "shell.execute_reply": "2022-05-26T19:41:48.788514Z"
    },
    "papermill": {
     "duration": 0.783065,
     "end_time": "2022-05-26T19:41:48.792062",
     "exception": false,
     "start_time": "2022-05-26T19:41:48.008997",
     "status": "completed"
    },
    "tags": []
   },
   "outputs": [],
   "source": [
    "result['ride_length'] = pd.to_numeric(result['ride_length'], errors='coerce')"
   ]
  },
  {
   "cell_type": "code",
   "execution_count": 13,
   "id": "fc58b203",
   "metadata": {
    "execution": {
     "iopub.execute_input": "2022-05-26T19:41:48.826866Z",
     "iopub.status.busy": "2022-05-26T19:41:48.826223Z",
     "iopub.status.idle": "2022-05-26T19:41:48.834889Z",
     "shell.execute_reply": "2022-05-26T19:41:48.833958Z"
    },
    "papermill": {
     "duration": 0.028216,
     "end_time": "2022-05-26T19:41:48.837159",
     "exception": false,
     "start_time": "2022-05-26T19:41:48.808943",
     "status": "completed"
    },
    "tags": []
   },
   "outputs": [
    {
     "data": {
      "text/plain": [
       "0          257.00\n",
       "1          421.00\n",
       "2          421.00\n",
       "3        1,456.00\n",
       "4           62.00\n",
       "           ...   \n",
       "371244   2,648.00\n",
       "371245   2,828.00\n",
       "371246     293.00\n",
       "371247   1,747.00\n",
       "371248      58.00\n",
       "Name: ride_length, Length: 657849, dtype: float64"
      ]
     },
     "execution_count": 13,
     "metadata": {},
     "output_type": "execute_result"
    }
   ],
   "source": [
    "result['ride_length']"
   ]
  },
  {
   "cell_type": "code",
   "execution_count": 14,
   "id": "73c4dc70",
   "metadata": {
    "execution": {
     "iopub.execute_input": "2022-05-26T19:41:48.870186Z",
     "iopub.status.busy": "2022-05-26T19:41:48.869571Z",
     "iopub.status.idle": "2022-05-26T19:41:48.884462Z",
     "shell.execute_reply": "2022-05-26T19:41:48.883566Z"
    },
    "papermill": {
     "duration": 0.033923,
     "end_time": "2022-05-26T19:41:48.886711",
     "exception": false,
     "start_time": "2022-05-26T19:41:48.852788",
     "status": "completed"
    },
    "tags": []
   },
   "outputs": [
    {
     "data": {
      "text/plain": [
       "0         3.00\n",
       "1         4.00\n",
       "2         4.00\n",
       "3        15.00\n",
       "4         1.00\n",
       "          ... \n",
       "371244   26.00\n",
       "371245   28.00\n",
       "371246    3.00\n",
       "371247   17.00\n",
       "371248    1.00\n",
       "Name: ride_length, Length: 657849, dtype: float64"
      ]
     },
     "execution_count": 14,
     "metadata": {},
     "output_type": "execute_result"
    }
   ],
   "source": [
    "result['ride_length'] = round(result['ride_length'] / 100)\n",
    "result['ride_length']"
   ]
  },
  {
   "cell_type": "markdown",
   "id": "402ff979",
   "metadata": {
    "papermill": {
     "duration": 0.015453,
     "end_time": "2022-05-26T19:41:48.918039",
     "exception": false,
     "start_time": "2022-05-26T19:41:48.902586",
     "status": "completed"
    },
    "tags": []
   },
   "source": [
    "**Round the seconds up so that it can be easy to calculate the ride length.**"
   ]
  },
  {
   "cell_type": "code",
   "execution_count": 15,
   "id": "188d9f12",
   "metadata": {
    "execution": {
     "iopub.execute_input": "2022-05-26T19:41:48.950311Z",
     "iopub.status.busy": "2022-05-26T19:41:48.949631Z",
     "iopub.status.idle": "2022-05-26T19:41:50.169344Z",
     "shell.execute_reply": "2022-05-26T19:41:50.168327Z"
    },
    "papermill": {
     "duration": 1.238425,
     "end_time": "2022-05-26T19:41:50.171719",
     "exception": false,
     "start_time": "2022-05-26T19:41:48.933294",
     "status": "completed"
    },
    "tags": []
   },
   "outputs": [
    {
     "data": {
      "text/html": [
       "<div>\n",
       "<style scoped>\n",
       "    .dataframe tbody tr th:only-of-type {\n",
       "        vertical-align: middle;\n",
       "    }\n",
       "\n",
       "    .dataframe tbody tr th {\n",
       "        vertical-align: top;\n",
       "    }\n",
       "\n",
       "    .dataframe thead th {\n",
       "        text-align: right;\n",
       "    }\n",
       "</style>\n",
       "<table border=\"1\" class=\"dataframe\">\n",
       "  <thead>\n",
       "    <tr style=\"text-align: right;\">\n",
       "      <th></th>\n",
       "      <th>ride_id</th>\n",
       "      <th>rideable_type</th>\n",
       "      <th>started_at</th>\n",
       "      <th>ended_at</th>\n",
       "      <th>start_station_name</th>\n",
       "      <th>start_station_id</th>\n",
       "      <th>end_station_name</th>\n",
       "      <th>end_station_id</th>\n",
       "      <th>start_lat</th>\n",
       "      <th>start_lng</th>\n",
       "      <th>end_lat</th>\n",
       "      <th>end_lng</th>\n",
       "      <th>member_casual</th>\n",
       "      <th>ride_length</th>\n",
       "      <th>day_of_week</th>\n",
       "    </tr>\n",
       "  </thead>\n",
       "  <tbody>\n",
       "    <tr>\n",
       "      <th>0</th>\n",
       "      <td>C2F7DD78E82EC875</td>\n",
       "      <td>electric_bike</td>\n",
       "      <td>2022-01-13 11:59</td>\n",
       "      <td>2022-01-13 12:02</td>\n",
       "      <td>Glenwood Ave &amp; Touhy Ave</td>\n",
       "      <td>525</td>\n",
       "      <td>Clark St &amp; Touhy Ave</td>\n",
       "      <td>RP-007</td>\n",
       "      <td>42.01</td>\n",
       "      <td>-87.67</td>\n",
       "      <td>42.01</td>\n",
       "      <td>-87.67</td>\n",
       "      <td>casual</td>\n",
       "      <td>3</td>\n",
       "      <td>5</td>\n",
       "    </tr>\n",
       "    <tr>\n",
       "      <th>1</th>\n",
       "      <td>A6CF8980A652D272</td>\n",
       "      <td>electric_bike</td>\n",
       "      <td>2022-01-10 8:41</td>\n",
       "      <td>2022-01-10 8:46</td>\n",
       "      <td>Glenwood Ave &amp; Touhy Ave</td>\n",
       "      <td>525</td>\n",
       "      <td>Clark St &amp; Touhy Ave</td>\n",
       "      <td>RP-007</td>\n",
       "      <td>42.01</td>\n",
       "      <td>-87.67</td>\n",
       "      <td>42.01</td>\n",
       "      <td>-87.67</td>\n",
       "      <td>casual</td>\n",
       "      <td>4</td>\n",
       "      <td>2</td>\n",
       "    </tr>\n",
       "    <tr>\n",
       "      <th>2</th>\n",
       "      <td>BD0F91DFF741C66D</td>\n",
       "      <td>classic_bike</td>\n",
       "      <td>2022-01-25 4:53</td>\n",
       "      <td>2022-01-25 4:58</td>\n",
       "      <td>Sheffield Ave &amp; Fullerton Ave</td>\n",
       "      <td>TA1306000016</td>\n",
       "      <td>Greenview Ave &amp; Fullerton Ave</td>\n",
       "      <td>TA1307000001</td>\n",
       "      <td>41.93</td>\n",
       "      <td>-87.65</td>\n",
       "      <td>41.93</td>\n",
       "      <td>-87.67</td>\n",
       "      <td>member</td>\n",
       "      <td>4</td>\n",
       "      <td>3</td>\n",
       "    </tr>\n",
       "    <tr>\n",
       "      <th>3</th>\n",
       "      <td>CBB80ED419105406</td>\n",
       "      <td>classic_bike</td>\n",
       "      <td>2022-01-04 0:18</td>\n",
       "      <td>2022-01-04 0:33</td>\n",
       "      <td>Clark St &amp; Bryn Mawr Ave</td>\n",
       "      <td>KA1504000151</td>\n",
       "      <td>Paulina St &amp; Montrose Ave</td>\n",
       "      <td>TA1309000021</td>\n",
       "      <td>41.98</td>\n",
       "      <td>-87.67</td>\n",
       "      <td>41.96</td>\n",
       "      <td>-87.67</td>\n",
       "      <td>casual</td>\n",
       "      <td>15</td>\n",
       "      <td>3</td>\n",
       "    </tr>\n",
       "    <tr>\n",
       "      <th>4</th>\n",
       "      <td>DDC963BFDDA51EEA</td>\n",
       "      <td>classic_bike</td>\n",
       "      <td>2022-01-20 1:31</td>\n",
       "      <td>2022-01-20 1:37</td>\n",
       "      <td>Michigan Ave &amp; Jackson Blvd</td>\n",
       "      <td>TA1309000002</td>\n",
       "      <td>State St &amp; Randolph St</td>\n",
       "      <td>TA1305000029</td>\n",
       "      <td>41.88</td>\n",
       "      <td>-87.62</td>\n",
       "      <td>41.88</td>\n",
       "      <td>-87.63</td>\n",
       "      <td>member</td>\n",
       "      <td>1</td>\n",
       "      <td>5</td>\n",
       "    </tr>\n",
       "    <tr>\n",
       "      <th>...</th>\n",
       "      <td>...</td>\n",
       "      <td>...</td>\n",
       "      <td>...</td>\n",
       "      <td>...</td>\n",
       "      <td>...</td>\n",
       "      <td>...</td>\n",
       "      <td>...</td>\n",
       "      <td>...</td>\n",
       "      <td>...</td>\n",
       "      <td>...</td>\n",
       "      <td>...</td>\n",
       "      <td>...</td>\n",
       "      <td>...</td>\n",
       "      <td>...</td>\n",
       "      <td>...</td>\n",
       "    </tr>\n",
       "    <tr>\n",
       "      <th>371244</th>\n",
       "      <td>C5A123D7BF8D350A</td>\n",
       "      <td>electric_bike</td>\n",
       "      <td>2022-04-22 15:54</td>\n",
       "      <td>2022-04-22 16:20</td>\n",
       "      <td>Streeter Dr &amp; Grand Ave</td>\n",
       "      <td>13022</td>\n",
       "      <td>California Ave &amp; North Ave</td>\n",
       "      <td>13258</td>\n",
       "      <td>41.89</td>\n",
       "      <td>-87.61</td>\n",
       "      <td>41.91</td>\n",
       "      <td>-87.70</td>\n",
       "      <td>member</td>\n",
       "      <td>26</td>\n",
       "      <td>6</td>\n",
       "    </tr>\n",
       "    <tr>\n",
       "      <th>371245</th>\n",
       "      <td>F7FCC7C26D8D137D</td>\n",
       "      <td>electric_bike</td>\n",
       "      <td>2022-04-21 20:18</td>\n",
       "      <td>2022-04-21 20:46</td>\n",
       "      <td>Streeter Dr &amp; Grand Ave</td>\n",
       "      <td>13022</td>\n",
       "      <td>California Ave &amp; North Ave</td>\n",
       "      <td>13258</td>\n",
       "      <td>41.89</td>\n",
       "      <td>-87.61</td>\n",
       "      <td>41.91</td>\n",
       "      <td>-87.70</td>\n",
       "      <td>member</td>\n",
       "      <td>28</td>\n",
       "      <td>5</td>\n",
       "    </tr>\n",
       "    <tr>\n",
       "      <th>371246</th>\n",
       "      <td>43D351300A40000A</td>\n",
       "      <td>classic_bike</td>\n",
       "      <td>2022-04-21 16:46</td>\n",
       "      <td>2022-04-21 17:15</td>\n",
       "      <td>Franklin St &amp; Monroe St</td>\n",
       "      <td>TA1309000007</td>\n",
       "      <td>St. Clair St &amp; Erie St</td>\n",
       "      <td>13016</td>\n",
       "      <td>41.88</td>\n",
       "      <td>-87.64</td>\n",
       "      <td>41.89</td>\n",
       "      <td>-87.62</td>\n",
       "      <td>member</td>\n",
       "      <td>3</td>\n",
       "      <td>5</td>\n",
       "    </tr>\n",
       "    <tr>\n",
       "      <th>371247</th>\n",
       "      <td>1618BFEEA7B566EF</td>\n",
       "      <td>electric_bike</td>\n",
       "      <td>2022-04-16 13:19</td>\n",
       "      <td>2022-04-16 13:37</td>\n",
       "      <td>Ashland Ave &amp; Blackhawk St</td>\n",
       "      <td>13224</td>\n",
       "      <td>Southport Ave &amp; Waveland Ave</td>\n",
       "      <td>13235</td>\n",
       "      <td>41.91</td>\n",
       "      <td>-87.67</td>\n",
       "      <td>41.95</td>\n",
       "      <td>-87.66</td>\n",
       "      <td>casual</td>\n",
       "      <td>17</td>\n",
       "      <td>7</td>\n",
       "    </tr>\n",
       "    <tr>\n",
       "      <th>371248</th>\n",
       "      <td>92C069001A6B17B1</td>\n",
       "      <td>electric_bike</td>\n",
       "      <td>2022-04-21 18:06</td>\n",
       "      <td>2022-04-21 18:11</td>\n",
       "      <td>Southport Ave &amp; Clark St</td>\n",
       "      <td>TA1308000047</td>\n",
       "      <td>Southport Ave &amp; Waveland Ave</td>\n",
       "      <td>13235</td>\n",
       "      <td>41.96</td>\n",
       "      <td>-87.66</td>\n",
       "      <td>41.95</td>\n",
       "      <td>-87.66</td>\n",
       "      <td>casual</td>\n",
       "      <td>1</td>\n",
       "      <td>5</td>\n",
       "    </tr>\n",
       "  </tbody>\n",
       "</table>\n",
       "<p>657849 rows × 15 columns</p>\n",
       "</div>"
      ],
      "text/plain": [
       "                 ride_id  rideable_type        started_at          ended_at  \\\n",
       "0       C2F7DD78E82EC875  electric_bike  2022-01-13 11:59  2022-01-13 12:02   \n",
       "1       A6CF8980A652D272  electric_bike   2022-01-10 8:41   2022-01-10 8:46   \n",
       "2       BD0F91DFF741C66D   classic_bike   2022-01-25 4:53   2022-01-25 4:58   \n",
       "3       CBB80ED419105406   classic_bike   2022-01-04 0:18   2022-01-04 0:33   \n",
       "4       DDC963BFDDA51EEA   classic_bike   2022-01-20 1:31   2022-01-20 1:37   \n",
       "...                  ...            ...               ...               ...   \n",
       "371244  C5A123D7BF8D350A  electric_bike  2022-04-22 15:54  2022-04-22 16:20   \n",
       "371245  F7FCC7C26D8D137D  electric_bike  2022-04-21 20:18  2022-04-21 20:46   \n",
       "371246  43D351300A40000A   classic_bike  2022-04-21 16:46  2022-04-21 17:15   \n",
       "371247  1618BFEEA7B566EF  electric_bike  2022-04-16 13:19  2022-04-16 13:37   \n",
       "371248  92C069001A6B17B1  electric_bike  2022-04-21 18:06  2022-04-21 18:11   \n",
       "\n",
       "                   start_station_name start_station_id  \\\n",
       "0            Glenwood Ave & Touhy Ave              525   \n",
       "1            Glenwood Ave & Touhy Ave              525   \n",
       "2       Sheffield Ave & Fullerton Ave     TA1306000016   \n",
       "3            Clark St & Bryn Mawr Ave     KA1504000151   \n",
       "4         Michigan Ave & Jackson Blvd     TA1309000002   \n",
       "...                               ...              ...   \n",
       "371244        Streeter Dr & Grand Ave            13022   \n",
       "371245        Streeter Dr & Grand Ave            13022   \n",
       "371246        Franklin St & Monroe St     TA1309000007   \n",
       "371247     Ashland Ave & Blackhawk St            13224   \n",
       "371248       Southport Ave & Clark St     TA1308000047   \n",
       "\n",
       "                     end_station_name end_station_id  start_lat  start_lng  \\\n",
       "0                Clark St & Touhy Ave         RP-007      42.01     -87.67   \n",
       "1                Clark St & Touhy Ave         RP-007      42.01     -87.67   \n",
       "2       Greenview Ave & Fullerton Ave   TA1307000001      41.93     -87.65   \n",
       "3           Paulina St & Montrose Ave   TA1309000021      41.98     -87.67   \n",
       "4              State St & Randolph St   TA1305000029      41.88     -87.62   \n",
       "...                               ...            ...        ...        ...   \n",
       "371244     California Ave & North Ave          13258      41.89     -87.61   \n",
       "371245     California Ave & North Ave          13258      41.89     -87.61   \n",
       "371246         St. Clair St & Erie St          13016      41.88     -87.64   \n",
       "371247   Southport Ave & Waveland Ave          13235      41.91     -87.67   \n",
       "371248   Southport Ave & Waveland Ave          13235      41.96     -87.66   \n",
       "\n",
       "        end_lat  end_lng member_casual  ride_length  day_of_week  \n",
       "0         42.01   -87.67        casual            3            5  \n",
       "1         42.01   -87.67        casual            4            2  \n",
       "2         41.93   -87.67        member            4            3  \n",
       "3         41.96   -87.67        casual           15            3  \n",
       "4         41.88   -87.63        member            1            5  \n",
       "...         ...      ...           ...          ...          ...  \n",
       "371244    41.91   -87.70        member           26            6  \n",
       "371245    41.91   -87.70        member           28            5  \n",
       "371246    41.89   -87.62        member            3            5  \n",
       "371247    41.95   -87.66        casual           17            7  \n",
       "371248    41.95   -87.66        casual            1            5  \n",
       "\n",
       "[657849 rows x 15 columns]"
      ]
     },
     "execution_count": 15,
     "metadata": {},
     "output_type": "execute_result"
    }
   ],
   "source": [
    "result.convert_dtypes()"
   ]
  },
  {
   "cell_type": "code",
   "execution_count": 16,
   "id": "528bf64d",
   "metadata": {
    "execution": {
     "iopub.execute_input": "2022-05-26T19:41:50.207467Z",
     "iopub.status.busy": "2022-05-26T19:41:50.207058Z",
     "iopub.status.idle": "2022-05-26T19:41:50.879354Z",
     "shell.execute_reply": "2022-05-26T19:41:50.878253Z"
    },
    "papermill": {
     "duration": 0.692643,
     "end_time": "2022-05-26T19:41:50.881680",
     "exception": false,
     "start_time": "2022-05-26T19:41:50.189037",
     "status": "completed"
    },
    "tags": []
   },
   "outputs": [
    {
     "name": "stdout",
     "output_type": "stream",
     "text": [
      "<class 'pandas.core.frame.DataFrame'>\n",
      "Int64Index: 657849 entries, 0 to 371248\n",
      "Data columns (total 15 columns):\n",
      " #   Column              Non-Null Count   Dtype  \n",
      "---  ------              --------------   -----  \n",
      " 0   ride_id             657849 non-null  object \n",
      " 1   rideable_type       657849 non-null  object \n",
      " 2   started_at          657849 non-null  object \n",
      " 3   ended_at            657849 non-null  object \n",
      " 4   start_station_name  657849 non-null  object \n",
      " 5   start_station_id    657849 non-null  object \n",
      " 6   end_station_name    657849 non-null  object \n",
      " 7   end_station_id      657849 non-null  object \n",
      " 8   start_lat           657849 non-null  float64\n",
      " 9   start_lng           657849 non-null  float64\n",
      " 10  end_lat             657849 non-null  float64\n",
      " 11  end_lng             657849 non-null  float64\n",
      " 12  member_casual       657849 non-null  object \n",
      " 13  ride_length         657819 non-null  float64\n",
      " 14  day_of_week         657849 non-null  int64  \n",
      "dtypes: float64(5), int64(1), object(9)\n",
      "memory usage: 80.3+ MB\n"
     ]
    }
   ],
   "source": [
    "result.info()"
   ]
  },
  {
   "cell_type": "code",
   "execution_count": 17,
   "id": "b0f6f0be",
   "metadata": {
    "execution": {
     "iopub.execute_input": "2022-05-26T19:41:50.917034Z",
     "iopub.status.busy": "2022-05-26T19:41:50.916428Z",
     "iopub.status.idle": "2022-05-26T19:41:50.985781Z",
     "shell.execute_reply": "2022-05-26T19:41:50.984758Z"
    },
    "papermill": {
     "duration": 0.089625,
     "end_time": "2022-05-26T19:41:50.987938",
     "exception": false,
     "start_time": "2022-05-26T19:41:50.898313",
     "status": "completed"
    },
    "tags": []
   },
   "outputs": [
    {
     "data": {
      "text/plain": [
       "member_casual\n",
       "casual   19.86\n",
       "member    7.84\n",
       "Name: ride_length, dtype: float64"
      ]
     },
     "execution_count": 17,
     "metadata": {},
     "output_type": "execute_result"
    }
   ],
   "source": [
    "result.groupby('member_casual')['ride_length'].mean()"
   ]
  },
  {
   "cell_type": "code",
   "execution_count": 18,
   "id": "d4c5fab0",
   "metadata": {
    "execution": {
     "iopub.execute_input": "2022-05-26T19:41:51.024635Z",
     "iopub.status.busy": "2022-05-26T19:41:51.024247Z",
     "iopub.status.idle": "2022-05-26T19:42:07.377300Z",
     "shell.execute_reply": "2022-05-26T19:42:07.376282Z"
    },
    "papermill": {
     "duration": 16.374572,
     "end_time": "2022-05-26T19:42:07.380067",
     "exception": false,
     "start_time": "2022-05-26T19:41:51.005495",
     "status": "completed"
    },
    "tags": []
   },
   "outputs": [
    {
     "data": {
      "image/png": "[encoded data removed]",
      "text/plain": [
       "<Figure size 432x288 with 1 Axes>"
      ]
     },
     "metadata": {
      "needs_background": "light"
     },
     "output_type": "display_data"
    }
   ],
   "source": [
    "fig, ax = plt.subplots()\n",
    "\n",
    "sns.barplot(data=result, x='member_casual', y='ride_length', ax=ax)\n",
    "\n",
    "ax.set_title(\"Ride Length Compared\", size=15)\n",
    "plt.xlabel(\"Two Types of Customers\", size=15)\n",
    "plt.ylabel(\"Ride Length Mean\", size=15)\n",
    "\n",
    "plt.show()"
   ]
  },
  {
   "cell_type": "markdown",
   "id": "77031e41",
   "metadata": {
    "papermill": {
     "duration": 0.016911,
     "end_time": "2022-05-26T19:42:07.414329",
     "exception": false,
     "start_time": "2022-05-26T19:42:07.397418",
     "status": "completed"
    },
    "tags": []
   },
   "source": [
    "We observe that,\n",
    "* **Casual riders** ride our bikes much longer than annual members. we can assume that **casual riders** have a ride for tourism or leisure. But we need more information to check it out."
   ]
  },
  {
   "cell_type": "markdown",
   "id": "ac51dd20",
   "metadata": {
    "papermill": {
     "duration": 0.017488,
     "end_time": "2022-05-26T19:42:07.448525",
     "exception": false,
     "start_time": "2022-05-26T19:42:07.431037",
     "status": "completed"
    },
    "tags": []
   },
   "source": [
    "#### **2. Customer Type vs Day**"
   ]
  },
  {
   "cell_type": "code",
   "execution_count": 19,
   "id": "85bd2936",
   "metadata": {
    "execution": {
     "iopub.execute_input": "2022-05-26T19:42:07.485771Z",
     "iopub.status.busy": "2022-05-26T19:42:07.485085Z",
     "iopub.status.idle": "2022-05-26T19:42:15.699275Z",
     "shell.execute_reply": "2022-05-26T19:42:15.697831Z"
    },
    "papermill": {
     "duration": 8.236604,
     "end_time": "2022-05-26T19:42:15.702240",
     "exception": false,
     "start_time": "2022-05-26T19:42:07.465636",
     "status": "completed"
    },
    "tags": []
   },
   "outputs": [
    {
     "data": {
      "image/png": "[encoded data removed]",
      "text/plain": [
       "<Figure size 432x288 with 1 Axes>"
      ]
     },
     "metadata": {
      "needs_background": "light"
     },
     "output_type": "display_data"
    }
   ],
   "source": [
    "fig, ax = plt.subplots()\n",
    "\n",
    "sns.barplot(data=result, x='day_of_week', y='ride_length', hue='member_casual', ax=ax)\n",
    "\n",
    "ax.set_title(\"Ride Length Compared on Day\", size=15)\n",
    "plt.xlabel(\"Day of Week (1=Sun, 7=Sat)\", size=15)\n",
    "plt.ylabel(\"Ride Length Mean\", size=15)\n",
    "\n",
    "plt.show()"
   ]
  },
  {
   "cell_type": "markdown",
   "id": "b7060d84",
   "metadata": {
    "papermill": {
     "duration": 0.019859,
     "end_time": "2022-05-26T19:42:15.740092",
     "exception": false,
     "start_time": "2022-05-26T19:42:15.720233",
     "status": "completed"
    },
    "tags": []
   },
   "source": [
    "This shows us,\n",
    "* **Casual riders** tend to use the bikes on the weekend more than on the week.\n",
    "* The interesting point is, while annual members use the bikes constantly around 6~8 minutes without notable change all week, **casual riders** are on the opposit side. They use the bikes much longer, and there is a gap between on the week and on the weekend and also notable change on the week."
   ]
  },
  {
   "cell_type": "markdown",
   "id": "69507cc9",
   "metadata": {
    "papermill": {
     "duration": 0.016698,
     "end_time": "2022-05-26T19:42:15.774488",
     "exception": false,
     "start_time": "2022-05-26T19:42:15.757790",
     "status": "completed"
    },
    "tags": []
   },
   "source": [
    "#### **3. Customer Type vs Bike Type**"
   ]
  },
  {
   "cell_type": "code",
   "execution_count": 20,
   "id": "9f3a5f33",
   "metadata": {
    "execution": {
     "iopub.execute_input": "2022-05-26T19:42:15.811474Z",
     "iopub.status.busy": "2022-05-26T19:42:15.810404Z",
     "iopub.status.idle": "2022-05-26T19:42:17.365507Z",
     "shell.execute_reply": "2022-05-26T19:42:17.364808Z"
    },
    "papermill": {
     "duration": 1.575973,
     "end_time": "2022-05-26T19:42:17.367513",
     "exception": false,
     "start_time": "2022-05-26T19:42:15.791540",
     "status": "completed"
    },
    "tags": []
   },
   "outputs": [
    {
     "data": {
      "image/png": "[encoded data removed]",
      "text/plain": [
       "<Figure size 432x288 with 1 Axes>"
      ]
     },
     "metadata": {
      "needs_background": "light"
     },
     "output_type": "display_data"
    }
   ],
   "source": [
    "fig, ax = plt.subplots()\n",
    "\n",
    "sns.countplot(data=result, x='rideable_type', hue='member_casual', ax=ax)\n",
    "\n",
    "ax.set_title(\"Bike Types Compared on Customer Types\", size=15)\n",
    "plt.xlabel(\"Bike Types\", size=15)\n",
    "plt.ylabel(\"Count of Each Bike Types\", size=15)\n",
    "\n",
    "plt.show()"
   ]
  },
  {
   "cell_type": "markdown",
   "id": "f7ef7ffd",
   "metadata": {
    "papermill": {
     "duration": 0.017733,
     "end_time": "2022-05-26T19:42:17.403853",
     "exception": false,
     "start_time": "2022-05-26T19:42:17.386120",
     "status": "completed"
    },
    "tags": []
   },
   "source": [
    "We observe that,\n",
    "* It is very notable that annual members use classic bike much more than other bike types, while casual riders use all types of bike.\n",
    "* It makes sense, since people tend to use docked bike, who have a leisure or torism in that city."
   ]
  },
  {
   "cell_type": "markdown",
   "id": "861ab08e",
   "metadata": {
    "papermill": {
     "duration": 0.017231,
     "end_time": "2022-05-26T19:42:17.439567",
     "exception": false,
     "start_time": "2022-05-26T19:42:17.422336",
     "status": "completed"
    },
    "tags": []
   },
   "source": [
    "#### **4. Customer Type vs Station**"
   ]
  },
  {
   "cell_type": "code",
   "execution_count": 21,
   "id": "3d369455",
   "metadata": {
    "execution": {
     "iopub.execute_input": "2022-05-26T19:42:17.476703Z",
     "iopub.status.busy": "2022-05-26T19:42:17.475743Z",
     "iopub.status.idle": "2022-05-26T19:42:17.630631Z",
     "shell.execute_reply": "2022-05-26T19:42:17.629803Z"
    },
    "papermill": {
     "duration": 0.175911,
     "end_time": "2022-05-26T19:42:17.632896",
     "exception": false,
     "start_time": "2022-05-26T19:42:17.456985",
     "status": "completed"
    },
    "tags": []
   },
   "outputs": [
    {
     "data": {
      "text/plain": [
       "start_station_name\n",
       "Streeter Dr & Grand Ave     7458\n",
       "Kingsbury St & Kinzie St    6457\n",
       "Clark St & Elm St           5403\n",
       "Ellis Ave & 60th St         5179\n",
       "University Ave & 57th St    5166\n",
       "Name: start_station_name, dtype: int64"
      ]
     },
     "execution_count": 21,
     "metadata": {},
     "output_type": "execute_result"
    }
   ],
   "source": [
    "top5_start = result.groupby('start_station_name')['start_station_name'].count().sort_values(ascending=False).head(5)\n",
    "top5_start"
   ]
  },
  {
   "cell_type": "code",
   "execution_count": 22,
   "id": "11ab6d95",
   "metadata": {
    "execution": {
     "iopub.execute_input": "2022-05-26T19:42:17.670925Z",
     "iopub.status.busy": "2022-05-26T19:42:17.670373Z",
     "iopub.status.idle": "2022-05-26T19:42:17.904180Z",
     "shell.execute_reply": "2022-05-26T19:42:17.903036Z"
    },
    "papermill": {
     "duration": 0.256485,
     "end_time": "2022-05-26T19:42:17.907396",
     "exception": false,
     "start_time": "2022-05-26T19:42:17.650911",
     "status": "completed"
    },
    "tags": []
   },
   "outputs": [
    {
     "data": {
      "image/png": "[encoded data removed]",
      "text/plain": [
       "<Figure size 432x288 with 1 Axes>"
      ]
     },
     "metadata": {
      "needs_background": "light"
     },
     "output_type": "display_data"
    }
   ],
   "source": [
    "fig, ax = plt.subplots()\n",
    "\n",
    "sns.barplot(data=result, y=top5_start.index, x=top5_start, ax=ax)\n",
    "\n",
    "ax.set_title(\"Top 5 Start Stations from Two Types of Customors\", size=15)\n",
    "plt.xlabel(\"Count of Customer\", size=15)\n",
    "plt.ylabel(\"Station Name\",size=15)\n",
    "\n",
    "plt.show()"
   ]
  },
  {
   "cell_type": "code",
   "execution_count": 23,
   "id": "a9acea87",
   "metadata": {
    "execution": {
     "iopub.execute_input": "2022-05-26T19:42:17.948925Z",
     "iopub.status.busy": "2022-05-26T19:42:17.948282Z",
     "iopub.status.idle": "2022-05-26T19:42:18.356673Z",
     "shell.execute_reply": "2022-05-26T19:42:18.355646Z"
    },
    "papermill": {
     "duration": 0.432752,
     "end_time": "2022-05-26T19:42:18.359991",
     "exception": false,
     "start_time": "2022-05-26T19:42:17.927239",
     "status": "completed"
    },
    "tags": []
   },
   "outputs": [
    {
     "data": {
      "image/png": "[encoded data removed]",
      "text/plain": [
       "<Figure size 432x288 with 1 Axes>"
      ]
     },
     "metadata": {
      "needs_background": "light"
     },
     "output_type": "display_data"
    }
   ],
   "source": [
    "fig, ax = plt.subplots()\n",
    "\n",
    "top5_start_stations = [\n",
    "    \"Streeter Dr & Grand Ave\",\n",
    "    \"Kingsbury St & Kinzie St\",\n",
    "    \"Clark St & Elm St\",\n",
    "    \"Ellis Ave & 60th St\",\n",
    "    \"University Ave & 57th St\"\n",
    "    ]\n",
    "\n",
    "start_result = result[result['start_station_name'].isin(top5_start_stations)]\n",
    "\n",
    "sns.countplot(data=start_result, y='start_station_name', hue='member_casual', ax=ax)\n",
    "\n",
    "plt.title(\"Top5 Start Stations on Customer Types\", size=15)\n",
    "plt.xlabel(\"Count of Customoers\", size=15)\n",
    "plt.ylabel(\"Station Names\", size=15)\n",
    "\n",
    "plt.show()"
   ]
  },
  {
   "cell_type": "markdown",
   "id": "de405efb",
   "metadata": {
    "papermill": {
     "duration": 0.018907,
     "end_time": "2022-05-26T19:42:18.403738",
     "exception": false,
     "start_time": "2022-05-26T19:42:18.384831",
     "status": "completed"
    },
    "tags": []
   },
   "source": [
    "It's very notable that,\n",
    "* Only considering top 5 Stations, much more **annual members** start to ride at those stations than casual riders except Grand Ave, at where much more casual riders start to ride than **annual members.**\n",
    "* It means that there is a difference in a count between two types of customers by stations.\n",
    "\n",
    "Then we have a question,\n",
    "* In which stations would most casual riders start to ride our bikes?\n",
    "\n",
    "If we can ask this question, then we could improve our business model. For example we could consider to have more bikes or add addversting more around these stations."
   ]
  },
  {
   "cell_type": "code",
   "execution_count": 24,
   "id": "bea764ad",
   "metadata": {
    "execution": {
     "iopub.execute_input": "2022-05-26T19:42:18.444761Z",
     "iopub.status.busy": "2022-05-26T19:42:18.444307Z",
     "iopub.status.idle": "2022-05-26T19:42:18.619420Z",
     "shell.execute_reply": "2022-05-26T19:42:18.618138Z"
    },
    "papermill": {
     "duration": 0.19942,
     "end_time": "2022-05-26T19:42:18.622862",
     "exception": false,
     "start_time": "2022-05-26T19:42:18.423442",
     "status": "completed"
    },
    "tags": []
   },
   "outputs": [
    {
     "data": {
      "text/html": [
       "<div>\n",
       "<style scoped>\n",
       "    .dataframe tbody tr th:only-of-type {\n",
       "        vertical-align: middle;\n",
       "    }\n",
       "\n",
       "    .dataframe tbody tr th {\n",
       "        vertical-align: top;\n",
       "    }\n",
       "\n",
       "    .dataframe thead th {\n",
       "        text-align: right;\n",
       "    }\n",
       "</style>\n",
       "<table border=\"1\" class=\"dataframe\">\n",
       "  <thead>\n",
       "    <tr style=\"text-align: right;\">\n",
       "      <th></th>\n",
       "      <th>ride_id</th>\n",
       "      <th>rideable_type</th>\n",
       "      <th>started_at</th>\n",
       "      <th>ended_at</th>\n",
       "      <th>start_station_name</th>\n",
       "      <th>start_station_id</th>\n",
       "      <th>end_station_name</th>\n",
       "      <th>end_station_id</th>\n",
       "      <th>start_lat</th>\n",
       "      <th>start_lng</th>\n",
       "      <th>end_lat</th>\n",
       "      <th>end_lng</th>\n",
       "      <th>member_casual</th>\n",
       "      <th>ride_length</th>\n",
       "      <th>day_of_week</th>\n",
       "    </tr>\n",
       "  </thead>\n",
       "  <tbody>\n",
       "    <tr>\n",
       "      <th>0</th>\n",
       "      <td>C2F7DD78E82EC875</td>\n",
       "      <td>electric_bike</td>\n",
       "      <td>2022-01-13 11:59</td>\n",
       "      <td>2022-01-13 12:02</td>\n",
       "      <td>Glenwood Ave &amp; Touhy Ave</td>\n",
       "      <td>525</td>\n",
       "      <td>Clark St &amp; Touhy Ave</td>\n",
       "      <td>RP-007</td>\n",
       "      <td>42.01</td>\n",
       "      <td>-87.67</td>\n",
       "      <td>42.01</td>\n",
       "      <td>-87.67</td>\n",
       "      <td>casual</td>\n",
       "      <td>3.00</td>\n",
       "      <td>5</td>\n",
       "    </tr>\n",
       "    <tr>\n",
       "      <th>1</th>\n",
       "      <td>A6CF8980A652D272</td>\n",
       "      <td>electric_bike</td>\n",
       "      <td>2022-01-10 8:41</td>\n",
       "      <td>2022-01-10 8:46</td>\n",
       "      <td>Glenwood Ave &amp; Touhy Ave</td>\n",
       "      <td>525</td>\n",
       "      <td>Clark St &amp; Touhy Ave</td>\n",
       "      <td>RP-007</td>\n",
       "      <td>42.01</td>\n",
       "      <td>-87.67</td>\n",
       "      <td>42.01</td>\n",
       "      <td>-87.67</td>\n",
       "      <td>casual</td>\n",
       "      <td>4.00</td>\n",
       "      <td>2</td>\n",
       "    </tr>\n",
       "    <tr>\n",
       "      <th>3</th>\n",
       "      <td>CBB80ED419105406</td>\n",
       "      <td>classic_bike</td>\n",
       "      <td>2022-01-04 0:18</td>\n",
       "      <td>2022-01-04 0:33</td>\n",
       "      <td>Clark St &amp; Bryn Mawr Ave</td>\n",
       "      <td>KA1504000151</td>\n",
       "      <td>Paulina St &amp; Montrose Ave</td>\n",
       "      <td>TA1309000021</td>\n",
       "      <td>41.98</td>\n",
       "      <td>-87.67</td>\n",
       "      <td>41.96</td>\n",
       "      <td>-87.67</td>\n",
       "      <td>casual</td>\n",
       "      <td>15.00</td>\n",
       "      <td>3</td>\n",
       "    </tr>\n",
       "  </tbody>\n",
       "</table>\n",
       "</div>"
      ],
      "text/plain": [
       "            ride_id  rideable_type        started_at          ended_at  \\\n",
       "0  C2F7DD78E82EC875  electric_bike  2022-01-13 11:59  2022-01-13 12:02   \n",
       "1  A6CF8980A652D272  electric_bike   2022-01-10 8:41   2022-01-10 8:46   \n",
       "3  CBB80ED419105406   classic_bike   2022-01-04 0:18   2022-01-04 0:33   \n",
       "\n",
       "         start_station_name start_station_id           end_station_name  \\\n",
       "0  Glenwood Ave & Touhy Ave              525       Clark St & Touhy Ave   \n",
       "1  Glenwood Ave & Touhy Ave              525       Clark St & Touhy Ave   \n",
       "3  Clark St & Bryn Mawr Ave     KA1504000151  Paulina St & Montrose Ave   \n",
       "\n",
       "  end_station_id  start_lat  start_lng  end_lat  end_lng member_casual  \\\n",
       "0         RP-007      42.01     -87.67    42.01   -87.67        casual   \n",
       "1         RP-007      42.01     -87.67    42.01   -87.67        casual   \n",
       "3   TA1309000021      41.98     -87.67    41.96   -87.67        casual   \n",
       "\n",
       "   ride_length  day_of_week  \n",
       "0         3.00            5  \n",
       "1         4.00            2  \n",
       "3        15.00            3  "
      ]
     },
     "execution_count": 24,
     "metadata": {},
     "output_type": "execute_result"
    }
   ],
   "source": [
    "casual = result[result['member_casual'] == 'casual']\n",
    "casual.head(3)"
   ]
  },
  {
   "cell_type": "code",
   "execution_count": 25,
   "id": "5f309ce5",
   "metadata": {
    "execution": {
     "iopub.execute_input": "2022-05-26T19:42:18.670415Z",
     "iopub.status.busy": "2022-05-26T19:42:18.670024Z",
     "iopub.status.idle": "2022-05-26T19:42:18.897371Z",
     "shell.execute_reply": "2022-05-26T19:42:18.896275Z"
    },
    "papermill": {
     "duration": 0.251072,
     "end_time": "2022-05-26T19:42:18.899860",
     "exception": false,
     "start_time": "2022-05-26T19:42:18.648788",
     "status": "completed"
    },
    "tags": []
   },
   "outputs": [
    {
     "data": {
      "text/html": [
       "<div>\n",
       "<style scoped>\n",
       "    .dataframe tbody tr th:only-of-type {\n",
       "        vertical-align: middle;\n",
       "    }\n",
       "\n",
       "    .dataframe tbody tr th {\n",
       "        vertical-align: top;\n",
       "    }\n",
       "\n",
       "    .dataframe thead th {\n",
       "        text-align: right;\n",
       "    }\n",
       "</style>\n",
       "<table border=\"1\" class=\"dataframe\">\n",
       "  <thead>\n",
       "    <tr style=\"text-align: right;\">\n",
       "      <th></th>\n",
       "      <th>ride_id</th>\n",
       "      <th>rideable_type</th>\n",
       "      <th>started_at</th>\n",
       "      <th>ended_at</th>\n",
       "      <th>start_station_name</th>\n",
       "      <th>start_station_id</th>\n",
       "      <th>end_station_name</th>\n",
       "      <th>end_station_id</th>\n",
       "      <th>start_lat</th>\n",
       "      <th>start_lng</th>\n",
       "      <th>end_lat</th>\n",
       "      <th>end_lng</th>\n",
       "      <th>member_casual</th>\n",
       "      <th>ride_length</th>\n",
       "      <th>day_of_week</th>\n",
       "    </tr>\n",
       "  </thead>\n",
       "  <tbody>\n",
       "    <tr>\n",
       "      <th>2</th>\n",
       "      <td>BD0F91DFF741C66D</td>\n",
       "      <td>classic_bike</td>\n",
       "      <td>2022-01-25 4:53</td>\n",
       "      <td>2022-01-25 4:58</td>\n",
       "      <td>Sheffield Ave &amp; Fullerton Ave</td>\n",
       "      <td>TA1306000016</td>\n",
       "      <td>Greenview Ave &amp; Fullerton Ave</td>\n",
       "      <td>TA1307000001</td>\n",
       "      <td>41.93</td>\n",
       "      <td>-87.65</td>\n",
       "      <td>41.93</td>\n",
       "      <td>-87.67</td>\n",
       "      <td>member</td>\n",
       "      <td>4.00</td>\n",
       "      <td>3</td>\n",
       "    </tr>\n",
       "    <tr>\n",
       "      <th>4</th>\n",
       "      <td>DDC963BFDDA51EEA</td>\n",
       "      <td>classic_bike</td>\n",
       "      <td>2022-01-20 1:31</td>\n",
       "      <td>2022-01-20 1:37</td>\n",
       "      <td>Michigan Ave &amp; Jackson Blvd</td>\n",
       "      <td>TA1309000002</td>\n",
       "      <td>State St &amp; Randolph St</td>\n",
       "      <td>TA1305000029</td>\n",
       "      <td>41.88</td>\n",
       "      <td>-87.62</td>\n",
       "      <td>41.88</td>\n",
       "      <td>-87.63</td>\n",
       "      <td>member</td>\n",
       "      <td>1.00</td>\n",
       "      <td>5</td>\n",
       "    </tr>\n",
       "    <tr>\n",
       "      <th>5</th>\n",
       "      <td>A39C6F6CC0586C0B</td>\n",
       "      <td>classic_bike</td>\n",
       "      <td>2022-01-11 18:48</td>\n",
       "      <td>2022-01-11 18:51</td>\n",
       "      <td>Wood St &amp; Chicago Ave</td>\n",
       "      <td>637</td>\n",
       "      <td>Honore St &amp; Division St</td>\n",
       "      <td>TA1305000034</td>\n",
       "      <td>41.90</td>\n",
       "      <td>-87.67</td>\n",
       "      <td>41.90</td>\n",
       "      <td>-87.67</td>\n",
       "      <td>member</td>\n",
       "      <td>3.00</td>\n",
       "      <td>3</td>\n",
       "    </tr>\n",
       "  </tbody>\n",
       "</table>\n",
       "</div>"
      ],
      "text/plain": [
       "            ride_id rideable_type        started_at          ended_at  \\\n",
       "2  BD0F91DFF741C66D  classic_bike   2022-01-25 4:53   2022-01-25 4:58   \n",
       "4  DDC963BFDDA51EEA  classic_bike   2022-01-20 1:31   2022-01-20 1:37   \n",
       "5  A39C6F6CC0586C0B  classic_bike  2022-01-11 18:48  2022-01-11 18:51   \n",
       "\n",
       "              start_station_name start_station_id  \\\n",
       "2  Sheffield Ave & Fullerton Ave     TA1306000016   \n",
       "4    Michigan Ave & Jackson Blvd     TA1309000002   \n",
       "5          Wood St & Chicago Ave              637   \n",
       "\n",
       "                end_station_name end_station_id  start_lat  start_lng  \\\n",
       "2  Greenview Ave & Fullerton Ave   TA1307000001      41.93     -87.65   \n",
       "4         State St & Randolph St   TA1305000029      41.88     -87.62   \n",
       "5        Honore St & Division St   TA1305000034      41.90     -87.67   \n",
       "\n",
       "   end_lat  end_lng member_casual  ride_length  day_of_week  \n",
       "2    41.93   -87.67        member         4.00            3  \n",
       "4    41.88   -87.63        member         1.00            5  \n",
       "5    41.90   -87.67        member         3.00            3  "
      ]
     },
     "execution_count": 25,
     "metadata": {},
     "output_type": "execute_result"
    }
   ],
   "source": [
    "annual = result[result['member_casual'] == 'member']\n",
    "annual.head(3)"
   ]
  },
  {
   "cell_type": "code",
   "execution_count": 26,
   "id": "3d576a12",
   "metadata": {
    "execution": {
     "iopub.execute_input": "2022-05-26T19:42:18.942302Z",
     "iopub.status.busy": "2022-05-26T19:42:18.941893Z",
     "iopub.status.idle": "2022-05-26T19:42:18.986996Z",
     "shell.execute_reply": "2022-05-26T19:42:18.985781Z"
    },
    "papermill": {
     "duration": 0.06984,
     "end_time": "2022-05-26T19:42:18.989426",
     "exception": false,
     "start_time": "2022-05-26T19:42:18.919586",
     "status": "completed"
    },
    "tags": []
   },
   "outputs": [
    {
     "data": {
      "text/plain": [
       "Streeter Dr & Grand Ave               5541\n",
       "DuSable Lake Shore Dr & Monroe St     3362\n",
       "Millennium Park                       2683\n",
       "Shedd Aquarium                        2236\n",
       "Michigan Ave & Oak St                 1788\n",
       "DuSable Lake Shore Dr & North Blvd    1446\n",
       "Theater on the Lake                   1406\n",
       "Wells St & Concord Ln                 1369\n",
       "Wells St & Elm St                     1336\n",
       "Clark St & Armitage Ave               1301\n",
       "Indiana Ave & Roosevelt Rd            1290\n",
       "Dusable Harbor                        1282\n",
       "Michigan Ave & Washington St          1246\n",
       "Clark St & Elm St                     1238\n",
       "Wabash Ave & Grand Ave                1196\n",
       "Clark St & Lincoln Ave                1177\n",
       "New St & Illinois St                  1095\n",
       "Michigan Ave & 8th St                 1086\n",
       "Adler Planetarium                     1083\n",
       "Clark St & Newport St                 1052\n",
       "Name: start_station_name, dtype: int64"
      ]
     },
     "execution_count": 26,
     "metadata": {},
     "output_type": "execute_result"
    }
   ],
   "source": [
    "casual_list = casual['start_station_name'].value_counts().head(20)\n",
    "casual_list"
   ]
  },
  {
   "cell_type": "code",
   "execution_count": 27,
   "id": "e89e871e",
   "metadata": {
    "execution": {
     "iopub.execute_input": "2022-05-26T19:42:19.031582Z",
     "iopub.status.busy": "2022-05-26T19:42:19.030854Z",
     "iopub.status.idle": "2022-05-26T19:42:19.116807Z",
     "shell.execute_reply": "2022-05-26T19:42:19.115687Z"
    },
    "papermill": {
     "duration": 0.10902,
     "end_time": "2022-05-26T19:42:19.119052",
     "exception": false,
     "start_time": "2022-05-26T19:42:19.010032",
     "status": "completed"
    },
    "tags": []
   },
   "outputs": [
    {
     "data": {
      "text/plain": [
       "Kingsbury St & Kinzie St         5537\n",
       "Ellis Ave & 60th St              4476\n",
       "Clinton St & Washington Blvd     4398\n",
       "University Ave & 57th St         4338\n",
       "Clinton St & Madison St          4210\n",
       "Clark St & Elm St                4165\n",
       "Wells St & Concord Ln            3591\n",
       "Dearborn St & Erie St            3380\n",
       "Wells St & Elm St                3334\n",
       "Canal St & Adams St              3242\n",
       "Wabash Ave & Grand Ave           3232\n",
       "Clinton St & Jackson Blvd        3195\n",
       "Wells St & Hubbard St            3189\n",
       "Wells St & Huron St              3094\n",
       "Loomis St & Lexington St         3025\n",
       "St. Clair St & Erie St           3012\n",
       "Desplaines St & Kinzie St        2956\n",
       "Ellis Ave & 55th St              2894\n",
       "Sheffield Ave & Fullerton Ave    2867\n",
       "Dearborn St & Monroe St          2720\n",
       "Name: start_station_name, dtype: int64"
      ]
     },
     "execution_count": 27,
     "metadata": {},
     "output_type": "execute_result"
    }
   ],
   "source": [
    "annual_list = annual['start_station_name'].value_counts().head(20)\n",
    "annual_list"
   ]
  },
  {
   "cell_type": "code",
   "execution_count": 28,
   "id": "bd0cc71c",
   "metadata": {
    "execution": {
     "iopub.execute_input": "2022-05-26T19:42:19.161637Z",
     "iopub.status.busy": "2022-05-26T19:42:19.161210Z",
     "iopub.status.idle": "2022-05-26T19:42:19.518724Z",
     "shell.execute_reply": "2022-05-26T19:42:19.517827Z"
    },
    "papermill": {
     "duration": 0.381704,
     "end_time": "2022-05-26T19:42:19.520648",
     "exception": false,
     "start_time": "2022-05-26T19:42:19.138944",
     "status": "completed"
    },
    "tags": []
   },
   "outputs": [
    {
     "data": {
      "image/png": "[encoded data removed]",
      "text/plain": [
       "<Figure size 576x576 with 1 Axes>"
      ]
     },
     "metadata": {
      "needs_background": "light"
     },
     "output_type": "display_data"
    }
   ],
   "source": [
    "fig, ax = plt.subplots(figsize=(8,8))\n",
    "\n",
    "sns.barplot(data=casual, y=casual_list.index, x=casual_list, palette='Blues_d',ax=ax)\n",
    "\n",
    "ax.set_title('Top 20 Start Stations from Casual Riders', size=15)\n",
    "plt.xlabel(\"Count of Casual Riders\", size=15)\n",
    "plt.ylabel(\"Station Name\", size=15)\n",
    "\n",
    "plt.show()"
   ]
  },
  {
   "cell_type": "code",
   "execution_count": 29,
   "id": "1fa1ed98",
   "metadata": {
    "execution": {
     "iopub.execute_input": "2022-05-26T19:42:19.565624Z",
     "iopub.status.busy": "2022-05-26T19:42:19.564437Z",
     "iopub.status.idle": "2022-05-26T19:42:19.918828Z",
     "shell.execute_reply": "2022-05-26T19:42:19.917847Z"
    },
    "papermill": {
     "duration": 0.378728,
     "end_time": "2022-05-26T19:42:19.921159",
     "exception": false,
     "start_time": "2022-05-26T19:42:19.542431",
     "status": "completed"
    },
    "tags": []
   },
   "outputs": [
    {
     "data": {
      "image/png": "[encoded data removed]",
      "text/plain": [
       "<Figure size 576x576 with 1 Axes>"
      ]
     },
     "metadata": {
      "needs_background": "light"
     },
     "output_type": "display_data"
    }
   ],
   "source": [
    "fig, ax = plt.subplots(figsize=(8,8))\n",
    "\n",
    "sns.barplot(data=annual, y=annual_list.index, x=annual_list, palette='Blues_d',ax=ax)\n",
    "\n",
    "ax.set_title('Top 20 Start Stations from Annual Members', size=15)\n",
    "plt.xlabel(\"Count of Annual Members\", size=15)\n",
    "plt.ylabel(\"Station Name\", size=15)\n",
    "\n",
    "plt.show()"
   ]
  },
  {
   "cell_type": "markdown",
   "id": "5ac86a62",
   "metadata": {
    "papermill": {
     "duration": 0.022126,
     "end_time": "2022-05-26T19:42:19.964476",
     "exception": false,
     "start_time": "2022-05-26T19:42:19.942350",
     "status": "completed"
    },
    "tags": []
   },
   "source": [
    "We observe that,\n",
    "* There is a difference in stations, where customers start at, between casual riders and annual members.\n",
    "* With this information, we could check the stations out, like where those are, in order to understand the behavior of customers."
   ]
  },
  {
   "cell_type": "markdown",
   "id": "227630d4",
   "metadata": {
    "papermill": {
     "duration": 0.021194,
     "end_time": "2022-05-26T19:42:20.006702",
     "exception": false,
     "start_time": "2022-05-26T19:42:19.985508",
     "status": "completed"
    },
    "tags": []
   },
   "source": [
    "Now let's explore end station."
   ]
  },
  {
   "cell_type": "code",
   "execution_count": 30,
   "id": "c032eeb5",
   "metadata": {
    "execution": {
     "iopub.execute_input": "2022-05-26T19:42:20.052560Z",
     "iopub.status.busy": "2022-05-26T19:42:20.051487Z",
     "iopub.status.idle": "2022-05-26T19:42:20.233155Z",
     "shell.execute_reply": "2022-05-26T19:42:20.232037Z"
    },
    "papermill": {
     "duration": 0.205652,
     "end_time": "2022-05-26T19:42:20.235349",
     "exception": false,
     "start_time": "2022-05-26T19:42:20.029697",
     "status": "completed"
    },
    "tags": []
   },
   "outputs": [
    {
     "data": {
      "text/plain": [
       "end_station_name\n",
       "Streeter Dr & Grand Ave     7590\n",
       "Kingsbury St & Kinzie St    6121\n",
       "University Ave & 57th St    5618\n",
       "Clinton St & Madison St     5301\n",
       "Clark St & Elm St           5254\n",
       "Name: end_station_name, dtype: int64"
      ]
     },
     "execution_count": 30,
     "metadata": {},
     "output_type": "execute_result"
    }
   ],
   "source": [
    "top5_end = result.groupby('end_station_name')['end_station_name'].count().sort_values(ascending=False).head(5)\n",
    "top5_end"
   ]
  },
  {
   "cell_type": "code",
   "execution_count": 31,
   "id": "0db8bfd7",
   "metadata": {
    "execution": {
     "iopub.execute_input": "2022-05-26T19:42:20.280514Z",
     "iopub.status.busy": "2022-05-26T19:42:20.279787Z",
     "iopub.status.idle": "2022-05-26T19:42:20.488806Z",
     "shell.execute_reply": "2022-05-26T19:42:20.487887Z"
    },
    "papermill": {
     "duration": 0.233636,
     "end_time": "2022-05-26T19:42:20.490849",
     "exception": false,
     "start_time": "2022-05-26T19:42:20.257213",
     "status": "completed"
    },
    "tags": []
   },
   "outputs": [
    {
     "data": {
      "image/png": "[encoded data removed]",
      "text/plain": [
       "<Figure size 432x288 with 1 Axes>"
      ]
     },
     "metadata": {
      "needs_background": "light"
     },
     "output_type": "display_data"
    }
   ],
   "source": [
    "fig, ax = plt.subplots()\n",
    "\n",
    "sns.barplot(data=result, y=top5_end.index, x=top5_end, ax=ax)\n",
    "\n",
    "ax.set_title(\"Top 5 End Stations from Two Types of Customors\", size=15)\n",
    "plt.xlabel(\"Count of Customer\", size=15)\n",
    "plt.ylabel(\"Station Name\",size=15)\n",
    "\n",
    "plt.show()"
   ]
  },
  {
   "cell_type": "code",
   "execution_count": 32,
   "id": "3da7782e",
   "metadata": {
    "execution": {
     "iopub.execute_input": "2022-05-26T19:42:20.536026Z",
     "iopub.status.busy": "2022-05-26T19:42:20.535404Z",
     "iopub.status.idle": "2022-05-26T19:42:20.649133Z",
     "shell.execute_reply": "2022-05-26T19:42:20.648161Z"
    },
    "papermill": {
     "duration": 0.138921,
     "end_time": "2022-05-26T19:42:20.651254",
     "exception": false,
     "start_time": "2022-05-26T19:42:20.512333",
     "status": "completed"
    },
    "tags": []
   },
   "outputs": [
    {
     "data": {
      "text/plain": [
       "Streeter Dr & Grand Ave     7590\n",
       "Kingsbury St & Kinzie St    6121\n",
       "University Ave & 57th St    5618\n",
       "Clinton St & Madison St     5301\n",
       "Clark St & Elm St           5254\n",
       "Name: end_station_name, dtype: int64"
      ]
     },
     "execution_count": 32,
     "metadata": {},
     "output_type": "execute_result"
    }
   ],
   "source": [
    "top5_end_list = result['end_station_name'].value_counts().head(5)\n",
    "top5_end_list"
   ]
  },
  {
   "cell_type": "code",
   "execution_count": 33,
   "id": "a74cc3c7",
   "metadata": {
    "execution": {
     "iopub.execute_input": "2022-05-26T19:42:20.701156Z",
     "iopub.status.busy": "2022-05-26T19:42:20.699735Z",
     "iopub.status.idle": "2022-05-26T19:42:21.057868Z",
     "shell.execute_reply": "2022-05-26T19:42:21.056900Z"
    },
    "papermill": {
     "duration": 0.386637,
     "end_time": "2022-05-26T19:42:21.060376",
     "exception": false,
     "start_time": "2022-05-26T19:42:20.673739",
     "status": "completed"
    },
    "tags": []
   },
   "outputs": [
    {
     "data": {
      "image/png": "[encoded data removed]",
      "text/plain": [
       "<Figure size 432x288 with 1 Axes>"
      ]
     },
     "metadata": {
      "needs_background": "light"
     },
     "output_type": "display_data"
    }
   ],
   "source": [
    "fig, ax = plt.subplots()\n",
    "\n",
    "top5_end_stations = [\n",
    "    \"Streeter Dr & Grand Ave\",\n",
    "    \"Kingsbury St & Kinzie St\",\n",
    "    \"University Ave & 57th St\",\n",
    "    \"Clinton St & Madison St\",\n",
    "    \"Clark St & Elm St\"\n",
    "    ]\n",
    "\n",
    "end_result = result[result['end_station_name'].isin(top5_end_stations)]\n",
    "\n",
    "sns.countplot(data=end_result, y='end_station_name', hue='member_casual', ax=ax)\n",
    "\n",
    "plt.title(\"Top5 End Stations on Customer Types\", size=15)\n",
    "plt.xlabel(\"Count of Customoers\", size=15)\n",
    "plt.ylabel(\"Station Names\", size=15)\n",
    "\n",
    "plt.show()"
   ]
  },
  {
   "cell_type": "markdown",
   "id": "aa027c6e",
   "metadata": {
    "papermill": {
     "duration": 0.023305,
     "end_time": "2022-05-26T19:42:21.106169",
     "exception": false,
     "start_time": "2022-05-26T19:42:21.082864",
     "status": "completed"
    },
    "tags": []
   },
   "source": [
    "The station \"Streeter Dr & Grand Ave\" has the highst count of casual riders. It makes sense since this station has the highst count of casual riders, where they start to ride at. "
   ]
  },
  {
   "cell_type": "code",
   "execution_count": 34,
   "id": "d7732f1c",
   "metadata": {
    "execution": {
     "iopub.execute_input": "2022-05-26T19:42:21.152491Z",
     "iopub.status.busy": "2022-05-26T19:42:21.151854Z",
     "iopub.status.idle": "2022-05-26T19:42:21.189427Z",
     "shell.execute_reply": "2022-05-26T19:42:21.188764Z"
    },
    "papermill": {
     "duration": 0.063123,
     "end_time": "2022-05-26T19:42:21.191399",
     "exception": false,
     "start_time": "2022-05-26T19:42:21.128276",
     "status": "completed"
    },
    "tags": []
   },
   "outputs": [
    {
     "data": {
      "text/plain": [
       "Streeter Dr & Grand Ave               5793\n",
       "DuSable Lake Shore Dr & Monroe St     3134\n",
       "Millennium Park                       2923\n",
       "Shedd Aquarium                        2026\n",
       "Michigan Ave & Oak St                 1973\n",
       "DuSable Lake Shore Dr & North Blvd    1609\n",
       "Theater on the Lake                   1489\n",
       "Clark St & Armitage Ave               1378\n",
       "Wells St & Concord Ln                 1370\n",
       "Wabash Ave & Grand Ave                1318\n",
       "Michigan Ave & Washington St          1311\n",
       "Indiana Ave & Roosevelt Rd            1270\n",
       "Dusable Harbor                        1205\n",
       "Clark St & Elm St                     1202\n",
       "Wells St & Elm St                     1198\n",
       "Sheffield Ave & Waveland Ave          1164\n",
       "Clark St & Lincoln Ave                1104\n",
       "Michigan Ave & Lake St                1081\n",
       "LaSalle St & Illinois St              1074\n",
       "Dearborn St & Erie St                 1074\n",
       "Name: end_station_name, dtype: int64"
      ]
     },
     "execution_count": 34,
     "metadata": {},
     "output_type": "execute_result"
    }
   ],
   "source": [
    "casual_endlist = casual['end_station_name'].value_counts().head(20)\n",
    "casual_endlist"
   ]
  },
  {
   "cell_type": "code",
   "execution_count": 35,
   "id": "5703079a",
   "metadata": {
    "execution": {
     "iopub.execute_input": "2022-05-26T19:42:21.238662Z",
     "iopub.status.busy": "2022-05-26T19:42:21.238009Z",
     "iopub.status.idle": "2022-05-26T19:42:21.319905Z",
     "shell.execute_reply": "2022-05-26T19:42:21.319138Z"
    },
    "papermill": {
     "duration": 0.108257,
     "end_time": "2022-05-26T19:42:21.321946",
     "exception": false,
     "start_time": "2022-05-26T19:42:21.213689",
     "status": "completed"
    },
    "tags": []
   },
   "outputs": [
    {
     "data": {
      "text/plain": [
       "Kingsbury St & Kinzie St         5341\n",
       "Clinton St & Washington Blvd     4728\n",
       "University Ave & 57th St         4718\n",
       "Clinton St & Madison St          4499\n",
       "Ellis Ave & 60th St              4329\n",
       "Clark St & Elm St                4052\n",
       "Wells St & Concord Ln            3637\n",
       "Dearborn St & Erie St            3487\n",
       "Canal St & Adams St              3448\n",
       "Wells St & Elm St                3283\n",
       "Wells St & Hubbard St            3214\n",
       "Wabash Ave & Grand Ave           3162\n",
       "Wells St & Huron St              3114\n",
       "Ellis Ave & 55th St              3106\n",
       "St. Clair St & Erie St           3084\n",
       "Green St & Madison St            2961\n",
       "Sheffield Ave & Fullerton Ave    2910\n",
       "Larrabee St & Kingsbury St       2823\n",
       "Broadway & Barry Ave             2822\n",
       "Loomis St & Lexington St         2799\n",
       "Name: end_station_name, dtype: int64"
      ]
     },
     "execution_count": 35,
     "metadata": {},
     "output_type": "execute_result"
    }
   ],
   "source": [
    "annual_endlist = annual['end_station_name'].value_counts().head(20)\n",
    "annual_endlist"
   ]
  },
  {
   "cell_type": "code",
   "execution_count": 36,
   "id": "61edb3dc",
   "metadata": {
    "execution": {
     "iopub.execute_input": "2022-05-26T19:42:21.370126Z",
     "iopub.status.busy": "2022-05-26T19:42:21.369454Z",
     "iopub.status.idle": "2022-05-26T19:42:21.718828Z",
     "shell.execute_reply": "2022-05-26T19:42:21.717856Z"
    },
    "papermill": {
     "duration": 0.376234,
     "end_time": "2022-05-26T19:42:21.720917",
     "exception": false,
     "start_time": "2022-05-26T19:42:21.344683",
     "status": "completed"
    },
    "tags": []
   },
   "outputs": [
    {
     "data": {
      "image/png": "[encoded data removed]",
      "text/plain": [
       "<Figure size 576x576 with 1 Axes>"
      ]
     },
     "metadata": {
      "needs_background": "light"
     },
     "output_type": "display_data"
    }
   ],
   "source": [
    "fig, ax = plt.subplots(figsize=(8,8))\n",
    "\n",
    "sns.barplot(data=casual, y=casual_endlist.index, x=casual_endlist, palette='Blues_d',ax=ax)\n",
    "\n",
    "ax.set_title('Top 20 End Stations from Casual Riders', size=15)\n",
    "plt.xlabel(\"Count of Casual Riders\", size=15)\n",
    "plt.ylabel(\"Station Name\", size=15)\n",
    "\n",
    "plt.show()"
   ]
  },
  {
   "cell_type": "code",
   "execution_count": 37,
   "id": "d0824cf6",
   "metadata": {
    "execution": {
     "iopub.execute_input": "2022-05-26T19:42:21.769063Z",
     "iopub.status.busy": "2022-05-26T19:42:21.768650Z",
     "iopub.status.idle": "2022-05-26T19:42:22.122803Z",
     "shell.execute_reply": "2022-05-26T19:42:22.121660Z"
    },
    "papermill": {
     "duration": 0.380869,
     "end_time": "2022-05-26T19:42:22.125207",
     "exception": false,
     "start_time": "2022-05-26T19:42:21.744338",
     "status": "completed"
    },
    "tags": []
   },
   "outputs": [
    {
     "data": {
      "image/png": "[encoded data removed]",
      "text/plain": [
       "<Figure size 576x576 with 1 Axes>"
      ]
     },
     "metadata": {
      "needs_background": "light"
     },
     "output_type": "display_data"
    }
   ],
   "source": [
    "fig, ax = plt.subplots(figsize=(8,8))\n",
    "\n",
    "sns.barplot(data=annual, y=annual_endlist.index, x=annual_endlist, palette='Blues_d',ax=ax)\n",
    "\n",
    "ax.set_title('Top 20 End Stations from Annual Members', size=15)\n",
    "plt.xlabel(\"Count of Annual Members\", size=15)\n",
    "plt.ylabel(\"Station Name\", size=15)\n",
    "\n",
    "plt.show()"
   ]
  },
  {
   "cell_type": "markdown",
   "id": "1c1f7304",
   "metadata": {
    "papermill": {
     "duration": 0.025162,
     "end_time": "2022-05-26T19:42:22.174344",
     "exception": false,
     "start_time": "2022-05-26T19:42:22.149182",
     "status": "completed"
    },
    "tags": []
   },
   "source": [
    "We observer that,\n",
    "* There is no huge difference in behaviour of casual riders between where they start to and where they end to ride.\n",
    "* But on the other hand, there is a difference between where the annual members start to and end to ride at.\n"
   ]
  },
  {
   "cell_type": "markdown",
   "id": "c5dcbee4",
   "metadata": {
    "papermill": {
     "duration": 0.023586,
     "end_time": "2022-05-26T19:42:22.221774",
     "exception": false,
     "start_time": "2022-05-26T19:42:22.198188",
     "status": "completed"
    },
    "tags": []
   },
   "source": [
    "## **STEP 5: Share**\n",
    "#### **1. Share my conclusion**\n",
    "* **Casual riders**\n",
    "    * use the bikes around 18~20 minutes\n",
    "    * use the bikes more on the weekend\n",
    "    * use all kind of bikes but mostly electic and classic\n",
    "    * how they use the bikes are not constant on the week\n",
    "    \n",
    "Casual riders use the bikes mostly on the weekend for a leisure and tourism on the weekend.\n",
    "\n",
    "<br>\n",
    "\n",
    "* **Annual members**\n",
    "    * use the bikes around 7~8 minutes\n",
    "    * use the bikes a little bit more on the weekend, but there is no huge gap between the week and the weekend\n",
    "    * use only classic bikes and electic but mostly classic bikes\n",
    "    * how they use the bikes are very constant espacially on the week\n",
    "    \n",
    "Annual members use the bikes the whole week constant, espacially on the week for commute or pragmatic.\n",
    "    \n",
    "<br>\n",
    "\n",
    "**So, what would motivate the casual riders to buy a annual membership?**\n",
    "We could foucs on the side of leisure or tourism and provide many kind of ride options on the weekend espacially by electic and classic bikes, so that it can be interesting for the casual riders to have a annual membership. And it would be also a good idea to consider the aspect of that the casual riders tend to ride longer than annumal members.\n",
    "\n",
    "\n",
    "    "
   ]
  }
 ],
 "metadata": {
  "kernelspec": {
   "display_name": "Python 3",
   "language": "python",
   "name": "python3"
  },
  "language_info": {
   "codemirror_mode": {
    "name": "ipython",
    "version": 3
   },
   "file_extension": ".py",
   "mimetype": "text/x-python",
   "name": "python",
   "nbconvert_exporter": "python",
   "pygments_lexer": "ipython3",
   "version": "3.7.12"
  },
  "papermill": {
   "default_parameters": {},
   "duration": 60.241226,
   "end_time": "2022-05-26T19:42:23.266907",
   "environment_variables": {},
   "exception": null,
   "input_path": "__notebook__.ipynb",
   "output_path": "__notebook__.ipynb",
   "parameters": {},
   "start_time": "2022-05-26T19:41:23.025681",
   "version": "2.3.4"
  }
 },
 "nbformat": 4,
 "nbformat_minor": 5
}
